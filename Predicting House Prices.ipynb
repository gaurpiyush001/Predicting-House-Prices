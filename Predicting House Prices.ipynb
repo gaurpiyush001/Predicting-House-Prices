{
 "cells": [
  {
   "cell_type": "markdown",
   "metadata": {},
   "source": [
    "# Fire up GraphLab Create\n"
   ]
  },
  {
   "cell_type": "code",
   "execution_count": 1,
   "metadata": {},
   "outputs": [],
   "source": [
    "import graphlab"
   ]
  },
  {
   "cell_type": "markdown",
   "metadata": {},
   "source": [
    "## Load Some House Sales Data"
   ]
  },
  {
   "cell_type": "code",
   "execution_count": 2,
   "metadata": {},
   "outputs": [
    {
     "name": "stdout",
     "output_type": "stream",
     "text": [
      "This non-commercial license of GraphLab Create for academic use is assigned to gaurpiyush001@gmail.com and will expire on May 28, 2021.\n"
     ]
    },
    {
     "name": "stderr",
     "output_type": "stream",
     "text": [
      "[INFO] graphlab.cython.cy_server: GraphLab Create v2.1 started. Logging: C:\\Users\\gaura\\AppData\\Local\\Temp\\graphlab_server_1603373178.log.0\n"
     ]
    }
   ],
   "source": [
    "sales = graphlab.SFrame('D:\\home_data.sframe')"
   ]
  },
  {
   "cell_type": "code",
   "execution_count": 3,
   "metadata": {},
   "outputs": [
    {
     "data": {
      "text/html": [
       "<div style=\"max-height:1000px;max-width:1500px;overflow:auto;\"><table frame=\"box\" rules=\"cols\">\n",
       "    <tr>\n",
       "        <th style=\"padding-left: 1em; padding-right: 1em; text-align: center\">id</th>\n",
       "        <th style=\"padding-left: 1em; padding-right: 1em; text-align: center\">date</th>\n",
       "        <th style=\"padding-left: 1em; padding-right: 1em; text-align: center\">price</th>\n",
       "        <th style=\"padding-left: 1em; padding-right: 1em; text-align: center\">bedrooms</th>\n",
       "        <th style=\"padding-left: 1em; padding-right: 1em; text-align: center\">bathrooms</th>\n",
       "        <th style=\"padding-left: 1em; padding-right: 1em; text-align: center\">sqft_living</th>\n",
       "        <th style=\"padding-left: 1em; padding-right: 1em; text-align: center\">sqft_lot</th>\n",
       "        <th style=\"padding-left: 1em; padding-right: 1em; text-align: center\">floors</th>\n",
       "        <th style=\"padding-left: 1em; padding-right: 1em; text-align: center\">waterfront</th>\n",
       "    </tr>\n",
       "    <tr>\n",
       "        <td style=\"padding-left: 1em; padding-right: 1em; text-align: center; vertical-align: top\">7129300520</td>\n",
       "        <td style=\"padding-left: 1em; padding-right: 1em; text-align: center; vertical-align: top\">2014-10-13 00:00:00+00:00</td>\n",
       "        <td style=\"padding-left: 1em; padding-right: 1em; text-align: center; vertical-align: top\">221900.0</td>\n",
       "        <td style=\"padding-left: 1em; padding-right: 1em; text-align: center; vertical-align: top\">3.0</td>\n",
       "        <td style=\"padding-left: 1em; padding-right: 1em; text-align: center; vertical-align: top\">1.0</td>\n",
       "        <td style=\"padding-left: 1em; padding-right: 1em; text-align: center; vertical-align: top\">1180.0</td>\n",
       "        <td style=\"padding-left: 1em; padding-right: 1em; text-align: center; vertical-align: top\">5650.0</td>\n",
       "        <td style=\"padding-left: 1em; padding-right: 1em; text-align: center; vertical-align: top\">1.0</td>\n",
       "        <td style=\"padding-left: 1em; padding-right: 1em; text-align: center; vertical-align: top\">0</td>\n",
       "    </tr>\n",
       "    <tr>\n",
       "        <td style=\"padding-left: 1em; padding-right: 1em; text-align: center; vertical-align: top\">6414100192</td>\n",
       "        <td style=\"padding-left: 1em; padding-right: 1em; text-align: center; vertical-align: top\">2014-12-09 00:00:00+00:00</td>\n",
       "        <td style=\"padding-left: 1em; padding-right: 1em; text-align: center; vertical-align: top\">538000.0</td>\n",
       "        <td style=\"padding-left: 1em; padding-right: 1em; text-align: center; vertical-align: top\">3.0</td>\n",
       "        <td style=\"padding-left: 1em; padding-right: 1em; text-align: center; vertical-align: top\">2.25</td>\n",
       "        <td style=\"padding-left: 1em; padding-right: 1em; text-align: center; vertical-align: top\">2570.0</td>\n",
       "        <td style=\"padding-left: 1em; padding-right: 1em; text-align: center; vertical-align: top\">7242.0</td>\n",
       "        <td style=\"padding-left: 1em; padding-right: 1em; text-align: center; vertical-align: top\">2.0</td>\n",
       "        <td style=\"padding-left: 1em; padding-right: 1em; text-align: center; vertical-align: top\">0</td>\n",
       "    </tr>\n",
       "    <tr>\n",
       "        <td style=\"padding-left: 1em; padding-right: 1em; text-align: center; vertical-align: top\">5631500400</td>\n",
       "        <td style=\"padding-left: 1em; padding-right: 1em; text-align: center; vertical-align: top\">2015-02-25 00:00:00+00:00</td>\n",
       "        <td style=\"padding-left: 1em; padding-right: 1em; text-align: center; vertical-align: top\">180000.0</td>\n",
       "        <td style=\"padding-left: 1em; padding-right: 1em; text-align: center; vertical-align: top\">2.0</td>\n",
       "        <td style=\"padding-left: 1em; padding-right: 1em; text-align: center; vertical-align: top\">1.0</td>\n",
       "        <td style=\"padding-left: 1em; padding-right: 1em; text-align: center; vertical-align: top\">770.0</td>\n",
       "        <td style=\"padding-left: 1em; padding-right: 1em; text-align: center; vertical-align: top\">10000.0</td>\n",
       "        <td style=\"padding-left: 1em; padding-right: 1em; text-align: center; vertical-align: top\">1.0</td>\n",
       "        <td style=\"padding-left: 1em; padding-right: 1em; text-align: center; vertical-align: top\">0</td>\n",
       "    </tr>\n",
       "    <tr>\n",
       "        <td style=\"padding-left: 1em; padding-right: 1em; text-align: center; vertical-align: top\">2487200875</td>\n",
       "        <td style=\"padding-left: 1em; padding-right: 1em; text-align: center; vertical-align: top\">2014-12-09 00:00:00+00:00</td>\n",
       "        <td style=\"padding-left: 1em; padding-right: 1em; text-align: center; vertical-align: top\">604000.0</td>\n",
       "        <td style=\"padding-left: 1em; padding-right: 1em; text-align: center; vertical-align: top\">4.0</td>\n",
       "        <td style=\"padding-left: 1em; padding-right: 1em; text-align: center; vertical-align: top\">3.0</td>\n",
       "        <td style=\"padding-left: 1em; padding-right: 1em; text-align: center; vertical-align: top\">1960.0</td>\n",
       "        <td style=\"padding-left: 1em; padding-right: 1em; text-align: center; vertical-align: top\">5000.0</td>\n",
       "        <td style=\"padding-left: 1em; padding-right: 1em; text-align: center; vertical-align: top\">1.0</td>\n",
       "        <td style=\"padding-left: 1em; padding-right: 1em; text-align: center; vertical-align: top\">0</td>\n",
       "    </tr>\n",
       "    <tr>\n",
       "        <td style=\"padding-left: 1em; padding-right: 1em; text-align: center; vertical-align: top\">1954400510</td>\n",
       "        <td style=\"padding-left: 1em; padding-right: 1em; text-align: center; vertical-align: top\">2015-02-18 00:00:00+00:00</td>\n",
       "        <td style=\"padding-left: 1em; padding-right: 1em; text-align: center; vertical-align: top\">510000.0</td>\n",
       "        <td style=\"padding-left: 1em; padding-right: 1em; text-align: center; vertical-align: top\">3.0</td>\n",
       "        <td style=\"padding-left: 1em; padding-right: 1em; text-align: center; vertical-align: top\">2.0</td>\n",
       "        <td style=\"padding-left: 1em; padding-right: 1em; text-align: center; vertical-align: top\">1680.0</td>\n",
       "        <td style=\"padding-left: 1em; padding-right: 1em; text-align: center; vertical-align: top\">8080.0</td>\n",
       "        <td style=\"padding-left: 1em; padding-right: 1em; text-align: center; vertical-align: top\">1.0</td>\n",
       "        <td style=\"padding-left: 1em; padding-right: 1em; text-align: center; vertical-align: top\">0</td>\n",
       "    </tr>\n",
       "    <tr>\n",
       "        <td style=\"padding-left: 1em; padding-right: 1em; text-align: center; vertical-align: top\">7237550310</td>\n",
       "        <td style=\"padding-left: 1em; padding-right: 1em; text-align: center; vertical-align: top\">2014-05-12 00:00:00+00:00</td>\n",
       "        <td style=\"padding-left: 1em; padding-right: 1em; text-align: center; vertical-align: top\">1225000.0</td>\n",
       "        <td style=\"padding-left: 1em; padding-right: 1em; text-align: center; vertical-align: top\">4.0</td>\n",
       "        <td style=\"padding-left: 1em; padding-right: 1em; text-align: center; vertical-align: top\">4.5</td>\n",
       "        <td style=\"padding-left: 1em; padding-right: 1em; text-align: center; vertical-align: top\">5420.0</td>\n",
       "        <td style=\"padding-left: 1em; padding-right: 1em; text-align: center; vertical-align: top\">101930.0</td>\n",
       "        <td style=\"padding-left: 1em; padding-right: 1em; text-align: center; vertical-align: top\">1.0</td>\n",
       "        <td style=\"padding-left: 1em; padding-right: 1em; text-align: center; vertical-align: top\">0</td>\n",
       "    </tr>\n",
       "    <tr>\n",
       "        <td style=\"padding-left: 1em; padding-right: 1em; text-align: center; vertical-align: top\">1321400060</td>\n",
       "        <td style=\"padding-left: 1em; padding-right: 1em; text-align: center; vertical-align: top\">2014-06-27 00:00:00+00:00</td>\n",
       "        <td style=\"padding-left: 1em; padding-right: 1em; text-align: center; vertical-align: top\">257500.0</td>\n",
       "        <td style=\"padding-left: 1em; padding-right: 1em; text-align: center; vertical-align: top\">3.0</td>\n",
       "        <td style=\"padding-left: 1em; padding-right: 1em; text-align: center; vertical-align: top\">2.25</td>\n",
       "        <td style=\"padding-left: 1em; padding-right: 1em; text-align: center; vertical-align: top\">1715.0</td>\n",
       "        <td style=\"padding-left: 1em; padding-right: 1em; text-align: center; vertical-align: top\">6819.0</td>\n",
       "        <td style=\"padding-left: 1em; padding-right: 1em; text-align: center; vertical-align: top\">2.0</td>\n",
       "        <td style=\"padding-left: 1em; padding-right: 1em; text-align: center; vertical-align: top\">0</td>\n",
       "    </tr>\n",
       "    <tr>\n",
       "        <td style=\"padding-left: 1em; padding-right: 1em; text-align: center; vertical-align: top\">2008000270</td>\n",
       "        <td style=\"padding-left: 1em; padding-right: 1em; text-align: center; vertical-align: top\">2015-01-15 00:00:00+00:00</td>\n",
       "        <td style=\"padding-left: 1em; padding-right: 1em; text-align: center; vertical-align: top\">291850.0</td>\n",
       "        <td style=\"padding-left: 1em; padding-right: 1em; text-align: center; vertical-align: top\">3.0</td>\n",
       "        <td style=\"padding-left: 1em; padding-right: 1em; text-align: center; vertical-align: top\">1.5</td>\n",
       "        <td style=\"padding-left: 1em; padding-right: 1em; text-align: center; vertical-align: top\">1060.0</td>\n",
       "        <td style=\"padding-left: 1em; padding-right: 1em; text-align: center; vertical-align: top\">9711.0</td>\n",
       "        <td style=\"padding-left: 1em; padding-right: 1em; text-align: center; vertical-align: top\">1.0</td>\n",
       "        <td style=\"padding-left: 1em; padding-right: 1em; text-align: center; vertical-align: top\">0</td>\n",
       "    </tr>\n",
       "    <tr>\n",
       "        <td style=\"padding-left: 1em; padding-right: 1em; text-align: center; vertical-align: top\">2414600126</td>\n",
       "        <td style=\"padding-left: 1em; padding-right: 1em; text-align: center; vertical-align: top\">2015-04-15 00:00:00+00:00</td>\n",
       "        <td style=\"padding-left: 1em; padding-right: 1em; text-align: center; vertical-align: top\">229500.0</td>\n",
       "        <td style=\"padding-left: 1em; padding-right: 1em; text-align: center; vertical-align: top\">3.0</td>\n",
       "        <td style=\"padding-left: 1em; padding-right: 1em; text-align: center; vertical-align: top\">1.0</td>\n",
       "        <td style=\"padding-left: 1em; padding-right: 1em; text-align: center; vertical-align: top\">1780.0</td>\n",
       "        <td style=\"padding-left: 1em; padding-right: 1em; text-align: center; vertical-align: top\">7470.0</td>\n",
       "        <td style=\"padding-left: 1em; padding-right: 1em; text-align: center; vertical-align: top\">1.0</td>\n",
       "        <td style=\"padding-left: 1em; padding-right: 1em; text-align: center; vertical-align: top\">0</td>\n",
       "    </tr>\n",
       "    <tr>\n",
       "        <td style=\"padding-left: 1em; padding-right: 1em; text-align: center; vertical-align: top\">3793500160</td>\n",
       "        <td style=\"padding-left: 1em; padding-right: 1em; text-align: center; vertical-align: top\">2015-03-12 00:00:00+00:00</td>\n",
       "        <td style=\"padding-left: 1em; padding-right: 1em; text-align: center; vertical-align: top\">323000.0</td>\n",
       "        <td style=\"padding-left: 1em; padding-right: 1em; text-align: center; vertical-align: top\">3.0</td>\n",
       "        <td style=\"padding-left: 1em; padding-right: 1em; text-align: center; vertical-align: top\">2.5</td>\n",
       "        <td style=\"padding-left: 1em; padding-right: 1em; text-align: center; vertical-align: top\">1890.0</td>\n",
       "        <td style=\"padding-left: 1em; padding-right: 1em; text-align: center; vertical-align: top\">6560.0</td>\n",
       "        <td style=\"padding-left: 1em; padding-right: 1em; text-align: center; vertical-align: top\">2.0</td>\n",
       "        <td style=\"padding-left: 1em; padding-right: 1em; text-align: center; vertical-align: top\">0</td>\n",
       "    </tr>\n",
       "</table>\n",
       "<table frame=\"box\" rules=\"cols\">\n",
       "    <tr>\n",
       "        <th style=\"padding-left: 1em; padding-right: 1em; text-align: center\">view</th>\n",
       "        <th style=\"padding-left: 1em; padding-right: 1em; text-align: center\">condition</th>\n",
       "        <th style=\"padding-left: 1em; padding-right: 1em; text-align: center\">grade</th>\n",
       "        <th style=\"padding-left: 1em; padding-right: 1em; text-align: center\">sqft_above</th>\n",
       "        <th style=\"padding-left: 1em; padding-right: 1em; text-align: center\">sqft_basement</th>\n",
       "        <th style=\"padding-left: 1em; padding-right: 1em; text-align: center\">yr_built</th>\n",
       "        <th style=\"padding-left: 1em; padding-right: 1em; text-align: center\">yr_renovated</th>\n",
       "        <th style=\"padding-left: 1em; padding-right: 1em; text-align: center\">zipcode</th>\n",
       "        <th style=\"padding-left: 1em; padding-right: 1em; text-align: center\">lat</th>\n",
       "    </tr>\n",
       "    <tr>\n",
       "        <td style=\"padding-left: 1em; padding-right: 1em; text-align: center; vertical-align: top\">0</td>\n",
       "        <td style=\"padding-left: 1em; padding-right: 1em; text-align: center; vertical-align: top\">3</td>\n",
       "        <td style=\"padding-left: 1em; padding-right: 1em; text-align: center; vertical-align: top\">7.0</td>\n",
       "        <td style=\"padding-left: 1em; padding-right: 1em; text-align: center; vertical-align: top\">1180.0</td>\n",
       "        <td style=\"padding-left: 1em; padding-right: 1em; text-align: center; vertical-align: top\">0.0</td>\n",
       "        <td style=\"padding-left: 1em; padding-right: 1em; text-align: center; vertical-align: top\">1955.0</td>\n",
       "        <td style=\"padding-left: 1em; padding-right: 1em; text-align: center; vertical-align: top\">0.0</td>\n",
       "        <td style=\"padding-left: 1em; padding-right: 1em; text-align: center; vertical-align: top\">98178</td>\n",
       "        <td style=\"padding-left: 1em; padding-right: 1em; text-align: center; vertical-align: top\">47.51123398</td>\n",
       "    </tr>\n",
       "    <tr>\n",
       "        <td style=\"padding-left: 1em; padding-right: 1em; text-align: center; vertical-align: top\">0</td>\n",
       "        <td style=\"padding-left: 1em; padding-right: 1em; text-align: center; vertical-align: top\">3</td>\n",
       "        <td style=\"padding-left: 1em; padding-right: 1em; text-align: center; vertical-align: top\">7.0</td>\n",
       "        <td style=\"padding-left: 1em; padding-right: 1em; text-align: center; vertical-align: top\">2170.0</td>\n",
       "        <td style=\"padding-left: 1em; padding-right: 1em; text-align: center; vertical-align: top\">400.0</td>\n",
       "        <td style=\"padding-left: 1em; padding-right: 1em; text-align: center; vertical-align: top\">1951.0</td>\n",
       "        <td style=\"padding-left: 1em; padding-right: 1em; text-align: center; vertical-align: top\">1991.0</td>\n",
       "        <td style=\"padding-left: 1em; padding-right: 1em; text-align: center; vertical-align: top\">98125</td>\n",
       "        <td style=\"padding-left: 1em; padding-right: 1em; text-align: center; vertical-align: top\">47.72102274</td>\n",
       "    </tr>\n",
       "    <tr>\n",
       "        <td style=\"padding-left: 1em; padding-right: 1em; text-align: center; vertical-align: top\">0</td>\n",
       "        <td style=\"padding-left: 1em; padding-right: 1em; text-align: center; vertical-align: top\">3</td>\n",
       "        <td style=\"padding-left: 1em; padding-right: 1em; text-align: center; vertical-align: top\">6.0</td>\n",
       "        <td style=\"padding-left: 1em; padding-right: 1em; text-align: center; vertical-align: top\">770.0</td>\n",
       "        <td style=\"padding-left: 1em; padding-right: 1em; text-align: center; vertical-align: top\">0.0</td>\n",
       "        <td style=\"padding-left: 1em; padding-right: 1em; text-align: center; vertical-align: top\">1933.0</td>\n",
       "        <td style=\"padding-left: 1em; padding-right: 1em; text-align: center; vertical-align: top\">0.0</td>\n",
       "        <td style=\"padding-left: 1em; padding-right: 1em; text-align: center; vertical-align: top\">98028</td>\n",
       "        <td style=\"padding-left: 1em; padding-right: 1em; text-align: center; vertical-align: top\">47.73792661</td>\n",
       "    </tr>\n",
       "    <tr>\n",
       "        <td style=\"padding-left: 1em; padding-right: 1em; text-align: center; vertical-align: top\">0</td>\n",
       "        <td style=\"padding-left: 1em; padding-right: 1em; text-align: center; vertical-align: top\">5</td>\n",
       "        <td style=\"padding-left: 1em; padding-right: 1em; text-align: center; vertical-align: top\">7.0</td>\n",
       "        <td style=\"padding-left: 1em; padding-right: 1em; text-align: center; vertical-align: top\">1050.0</td>\n",
       "        <td style=\"padding-left: 1em; padding-right: 1em; text-align: center; vertical-align: top\">910.0</td>\n",
       "        <td style=\"padding-left: 1em; padding-right: 1em; text-align: center; vertical-align: top\">1965.0</td>\n",
       "        <td style=\"padding-left: 1em; padding-right: 1em; text-align: center; vertical-align: top\">0.0</td>\n",
       "        <td style=\"padding-left: 1em; padding-right: 1em; text-align: center; vertical-align: top\">98136</td>\n",
       "        <td style=\"padding-left: 1em; padding-right: 1em; text-align: center; vertical-align: top\">47.52082</td>\n",
       "    </tr>\n",
       "    <tr>\n",
       "        <td style=\"padding-left: 1em; padding-right: 1em; text-align: center; vertical-align: top\">0</td>\n",
       "        <td style=\"padding-left: 1em; padding-right: 1em; text-align: center; vertical-align: top\">3</td>\n",
       "        <td style=\"padding-left: 1em; padding-right: 1em; text-align: center; vertical-align: top\">8.0</td>\n",
       "        <td style=\"padding-left: 1em; padding-right: 1em; text-align: center; vertical-align: top\">1680.0</td>\n",
       "        <td style=\"padding-left: 1em; padding-right: 1em; text-align: center; vertical-align: top\">0.0</td>\n",
       "        <td style=\"padding-left: 1em; padding-right: 1em; text-align: center; vertical-align: top\">1987.0</td>\n",
       "        <td style=\"padding-left: 1em; padding-right: 1em; text-align: center; vertical-align: top\">0.0</td>\n",
       "        <td style=\"padding-left: 1em; padding-right: 1em; text-align: center; vertical-align: top\">98074</td>\n",
       "        <td style=\"padding-left: 1em; padding-right: 1em; text-align: center; vertical-align: top\">47.61681228</td>\n",
       "    </tr>\n",
       "    <tr>\n",
       "        <td style=\"padding-left: 1em; padding-right: 1em; text-align: center; vertical-align: top\">0</td>\n",
       "        <td style=\"padding-left: 1em; padding-right: 1em; text-align: center; vertical-align: top\">3</td>\n",
       "        <td style=\"padding-left: 1em; padding-right: 1em; text-align: center; vertical-align: top\">11.0</td>\n",
       "        <td style=\"padding-left: 1em; padding-right: 1em; text-align: center; vertical-align: top\">3890.0</td>\n",
       "        <td style=\"padding-left: 1em; padding-right: 1em; text-align: center; vertical-align: top\">1530.0</td>\n",
       "        <td style=\"padding-left: 1em; padding-right: 1em; text-align: center; vertical-align: top\">2001.0</td>\n",
       "        <td style=\"padding-left: 1em; padding-right: 1em; text-align: center; vertical-align: top\">0.0</td>\n",
       "        <td style=\"padding-left: 1em; padding-right: 1em; text-align: center; vertical-align: top\">98053</td>\n",
       "        <td style=\"padding-left: 1em; padding-right: 1em; text-align: center; vertical-align: top\">47.65611835</td>\n",
       "    </tr>\n",
       "    <tr>\n",
       "        <td style=\"padding-left: 1em; padding-right: 1em; text-align: center; vertical-align: top\">0</td>\n",
       "        <td style=\"padding-left: 1em; padding-right: 1em; text-align: center; vertical-align: top\">3</td>\n",
       "        <td style=\"padding-left: 1em; padding-right: 1em; text-align: center; vertical-align: top\">7.0</td>\n",
       "        <td style=\"padding-left: 1em; padding-right: 1em; text-align: center; vertical-align: top\">1715.0</td>\n",
       "        <td style=\"padding-left: 1em; padding-right: 1em; text-align: center; vertical-align: top\">0.0</td>\n",
       "        <td style=\"padding-left: 1em; padding-right: 1em; text-align: center; vertical-align: top\">1995.0</td>\n",
       "        <td style=\"padding-left: 1em; padding-right: 1em; text-align: center; vertical-align: top\">0.0</td>\n",
       "        <td style=\"padding-left: 1em; padding-right: 1em; text-align: center; vertical-align: top\">98003</td>\n",
       "        <td style=\"padding-left: 1em; padding-right: 1em; text-align: center; vertical-align: top\">47.30972002</td>\n",
       "    </tr>\n",
       "    <tr>\n",
       "        <td style=\"padding-left: 1em; padding-right: 1em; text-align: center; vertical-align: top\">0</td>\n",
       "        <td style=\"padding-left: 1em; padding-right: 1em; text-align: center; vertical-align: top\">3</td>\n",
       "        <td style=\"padding-left: 1em; padding-right: 1em; text-align: center; vertical-align: top\">7.0</td>\n",
       "        <td style=\"padding-left: 1em; padding-right: 1em; text-align: center; vertical-align: top\">1060.0</td>\n",
       "        <td style=\"padding-left: 1em; padding-right: 1em; text-align: center; vertical-align: top\">0.0</td>\n",
       "        <td style=\"padding-left: 1em; padding-right: 1em; text-align: center; vertical-align: top\">1963.0</td>\n",
       "        <td style=\"padding-left: 1em; padding-right: 1em; text-align: center; vertical-align: top\">0.0</td>\n",
       "        <td style=\"padding-left: 1em; padding-right: 1em; text-align: center; vertical-align: top\">98198</td>\n",
       "        <td style=\"padding-left: 1em; padding-right: 1em; text-align: center; vertical-align: top\">47.40949984</td>\n",
       "    </tr>\n",
       "    <tr>\n",
       "        <td style=\"padding-left: 1em; padding-right: 1em; text-align: center; vertical-align: top\">0</td>\n",
       "        <td style=\"padding-left: 1em; padding-right: 1em; text-align: center; vertical-align: top\">3</td>\n",
       "        <td style=\"padding-left: 1em; padding-right: 1em; text-align: center; vertical-align: top\">7.0</td>\n",
       "        <td style=\"padding-left: 1em; padding-right: 1em; text-align: center; vertical-align: top\">1050.0</td>\n",
       "        <td style=\"padding-left: 1em; padding-right: 1em; text-align: center; vertical-align: top\">730.0</td>\n",
       "        <td style=\"padding-left: 1em; padding-right: 1em; text-align: center; vertical-align: top\">1960.0</td>\n",
       "        <td style=\"padding-left: 1em; padding-right: 1em; text-align: center; vertical-align: top\">0.0</td>\n",
       "        <td style=\"padding-left: 1em; padding-right: 1em; text-align: center; vertical-align: top\">98146</td>\n",
       "        <td style=\"padding-left: 1em; padding-right: 1em; text-align: center; vertical-align: top\">47.51229381</td>\n",
       "    </tr>\n",
       "    <tr>\n",
       "        <td style=\"padding-left: 1em; padding-right: 1em; text-align: center; vertical-align: top\">0</td>\n",
       "        <td style=\"padding-left: 1em; padding-right: 1em; text-align: center; vertical-align: top\">3</td>\n",
       "        <td style=\"padding-left: 1em; padding-right: 1em; text-align: center; vertical-align: top\">7.0</td>\n",
       "        <td style=\"padding-left: 1em; padding-right: 1em; text-align: center; vertical-align: top\">1890.0</td>\n",
       "        <td style=\"padding-left: 1em; padding-right: 1em; text-align: center; vertical-align: top\">0.0</td>\n",
       "        <td style=\"padding-left: 1em; padding-right: 1em; text-align: center; vertical-align: top\">2003.0</td>\n",
       "        <td style=\"padding-left: 1em; padding-right: 1em; text-align: center; vertical-align: top\">0.0</td>\n",
       "        <td style=\"padding-left: 1em; padding-right: 1em; text-align: center; vertical-align: top\">98038</td>\n",
       "        <td style=\"padding-left: 1em; padding-right: 1em; text-align: center; vertical-align: top\">47.36840673</td>\n",
       "    </tr>\n",
       "</table>\n",
       "<table frame=\"box\" rules=\"cols\">\n",
       "    <tr>\n",
       "        <th style=\"padding-left: 1em; padding-right: 1em; text-align: center\">long</th>\n",
       "        <th style=\"padding-left: 1em; padding-right: 1em; text-align: center\">sqft_living15</th>\n",
       "        <th style=\"padding-left: 1em; padding-right: 1em; text-align: center\">sqft_lot15</th>\n",
       "    </tr>\n",
       "    <tr>\n",
       "        <td style=\"padding-left: 1em; padding-right: 1em; text-align: center; vertical-align: top\">-122.25677536</td>\n",
       "        <td style=\"padding-left: 1em; padding-right: 1em; text-align: center; vertical-align: top\">1340.0</td>\n",
       "        <td style=\"padding-left: 1em; padding-right: 1em; text-align: center; vertical-align: top\">5650.0</td>\n",
       "    </tr>\n",
       "    <tr>\n",
       "        <td style=\"padding-left: 1em; padding-right: 1em; text-align: center; vertical-align: top\">-122.3188624</td>\n",
       "        <td style=\"padding-left: 1em; padding-right: 1em; text-align: center; vertical-align: top\">1690.0</td>\n",
       "        <td style=\"padding-left: 1em; padding-right: 1em; text-align: center; vertical-align: top\">7639.0</td>\n",
       "    </tr>\n",
       "    <tr>\n",
       "        <td style=\"padding-left: 1em; padding-right: 1em; text-align: center; vertical-align: top\">-122.23319601</td>\n",
       "        <td style=\"padding-left: 1em; padding-right: 1em; text-align: center; vertical-align: top\">2720.0</td>\n",
       "        <td style=\"padding-left: 1em; padding-right: 1em; text-align: center; vertical-align: top\">8062.0</td>\n",
       "    </tr>\n",
       "    <tr>\n",
       "        <td style=\"padding-left: 1em; padding-right: 1em; text-align: center; vertical-align: top\">-122.39318505</td>\n",
       "        <td style=\"padding-left: 1em; padding-right: 1em; text-align: center; vertical-align: top\">1360.0</td>\n",
       "        <td style=\"padding-left: 1em; padding-right: 1em; text-align: center; vertical-align: top\">5000.0</td>\n",
       "    </tr>\n",
       "    <tr>\n",
       "        <td style=\"padding-left: 1em; padding-right: 1em; text-align: center; vertical-align: top\">-122.04490059</td>\n",
       "        <td style=\"padding-left: 1em; padding-right: 1em; text-align: center; vertical-align: top\">1800.0</td>\n",
       "        <td style=\"padding-left: 1em; padding-right: 1em; text-align: center; vertical-align: top\">7503.0</td>\n",
       "    </tr>\n",
       "    <tr>\n",
       "        <td style=\"padding-left: 1em; padding-right: 1em; text-align: center; vertical-align: top\">-122.00528655</td>\n",
       "        <td style=\"padding-left: 1em; padding-right: 1em; text-align: center; vertical-align: top\">4760.0</td>\n",
       "        <td style=\"padding-left: 1em; padding-right: 1em; text-align: center; vertical-align: top\">101930.0</td>\n",
       "    </tr>\n",
       "    <tr>\n",
       "        <td style=\"padding-left: 1em; padding-right: 1em; text-align: center; vertical-align: top\">-122.32704857</td>\n",
       "        <td style=\"padding-left: 1em; padding-right: 1em; text-align: center; vertical-align: top\">2238.0</td>\n",
       "        <td style=\"padding-left: 1em; padding-right: 1em; text-align: center; vertical-align: top\">6819.0</td>\n",
       "    </tr>\n",
       "    <tr>\n",
       "        <td style=\"padding-left: 1em; padding-right: 1em; text-align: center; vertical-align: top\">-122.31457273</td>\n",
       "        <td style=\"padding-left: 1em; padding-right: 1em; text-align: center; vertical-align: top\">1650.0</td>\n",
       "        <td style=\"padding-left: 1em; padding-right: 1em; text-align: center; vertical-align: top\">9711.0</td>\n",
       "    </tr>\n",
       "    <tr>\n",
       "        <td style=\"padding-left: 1em; padding-right: 1em; text-align: center; vertical-align: top\">-122.33659507</td>\n",
       "        <td style=\"padding-left: 1em; padding-right: 1em; text-align: center; vertical-align: top\">1780.0</td>\n",
       "        <td style=\"padding-left: 1em; padding-right: 1em; text-align: center; vertical-align: top\">8113.0</td>\n",
       "    </tr>\n",
       "    <tr>\n",
       "        <td style=\"padding-left: 1em; padding-right: 1em; text-align: center; vertical-align: top\">-122.0308176</td>\n",
       "        <td style=\"padding-left: 1em; padding-right: 1em; text-align: center; vertical-align: top\">2390.0</td>\n",
       "        <td style=\"padding-left: 1em; padding-right: 1em; text-align: center; vertical-align: top\">7570.0</td>\n",
       "    </tr>\n",
       "</table>\n",
       "[21613 rows x 21 columns]<br/>Note: Only the head of the SFrame is printed.<br/>You can use print_rows(num_rows=m, num_columns=n) to print more rows and columns.\n",
       "</div>"
      ],
      "text/plain": [
       "Columns:\n",
       "\tid\tstr\n",
       "\tdate\tdatetime\n",
       "\tprice\tfloat\n",
       "\tbedrooms\tfloat\n",
       "\tbathrooms\tfloat\n",
       "\tsqft_living\tfloat\n",
       "\tsqft_lot\tfloat\n",
       "\tfloors\tfloat\n",
       "\twaterfront\tint\n",
       "\tview\tint\n",
       "\tcondition\tint\n",
       "\tgrade\tfloat\n",
       "\tsqft_above\tfloat\n",
       "\tsqft_basement\tfloat\n",
       "\tyr_built\tfloat\n",
       "\tyr_renovated\tfloat\n",
       "\tzipcode\tstr\n",
       "\tlat\tfloat\n",
       "\tlong\tfloat\n",
       "\tsqft_living15\tfloat\n",
       "\tsqft_lot15\tfloat\n",
       "\n",
       "Rows: 21613\n",
       "\n",
       "Data:\n",
       "+------------+---------------------------+-----------+----------+-----------+\n",
       "|     id     |            date           |   price   | bedrooms | bathrooms |\n",
       "+------------+---------------------------+-----------+----------+-----------+\n",
       "| 7129300520 | 2014-10-13 00:00:00+00:00 |  221900.0 |   3.0    |    1.0    |\n",
       "| 6414100192 | 2014-12-09 00:00:00+00:00 |  538000.0 |   3.0    |    2.25   |\n",
       "| 5631500400 | 2015-02-25 00:00:00+00:00 |  180000.0 |   2.0    |    1.0    |\n",
       "| 2487200875 | 2014-12-09 00:00:00+00:00 |  604000.0 |   4.0    |    3.0    |\n",
       "| 1954400510 | 2015-02-18 00:00:00+00:00 |  510000.0 |   3.0    |    2.0    |\n",
       "| 7237550310 | 2014-05-12 00:00:00+00:00 | 1225000.0 |   4.0    |    4.5    |\n",
       "| 1321400060 | 2014-06-27 00:00:00+00:00 |  257500.0 |   3.0    |    2.25   |\n",
       "| 2008000270 | 2015-01-15 00:00:00+00:00 |  291850.0 |   3.0    |    1.5    |\n",
       "| 2414600126 | 2015-04-15 00:00:00+00:00 |  229500.0 |   3.0    |    1.0    |\n",
       "| 3793500160 | 2015-03-12 00:00:00+00:00 |  323000.0 |   3.0    |    2.5    |\n",
       "+------------+---------------------------+-----------+----------+-----------+\n",
       "+-------------+----------+--------+------------+------+-----------+-------+\n",
       "| sqft_living | sqft_lot | floors | waterfront | view | condition | grade |\n",
       "+-------------+----------+--------+------------+------+-----------+-------+\n",
       "|    1180.0   |  5650.0  |  1.0   |     0      |  0   |     3     |  7.0  |\n",
       "|    2570.0   |  7242.0  |  2.0   |     0      |  0   |     3     |  7.0  |\n",
       "|    770.0    | 10000.0  |  1.0   |     0      |  0   |     3     |  6.0  |\n",
       "|    1960.0   |  5000.0  |  1.0   |     0      |  0   |     5     |  7.0  |\n",
       "|    1680.0   |  8080.0  |  1.0   |     0      |  0   |     3     |  8.0  |\n",
       "|    5420.0   | 101930.0 |  1.0   |     0      |  0   |     3     |  11.0 |\n",
       "|    1715.0   |  6819.0  |  2.0   |     0      |  0   |     3     |  7.0  |\n",
       "|    1060.0   |  9711.0  |  1.0   |     0      |  0   |     3     |  7.0  |\n",
       "|    1780.0   |  7470.0  |  1.0   |     0      |  0   |     3     |  7.0  |\n",
       "|    1890.0   |  6560.0  |  2.0   |     0      |  0   |     3     |  7.0  |\n",
       "+-------------+----------+--------+------------+------+-----------+-------+\n",
       "+------------+---------------+----------+--------------+---------+-------------+\n",
       "| sqft_above | sqft_basement | yr_built | yr_renovated | zipcode |     lat     |\n",
       "+------------+---------------+----------+--------------+---------+-------------+\n",
       "|   1180.0   |      0.0      |  1955.0  |     0.0      |  98178  | 47.51123398 |\n",
       "|   2170.0   |     400.0     |  1951.0  |    1991.0    |  98125  | 47.72102274 |\n",
       "|   770.0    |      0.0      |  1933.0  |     0.0      |  98028  | 47.73792661 |\n",
       "|   1050.0   |     910.0     |  1965.0  |     0.0      |  98136  |   47.52082  |\n",
       "|   1680.0   |      0.0      |  1987.0  |     0.0      |  98074  | 47.61681228 |\n",
       "|   3890.0   |     1530.0    |  2001.0  |     0.0      |  98053  | 47.65611835 |\n",
       "|   1715.0   |      0.0      |  1995.0  |     0.0      |  98003  | 47.30972002 |\n",
       "|   1060.0   |      0.0      |  1963.0  |     0.0      |  98198  | 47.40949984 |\n",
       "|   1050.0   |     730.0     |  1960.0  |     0.0      |  98146  | 47.51229381 |\n",
       "|   1890.0   |      0.0      |  2003.0  |     0.0      |  98038  | 47.36840673 |\n",
       "+------------+---------------+----------+--------------+---------+-------------+\n",
       "+---------------+---------------+-----+\n",
       "|      long     | sqft_living15 | ... |\n",
       "+---------------+---------------+-----+\n",
       "| -122.25677536 |     1340.0    | ... |\n",
       "|  -122.3188624 |     1690.0    | ... |\n",
       "| -122.23319601 |     2720.0    | ... |\n",
       "| -122.39318505 |     1360.0    | ... |\n",
       "| -122.04490059 |     1800.0    | ... |\n",
       "| -122.00528655 |     4760.0    | ... |\n",
       "| -122.32704857 |     2238.0    | ... |\n",
       "| -122.31457273 |     1650.0    | ... |\n",
       "| -122.33659507 |     1780.0    | ... |\n",
       "|  -122.0308176 |     2390.0    | ... |\n",
       "+---------------+---------------+-----+\n",
       "[21613 rows x 21 columns]\n",
       "Note: Only the head of the SFrame is printed.\n",
       "You can use print_rows(num_rows=m, num_columns=n) to print more rows and columns."
      ]
     },
     "execution_count": 3,
     "metadata": {},
     "output_type": "execute_result"
    }
   ],
   "source": [
    "sales"
   ]
  },
  {
   "cell_type": "code",
   "execution_count": 4,
   "metadata": {},
   "outputs": [
    {
     "data": {
      "application/javascript": [
       "$(\"head\").append($(\"<link/>\").attr({\n",
       "  rel:  \"stylesheet\",\n",
       "  type: \"text/css\",\n",
       "  href: \"//cdnjs.cloudflare.com/ajax/libs/font-awesome/4.1.0/css/font-awesome.min.css\"\n",
       "}));\n",
       "$(\"head\").append($(\"<link/>\").attr({\n",
       "  rel:  \"stylesheet\",\n",
       "  type: \"text/css\",\n",
       "  href: \"https://static.turi.com/products/graphlab-create/2.1/canvas/css/canvas.css\"\n",
       "}));\n",
       "\n",
       "            (function(){\n",
       "\n",
       "                var e = null;\n",
       "                if (typeof element == 'undefined') {\n",
       "                    var scripts = document.getElementsByTagName('script');\n",
       "                    var thisScriptTag = scripts[scripts.length-1];\n",
       "                    var parentDiv = thisScriptTag.parentNode;\n",
       "                    e = document.createElement('div');\n",
       "                    parentDiv.appendChild(e);\n",
       "                } else {\n",
       "                    e = element[0];\n",
       "                }\n",
       "\n",
       "                if (typeof requirejs !== 'undefined') {\n",
       "                    // disable load timeout; ipython_app.js is large and can take a while to load.\n",
       "                    requirejs.config({waitSeconds: 0});\n",
       "                }\n",
       "\n",
       "                require(['https://static.turi.com/products/graphlab-create/2.1/canvas/js/ipython_app.js'], function(IPythonApp){\n",
       "                    var app = new IPythonApp();\n",
       "                    app.attachView('sframe','Plots', {\"selected_variable\": {\"name\": [\"sales\"], \"descriptives\": {\"rows\": 21613, \"columns\": 21}, \"view_component\": \"Plots\", \"view_file\": \"sframe\", \"view_params\": {\"y\": \"price\", \"x\": \"sqft_living\", \"columns\": [\"id\", \"date\", \"price\", \"bedrooms\", \"bathrooms\", \"sqft_living\", \"sqft_lot\", \"floors\", \"waterfront\", \"view\", \"condition\", \"grade\", \"sqft_above\", \"sqft_basement\", \"yr_built\", \"yr_renovated\", \"zipcode\", \"lat\", \"long\", \"sqft_living15\", \"sqft_lot15\"], \"view\": \"Scatter Plot\"}, \"view_components\": [\"Summary\", \"Table\", \"Bar Chart\", \"BoxWhisker Plot\", \"Line Chart\", \"Scatter Plot\", \"Heat Map\", \"Plots\"], \"type\": \"SFrame\", \"columns\": [{\"dtype\": \"str\", \"name\": \"id\"}, {\"dtype\": \"datetime\", \"name\": \"date\"}, {\"dtype\": \"float\", \"name\": \"price\"}, {\"dtype\": \"float\", \"name\": \"bedrooms\"}, {\"dtype\": \"float\", \"name\": \"bathrooms\"}, {\"dtype\": \"float\", \"name\": \"sqft_living\"}, {\"dtype\": \"float\", \"name\": \"sqft_lot\"}, {\"dtype\": \"float\", \"name\": \"floors\"}, {\"dtype\": \"int\", \"name\": \"waterfront\"}, {\"dtype\": \"int\", \"name\": \"view\"}, {\"dtype\": \"int\", \"name\": \"condition\"}, {\"dtype\": \"float\", \"name\": \"grade\"}, {\"dtype\": \"float\", \"name\": \"sqft_above\"}, {\"dtype\": \"float\", \"name\": \"sqft_basement\"}, {\"dtype\": \"float\", \"name\": \"yr_built\"}, {\"dtype\": \"float\", \"name\": \"yr_renovated\"}, {\"dtype\": \"str\", \"name\": \"zipcode\"}, {\"dtype\": \"float\", \"name\": \"lat\"}, {\"dtype\": \"float\", \"name\": \"long\"}, {\"dtype\": \"float\", \"name\": \"sqft_living15\"}, {\"dtype\": \"float\", \"name\": \"sqft_lot15\"}], \"column_identifiers\": [\"bathrooms\", \"sqft_living15\", \"sqft_above\", \"grade\", \"yr_built\", \"price\", \"bedrooms\", \"zipcode\", \"long\", \"id\", \"sqft_lot15\", \"sqft_living\", \"floors\", \"sqft_lot\", \"date\", \"waterfront\", \"sqft_basement\", \"yr_renovated\", \"lat\", \"condition\", \"view\"]}, \"complete\": 1, \"ipython\": true, \"progress\": 1.0, \"data\": [[2160.0, 453000.0], [1470.0, 491500.0], [2450.0, 793000.0], [4110.0, 1031000.0], [1350.0, 353000.0], [1430.0, 284000.0], [2950.0, 495000.0], [1350.0, 281000.0], [2060.0, 339989.0], [1980.0, 437000.0], [3560.0, 662500.0], [1670.0, 424000.0], [3230.0, 499950.0], [3920.0, 965000.0], [1180.0, 390000.0], [1580.0, 705000.0], [1890.0, 395000.0], [710.0, 399950.0], [720.0, 225000.0], [1170.0, 760000.0], [1230.0, 325000.0], [2720.0, 790000.0], [910.0, 605000.0], [1830.0, 383000.0], [1680.0, 480000.0], [1560.0, 915000.0], [3910.0, 1562000.0], [3650.0, 1195000.0], [2080.0, 400000.0], [2350.0, 400000.0], [3270.0, 357500.0], [2940.0, 480000.0], [1960.0, 759000.0], [1610.0, 263500.0], [3680.0, 755000.0], [2260.0, 539000.0], [7880.0, 2415000.0], [1160.0, 402723.0], [1690.0, 410000.0], [2210.0, 1100000.0], [1220.0, 380000.0], [2090.0, 210000.0], [840.0, 218450.0], [2000.0, 540000.0], [2440.0, 610000.0], [3360.0, 945800.0], [3140.0, 532500.0], [1480.0, 331000.0], [4270.0, 1356925.0], [3930.0, 1875000.0], [1680.0, 330000.0], [740.0, 290000.0], [2980.0, 623000.0], [2170.0, 831000.0], [3240.0, 609000.0], [1068.0, 239950.0], [2340.0, 445000.0], [2750.0, 333000.0], [1380.0, 300000.0], [1820.0, 659500.0], [2260.0, 628000.0], [1460.0, 310000.0], [1290.0, 300000.0], [2020.0, 810000.0], [840.0, 530000.0], [2530.0, 382000.0], [4350.0, 472000.0], [2240.0, 676000.0], [1280.0, 389000.0], [3200.0, 1325000.0], [1820.0, 519900.0], [2190.0, 320000.0], [2410.0, 432000.0], [2380.0, 360000.0], [1690.0, 270000.0], [1880.0, 550000.0], [980.0, 295000.0], [2100.0, 990400.0], [2680.0, 775000.0], [2780.0, 449900.0], [3780.0, 930000.0], [1220.0, 245000.0], [2690.0, 699850.0], [2900.0, 800000.0], [1240.0, 374950.0], [2110.0, 772000.0], [1640.0, 525000.0], [1770.0, 245000.0], [790.0, 350000.0], [780.0, 270950.0], [2290.0, 390000.0], [1770.0, 320900.0], [1530.0, 546000.0], [790.0, 200000.0], [2200.0, 585000.0], [2390.0, 629800.0], [1520.0, 167000.0], [1160.0, 199000.0], [1770.0, 229500.0], [1770.0, 660000.0], [1550.0, 320000.0], [1840.0, 585000.0], [1260.0, 412000.0], [2100.0, 370000.0], [1290.0, 440000.0], [1920.0, 372500.0], [1580.0, 375000.0], [2760.0, 745000.0], [1510.0, 535000.0], [1670.0, 229999.0], [1790.0, 380000.0], [1090.0, 365000.0], [2280.0, 433000.0], [2320.0, 675000.0], [1170.0, 459500.0], [1130.0, 179950.0], [670.0, 295000.0], [2960.0, 1161000.0], [3100.0, 564500.0], [2290.0, 365000.0], [3240.0, 895000.0], [1095.0, 302282.0], [2940.0, 464500.0], [1390.0, 225000.0], [2910.0, 770000.0], [2050.0, 480000.0], [2100.0, 445000.0], [2020.0, 390000.0], [1320.0, 330000.0], [4500.0, 2340000.0], [1720.0, 575000.0], [1150.0, 825000.0], [760.0, 167500.0], [2230.0, 550000.0], [1020.0, 280000.0], [1780.0, 270000.0], [2080.0, 601000.0], [1530.0, 299800.0], [2530.0, 650000.0], [2300.0, 610000.0], [1150.0, 213400.0], [1870.0, 770000.0], [1710.0, 372000.0], [1160.0, 285000.0], [3320.0, 1695000.0], [1880.0, 565000.0], [2200.0, 680000.0], [2770.0, 390000.0], [1610.0, 269000.0], [1340.0, 390000.0], [1210.0, 257500.0], [1450.0, 405000.0], [1050.0, 325000.0], [5740.0, 1380000.0], [700.0, 350000.0], [2660.0, 900000.0], [3100.0, 905000.0], [2020.0, 405000.0], [4620.0, 1400000.0], [2400.0, 575000.0], [2770.0, 402000.0], [2960.0, 426500.0], [1400.0, 265000.0], [3270.0, 1305000.0], [1470.0, 551000.0], [3030.0, 599900.0], [2060.0, 435000.0], [2910.0, 525000.0], [1820.0, 595000.0], [2070.0, 635000.0], [2220.0, 654000.0], [2250.0, 468000.0], [2570.0, 1170000.0], [1300.0, 324500.0], [2590.0, 673000.0], [1410.0, 510000.0], [3280.0, 702000.0], [1820.0, 276000.0], [1200.0, 355000.0], [2425.0, 447500.0], [1790.0, 450000.0], [4230.0, 1465000.0], [1740.0, 302000.0], [3030.0, 590000.0], [1040.0, 619790.0], [3250.0, 463828.0], [2390.0, 380000.0], [2040.0, 435000.0], [3310.0, 555000.0], [2400.0, 675000.0], [2620.0, 597500.0], [2740.0, 1105000.0], [1470.0, 510000.0], [1590.0, 518000.0], [2310.0, 727160.0], [2200.0, 475000.0], [1560.0, 380000.0], [2540.0, 475000.0], [1940.0, 425000.0], [1350.0, 385000.0], [1580.0, 402000.0], [1500.0, 614950.0], [1260.0, 350000.0], [960.0, 205000.0], [2220.0, 475000.0], [1840.0, 467000.0], [1500.0, 332500.0], [1430.0, 465000.0], [810.0, 170000.0], [2300.0, 464000.0], [1300.0, 310000.0], [1270.0, 625504.0], [1760.0, 810000.0], [3690.0, 655000.0], [1610.0, 449950.0], [3420.0, 692500.0], [1650.0, 295000.0], [1010.0, 390000.0], [1050.0, 474000.0], [980.0, 550000.0], [1350.0, 401000.0], [1310.0, 455000.0], [1580.0, 600000.0], [2220.0, 325000.0], [2030.0, 395000.0], [1960.0, 640000.0], [3238.0, 355425.0], [2590.0, 465000.0], [1300.0, 244500.0], [1920.0, 260000.0], [1600.0, 383900.0], [2280.0, 500000.0], [2940.0, 315000.0], [2130.0, 580000.0], [1440.0, 405000.0], [2160.0, 359000.0], [2490.0, 504750.0], [1440.0, 225500.0], [1670.0, 268500.0], [2430.0, 658100.0], [1560.0, 435000.0], [1380.0, 527500.0], [1950.0, 359000.0], [1910.0, 411000.0], [1040.0, 325000.0], [2876.0, 525000.0], [3140.0, 750000.0], [2495.0, 276000.0], [1280.0, 200500.0], [2105.0, 330000.0], [740.0, 299500.0], [3330.0, 1240000.0], [2510.0, 353000.0], [910.0, 225000.0], [2980.0, 825000.0], [1780.0, 473600.0], [2640.0, 850000.0], [3250.0, 967500.0], [2300.0, 612000.0], [2040.0, 580000.0], [2400.0, 420000.0], [1460.0, 189000.0], [2520.0, 535000.0], [800.0, 145000.0], [1050.0, 400000.0], [2420.0, 755000.0], [1280.0, 252500.0], [3020.0, 1900000.0], [3050.0, 909950.0], [1090.0, 267500.0], [1520.0, 447000.0], [2060.0, 624950.0], [1900.0, 562200.0], [1300.0, 236000.0], [2060.0, 294000.0], [2653.0, 365000.0], [670.0, 304950.0], [1540.0, 450000.0], [1600.0, 290000.0], [1260.0, 425000.0], [1350.0, 299999.0], [860.0, 170000.0], [1210.0, 237000.0], [1320.0, 420200.0], [780.0, 289000.0], [2380.0, 835100.0], [1310.0, 150000.0], [2100.0, 610000.0], [2290.0, 625000.0], [1560.0, 262000.0], [1480.0, 355000.0], [1940.0, 375000.0], [2200.0, 216600.0], [4350.0, 1150000.0], [1840.0, 275000.0], [2180.0, 363000.0], [1570.0, 227064.0], [2650.0, 446500.0], [4390.0, 1510000.0], [1700.0, 445000.0], [1760.0, 194000.0], [1650.0, 438000.0], [1310.0, 600000.0], [2040.0, 208633.0], [1830.0, 285000.0], [1100.0, 428750.0], [1760.0, 352950.0], [3010.0, 659950.0], [1010.0, 550700.0], [1250.0, 463000.0], [2780.0, 402500.0], [2310.0, 1110000.0], [1890.0, 311850.0], [1530.0, 164000.0], [4320.0, 1040000.0], [2880.0, 845000.0], [3110.0, 436500.0], [1360.0, 359000.0], [1800.0, 447000.0], [3330.0, 950000.0], [1680.0, 366000.0], [1340.0, 549000.0], [1230.0, 175000.0], [1790.0, 272000.0], [820.0, 260000.0], [1470.0, 420000.0], [1310.0, 306500.0], [3060.0, 826000.0], [1880.0, 520500.0], [2070.0, 400000.0], [1170.0, 457000.0], [1120.0, 615000.0], [2610.0, 780000.0], [1740.0, 800000.0], [1460.0, 240000.0], [1960.0, 260000.0], [1330.0, 375000.0], [1553.0, 412000.0], [1880.0, 562000.0], [1900.0, 285000.0], [1000.0, 610000.0], [2590.0, 300000.0], [5710.0, 930000.0], [2470.0, 445000.0], [1500.0, 235000.0], [3840.0, 829900.0], [2130.0, 780000.0], [1970.0, 580000.0], [2720.0, 560000.0], [2680.0, 379950.0], [560.0, 299000.0], [2160.0, 756000.0], [2010.0, 627800.0], [1460.0, 220650.0], [1770.0, 373000.0], [1770.0, 375000.0], [1840.0, 269500.0], [2980.0, 574000.0], [1290.0, 658000.0], [2280.0, 520000.0], [1530.0, 302000.0], [2070.0, 423700.0], [1470.0, 265953.0], [1470.0, 432500.0], [2070.0, 329950.0], [870.0, 177000.0], [1610.0, 485000.0], [2320.0, 475000.0], [1280.0, 738000.0], [1960.0, 277000.0], [1650.0, 428000.0], [840.0, 528000.0], [1730.0, 320000.0], [3450.0, 380000.0], [2720.0, 873000.0], [1280.0, 520000.0], [2330.0, 690000.0], [4280.0, 1200000.0], [1400.0, 185000.0], [2120.0, 200000.0], [2730.0, 712000.0], [2990.0, 779950.0], [1590.0, 255000.0], [3110.0, 1415000.0], [1310.0, 323000.0], [1510.0, 269950.0], [2330.0, 825000.0], [1930.0, 326000.0], [4510.0, 1815000.0], [1930.0, 670000.0], [1620.0, 345000.0], [2890.0, 502000.0], [2500.0, 705000.0], [2760.0, 495000.0], [2240.0, 475000.0], [1050.0, 420000.0], [1240.0, 525000.0], [1320.0, 260000.0], [1530.0, 583500.0], [1050.0, 521000.0], [1280.0, 240000.0], [900.0, 157340.0], [3110.0, 1500000.0], [2030.0, 365000.0], [1410.0, 272500.0], [1740.0, 257000.0], [6430.0, 4489000.0], [1570.0, 278500.0], [1480.0, 598950.0], [2260.0, 679000.0], [1930.0, 570000.0], [1800.0, 180500.0], [2180.0, 635000.0], [2010.0, 360000.0], [1130.0, 210000.0], [3140.0, 464000.0], [1270.0, 406000.0], [2360.0, 569900.0], [2300.0, 765000.0], [2700.0, 765000.0], [3130.0, 937500.0], [620.0, 175000.0], [1310.0, 219000.0], [2370.0, 543000.0], [4570.0, 1098000.0], [2210.0, 245000.0], [2440.0, 820000.0], [4140.0, 810000.0], [2040.0, 284000.0], [1510.0, 254000.0], [3990.0, 1068000.0], [1180.0, 311000.0], [3780.0, 549950.0], [2680.0, 360000.0], [1240.0, 645000.0], [1200.0, 263700.0], [2490.0, 470000.0], [2390.0, 269950.0], [2670.0, 603000.0], [1640.0, 370000.0], [2270.0, 780000.0], [4330.0, 1700000.0], [2360.0, 525000.0], [2240.0, 363990.0], [3150.0, 1900000.0], [2060.0, 558000.0], [2550.0, 990000.0], [3040.0, 825000.0], [1360.0, 399500.0], [2420.0, 298000.0], [1890.0, 319990.0], [2330.0, 585000.0], [2310.0, 515000.0], [1410.0, 406100.0], [2480.0, 620000.0], [1340.0, 223000.0], [1160.0, 555000.0], [2140.0, 680000.0], [2750.0, 375000.0], [1650.0, 429500.0], [1752.0, 249000.0], [810.0, 299900.0], [1300.0, 295000.0], [1850.0, 260000.0], [1270.0, 256000.0], [1660.0, 700000.0], [1820.0, 532000.0], [1540.0, 565000.0], [2930.0, 460000.0], [1210.0, 299900.0], [2650.0, 665000.0], [2490.0, 292000.0], [1430.0, 412000.0], [2720.0, 365000.0], [3140.0, 585000.0], [1220.0, 317500.0], [3300.0, 725000.0], [1020.0, 245000.0], [1600.0, 435000.0], [2480.0, 415000.0], [1700.0, 378500.0], [2370.0, 495000.0], [2330.0, 257000.0], [1870.0, 270000.0], [2480.0, 468000.0], [1660.0, 315000.0], [1820.0, 261000.0], [3960.0, 1180000.0], [1900.0, 190000.0], [3400.0, 1280000.0], [590.0, 156000.0], [1170.0, 527500.0], [3520.0, 864500.0], [3920.0, 1605000.0], [2020.0, 262000.0], [2500.0, 495000.0], [1800.0, 410000.0], [2760.0, 369950.0], [1300.0, 251000.0], [1850.0, 589000.0], [2880.0, 820000.0], [3230.0, 815000.0], [1470.0, 490000.0], [2480.0, 372500.0], [2270.0, 352750.0], [1615.0, 665000.0], [3030.0, 525000.0], [1190.0, 442000.0], [1010.0, 199950.0], [860.0, 330000.0], [3510.0, 1750000.0], [1790.0, 530000.0], [4410.0, 1095000.0], [700.0, 367000.0], [1930.0, 315000.0], [1920.0, 329950.0], [1760.0, 353500.0], [1540.0, 270000.0], [1300.0, 650000.0], [1320.0, 529000.0], [2300.0, 482000.0], [1330.0, 386000.0], [1960.0, 500000.0], [1830.0, 599950.0], [1160.0, 315500.0], [830.0, 200000.0], [1720.0, 441000.0], [1390.0, 218500.0], [1830.0, 562000.0], [1440.0, 439950.0], [2310.0, 320000.0], [1510.0, 593777.0], [3100.0, 975000.0], [710.0, 285950.0], [2460.0, 305000.0], [2420.0, 665000.0], [1370.0, 280000.0], [2600.0, 805000.0], [3118.0, 541800.0], [910.0, 232900.0], [1530.0, 265000.0], [2700.0, 300000.0], [1660.0, 578000.0], [1700.0, 215000.0], [3240.0, 789500.0], [1730.0, 302200.0], [3770.0, 1020000.0], [1070.0, 259950.0], [2410.0, 1440000.0], [2303.0, 329995.0], [3250.0, 519000.0], [4640.0, 1267500.0], [1960.0, 300000.0], [2870.0, 650000.0], [2340.0, 459950.0], [1400.0, 343000.0], [1460.0, 538000.0], [2170.0, 767250.0], [1650.0, 327500.0], [1210.0, 710000.0], [1820.0, 515000.0], [2400.0, 325000.0], [3190.0, 1340000.0], [2000.0, 286300.0], [1560.0, 465000.0], [960.0, 234000.0], [2490.0, 778983.0], [3200.0, 995000.0], [2970.0, 499500.0], [820.0, 194000.0], [2480.0, 374900.0], [3920.0, 1000000.0], [820.0, 274000.0], [2360.0, 600000.0], [1330.0, 263500.0], [1690.0, 612500.0], [2560.0, 650000.0], [2290.0, 455500.0], [3030.0, 622950.0], [1020.0, 216500.0], [2280.0, 312000.0], [1500.0, 415000.0], [680.0, 179900.0], [1540.0, 690000.0], [1400.0, 357250.0], [990.0, 222500.0], [3430.0, 1202500.0], [3190.0, 814842.0], [2990.0, 1075000.0], [1550.0, 325000.0], [1830.0, 505000.0], [2170.0, 260000.0], [1730.0, 479000.0], [1690.0, 349000.0], [3830.0, 1100000.0], [2580.0, 1099500.0], [2250.0, 549000.0], [1280.0, 195000.0], [890.0, 285000.0], [2750.0, 635000.0], [1650.0, 364000.0], [1400.0, 194000.0], [1260.0, 390000.0], [1320.0, 345000.0], [2290.0, 736000.0], [3110.0, 588000.0], [3690.0, 900000.0], [1010.0, 200000.0], [980.0, 550000.0], [2990.0, 440000.0], [1100.0, 340000.0], [2450.0, 969000.0], [1770.0, 507000.0], [1020.0, 360000.0], [2600.0, 515000.0], [1720.0, 263000.0], [1440.0, 430000.0], [790.0, 189000.0], [1250.0, 344000.0], [1560.0, 292000.0], [3220.0, 359999.0], [2270.0, 624900.0], [1260.0, 452000.0], [2470.0, 470000.0], [1060.0, 400000.0], [1010.0, 500000.0], [2770.0, 1306000.0], [1360.0, 450000.0], [1960.0, 280000.0], [600.0, 130000.0], [1445.0, 355000.0], [1920.0, 781000.0], [2840.0, 784950.0], [3220.0, 534950.0], [2190.0, 432000.0], [998.0, 324000.0], [1870.0, 275000.0], [1380.0, 350000.0], [2750.0, 739000.0], [3060.0, 415000.0], [1080.0, 429000.0], [2910.0, 701000.0], [2500.0, 587500.0], [2120.0, 615000.0], [1230.0, 479000.0], [2640.0, 489950.0], [3120.0, 341500.0], [1320.0, 530000.0], [1640.0, 280000.0], [3610.0, 549900.0], [2520.0, 670000.0], [2420.0, 445000.0], [1780.0, 372000.0], [1370.0, 246900.0], [1030.0, 240000.0], [3180.0, 1000000.0], [1830.0, 550000.0], [3160.0, 965000.0], [3300.0, 789888.0], [880.0, 425000.0], [2100.0, 418800.0], [1960.0, 422500.0], [1010.0, 283700.0], [2440.0, 525000.0], [1130.0, 185000.0], [2170.0, 340000.0], [2520.0, 610000.0], [2080.0, 436000.0], [2620.0, 405000.0], [1780.0, 336000.0], [1970.0, 438000.0], [2030.0, 380000.0], [2510.0, 664000.0], [1430.0, 439000.0], [1210.0, 299950.0], [1630.0, 800000.0], [2180.0, 612000.0], [2630.0, 507950.0], [1270.0, 153000.0], [1050.0, 220000.0], [1080.0, 315000.0], [2760.0, 492500.0], [1440.0, 500000.0], [4220.0, 3300000.0], [2960.0, 385000.0], [2034.0, 549000.0], [1480.0, 500000.0], [1020.0, 231750.0], [940.0, 253905.0], [2490.0, 725000.0], [3180.0, 439000.0], [1910.0, 333000.0], [3520.0, 1500000.0], [890.0, 199990.0], [1720.0, 383000.0], [2200.0, 295000.0], [5550.0, 2350000.0], [1360.0, 225000.0], [2270.0, 287000.0], [2440.0, 550000.0], [4220.0, 1635000.0], [1690.0, 478000.0], [1830.0, 336800.0], [730.0, 378500.0], [1480.0, 285000.0], [790.0, 159100.0], [1520.0, 430000.0], [3650.0, 799900.0], [1630.0, 320000.0], [1260.0, 280000.0], [2150.0, 410000.0], [2290.0, 1065000.0], [2040.0, 495000.0], [1570.0, 414950.0], [1550.0, 405000.0], [1300.0, 819000.0], [1560.0, 515000.0], [2660.0, 452000.0], [1810.0, 450000.0], [810.0, 510000.0], [1620.0, 450000.0], [960.0, 565000.0], [2000.0, 710000.0], [1840.0, 540000.0], [4050.0, 1380000.0], [1100.0, 139000.0], [1480.0, 663000.0], [1210.0, 350000.0], [1470.0, 328000.0], [1260.0, 528000.0], [2740.0, 350000.0], [2950.0, 759000.0], [2680.0, 1160000.0], [600.0, 174000.0], [2290.0, 572500.0], [770.0, 407500.0], [1450.0, 340000.0], [3530.0, 910000.0], [2360.0, 431000.0], [2640.0, 518000.0], [1690.0, 530000.0], [1170.0, 459000.0], [1730.0, 258000.0], [1060.0, 476500.0], [1730.0, 525000.0], [1430.0, 285000.0], [1530.0, 375000.0], [3920.0, 1165000.0], [1450.0, 357500.0], [4150.0, 550000.0], [1640.0, 397000.0], [3930.0, 589000.0], [3300.0, 920000.0], [2380.0, 699800.0], [1320.0, 395000.0], [1280.0, 539000.0], [3110.0, 399950.0], [2960.0, 367000.0], [2630.0, 731688.0], [1560.0, 579000.0], [2050.0, 290000.0], [4180.0, 1255784.0], [770.0, 275000.0], [1590.0, 263000.0], [1500.0, 352500.0], [2060.0, 560000.0], [1400.0, 241500.0], [1100.0, 260000.0], [2610.0, 372000.0], [2180.0, 499900.0], [2380.0, 319000.0], [1570.0, 295000.0], [2900.0, 500000.0], [3488.0, 815000.0], [1340.0, 309500.0], [530.0, 400000.0], [1530.0, 465000.0], [1910.0, 493000.0], [1250.0, 353000.0], [790.0, 375000.0], [2070.0, 450000.0], [2530.0, 299250.0], [1970.0, 262000.0], [2590.0, 530000.0], [790.0, 439000.0], [2260.0, 685000.0], [2350.0, 555000.0], [1700.0, 455000.0], [1440.0, 425000.0], [2500.0, 390000.0], [1150.0, 515000.0], [2350.0, 770000.0], [2520.0, 975000.0], [660.0, 100000.0], [1710.0, 440000.0], [2780.0, 674250.0], [1840.0, 433000.0], [1410.0, 481450.0], [2820.0, 350000.0], [3420.0, 641000.0], [2810.0, 750000.0], [1660.0, 490000.0], [1010.0, 459000.0], [800.0, 404500.0], [1020.0, 337500.0], [2200.0, 1100000.0], [980.0, 260000.0], [3130.0, 500000.0], [1900.0, 579000.0], [2170.0, 359800.0], [910.0, 305000.0], [2770.0, 700000.0], [1810.0, 430000.0], [1510.0, 629000.0], [850.0, 370000.0], [1510.0, 310650.0], [1600.0, 365000.0], [2320.0, 397000.0], [2620.0, 525000.0], [1010.0, 215000.0], [1880.0, 529000.0], [1280.0, 249000.0], [2660.0, 583000.0], [1130.0, 182200.0], [1000.0, 417200.0], [2560.0, 790000.0], [2020.0, 356000.0], [790.0, 198000.0], [1160.0, 345000.0], [2610.0, 659000.0], [2320.0, 299000.0], [1830.0, 312000.0], [2490.0, 1081000.0], [2840.0, 870000.0], [3030.0, 367950.0], [1560.0, 524000.0], [3150.0, 1206505.0], [2880.0, 755000.0], [1570.0, 299950.0], [2080.0, 325000.0], [1730.0, 435000.0], [2490.0, 532500.0], [3330.0, 1095000.0], [1900.0, 550000.0], [1800.0, 580000.0], [4460.0, 1910000.0], [1410.0, 229950.0], [4320.0, 1600000.0], [1800.0, 379900.0], [1200.0, 329000.0], [2420.0, 760000.0], [3060.0, 399000.0], [2320.0, 445000.0], [2180.0, 275000.0], [3870.0, 900000.0], [1670.0, 425000.0], [1860.0, 352500.0], [3130.0, 999000.0], [3200.0, 735000.0], [1920.0, 719521.0], [1310.0, 524000.0], [1040.0, 425000.0], [3810.0, 966000.0], [1420.0, 455000.0], [1980.0, 307700.0], [4120.0, 968933.0], [1680.0, 380000.0], [4400.0, 1800000.0], [1810.0, 515000.0], [1920.0, 571000.0], [2090.0, 400000.0], [1870.0, 377000.0], [5440.0, 850000.0], [3300.0, 785000.0], [1010.0, 180000.0], [3260.0, 800000.0], [3080.0, 1165000.0], [1550.0, 260000.0], [1250.0, 163000.0], [1590.0, 405000.0], [1460.0, 244000.0], [1840.0, 380000.0], [2130.0, 686000.0], [1380.0, 235500.0], [1460.0, 521000.0], [1900.0, 407500.0], [1560.0, 303000.0], [3170.0, 777000.0], [3890.0, 1185000.0], [6640.0, 1820000.0], [1570.0, 792000.0], [2780.0, 475000.0], [1140.0, 200000.0], [1100.0, 241450.0], [1910.0, 275000.0], [2520.0, 765000.0], [1100.0, 249900.0], [2500.0, 1185001.0], [2740.0, 1225000.0], [2440.0, 710000.0], [880.0, 210000.0], [2270.0, 640000.0], [1500.0, 230000.0], [2170.0, 399000.0], [2590.0, 538250.0], [2920.0, 1400000.0], [2600.0, 265000.0], [2344.0, 355000.0], [1360.0, 466950.0], [2040.0, 551000.0], [1320.0, 292000.0], [1540.0, 630000.0], [4510.0, 1870000.0], [1330.0, 360000.0], [2240.0, 654000.0], [1780.0, 399000.0], [1950.0, 530000.0], [1680.0, 274000.0], [1170.0, 335000.0], [1380.0, 563000.0], [1530.0, 410000.0], [1320.0, 526000.0], [2140.0, 236500.0], [1150.0, 285000.0], [1180.0, 450000.0], [580.0, 330600.0], [1870.0, 230000.0], [2020.0, 463000.0], [3950.0, 1420000.0], [3070.0, 1715000.0], [2860.0, 583500.0], [1130.0, 237000.0], [4410.0, 1268888.0], [1320.0, 305000.0], [1320.0, 500000.0], [1800.0, 485000.0], [1440.0, 430000.0], [1050.0, 300000.0], [1650.0, 378000.0], [3440.0, 598992.0], [1420.0, 349950.0], [3180.0, 1000000.0], [1010.0, 202000.0], [3610.0, 1010800.0], [1590.0, 485000.0], [2120.0, 518500.0], [700.0, 282150.0], [2790.0, 589950.0], [850.0, 389000.0], [960.0, 322000.0], [2650.0, 898000.0], [1010.0, 150000.0], [1250.0, 164808.0], [1900.0, 650000.0], [760.0, 300000.0], [2020.0, 490000.0], [1320.0, 350000.0], [1680.0, 485000.0], [820.0, 480000.0], [1650.0, 610000.0], [6370.0, 1800000.0], [1460.0, 699999.0], [2160.0, 383000.0], [1520.0, 210000.0], [2190.0, 808000.0], [1810.0, 513000.0], [1250.0, 511000.0], [2570.0, 1180000.0], [1710.0, 462000.0], [1500.0, 408000.0], [2580.0, 449500.0], [2360.0, 580050.0], [2020.0, 370000.0], [1750.0, 707900.0], [3810.0, 920000.0], [1410.0, 405000.0], [2670.0, 825000.0], [1720.0, 206000.0], [1020.0, 225000.0], [1410.0, 410000.0], [3190.0, 725995.0], [1040.0, 190000.0], [2242.0, 310000.0], [1900.0, 257000.0], [1360.0, 450000.0], [2120.0, 360000.0], [1450.0, 465000.0], [2910.0, 410000.0], [2560.0, 655000.0], [2120.0, 475226.0], [1980.0, 335000.0], [2170.0, 565000.0], [1850.0, 277000.0], [3040.0, 647000.0], [2500.0, 990000.0], [900.0, 350000.0], [2588.0, 335000.0], [850.0, 553500.0], [2060.0, 340000.0], [2320.0, 610000.0]], \"columns\": [{\"dtype\": \"str\", \"name\": \"id\"}, {\"dtype\": \"datetime\", \"name\": \"date\"}, {\"dtype\": \"float\", \"name\": \"price\"}, {\"dtype\": \"float\", \"name\": \"bedrooms\"}, {\"dtype\": \"float\", \"name\": \"bathrooms\"}, {\"dtype\": \"float\", \"name\": \"sqft_living\"}, {\"dtype\": \"float\", \"name\": \"sqft_lot\"}, {\"dtype\": \"float\", \"name\": \"floors\"}, {\"dtype\": \"int\", \"name\": \"waterfront\"}, {\"dtype\": \"int\", \"name\": \"view\"}, {\"dtype\": \"int\", \"name\": \"condition\"}, {\"dtype\": \"float\", \"name\": \"grade\"}, {\"dtype\": \"float\", \"name\": \"sqft_above\"}, {\"dtype\": \"float\", \"name\": \"sqft_basement\"}, {\"dtype\": \"float\", \"name\": \"yr_built\"}, {\"dtype\": \"float\", \"name\": \"yr_renovated\"}, {\"dtype\": \"str\", \"name\": \"zipcode\"}, {\"dtype\": \"float\", \"name\": \"lat\"}, {\"dtype\": \"float\", \"name\": \"long\"}, {\"dtype\": \"float\", \"name\": \"sqft_living15\"}, {\"dtype\": \"float\", \"name\": \"sqft_lot15\"}]}, e);\n",
       "                });\n",
       "            })();\n",
       "        "
      ]
     },
     "metadata": {},
     "output_type": "display_data"
    }
   ],
   "source": [
    "graphlab.canvas.set_target('ipynb')\n",
    "sales.show(view=\"Scatter Plot\", x=\"sqft_living\", y=\"price\")"
   ]
  },
  {
   "cell_type": "markdown",
   "metadata": {},
   "source": [
    "# Create a simple regression model of sqft_living to price"
   ]
  },
  {
   "cell_type": "code",
   "execution_count": 5,
   "metadata": {},
   "outputs": [],
   "source": [
    "train_data,test_data = sales.random_split(.8, seed=0)"
   ]
  },
  {
   "cell_type": "markdown",
   "metadata": {},
   "source": [
    "## Build Regression Model"
   ]
  },
  {
   "cell_type": "code",
   "execution_count": 6,
   "metadata": {},
   "outputs": [
    {
     "name": "stdout",
     "output_type": "stream",
     "text": [
      "PROGRESS: Creating a validation set from 5 percent of training data. This may take a while.\n",
      "          You can set ``validation_set=None`` to disable validation tracking.\n",
      "\n"
     ]
    },
    {
     "data": {
      "text/html": [
       "<pre>Linear regression:</pre>"
      ],
      "text/plain": [
       "Linear regression:"
      ]
     },
     "metadata": {},
     "output_type": "display_data"
    },
    {
     "data": {
      "text/html": [
       "<pre>--------------------------------------------------------</pre>"
      ],
      "text/plain": [
       "--------------------------------------------------------"
      ]
     },
     "metadata": {},
     "output_type": "display_data"
    },
    {
     "data": {
      "text/html": [
       "<pre>Number of examples          : 16498</pre>"
      ],
      "text/plain": [
       "Number of examples          : 16498"
      ]
     },
     "metadata": {},
     "output_type": "display_data"
    },
    {
     "data": {
      "text/html": [
       "<pre>Number of features          : 1</pre>"
      ],
      "text/plain": [
       "Number of features          : 1"
      ]
     },
     "metadata": {},
     "output_type": "display_data"
    },
    {
     "data": {
      "text/html": [
       "<pre>Number of unpacked features : 1</pre>"
      ],
      "text/plain": [
       "Number of unpacked features : 1"
      ]
     },
     "metadata": {},
     "output_type": "display_data"
    },
    {
     "data": {
      "text/html": [
       "<pre>Number of coefficients    : 2</pre>"
      ],
      "text/plain": [
       "Number of coefficients    : 2"
      ]
     },
     "metadata": {},
     "output_type": "display_data"
    },
    {
     "data": {
      "text/html": [
       "<pre>Starting Newton Method</pre>"
      ],
      "text/plain": [
       "Starting Newton Method"
      ]
     },
     "metadata": {},
     "output_type": "display_data"
    },
    {
     "data": {
      "text/html": [
       "<pre>--------------------------------------------------------</pre>"
      ],
      "text/plain": [
       "--------------------------------------------------------"
      ]
     },
     "metadata": {},
     "output_type": "display_data"
    },
    {
     "data": {
      "text/html": [
       "<pre>+-----------+----------+--------------+--------------------+----------------------+---------------+-----------------+</pre>"
      ],
      "text/plain": [
       "+-----------+----------+--------------+--------------------+----------------------+---------------+-----------------+"
      ]
     },
     "metadata": {},
     "output_type": "display_data"
    },
    {
     "data": {
      "text/html": [
       "<pre>| Iteration | Passes   | Elapsed Time | Training-max_error | Validation-max_error | Training-rmse | Validation-rmse |</pre>"
      ],
      "text/plain": [
       "| Iteration | Passes   | Elapsed Time | Training-max_error | Validation-max_error | Training-rmse | Validation-rmse |"
      ]
     },
     "metadata": {},
     "output_type": "display_data"
    },
    {
     "data": {
      "text/html": [
       "<pre>+-----------+----------+--------------+--------------------+----------------------+---------------+-----------------+</pre>"
      ],
      "text/plain": [
       "+-----------+----------+--------------+--------------------+----------------------+---------------+-----------------+"
      ]
     },
     "metadata": {},
     "output_type": "display_data"
    },
    {
     "data": {
      "text/html": [
       "<pre>| 1         | 2        | 1.091323     | 4331079.764532     | 1416927.395826       | 263990.783266 | 242764.788833   |</pre>"
      ],
      "text/plain": [
       "| 1         | 2        | 1.091323     | 4331079.764532     | 1416927.395826       | 263990.783266 | 242764.788833   |"
      ]
     },
     "metadata": {},
     "output_type": "display_data"
    },
    {
     "data": {
      "text/html": [
       "<pre>+-----------+----------+--------------+--------------------+----------------------+---------------+-----------------+</pre>"
      ],
      "text/plain": [
       "+-----------+----------+--------------+--------------------+----------------------+---------------+-----------------+"
      ]
     },
     "metadata": {},
     "output_type": "display_data"
    },
    {
     "data": {
      "text/html": [
       "<pre>SUCCESS: Optimal solution found.</pre>"
      ],
      "text/plain": [
       "SUCCESS: Optimal solution found."
      ]
     },
     "metadata": {},
     "output_type": "display_data"
    },
    {
     "data": {
      "text/html": [
       "<pre></pre>"
      ],
      "text/plain": []
     },
     "metadata": {},
     "output_type": "display_data"
    }
   ],
   "source": [
    "sqft_model = graphlab.linear_regression.create(train_data,target='price',features=['sqft_living'])"
   ]
  },
  {
   "cell_type": "markdown",
   "metadata": {},
   "source": [
    "# Evaluate the simple model"
   ]
  },
  {
   "cell_type": "code",
   "execution_count": 7,
   "metadata": {},
   "outputs": [
    {
     "name": "stdout",
     "output_type": "stream",
     "text": [
      "543054.042563\n"
     ]
    }
   ],
   "source": [
    "print test_data['price'].mean()"
   ]
  },
  {
   "cell_type": "code",
   "execution_count": 8,
   "metadata": {},
   "outputs": [
    {
     "data": {
      "text/plain": [
       "{'max_error': 4128890.344173155, 'rmse': 255222.35246774592}"
      ]
     },
     "execution_count": 8,
     "metadata": {},
     "output_type": "execute_result"
    }
   ],
   "source": [
    "sqft_model.evaluate(test_data)"
   ]
  },
  {
   "cell_type": "markdown",
   "metadata": {},
   "source": [
    "## Let's show what our predictions look like#as the errors were too high"
   ]
  },
  {
   "cell_type": "code",
   "execution_count": 9,
   "metadata": {},
   "outputs": [],
   "source": [
    "import graphlab"
   ]
  },
  {
   "cell_type": "code",
   "execution_count": 10,
   "metadata": {},
   "outputs": [],
   "source": [
    "import graphlab"
   ]
  },
  {
   "cell_type": "code",
   "execution_count": 11,
   "metadata": {},
   "outputs": [],
   "source": [
    "sales = graphlab.SFrame('D:\\home_data.sframe')"
   ]
  },
  {
   "cell_type": "code",
   "execution_count": 11,
   "metadata": {},
   "outputs": [
    {
     "data": {
      "text/html": [
       "<div style=\"max-height:1000px;max-width:1500px;overflow:auto;\"><table frame=\"box\" rules=\"cols\">\n",
       "    <tr>\n",
       "        <th style=\"padding-left: 1em; padding-right: 1em; text-align: center\">id</th>\n",
       "        <th style=\"padding-left: 1em; padding-right: 1em; text-align: center\">date</th>\n",
       "        <th style=\"padding-left: 1em; padding-right: 1em; text-align: center\">price</th>\n",
       "        <th style=\"padding-left: 1em; padding-right: 1em; text-align: center\">bedrooms</th>\n",
       "        <th style=\"padding-left: 1em; padding-right: 1em; text-align: center\">bathrooms</th>\n",
       "        <th style=\"padding-left: 1em; padding-right: 1em; text-align: center\">sqft_living</th>\n",
       "        <th style=\"padding-left: 1em; padding-right: 1em; text-align: center\">sqft_lot</th>\n",
       "        <th style=\"padding-left: 1em; padding-right: 1em; text-align: center\">floors</th>\n",
       "        <th style=\"padding-left: 1em; padding-right: 1em; text-align: center\">waterfront</th>\n",
       "    </tr>\n",
       "    <tr>\n",
       "        <td style=\"padding-left: 1em; padding-right: 1em; text-align: center; vertical-align: top\">7129300520</td>\n",
       "        <td style=\"padding-left: 1em; padding-right: 1em; text-align: center; vertical-align: top\">2014-10-13 00:00:00+00:00</td>\n",
       "        <td style=\"padding-left: 1em; padding-right: 1em; text-align: center; vertical-align: top\">221900.0</td>\n",
       "        <td style=\"padding-left: 1em; padding-right: 1em; text-align: center; vertical-align: top\">3.0</td>\n",
       "        <td style=\"padding-left: 1em; padding-right: 1em; text-align: center; vertical-align: top\">1.0</td>\n",
       "        <td style=\"padding-left: 1em; padding-right: 1em; text-align: center; vertical-align: top\">1180.0</td>\n",
       "        <td style=\"padding-left: 1em; padding-right: 1em; text-align: center; vertical-align: top\">5650.0</td>\n",
       "        <td style=\"padding-left: 1em; padding-right: 1em; text-align: center; vertical-align: top\">1.0</td>\n",
       "        <td style=\"padding-left: 1em; padding-right: 1em; text-align: center; vertical-align: top\">0</td>\n",
       "    </tr>\n",
       "    <tr>\n",
       "        <td style=\"padding-left: 1em; padding-right: 1em; text-align: center; vertical-align: top\">6414100192</td>\n",
       "        <td style=\"padding-left: 1em; padding-right: 1em; text-align: center; vertical-align: top\">2014-12-09 00:00:00+00:00</td>\n",
       "        <td style=\"padding-left: 1em; padding-right: 1em; text-align: center; vertical-align: top\">538000.0</td>\n",
       "        <td style=\"padding-left: 1em; padding-right: 1em; text-align: center; vertical-align: top\">3.0</td>\n",
       "        <td style=\"padding-left: 1em; padding-right: 1em; text-align: center; vertical-align: top\">2.25</td>\n",
       "        <td style=\"padding-left: 1em; padding-right: 1em; text-align: center; vertical-align: top\">2570.0</td>\n",
       "        <td style=\"padding-left: 1em; padding-right: 1em; text-align: center; vertical-align: top\">7242.0</td>\n",
       "        <td style=\"padding-left: 1em; padding-right: 1em; text-align: center; vertical-align: top\">2.0</td>\n",
       "        <td style=\"padding-left: 1em; padding-right: 1em; text-align: center; vertical-align: top\">0</td>\n",
       "    </tr>\n",
       "    <tr>\n",
       "        <td style=\"padding-left: 1em; padding-right: 1em; text-align: center; vertical-align: top\">5631500400</td>\n",
       "        <td style=\"padding-left: 1em; padding-right: 1em; text-align: center; vertical-align: top\">2015-02-25 00:00:00+00:00</td>\n",
       "        <td style=\"padding-left: 1em; padding-right: 1em; text-align: center; vertical-align: top\">180000.0</td>\n",
       "        <td style=\"padding-left: 1em; padding-right: 1em; text-align: center; vertical-align: top\">2.0</td>\n",
       "        <td style=\"padding-left: 1em; padding-right: 1em; text-align: center; vertical-align: top\">1.0</td>\n",
       "        <td style=\"padding-left: 1em; padding-right: 1em; text-align: center; vertical-align: top\">770.0</td>\n",
       "        <td style=\"padding-left: 1em; padding-right: 1em; text-align: center; vertical-align: top\">10000.0</td>\n",
       "        <td style=\"padding-left: 1em; padding-right: 1em; text-align: center; vertical-align: top\">1.0</td>\n",
       "        <td style=\"padding-left: 1em; padding-right: 1em; text-align: center; vertical-align: top\">0</td>\n",
       "    </tr>\n",
       "    <tr>\n",
       "        <td style=\"padding-left: 1em; padding-right: 1em; text-align: center; vertical-align: top\">2487200875</td>\n",
       "        <td style=\"padding-left: 1em; padding-right: 1em; text-align: center; vertical-align: top\">2014-12-09 00:00:00+00:00</td>\n",
       "        <td style=\"padding-left: 1em; padding-right: 1em; text-align: center; vertical-align: top\">604000.0</td>\n",
       "        <td style=\"padding-left: 1em; padding-right: 1em; text-align: center; vertical-align: top\">4.0</td>\n",
       "        <td style=\"padding-left: 1em; padding-right: 1em; text-align: center; vertical-align: top\">3.0</td>\n",
       "        <td style=\"padding-left: 1em; padding-right: 1em; text-align: center; vertical-align: top\">1960.0</td>\n",
       "        <td style=\"padding-left: 1em; padding-right: 1em; text-align: center; vertical-align: top\">5000.0</td>\n",
       "        <td style=\"padding-left: 1em; padding-right: 1em; text-align: center; vertical-align: top\">1.0</td>\n",
       "        <td style=\"padding-left: 1em; padding-right: 1em; text-align: center; vertical-align: top\">0</td>\n",
       "    </tr>\n",
       "    <tr>\n",
       "        <td style=\"padding-left: 1em; padding-right: 1em; text-align: center; vertical-align: top\">1954400510</td>\n",
       "        <td style=\"padding-left: 1em; padding-right: 1em; text-align: center; vertical-align: top\">2015-02-18 00:00:00+00:00</td>\n",
       "        <td style=\"padding-left: 1em; padding-right: 1em; text-align: center; vertical-align: top\">510000.0</td>\n",
       "        <td style=\"padding-left: 1em; padding-right: 1em; text-align: center; vertical-align: top\">3.0</td>\n",
       "        <td style=\"padding-left: 1em; padding-right: 1em; text-align: center; vertical-align: top\">2.0</td>\n",
       "        <td style=\"padding-left: 1em; padding-right: 1em; text-align: center; vertical-align: top\">1680.0</td>\n",
       "        <td style=\"padding-left: 1em; padding-right: 1em; text-align: center; vertical-align: top\">8080.0</td>\n",
       "        <td style=\"padding-left: 1em; padding-right: 1em; text-align: center; vertical-align: top\">1.0</td>\n",
       "        <td style=\"padding-left: 1em; padding-right: 1em; text-align: center; vertical-align: top\">0</td>\n",
       "    </tr>\n",
       "    <tr>\n",
       "        <td style=\"padding-left: 1em; padding-right: 1em; text-align: center; vertical-align: top\">7237550310</td>\n",
       "        <td style=\"padding-left: 1em; padding-right: 1em; text-align: center; vertical-align: top\">2014-05-12 00:00:00+00:00</td>\n",
       "        <td style=\"padding-left: 1em; padding-right: 1em; text-align: center; vertical-align: top\">1225000.0</td>\n",
       "        <td style=\"padding-left: 1em; padding-right: 1em; text-align: center; vertical-align: top\">4.0</td>\n",
       "        <td style=\"padding-left: 1em; padding-right: 1em; text-align: center; vertical-align: top\">4.5</td>\n",
       "        <td style=\"padding-left: 1em; padding-right: 1em; text-align: center; vertical-align: top\">5420.0</td>\n",
       "        <td style=\"padding-left: 1em; padding-right: 1em; text-align: center; vertical-align: top\">101930.0</td>\n",
       "        <td style=\"padding-left: 1em; padding-right: 1em; text-align: center; vertical-align: top\">1.0</td>\n",
       "        <td style=\"padding-left: 1em; padding-right: 1em; text-align: center; vertical-align: top\">0</td>\n",
       "    </tr>\n",
       "    <tr>\n",
       "        <td style=\"padding-left: 1em; padding-right: 1em; text-align: center; vertical-align: top\">1321400060</td>\n",
       "        <td style=\"padding-left: 1em; padding-right: 1em; text-align: center; vertical-align: top\">2014-06-27 00:00:00+00:00</td>\n",
       "        <td style=\"padding-left: 1em; padding-right: 1em; text-align: center; vertical-align: top\">257500.0</td>\n",
       "        <td style=\"padding-left: 1em; padding-right: 1em; text-align: center; vertical-align: top\">3.0</td>\n",
       "        <td style=\"padding-left: 1em; padding-right: 1em; text-align: center; vertical-align: top\">2.25</td>\n",
       "        <td style=\"padding-left: 1em; padding-right: 1em; text-align: center; vertical-align: top\">1715.0</td>\n",
       "        <td style=\"padding-left: 1em; padding-right: 1em; text-align: center; vertical-align: top\">6819.0</td>\n",
       "        <td style=\"padding-left: 1em; padding-right: 1em; text-align: center; vertical-align: top\">2.0</td>\n",
       "        <td style=\"padding-left: 1em; padding-right: 1em; text-align: center; vertical-align: top\">0</td>\n",
       "    </tr>\n",
       "    <tr>\n",
       "        <td style=\"padding-left: 1em; padding-right: 1em; text-align: center; vertical-align: top\">2008000270</td>\n",
       "        <td style=\"padding-left: 1em; padding-right: 1em; text-align: center; vertical-align: top\">2015-01-15 00:00:00+00:00</td>\n",
       "        <td style=\"padding-left: 1em; padding-right: 1em; text-align: center; vertical-align: top\">291850.0</td>\n",
       "        <td style=\"padding-left: 1em; padding-right: 1em; text-align: center; vertical-align: top\">3.0</td>\n",
       "        <td style=\"padding-left: 1em; padding-right: 1em; text-align: center; vertical-align: top\">1.5</td>\n",
       "        <td style=\"padding-left: 1em; padding-right: 1em; text-align: center; vertical-align: top\">1060.0</td>\n",
       "        <td style=\"padding-left: 1em; padding-right: 1em; text-align: center; vertical-align: top\">9711.0</td>\n",
       "        <td style=\"padding-left: 1em; padding-right: 1em; text-align: center; vertical-align: top\">1.0</td>\n",
       "        <td style=\"padding-left: 1em; padding-right: 1em; text-align: center; vertical-align: top\">0</td>\n",
       "    </tr>\n",
       "    <tr>\n",
       "        <td style=\"padding-left: 1em; padding-right: 1em; text-align: center; vertical-align: top\">2414600126</td>\n",
       "        <td style=\"padding-left: 1em; padding-right: 1em; text-align: center; vertical-align: top\">2015-04-15 00:00:00+00:00</td>\n",
       "        <td style=\"padding-left: 1em; padding-right: 1em; text-align: center; vertical-align: top\">229500.0</td>\n",
       "        <td style=\"padding-left: 1em; padding-right: 1em; text-align: center; vertical-align: top\">3.0</td>\n",
       "        <td style=\"padding-left: 1em; padding-right: 1em; text-align: center; vertical-align: top\">1.0</td>\n",
       "        <td style=\"padding-left: 1em; padding-right: 1em; text-align: center; vertical-align: top\">1780.0</td>\n",
       "        <td style=\"padding-left: 1em; padding-right: 1em; text-align: center; vertical-align: top\">7470.0</td>\n",
       "        <td style=\"padding-left: 1em; padding-right: 1em; text-align: center; vertical-align: top\">1.0</td>\n",
       "        <td style=\"padding-left: 1em; padding-right: 1em; text-align: center; vertical-align: top\">0</td>\n",
       "    </tr>\n",
       "    <tr>\n",
       "        <td style=\"padding-left: 1em; padding-right: 1em; text-align: center; vertical-align: top\">3793500160</td>\n",
       "        <td style=\"padding-left: 1em; padding-right: 1em; text-align: center; vertical-align: top\">2015-03-12 00:00:00+00:00</td>\n",
       "        <td style=\"padding-left: 1em; padding-right: 1em; text-align: center; vertical-align: top\">323000.0</td>\n",
       "        <td style=\"padding-left: 1em; padding-right: 1em; text-align: center; vertical-align: top\">3.0</td>\n",
       "        <td style=\"padding-left: 1em; padding-right: 1em; text-align: center; vertical-align: top\">2.5</td>\n",
       "        <td style=\"padding-left: 1em; padding-right: 1em; text-align: center; vertical-align: top\">1890.0</td>\n",
       "        <td style=\"padding-left: 1em; padding-right: 1em; text-align: center; vertical-align: top\">6560.0</td>\n",
       "        <td style=\"padding-left: 1em; padding-right: 1em; text-align: center; vertical-align: top\">2.0</td>\n",
       "        <td style=\"padding-left: 1em; padding-right: 1em; text-align: center; vertical-align: top\">0</td>\n",
       "    </tr>\n",
       "</table>\n",
       "<table frame=\"box\" rules=\"cols\">\n",
       "    <tr>\n",
       "        <th style=\"padding-left: 1em; padding-right: 1em; text-align: center\">view</th>\n",
       "        <th style=\"padding-left: 1em; padding-right: 1em; text-align: center\">condition</th>\n",
       "        <th style=\"padding-left: 1em; padding-right: 1em; text-align: center\">grade</th>\n",
       "        <th style=\"padding-left: 1em; padding-right: 1em; text-align: center\">sqft_above</th>\n",
       "        <th style=\"padding-left: 1em; padding-right: 1em; text-align: center\">sqft_basement</th>\n",
       "        <th style=\"padding-left: 1em; padding-right: 1em; text-align: center\">yr_built</th>\n",
       "        <th style=\"padding-left: 1em; padding-right: 1em; text-align: center\">yr_renovated</th>\n",
       "        <th style=\"padding-left: 1em; padding-right: 1em; text-align: center\">zipcode</th>\n",
       "        <th style=\"padding-left: 1em; padding-right: 1em; text-align: center\">lat</th>\n",
       "    </tr>\n",
       "    <tr>\n",
       "        <td style=\"padding-left: 1em; padding-right: 1em; text-align: center; vertical-align: top\">0</td>\n",
       "        <td style=\"padding-left: 1em; padding-right: 1em; text-align: center; vertical-align: top\">3</td>\n",
       "        <td style=\"padding-left: 1em; padding-right: 1em; text-align: center; vertical-align: top\">7.0</td>\n",
       "        <td style=\"padding-left: 1em; padding-right: 1em; text-align: center; vertical-align: top\">1180.0</td>\n",
       "        <td style=\"padding-left: 1em; padding-right: 1em; text-align: center; vertical-align: top\">0.0</td>\n",
       "        <td style=\"padding-left: 1em; padding-right: 1em; text-align: center; vertical-align: top\">1955.0</td>\n",
       "        <td style=\"padding-left: 1em; padding-right: 1em; text-align: center; vertical-align: top\">0.0</td>\n",
       "        <td style=\"padding-left: 1em; padding-right: 1em; text-align: center; vertical-align: top\">98178</td>\n",
       "        <td style=\"padding-left: 1em; padding-right: 1em; text-align: center; vertical-align: top\">47.51123398</td>\n",
       "    </tr>\n",
       "    <tr>\n",
       "        <td style=\"padding-left: 1em; padding-right: 1em; text-align: center; vertical-align: top\">0</td>\n",
       "        <td style=\"padding-left: 1em; padding-right: 1em; text-align: center; vertical-align: top\">3</td>\n",
       "        <td style=\"padding-left: 1em; padding-right: 1em; text-align: center; vertical-align: top\">7.0</td>\n",
       "        <td style=\"padding-left: 1em; padding-right: 1em; text-align: center; vertical-align: top\">2170.0</td>\n",
       "        <td style=\"padding-left: 1em; padding-right: 1em; text-align: center; vertical-align: top\">400.0</td>\n",
       "        <td style=\"padding-left: 1em; padding-right: 1em; text-align: center; vertical-align: top\">1951.0</td>\n",
       "        <td style=\"padding-left: 1em; padding-right: 1em; text-align: center; vertical-align: top\">1991.0</td>\n",
       "        <td style=\"padding-left: 1em; padding-right: 1em; text-align: center; vertical-align: top\">98125</td>\n",
       "        <td style=\"padding-left: 1em; padding-right: 1em; text-align: center; vertical-align: top\">47.72102274</td>\n",
       "    </tr>\n",
       "    <tr>\n",
       "        <td style=\"padding-left: 1em; padding-right: 1em; text-align: center; vertical-align: top\">0</td>\n",
       "        <td style=\"padding-left: 1em; padding-right: 1em; text-align: center; vertical-align: top\">3</td>\n",
       "        <td style=\"padding-left: 1em; padding-right: 1em; text-align: center; vertical-align: top\">6.0</td>\n",
       "        <td style=\"padding-left: 1em; padding-right: 1em; text-align: center; vertical-align: top\">770.0</td>\n",
       "        <td style=\"padding-left: 1em; padding-right: 1em; text-align: center; vertical-align: top\">0.0</td>\n",
       "        <td style=\"padding-left: 1em; padding-right: 1em; text-align: center; vertical-align: top\">1933.0</td>\n",
       "        <td style=\"padding-left: 1em; padding-right: 1em; text-align: center; vertical-align: top\">0.0</td>\n",
       "        <td style=\"padding-left: 1em; padding-right: 1em; text-align: center; vertical-align: top\">98028</td>\n",
       "        <td style=\"padding-left: 1em; padding-right: 1em; text-align: center; vertical-align: top\">47.73792661</td>\n",
       "    </tr>\n",
       "    <tr>\n",
       "        <td style=\"padding-left: 1em; padding-right: 1em; text-align: center; vertical-align: top\">0</td>\n",
       "        <td style=\"padding-left: 1em; padding-right: 1em; text-align: center; vertical-align: top\">5</td>\n",
       "        <td style=\"padding-left: 1em; padding-right: 1em; text-align: center; vertical-align: top\">7.0</td>\n",
       "        <td style=\"padding-left: 1em; padding-right: 1em; text-align: center; vertical-align: top\">1050.0</td>\n",
       "        <td style=\"padding-left: 1em; padding-right: 1em; text-align: center; vertical-align: top\">910.0</td>\n",
       "        <td style=\"padding-left: 1em; padding-right: 1em; text-align: center; vertical-align: top\">1965.0</td>\n",
       "        <td style=\"padding-left: 1em; padding-right: 1em; text-align: center; vertical-align: top\">0.0</td>\n",
       "        <td style=\"padding-left: 1em; padding-right: 1em; text-align: center; vertical-align: top\">98136</td>\n",
       "        <td style=\"padding-left: 1em; padding-right: 1em; text-align: center; vertical-align: top\">47.52082</td>\n",
       "    </tr>\n",
       "    <tr>\n",
       "        <td style=\"padding-left: 1em; padding-right: 1em; text-align: center; vertical-align: top\">0</td>\n",
       "        <td style=\"padding-left: 1em; padding-right: 1em; text-align: center; vertical-align: top\">3</td>\n",
       "        <td style=\"padding-left: 1em; padding-right: 1em; text-align: center; vertical-align: top\">8.0</td>\n",
       "        <td style=\"padding-left: 1em; padding-right: 1em; text-align: center; vertical-align: top\">1680.0</td>\n",
       "        <td style=\"padding-left: 1em; padding-right: 1em; text-align: center; vertical-align: top\">0.0</td>\n",
       "        <td style=\"padding-left: 1em; padding-right: 1em; text-align: center; vertical-align: top\">1987.0</td>\n",
       "        <td style=\"padding-left: 1em; padding-right: 1em; text-align: center; vertical-align: top\">0.0</td>\n",
       "        <td style=\"padding-left: 1em; padding-right: 1em; text-align: center; vertical-align: top\">98074</td>\n",
       "        <td style=\"padding-left: 1em; padding-right: 1em; text-align: center; vertical-align: top\">47.61681228</td>\n",
       "    </tr>\n",
       "    <tr>\n",
       "        <td style=\"padding-left: 1em; padding-right: 1em; text-align: center; vertical-align: top\">0</td>\n",
       "        <td style=\"padding-left: 1em; padding-right: 1em; text-align: center; vertical-align: top\">3</td>\n",
       "        <td style=\"padding-left: 1em; padding-right: 1em; text-align: center; vertical-align: top\">11.0</td>\n",
       "        <td style=\"padding-left: 1em; padding-right: 1em; text-align: center; vertical-align: top\">3890.0</td>\n",
       "        <td style=\"padding-left: 1em; padding-right: 1em; text-align: center; vertical-align: top\">1530.0</td>\n",
       "        <td style=\"padding-left: 1em; padding-right: 1em; text-align: center; vertical-align: top\">2001.0</td>\n",
       "        <td style=\"padding-left: 1em; padding-right: 1em; text-align: center; vertical-align: top\">0.0</td>\n",
       "        <td style=\"padding-left: 1em; padding-right: 1em; text-align: center; vertical-align: top\">98053</td>\n",
       "        <td style=\"padding-left: 1em; padding-right: 1em; text-align: center; vertical-align: top\">47.65611835</td>\n",
       "    </tr>\n",
       "    <tr>\n",
       "        <td style=\"padding-left: 1em; padding-right: 1em; text-align: center; vertical-align: top\">0</td>\n",
       "        <td style=\"padding-left: 1em; padding-right: 1em; text-align: center; vertical-align: top\">3</td>\n",
       "        <td style=\"padding-left: 1em; padding-right: 1em; text-align: center; vertical-align: top\">7.0</td>\n",
       "        <td style=\"padding-left: 1em; padding-right: 1em; text-align: center; vertical-align: top\">1715.0</td>\n",
       "        <td style=\"padding-left: 1em; padding-right: 1em; text-align: center; vertical-align: top\">0.0</td>\n",
       "        <td style=\"padding-left: 1em; padding-right: 1em; text-align: center; vertical-align: top\">1995.0</td>\n",
       "        <td style=\"padding-left: 1em; padding-right: 1em; text-align: center; vertical-align: top\">0.0</td>\n",
       "        <td style=\"padding-left: 1em; padding-right: 1em; text-align: center; vertical-align: top\">98003</td>\n",
       "        <td style=\"padding-left: 1em; padding-right: 1em; text-align: center; vertical-align: top\">47.30972002</td>\n",
       "    </tr>\n",
       "    <tr>\n",
       "        <td style=\"padding-left: 1em; padding-right: 1em; text-align: center; vertical-align: top\">0</td>\n",
       "        <td style=\"padding-left: 1em; padding-right: 1em; text-align: center; vertical-align: top\">3</td>\n",
       "        <td style=\"padding-left: 1em; padding-right: 1em; text-align: center; vertical-align: top\">7.0</td>\n",
       "        <td style=\"padding-left: 1em; padding-right: 1em; text-align: center; vertical-align: top\">1060.0</td>\n",
       "        <td style=\"padding-left: 1em; padding-right: 1em; text-align: center; vertical-align: top\">0.0</td>\n",
       "        <td style=\"padding-left: 1em; padding-right: 1em; text-align: center; vertical-align: top\">1963.0</td>\n",
       "        <td style=\"padding-left: 1em; padding-right: 1em; text-align: center; vertical-align: top\">0.0</td>\n",
       "        <td style=\"padding-left: 1em; padding-right: 1em; text-align: center; vertical-align: top\">98198</td>\n",
       "        <td style=\"padding-left: 1em; padding-right: 1em; text-align: center; vertical-align: top\">47.40949984</td>\n",
       "    </tr>\n",
       "    <tr>\n",
       "        <td style=\"padding-left: 1em; padding-right: 1em; text-align: center; vertical-align: top\">0</td>\n",
       "        <td style=\"padding-left: 1em; padding-right: 1em; text-align: center; vertical-align: top\">3</td>\n",
       "        <td style=\"padding-left: 1em; padding-right: 1em; text-align: center; vertical-align: top\">7.0</td>\n",
       "        <td style=\"padding-left: 1em; padding-right: 1em; text-align: center; vertical-align: top\">1050.0</td>\n",
       "        <td style=\"padding-left: 1em; padding-right: 1em; text-align: center; vertical-align: top\">730.0</td>\n",
       "        <td style=\"padding-left: 1em; padding-right: 1em; text-align: center; vertical-align: top\">1960.0</td>\n",
       "        <td style=\"padding-left: 1em; padding-right: 1em; text-align: center; vertical-align: top\">0.0</td>\n",
       "        <td style=\"padding-left: 1em; padding-right: 1em; text-align: center; vertical-align: top\">98146</td>\n",
       "        <td style=\"padding-left: 1em; padding-right: 1em; text-align: center; vertical-align: top\">47.51229381</td>\n",
       "    </tr>\n",
       "    <tr>\n",
       "        <td style=\"padding-left: 1em; padding-right: 1em; text-align: center; vertical-align: top\">0</td>\n",
       "        <td style=\"padding-left: 1em; padding-right: 1em; text-align: center; vertical-align: top\">3</td>\n",
       "        <td style=\"padding-left: 1em; padding-right: 1em; text-align: center; vertical-align: top\">7.0</td>\n",
       "        <td style=\"padding-left: 1em; padding-right: 1em; text-align: center; vertical-align: top\">1890.0</td>\n",
       "        <td style=\"padding-left: 1em; padding-right: 1em; text-align: center; vertical-align: top\">0.0</td>\n",
       "        <td style=\"padding-left: 1em; padding-right: 1em; text-align: center; vertical-align: top\">2003.0</td>\n",
       "        <td style=\"padding-left: 1em; padding-right: 1em; text-align: center; vertical-align: top\">0.0</td>\n",
       "        <td style=\"padding-left: 1em; padding-right: 1em; text-align: center; vertical-align: top\">98038</td>\n",
       "        <td style=\"padding-left: 1em; padding-right: 1em; text-align: center; vertical-align: top\">47.36840673</td>\n",
       "    </tr>\n",
       "</table>\n",
       "<table frame=\"box\" rules=\"cols\">\n",
       "    <tr>\n",
       "        <th style=\"padding-left: 1em; padding-right: 1em; text-align: center\">long</th>\n",
       "        <th style=\"padding-left: 1em; padding-right: 1em; text-align: center\">sqft_living15</th>\n",
       "        <th style=\"padding-left: 1em; padding-right: 1em; text-align: center\">sqft_lot15</th>\n",
       "    </tr>\n",
       "    <tr>\n",
       "        <td style=\"padding-left: 1em; padding-right: 1em; text-align: center; vertical-align: top\">-122.25677536</td>\n",
       "        <td style=\"padding-left: 1em; padding-right: 1em; text-align: center; vertical-align: top\">1340.0</td>\n",
       "        <td style=\"padding-left: 1em; padding-right: 1em; text-align: center; vertical-align: top\">5650.0</td>\n",
       "    </tr>\n",
       "    <tr>\n",
       "        <td style=\"padding-left: 1em; padding-right: 1em; text-align: center; vertical-align: top\">-122.3188624</td>\n",
       "        <td style=\"padding-left: 1em; padding-right: 1em; text-align: center; vertical-align: top\">1690.0</td>\n",
       "        <td style=\"padding-left: 1em; padding-right: 1em; text-align: center; vertical-align: top\">7639.0</td>\n",
       "    </tr>\n",
       "    <tr>\n",
       "        <td style=\"padding-left: 1em; padding-right: 1em; text-align: center; vertical-align: top\">-122.23319601</td>\n",
       "        <td style=\"padding-left: 1em; padding-right: 1em; text-align: center; vertical-align: top\">2720.0</td>\n",
       "        <td style=\"padding-left: 1em; padding-right: 1em; text-align: center; vertical-align: top\">8062.0</td>\n",
       "    </tr>\n",
       "    <tr>\n",
       "        <td style=\"padding-left: 1em; padding-right: 1em; text-align: center; vertical-align: top\">-122.39318505</td>\n",
       "        <td style=\"padding-left: 1em; padding-right: 1em; text-align: center; vertical-align: top\">1360.0</td>\n",
       "        <td style=\"padding-left: 1em; padding-right: 1em; text-align: center; vertical-align: top\">5000.0</td>\n",
       "    </tr>\n",
       "    <tr>\n",
       "        <td style=\"padding-left: 1em; padding-right: 1em; text-align: center; vertical-align: top\">-122.04490059</td>\n",
       "        <td style=\"padding-left: 1em; padding-right: 1em; text-align: center; vertical-align: top\">1800.0</td>\n",
       "        <td style=\"padding-left: 1em; padding-right: 1em; text-align: center; vertical-align: top\">7503.0</td>\n",
       "    </tr>\n",
       "    <tr>\n",
       "        <td style=\"padding-left: 1em; padding-right: 1em; text-align: center; vertical-align: top\">-122.00528655</td>\n",
       "        <td style=\"padding-left: 1em; padding-right: 1em; text-align: center; vertical-align: top\">4760.0</td>\n",
       "        <td style=\"padding-left: 1em; padding-right: 1em; text-align: center; vertical-align: top\">101930.0</td>\n",
       "    </tr>\n",
       "    <tr>\n",
       "        <td style=\"padding-left: 1em; padding-right: 1em; text-align: center; vertical-align: top\">-122.32704857</td>\n",
       "        <td style=\"padding-left: 1em; padding-right: 1em; text-align: center; vertical-align: top\">2238.0</td>\n",
       "        <td style=\"padding-left: 1em; padding-right: 1em; text-align: center; vertical-align: top\">6819.0</td>\n",
       "    </tr>\n",
       "    <tr>\n",
       "        <td style=\"padding-left: 1em; padding-right: 1em; text-align: center; vertical-align: top\">-122.31457273</td>\n",
       "        <td style=\"padding-left: 1em; padding-right: 1em; text-align: center; vertical-align: top\">1650.0</td>\n",
       "        <td style=\"padding-left: 1em; padding-right: 1em; text-align: center; vertical-align: top\">9711.0</td>\n",
       "    </tr>\n",
       "    <tr>\n",
       "        <td style=\"padding-left: 1em; padding-right: 1em; text-align: center; vertical-align: top\">-122.33659507</td>\n",
       "        <td style=\"padding-left: 1em; padding-right: 1em; text-align: center; vertical-align: top\">1780.0</td>\n",
       "        <td style=\"padding-left: 1em; padding-right: 1em; text-align: center; vertical-align: top\">8113.0</td>\n",
       "    </tr>\n",
       "    <tr>\n",
       "        <td style=\"padding-left: 1em; padding-right: 1em; text-align: center; vertical-align: top\">-122.0308176</td>\n",
       "        <td style=\"padding-left: 1em; padding-right: 1em; text-align: center; vertical-align: top\">2390.0</td>\n",
       "        <td style=\"padding-left: 1em; padding-right: 1em; text-align: center; vertical-align: top\">7570.0</td>\n",
       "    </tr>\n",
       "</table>\n",
       "[21613 rows x 21 columns]<br/>Note: Only the head of the SFrame is printed.<br/>You can use print_rows(num_rows=m, num_columns=n) to print more rows and columns.\n",
       "</div>"
      ],
      "text/plain": [
       "Columns:\n",
       "\tid\tstr\n",
       "\tdate\tdatetime\n",
       "\tprice\tfloat\n",
       "\tbedrooms\tfloat\n",
       "\tbathrooms\tfloat\n",
       "\tsqft_living\tfloat\n",
       "\tsqft_lot\tfloat\n",
       "\tfloors\tfloat\n",
       "\twaterfront\tint\n",
       "\tview\tint\n",
       "\tcondition\tint\n",
       "\tgrade\tfloat\n",
       "\tsqft_above\tfloat\n",
       "\tsqft_basement\tfloat\n",
       "\tyr_built\tfloat\n",
       "\tyr_renovated\tfloat\n",
       "\tzipcode\tstr\n",
       "\tlat\tfloat\n",
       "\tlong\tfloat\n",
       "\tsqft_living15\tfloat\n",
       "\tsqft_lot15\tfloat\n",
       "\n",
       "Rows: 21613\n",
       "\n",
       "Data:\n",
       "+------------+---------------------------+-----------+----------+-----------+\n",
       "|     id     |            date           |   price   | bedrooms | bathrooms |\n",
       "+------------+---------------------------+-----------+----------+-----------+\n",
       "| 7129300520 | 2014-10-13 00:00:00+00:00 |  221900.0 |   3.0    |    1.0    |\n",
       "| 6414100192 | 2014-12-09 00:00:00+00:00 |  538000.0 |   3.0    |    2.25   |\n",
       "| 5631500400 | 2015-02-25 00:00:00+00:00 |  180000.0 |   2.0    |    1.0    |\n",
       "| 2487200875 | 2014-12-09 00:00:00+00:00 |  604000.0 |   4.0    |    3.0    |\n",
       "| 1954400510 | 2015-02-18 00:00:00+00:00 |  510000.0 |   3.0    |    2.0    |\n",
       "| 7237550310 | 2014-05-12 00:00:00+00:00 | 1225000.0 |   4.0    |    4.5    |\n",
       "| 1321400060 | 2014-06-27 00:00:00+00:00 |  257500.0 |   3.0    |    2.25   |\n",
       "| 2008000270 | 2015-01-15 00:00:00+00:00 |  291850.0 |   3.0    |    1.5    |\n",
       "| 2414600126 | 2015-04-15 00:00:00+00:00 |  229500.0 |   3.0    |    1.0    |\n",
       "| 3793500160 | 2015-03-12 00:00:00+00:00 |  323000.0 |   3.0    |    2.5    |\n",
       "+------------+---------------------------+-----------+----------+-----------+\n",
       "+-------------+----------+--------+------------+------+-----------+-------+\n",
       "| sqft_living | sqft_lot | floors | waterfront | view | condition | grade |\n",
       "+-------------+----------+--------+------------+------+-----------+-------+\n",
       "|    1180.0   |  5650.0  |  1.0   |     0      |  0   |     3     |  7.0  |\n",
       "|    2570.0   |  7242.0  |  2.0   |     0      |  0   |     3     |  7.0  |\n",
       "|    770.0    | 10000.0  |  1.0   |     0      |  0   |     3     |  6.0  |\n",
       "|    1960.0   |  5000.0  |  1.0   |     0      |  0   |     5     |  7.0  |\n",
       "|    1680.0   |  8080.0  |  1.0   |     0      |  0   |     3     |  8.0  |\n",
       "|    5420.0   | 101930.0 |  1.0   |     0      |  0   |     3     |  11.0 |\n",
       "|    1715.0   |  6819.0  |  2.0   |     0      |  0   |     3     |  7.0  |\n",
       "|    1060.0   |  9711.0  |  1.0   |     0      |  0   |     3     |  7.0  |\n",
       "|    1780.0   |  7470.0  |  1.0   |     0      |  0   |     3     |  7.0  |\n",
       "|    1890.0   |  6560.0  |  2.0   |     0      |  0   |     3     |  7.0  |\n",
       "+-------------+----------+--------+------------+------+-----------+-------+\n",
       "+------------+---------------+----------+--------------+---------+-------------+\n",
       "| sqft_above | sqft_basement | yr_built | yr_renovated | zipcode |     lat     |\n",
       "+------------+---------------+----------+--------------+---------+-------------+\n",
       "|   1180.0   |      0.0      |  1955.0  |     0.0      |  98178  | 47.51123398 |\n",
       "|   2170.0   |     400.0     |  1951.0  |    1991.0    |  98125  | 47.72102274 |\n",
       "|   770.0    |      0.0      |  1933.0  |     0.0      |  98028  | 47.73792661 |\n",
       "|   1050.0   |     910.0     |  1965.0  |     0.0      |  98136  |   47.52082  |\n",
       "|   1680.0   |      0.0      |  1987.0  |     0.0      |  98074  | 47.61681228 |\n",
       "|   3890.0   |     1530.0    |  2001.0  |     0.0      |  98053  | 47.65611835 |\n",
       "|   1715.0   |      0.0      |  1995.0  |     0.0      |  98003  | 47.30972002 |\n",
       "|   1060.0   |      0.0      |  1963.0  |     0.0      |  98198  | 47.40949984 |\n",
       "|   1050.0   |     730.0     |  1960.0  |     0.0      |  98146  | 47.51229381 |\n",
       "|   1890.0   |      0.0      |  2003.0  |     0.0      |  98038  | 47.36840673 |\n",
       "+------------+---------------+----------+--------------+---------+-------------+\n",
       "+---------------+---------------+-----+\n",
       "|      long     | sqft_living15 | ... |\n",
       "+---------------+---------------+-----+\n",
       "| -122.25677536 |     1340.0    | ... |\n",
       "|  -122.3188624 |     1690.0    | ... |\n",
       "| -122.23319601 |     2720.0    | ... |\n",
       "| -122.39318505 |     1360.0    | ... |\n",
       "| -122.04490059 |     1800.0    | ... |\n",
       "| -122.00528655 |     4760.0    | ... |\n",
       "| -122.32704857 |     2238.0    | ... |\n",
       "| -122.31457273 |     1650.0    | ... |\n",
       "| -122.33659507 |     1780.0    | ... |\n",
       "|  -122.0308176 |     2390.0    | ... |\n",
       "+---------------+---------------+-----+\n",
       "[21613 rows x 21 columns]\n",
       "Note: Only the head of the SFrame is printed.\n",
       "You can use print_rows(num_rows=m, num_columns=n) to print more rows and columns."
      ]
     },
     "execution_count": 11,
     "metadata": {},
     "output_type": "execute_result"
    }
   ],
   "source": [
    "sales"
   ]
  },
  {
   "cell_type": "code",
   "execution_count": 46,
   "metadata": {},
   "outputs": [
    {
     "data": {
      "application/javascript": [
       "$(\"head\").append($(\"<link/>\").attr({\n",
       "  rel:  \"stylesheet\",\n",
       "  type: \"text/css\",\n",
       "  href: \"//cdnjs.cloudflare.com/ajax/libs/font-awesome/4.1.0/css/font-awesome.min.css\"\n",
       "}));\n",
       "$(\"head\").append($(\"<link/>\").attr({\n",
       "  rel:  \"stylesheet\",\n",
       "  type: \"text/css\",\n",
       "  href: \"https://static.turi.com/products/graphlab-create/2.1/canvas/css/canvas.css\"\n",
       "}));\n",
       "\n",
       "            (function(){\n",
       "\n",
       "                var e = null;\n",
       "                if (typeof element == 'undefined') {\n",
       "                    var scripts = document.getElementsByTagName('script');\n",
       "                    var thisScriptTag = scripts[scripts.length-1];\n",
       "                    var parentDiv = thisScriptTag.parentNode;\n",
       "                    e = document.createElement('div');\n",
       "                    parentDiv.appendChild(e);\n",
       "                } else {\n",
       "                    e = element[0];\n",
       "                }\n",
       "\n",
       "                if (typeof requirejs !== 'undefined') {\n",
       "                    // disable load timeout; ipython_app.js is large and can take a while to load.\n",
       "                    requirejs.config({waitSeconds: 0});\n",
       "                }\n",
       "\n",
       "                require(['https://static.turi.com/products/graphlab-create/2.1/canvas/js/ipython_app.js'], function(IPythonApp){\n",
       "                    var app = new IPythonApp();\n",
       "                    app.attachView('sframe','Plots', {\"selected_variable\": {\"name\": [\"sales\"], \"descriptives\": {\"rows\": 21613, \"columns\": 21}, \"view_component\": \"Plots\", \"view_file\": \"sframe\", \"view_params\": {\"y\": \"price\", \"x\": \"sqft_living\", \"columns\": [\"id\", \"date\", \"price\", \"bedrooms\", \"bathrooms\", \"sqft_living\", \"sqft_lot\", \"floors\", \"waterfront\", \"view\", \"condition\", \"grade\", \"sqft_above\", \"sqft_basement\", \"yr_built\", \"yr_renovated\", \"zipcode\", \"lat\", \"long\", \"sqft_living15\", \"sqft_lot15\"], \"view\": \"Scatter Plot\"}, \"view_components\": [\"Summary\", \"Table\", \"Bar Chart\", \"BoxWhisker Plot\", \"Line Chart\", \"Scatter Plot\", \"Heat Map\", \"Plots\"], \"type\": \"SFrame\", \"columns\": [{\"dtype\": \"str\", \"name\": \"id\"}, {\"dtype\": \"datetime\", \"name\": \"date\"}, {\"dtype\": \"float\", \"name\": \"price\"}, {\"dtype\": \"float\", \"name\": \"bedrooms\"}, {\"dtype\": \"float\", \"name\": \"bathrooms\"}, {\"dtype\": \"float\", \"name\": \"sqft_living\"}, {\"dtype\": \"float\", \"name\": \"sqft_lot\"}, {\"dtype\": \"float\", \"name\": \"floors\"}, {\"dtype\": \"int\", \"name\": \"waterfront\"}, {\"dtype\": \"int\", \"name\": \"view\"}, {\"dtype\": \"int\", \"name\": \"condition\"}, {\"dtype\": \"float\", \"name\": \"grade\"}, {\"dtype\": \"float\", \"name\": \"sqft_above\"}, {\"dtype\": \"float\", \"name\": \"sqft_basement\"}, {\"dtype\": \"float\", \"name\": \"yr_built\"}, {\"dtype\": \"float\", \"name\": \"yr_renovated\"}, {\"dtype\": \"str\", \"name\": \"zipcode\"}, {\"dtype\": \"float\", \"name\": \"lat\"}, {\"dtype\": \"float\", \"name\": \"long\"}, {\"dtype\": \"float\", \"name\": \"sqft_living15\"}, {\"dtype\": \"float\", \"name\": \"sqft_lot15\"}], \"column_identifiers\": [\"bathrooms\", \"sqft_living15\", \"sqft_above\", \"grade\", \"yr_built\", \"price\", \"bedrooms\", \"zipcode\", \"long\", \"id\", \"sqft_lot15\", \"sqft_living\", \"floors\", \"sqft_lot\", \"date\", \"waterfront\", \"sqft_basement\", \"yr_renovated\", \"lat\", \"condition\", \"view\"]}, \"complete\": 1, \"ipython\": true, \"progress\": 1.0, \"data\": [[3160.0, 574950.0], [3320.0, 802500.0], [2140.0, 621500.0], [2160.0, 730000.0], [1680.0, 510000.0], [2070.0, 289950.0], [3360.0, 420000.0], [1100.0, 285000.0], [3500.0, 840000.0], [940.0, 249950.0], [1628.0, 250000.0], [1640.0, 350000.0], [1430.0, 310000.0], [2000.0, 474500.0], [1520.0, 279000.0], [1092.0, 309000.0], [3135.0, 374500.0], [1380.0, 272000.0], [2660.0, 755000.0], [1810.0, 625000.0], [2434.0, 285000.0], [1340.0, 275000.0], [970.0, 560000.0], [2030.0, 302000.0], [1290.0, 265000.0], [2240.0, 480000.0], [3470.0, 810000.0], [1690.0, 482500.0], [2160.0, 499950.0], [2570.0, 719000.0], [2210.0, 429000.0], [2740.0, 689900.0], [1360.0, 430000.0], [1540.0, 263500.0], [3650.0, 824000.0], [3830.0, 955990.0], [2230.0, 253000.0], [1802.0, 320000.0], [2100.0, 500000.0], [1320.0, 292000.0], [2380.0, 439950.0], [840.0, 210000.0], [780.0, 130000.0], [2510.0, 375000.0], [3580.0, 725000.0], [1920.0, 360000.0], [2050.0, 290000.0], [2800.0, 457000.0], [1570.0, 371000.0], [1010.0, 289000.0], [3640.0, 932990.0], [1840.0, 432100.0], [1620.0, 514000.0], [1140.0, 582500.0], [1500.0, 273000.0], [1190.0, 210000.0], [3350.0, 1110000.0], [1220.0, 199000.0], [3080.0, 1165000.0], [770.0, 156000.0], [1190.0, 195000.0], [1920.0, 352500.0], [1020.0, 210000.0], [2510.0, 595000.0], [3390.0, 303500.0], [2770.0, 317625.0], [2720.0, 975000.0], [2040.0, 315000.0], [1320.0, 361000.0], [1100.0, 178000.0], [3350.0, 1200000.0], [1860.0, 615000.0], [2750.0, 571000.0], [3000.0, 850000.0], [1550.0, 645000.0], [1140.0, 345000.0], [4610.0, 960000.0], [1010.0, 340000.0], [1340.0, 499950.0], [1720.0, 575000.0], [2290.0, 295000.0], [1160.0, 350000.0], [1850.0, 303000.0], [2780.0, 594866.0], [2220.0, 771000.0], [2300.0, 610000.0], [1740.0, 733000.0], [1350.0, 345000.0], [1610.0, 215000.0], [3520.0, 800000.0], [1560.0, 519000.0], [2170.0, 442250.0], [1584.0, 267000.0], [2020.0, 444950.0], [1690.0, 515000.0], [2440.0, 699000.0], [1960.0, 247500.0], [2160.0, 555000.0], [1320.0, 510000.0], [1730.0, 521000.0], [3090.0, 675000.0], [3490.0, 1225000.0], [3190.0, 495500.0], [2370.0, 398096.0], [1340.0, 290000.0], [2940.0, 950000.0], [2040.0, 857500.0], [1710.0, 275000.0], [1240.0, 540000.0], [2040.0, 325000.0], [1720.0, 608000.0], [1630.0, 448000.0], [1210.0, 582000.0], [2300.0, 342000.0], [1610.0, 345000.0], [2410.0, 485000.0], [2400.0, 620000.0], [2560.0, 350000.0], [3030.0, 901000.0], [2260.0, 759000.0], [2090.0, 310000.0], [2570.0, 625000.0], [1940.0, 555000.0], [1020.0, 307000.0], [1910.0, 657500.0], [5305.0, 2700000.0], [2110.0, 288250.0], [830.0, 325000.0], [2010.0, 515000.0], [2690.0, 675000.0], [1680.0, 591000.0], [5020.0, 3650000.0], [1810.0, 443000.0], [2010.0, 453246.0], [940.0, 392000.0], [2640.0, 739375.0], [1350.0, 430000.0], [2330.0, 450000.0], [1140.0, 294570.0], [2300.0, 250000.0], [3470.0, 455000.0], [2650.0, 425000.0], [1410.0, 429000.0], [2470.0, 736000.0], [3500.0, 788600.0], [1340.0, 255000.0], [1050.0, 650000.0], [2420.0, 430000.0], [2250.0, 390000.0], [1090.0, 350000.0], [2880.0, 1052000.0], [2095.0, 711000.0], [3230.0, 826600.0], [1990.0, 540000.0], [1780.0, 349950.0], [1320.0, 327000.0], [1530.0, 235000.0], [2680.0, 359999.0], [1420.0, 278000.0], [1120.0, 216180.0], [1280.0, 190000.0], [890.0, 358000.0], [1500.0, 405000.0], [1800.0, 517500.0], [1380.0, 235500.0], [1500.0, 255950.0], [2040.0, 375000.0], [2100.0, 368000.0], [1710.0, 390000.0], [1360.0, 550000.0], [3110.0, 435000.0], [1840.0, 480000.0], [1530.0, 465000.0], [2080.0, 500000.0], [2230.0, 537000.0], [2080.0, 490000.0], [2570.0, 275000.0], [2820.0, 675000.0], [2130.0, 392000.0], [1640.0, 218000.0], [1830.0, 499950.0], [880.0, 460000.0], [1740.0, 280000.0], [1420.0, 225000.0], [1920.0, 385000.0], [4090.0, 1095000.0], [1490.0, 269000.0], [2160.0, 530000.0], [1950.0, 315000.0], [2230.0, 585188.0], [4310.0, 780000.0], [1810.0, 507000.0], [1810.0, 340500.0], [2750.0, 710000.0], [1650.0, 268000.0], [1320.0, 575000.0], [2710.0, 740000.0], [1730.0, 575700.0], [2190.0, 245000.0], [1740.0, 315000.0], [900.0, 252500.0], [1700.0, 445000.0], [630.0, 430000.0], [1760.0, 500000.0], [910.0, 274250.0], [1610.0, 450000.0], [2090.0, 339000.0], [1760.0, 608000.0], [2540.0, 696500.0], [990.0, 354000.0], [1730.0, 260000.0], [2340.0, 650500.0], [1680.0, 225000.0], [4500.0, 785000.0], [2850.0, 540000.0], [710.0, 345000.0], [3300.0, 1505000.0], [4210.0, 1905000.0], [1220.0, 223000.0], [2880.0, 710800.0], [2470.0, 1205000.0], [1640.0, 231000.0], [1010.0, 550000.0], [1580.0, 299900.0], [1100.0, 330000.0], [1110.0, 406000.0], [830.0, 175000.0], [1440.0, 490000.0], [1430.0, 235000.0], [1560.0, 250000.0], [2120.0, 369160.0], [1280.0, 183000.0], [3310.0, 1140000.0], [1430.0, 439000.0], [1430.0, 235000.0], [1550.0, 550000.0], [1510.0, 320000.0], [2070.0, 559000.0], [1630.0, 339950.0], [1120.0, 552000.0], [1430.0, 352450.0], [1550.0, 605000.0], [1726.0, 363750.0], [4050.0, 1600000.0], [4030.0, 1312000.0], [2620.0, 1030000.0], [3200.0, 385000.0], [1420.0, 404000.0], [3900.0, 650000.0], [1930.0, 375000.0], [2290.0, 825000.0], [3160.0, 579000.0], [1050.0, 235000.0], [2820.0, 432000.0], [1860.0, 288350.0], [2340.0, 396000.0], [2580.0, 700000.0], [2540.0, 760250.0], [2796.0, 349950.0], [2440.0, 483000.0], [1980.0, 410500.0], [1430.0, 350000.0], [1530.0, 379000.0], [2040.0, 272000.0], [1650.0, 435000.0], [1230.0, 295000.0], [2740.0, 775000.0], [2260.0, 477590.0], [1240.0, 277700.0], [4700.0, 1400000.0], [1700.0, 315000.0], [2980.0, 600000.0], [2600.0, 1017000.0], [1300.0, 236000.0], [4750.0, 2175000.0], [920.0, 250000.0], [2290.0, 450000.0], [1880.0, 530200.0], [1240.0, 415500.0], [2420.0, 369000.0], [2070.0, 449950.0], [3880.0, 702000.0], [2690.0, 419000.0], [1550.0, 430000.0], [2849.0, 798000.0], [1190.0, 441000.0], [920.0, 365000.0], [2900.0, 339000.0], [2240.0, 580379.0], [890.0, 391000.0], [3400.0, 870000.0], [910.0, 515000.0], [1960.0, 560000.0], [2070.0, 430000.0], [2890.0, 421000.0], [1340.0, 192000.0], [3060.0, 399000.0], [2030.0, 910000.0], [3010.0, 542500.0], [2080.0, 830000.0], [2380.0, 812000.0], [1840.0, 265000.0], [3190.0, 765000.0], [1540.0, 550000.0], [1680.0, 260000.0], [1670.0, 204700.0], [1940.0, 630000.0], [1570.0, 450000.0], [1050.0, 420000.0], [1810.0, 290000.0], [1510.0, 335000.0], [1660.0, 201000.0], [940.0, 259250.0], [1080.0, 325000.0], [3710.0, 846450.0], [1068.0, 239950.0], [910.0, 422500.0], [1070.0, 175000.0], [2303.0, 329995.0], [1430.0, 720001.0], [2070.0, 560000.0], [2290.0, 440000.0], [770.0, 100000.0], [1930.0, 175000.0], [1120.0, 355200.0], [1380.0, 345000.0], [1509.0, 410000.0], [1650.0, 280000.0], [1000.0, 186375.0], [4440.0, 1037000.0], [860.0, 605000.0], [1590.0, 325000.0], [2300.0, 332000.0], [2620.0, 535000.0], [2150.0, 344900.0], [1410.0, 335000.0], [1000.0, 199000.0], [2860.0, 499950.0], [770.0, 290000.0], [1650.0, 485000.0], [1540.0, 462500.0], [1670.0, 289000.0], [3010.0, 1125000.0], [1640.0, 443000.0], [2440.0, 565000.0], [2060.0, 420000.0], [2040.0, 1272500.0], [2920.0, 810000.0], [1890.0, 475000.0], [1530.0, 474950.0], [1880.0, 333000.0], [1860.0, 715000.0], [1750.0, 247000.0], [3070.0, 850000.0], [1170.0, 581000.0], [2590.0, 519995.0], [1450.0, 375000.0], [1350.0, 428000.0], [1000.0, 505000.0], [930.0, 160000.0], [3370.0, 675000.0], [1260.0, 785000.0], [880.0, 323000.0], [1440.0, 210000.0], [1580.0, 333000.0], [1800.0, 382000.0], [3400.0, 1050000.0], [2600.0, 509000.0], [1120.0, 465000.0], [1680.0, 366350.0], [1070.0, 312500.0], [1750.0, 340000.0], [2040.0, 265000.0], [1760.0, 352950.0], [2710.0, 668500.0], [880.0, 208500.0], [880.0, 248500.0], [1790.0, 405000.0], [1020.0, 269000.0], [1790.0, 578000.0], [1030.0, 229950.0], [2620.0, 360000.0], [3220.0, 335000.0], [1170.0, 302000.0], [960.0, 193000.0], [1350.0, 439000.0], [3310.0, 775000.0], [1560.0, 239950.0], [2130.0, 325000.0], [860.0, 370000.0], [1570.0, 252000.0], [1270.0, 611000.0], [1420.0, 398000.0], [3300.0, 927000.0], [1670.0, 229999.0], [980.0, 438000.0], [2650.0, 340000.0], [1940.0, 365000.0], [2700.0, 569950.0], [1360.0, 540000.0], [1790.0, 710000.0], [1100.0, 168500.0], [2640.0, 436000.0], [2720.0, 456000.0], [1480.0, 276200.0], [2520.0, 272000.0], [1850.0, 585000.0], [1700.0, 274000.0], [1600.0, 364500.0], [3150.0, 570000.0], [4160.0, 530000.0], [550.0, 188000.0], [2230.0, 334950.0], [2650.0, 499000.0], [1940.0, 320000.0], [1510.0, 453000.0], [1210.0, 610000.0], [2550.0, 575000.0], [1860.0, 730000.0], [390.0, 228000.0], [3450.0, 445000.0], [1280.0, 425000.0], [2500.0, 620000.0], [1720.0, 525000.0], [1700.0, 437000.0], [990.0, 365000.0], [3130.0, 1265000.0], [2840.0, 600000.0], [2200.0, 370000.0], [2300.0, 579000.0], [1780.0, 477000.0], [4040.0, 988000.0], [1850.0, 475000.0], [2420.0, 440000.0], [1740.0, 577000.0], [1560.0, 196440.0], [1810.0, 375000.0], [1540.0, 244000.0], [1530.0, 536000.0], [1200.0, 219950.0], [620.0, 148000.0], [1480.0, 370000.0], [1890.0, 355000.0], [3130.0, 866059.0], [2060.0, 680000.0], [1800.0, 305000.0], [2610.0, 725000.0], [1440.0, 203000.0], [1800.0, 508000.0], [2170.0, 767250.0], [1030.0, 240000.0], [1430.0, 255000.0], [1950.0, 798500.0], [2460.0, 605000.0], [1450.0, 359000.0], [1360.0, 253200.0], [4670.0, 1000000.0], [2140.0, 304400.0], [1580.0, 247000.0], [1730.0, 265000.0], [4320.0, 565000.0], [1370.0, 222000.0], [2020.0, 625000.0], [4090.0, 1290000.0], [2400.0, 333000.0], [2730.0, 545000.0], [2050.0, 324950.0], [1740.0, 335000.0], [1950.0, 345100.0], [2690.0, 333000.0], [1610.0, 397000.0], [1550.0, 280000.0], [1280.0, 370000.0], [1560.0, 915000.0], [3150.0, 815000.0], [2400.0, 278000.0], [2310.0, 815000.0], [910.0, 305000.0], [2310.0, 422000.0], [1970.0, 395000.0], [2320.0, 657500.0], [1920.0, 260000.0], [1340.0, 399000.0], [740.0, 392800.0], [1810.0, 465000.0], [2630.0, 320000.0], [1180.0, 209950.0], [600.0, 110000.0], [2050.0, 724800.0], [1060.0, 420000.0], [1430.0, 403250.0], [1720.0, 389000.0], [1920.0, 372500.0], [1580.0, 424000.0], [1430.0, 175000.0], [880.0, 416000.0], [1940.0, 300000.0], [2331.0, 345000.0], [2250.0, 645000.0], [1620.0, 327000.0], [3150.0, 614000.0], [780.0, 464050.0], [1570.0, 515000.0], [3030.0, 599900.0], [940.0, 185000.0], [3500.0, 917000.0], [2180.0, 634950.0], [1730.0, 400000.0], [1300.0, 333760.0], [2584.0, 429900.0], [3920.0, 770000.0], [1910.0, 554000.0], [2510.0, 667000.0], [1330.0, 290000.0], [1310.0, 437000.0], [1785.0, 530000.0], [2250.0, 792000.0], [3030.0, 819995.0], [2850.0, 907500.0], [800.0, 440000.0], [3860.0, 681000.0], [630.0, 190000.0], [1910.0, 617000.0], [1780.0, 353000.0], [2560.0, 750000.0], [900.0, 305000.0], [2570.0, 670000.0], [3260.0, 568450.0], [2250.0, 637800.0], [1720.0, 285000.0], [1720.0, 206325.0], [1040.0, 687500.0], [2210.0, 719000.0], [1400.0, 210000.0], [1040.0, 204000.0], [1650.0, 435000.0], [1420.0, 294000.0], [1380.0, 549000.0], [2850.0, 360000.0], [1520.0, 226000.0], [1910.0, 390000.0], [1260.0, 300000.0], [1200.0, 427000.0], [980.0, 447000.0], [1720.0, 246000.0], [1770.0, 324950.0], [1770.0, 660000.0], [1070.0, 259950.0], [3530.0, 1610000.0], [1880.0, 595000.0], [3070.0, 1920000.0], [1690.0, 400375.0], [1420.0, 265000.0], [3460.0, 808000.0], [3370.0, 405000.0], [3370.0, 830000.0], [1120.0, 524000.0], [1360.0, 396500.0], [1400.0, 148226.0], [860.0, 170000.0], [860.0, 353000.0], [870.0, 313000.0], [1820.0, 344900.0], [4120.0, 863000.0], [1380.0, 165000.0], [2070.0, 600000.0], [2010.0, 775000.0], [3180.0, 1115000.0], [2350.0, 568000.0], [1480.0, 650000.0], [2270.0, 596000.0], [620.0, 325000.0], [1390.0, 190500.0], [1100.0, 192500.0], [1880.0, 1000000.0], [1460.0, 180000.0], [2540.0, 675000.0], [1780.0, 279000.0], [1680.0, 274000.0], [2920.0, 660000.0], [1800.0, 344500.0], [1720.0, 547500.0], [1810.0, 252500.0], [1570.0, 502000.0], [1470.0, 430000.0], [1510.0, 330000.0], [2590.0, 500000.0], [3850.0, 1060000.0], [2020.0, 245000.0], [3810.0, 878000.0], [1830.0, 505000.0], [2140.0, 620000.0], [1850.0, 459950.0], [2050.0, 790000.0], [1240.0, 445000.0], [800.0, 195000.0], [1370.0, 203000.0], [1810.0, 450000.0], [2670.0, 642000.0], [2180.0, 496000.0], [1170.0, 415000.0], [2330.0, 335000.0], [1510.0, 310000.0], [2430.0, 723000.0], [1720.0, 683000.0], [1450.0, 362500.0], [1260.0, 485000.0], [1940.0, 500000.0], [2750.0, 869900.0], [1260.0, 523000.0], [1230.0, 400000.0], [1060.0, 140000.0], [1690.0, 499000.0], [2470.0, 700000.0], [3660.0, 920000.0], [2660.0, 896000.0], [4370.0, 897500.0], [2300.0, 765000.0], [1250.0, 175000.0], [1440.0, 210000.0], [1800.0, 228000.0], [3760.0, 919204.0], [1080.0, 228500.0], [3000.0, 398950.0], [1280.0, 415000.0], [2470.0, 305000.0], [1820.0, 480000.0], [1900.0, 1042500.0], [2020.0, 290000.0], [1960.0, 395000.0], [1730.0, 348000.0], [1120.0, 320000.0], [960.0, 158800.0], [1830.0, 460000.0], [1190.0, 350000.0], [1290.0, 372220.0], [1410.0, 265000.0], [1420.0, 268000.0], [2500.0, 395000.0], [3230.0, 950000.0], [2280.0, 700000.0], [2710.0, 535000.0], [920.0, 207000.0], [1170.0, 400000.0], [1590.0, 355000.0], [2440.0, 729000.0], [3480.0, 1580000.0], [2880.0, 775000.0], [1160.0, 525000.0], [1070.0, 330000.0], [3180.0, 1000000.0], [3140.0, 990000.0], [1010.0, 229900.0], [840.0, 275000.0], [1560.0, 269000.0], [1920.0, 170000.0], [1460.0, 312000.0], [1100.0, 300000.0], [1730.0, 315000.0], [1700.0, 454000.0], [1400.0, 450000.0], [2130.0, 380000.0], [710.0, 320000.0], [3770.0, 940000.0], [1350.0, 388500.0], [2340.0, 315000.0], [1430.0, 412000.0], [3540.0, 899000.0], [2090.0, 461550.0], [2080.0, 700000.0], [1420.0, 264250.0], [2410.0, 470000.0], [2430.0, 1027000.0], [4360.0, 2300000.0], [2910.0, 810000.0], [2070.0, 1250000.0], [2380.0, 650000.0], [2460.0, 638250.0], [2580.0, 604000.0], [1995.0, 266000.0], [1160.0, 208000.0], [2580.0, 799000.0], [1370.0, 565000.0], [1280.0, 299500.0], [1780.0, 495000.0], [1690.0, 207000.0], [3500.0, 655000.0], [1720.0, 290256.0], [1640.0, 710000.0], [1500.0, 396000.0], [1830.0, 373000.0], [1360.0, 223000.0], [1400.0, 389000.0], [940.0, 500000.0], [2030.0, 275000.0], [1070.0, 325000.0], [2940.0, 1712500.0], [2310.0, 525000.0], [2580.0, 775000.0], [1900.0, 579000.0], [1550.0, 249950.0], [1250.0, 450000.0], [2180.0, 612000.0], [4560.0, 1200000.0], [2610.0, 678940.0], [810.0, 285000.0], [910.0, 389000.0], [1240.0, 305500.0], [3970.0, 2300000.0], [3660.0, 530000.0], [3700.0, 898000.0], [2500.0, 1185001.0], [3160.0, 1078000.0], [1600.0, 340000.0], [4740.0, 1049000.0], [1900.0, 343500.0], [2970.0, 400000.0], [1700.0, 565000.0], [1900.0, 650000.0], [3060.0, 877500.0], [2280.0, 530000.0], [1910.0, 498688.0], [1370.0, 270000.0], [2170.0, 560000.0], [2190.0, 700000.0], [2800.0, 676000.0], [3050.0, 555000.0], [2230.0, 445000.0], [1470.0, 328000.0], [2660.0, 768000.0], [2020.0, 311000.0], [3510.0, 674950.0], [3060.0, 826000.0], [1510.0, 545000.0], [1340.0, 160000.0], [2450.0, 712198.0], [3440.0, 725000.0], [3250.0, 580000.0], [3290.0, 739900.0], [1510.0, 234950.0], [3370.0, 561000.0], [3000.0, 740000.0], [2000.0, 630000.0], [3780.0, 1810000.0], [1410.0, 590000.0], [3800.0, 575000.0], [3050.0, 975000.0], [1900.0, 270000.0], [840.0, 450000.0], [1160.0, 199500.0], [2670.0, 668000.0], [1560.0, 422500.0], [1210.0, 364000.0], [690.0, 340000.0], [1230.0, 250000.0], [1180.0, 193000.0], [1960.0, 525000.0], [1830.0, 639000.0], [980.0, 201000.0], [2830.0, 405600.0], [1430.0, 345000.0], [1200.0, 179950.0], [2790.0, 445000.0], [1380.0, 295000.0], [1850.0, 645000.0], [1900.0, 407500.0], [1260.0, 230000.0], [1600.0, 275000.0], [3040.0, 620000.0], [1810.0, 449000.0], [2640.0, 429900.0], [1130.0, 341500.0], [4370.0, 2350000.0], [1890.0, 315000.0], [3000.0, 607500.0], [1080.0, 329500.0], [4575.0, 2920000.0], [4550.0, 1050000.0], [2830.0, 549900.0], [2230.0, 340000.0], [2630.0, 576925.0], [1900.0, 385000.0], [1960.0, 300000.0], [2360.0, 580050.0], [2500.0, 685000.0], [3240.0, 370000.0], [3410.0, 725000.0], [3430.0, 367999.0], [1860.0, 445000.0], [960.0, 500000.0], [1390.0, 267000.0], [3270.0, 600000.0], [2031.0, 335000.0], [1390.0, 550000.0], [3230.0, 817500.0], [920.0, 412133.0], [1270.0, 435000.0], [1490.0, 226000.0], [1540.0, 650000.0], [2550.0, 419500.0], [3320.0, 508000.0], [3190.0, 1216000.0], [2450.0, 510000.0], [1810.0, 208000.0], [1550.0, 385200.0], [2310.0, 765000.0], [1590.0, 247000.0], [3630.0, 1180000.0], [1320.0, 299950.0], [1600.0, 154950.0], [1540.0, 425000.0], [1490.0, 550000.0], [1640.0, 561000.0], [1410.0, 625000.0], [2380.0, 886000.0], [2110.0, 325000.0], [1700.0, 710000.0], [4420.0, 2328000.0], [2290.0, 359900.0], [1370.0, 315000.0], [2120.0, 525000.0], [1900.0, 505000.0], [2060.0, 330000.0], [4400.0, 687000.0], [1850.0, 360000.0], [1730.0, 328423.0], [1530.0, 607500.0], [1590.0, 720000.0], [2080.0, 550000.0], [1630.0, 385000.0], [1620.0, 399000.0], [1420.0, 425000.0], [1780.0, 399000.0], [1310.0, 235000.0], [3080.0, 1655000.0], [1920.0, 324500.0], [1810.0, 540000.0], [4350.0, 900000.0], [2960.0, 389500.0], [1010.0, 183500.0], [1990.0, 260000.0], [1850.0, 485000.0], [770.0, 277000.0], [2870.0, 890000.0], [2400.0, 650000.0], [1710.0, 332544.0], [2240.0, 410000.0], [810.0, 125000.0], [2480.0, 420000.0], [1100.0, 339000.0], [3530.0, 2367000.0], [1900.0, 250000.0], [980.0, 144000.0], [2540.0, 660000.0], [740.0, 450000.0], [1470.0, 399950.0], [2680.0, 501000.0], [2130.0, 649990.0], [2800.0, 365000.0], [1190.0, 295950.0], [2880.0, 550000.0], [1760.0, 575000.0], [3320.0, 400000.0], [1310.0, 299800.0], [2510.0, 624000.0], [2300.0, 615000.0], [3460.0, 467000.0], [2560.0, 552625.0], [1800.0, 850000.0], [2000.0, 443950.0], [3230.0, 370000.0], [2760.0, 495000.0], [2180.0, 273000.0], [2020.0, 463000.0], [1710.0, 358990.0], [1380.0, 350000.0], [1940.0, 611206.0], [3590.0, 879000.0], [1190.0, 277500.0], [2330.0, 465000.0], [1030.0, 305000.0], [2480.0, 525000.0], [1800.0, 515000.0], [3290.0, 762500.0], [2540.0, 335000.0], [1300.0, 137000.0], [3200.0, 735000.0], [1520.0, 241000.0], [2330.0, 630000.0], [2730.0, 649000.0], [2000.0, 300000.0], [2210.0, 794154.0], [2910.0, 395000.0], [1820.0, 320000.0], [1070.0, 346000.0], [1370.0, 325000.0], [1330.0, 386000.0], [1200.0, 222000.0], [6640.0, 4500000.0], [1500.0, 210000.0], [2198.0, 388000.0], [1300.0, 394950.0], [4480.0, 835000.0], [2390.0, 984000.0], [1200.0, 306000.0], [3915.0, 963990.0], [1250.0, 458500.0], [1660.0, 975000.0], [1720.0, 638000.0], [2080.0, 315000.0], [2760.0, 760000.0], [2470.0, 607000.0], [3060.0, 864000.0], [1250.0, 318000.0], [3320.0, 1695000.0], [3610.0, 610000.0], [2210.0, 415000.0], [3050.0, 707000.0], [2250.0, 325000.0], [1500.0, 379900.0], [1820.0, 393000.0], [2400.0, 335750.0], [1600.0, 350000.0], [1620.0, 451000.0], [1920.0, 510000.0], [2780.0, 990000.0], [1440.0, 330000.0], [1430.0, 520000.0], [1160.0, 315000.0], [1830.0, 298900.0], [2180.0, 210000.0], [1290.0, 600000.0], [3160.0, 840000.0], [1380.0, 189000.0], [2400.0, 535000.0], [3740.0, 1085000.0], [3280.0, 963000.0], [1060.0, 340000.0], [2110.0, 305000.0], [1470.0, 480000.0], [2030.0, 627000.0], [2400.0, 455000.0], [4040.0, 910000.0], [1840.0, 285000.0], [2030.0, 250000.0], [840.0, 450600.0], [2440.0, 312000.0], [2880.0, 755000.0], [1790.0, 243000.0], [1180.0, 343000.0], [3420.0, 1195000.0], [2110.0, 610000.0], [1640.0, 375000.0], [1970.0, 925500.0], [3950.0, 900000.0], [1170.0, 370000.0], [1580.0, 536000.0], [2100.0, 323000.0], [2280.0, 718000.0], [2470.0, 633100.0], [1380.0, 329900.0], [2550.0, 543500.0], [1750.0, 445000.0], [3470.0, 994000.0], [2160.0, 405000.0], [1570.0, 335000.0], [2080.0, 415000.0], [670.0, 245000.0], [1870.0, 350500.0], [2690.0, 439000.0], [1430.0, 650000.0], [1550.0, 240000.0], [3490.0, 728000.0], [1710.0, 524250.0], [1000.0, 725000.0], [3950.0, 1420000.0], [2680.0, 460000.0], [1290.0, 370000.0], [1280.0, 216000.0], [1560.0, 385000.0], [1770.0, 415000.0], [2510.0, 788500.0], [1000.0, 220000.0], [1750.0, 370000.0], [2080.0, 290000.0], [2730.0, 510000.0], [1320.0, 937500.0], [1070.0, 357500.0], [770.0, 385000.0], [2810.0, 531155.0], [900.0, 350000.0], [1970.0, 600000.0], [3340.0, 592000.0], [470.0, 156000.0], [2540.0, 759990.0], [1870.0, 425000.0], [2320.0, 552500.0], [3320.0, 410000.0], [1410.0, 500000.0], [2830.0, 515500.0]], \"columns\": [{\"dtype\": \"str\", \"name\": \"id\"}, {\"dtype\": \"datetime\", \"name\": \"date\"}, {\"dtype\": \"float\", \"name\": \"price\"}, {\"dtype\": \"float\", \"name\": \"bedrooms\"}, {\"dtype\": \"float\", \"name\": \"bathrooms\"}, {\"dtype\": \"float\", \"name\": \"sqft_living\"}, {\"dtype\": \"float\", \"name\": \"sqft_lot\"}, {\"dtype\": \"float\", \"name\": \"floors\"}, {\"dtype\": \"int\", \"name\": \"waterfront\"}, {\"dtype\": \"int\", \"name\": \"view\"}, {\"dtype\": \"int\", \"name\": \"condition\"}, {\"dtype\": \"float\", \"name\": \"grade\"}, {\"dtype\": \"float\", \"name\": \"sqft_above\"}, {\"dtype\": \"float\", \"name\": \"sqft_basement\"}, {\"dtype\": \"float\", \"name\": \"yr_built\"}, {\"dtype\": \"float\", \"name\": \"yr_renovated\"}, {\"dtype\": \"str\", \"name\": \"zipcode\"}, {\"dtype\": \"float\", \"name\": \"lat\"}, {\"dtype\": \"float\", \"name\": \"long\"}, {\"dtype\": \"float\", \"name\": \"sqft_living15\"}, {\"dtype\": \"float\", \"name\": \"sqft_lot15\"}]}, e);\n",
       "                });\n",
       "            })();\n",
       "        "
      ]
     },
     "metadata": {},
     "output_type": "display_data"
    }
   ],
   "source": [
    "graphlab.canvas.set_target('ipynb')\n",
    "sales.show(view=\"Scatter Plot\", x= \"sqft_living\", y=\"price\")"
   ]
  },
  {
   "cell_type": "code",
   "execution_count": 13,
   "metadata": {},
   "outputs": [],
   "source": [
    "train_data,test_data = sales.random_split(.8,seed=0)"
   ]
  },
  {
   "cell_type": "code",
   "execution_count": 15,
   "metadata": {},
   "outputs": [
    {
     "name": "stdout",
     "output_type": "stream",
     "text": [
      "PROGRESS: Creating a validation set from 5 percent of training data. This may take a while.\n",
      "          You can set ``validation_set=None`` to disable validation tracking.\n",
      "\n"
     ]
    },
    {
     "data": {
      "text/html": [
       "<pre>Linear regression:</pre>"
      ],
      "text/plain": [
       "Linear regression:"
      ]
     },
     "metadata": {},
     "output_type": "display_data"
    },
    {
     "data": {
      "text/html": [
       "<pre>--------------------------------------------------------</pre>"
      ],
      "text/plain": [
       "--------------------------------------------------------"
      ]
     },
     "metadata": {},
     "output_type": "display_data"
    },
    {
     "data": {
      "text/html": [
       "<pre>Number of examples          : 16467</pre>"
      ],
      "text/plain": [
       "Number of examples          : 16467"
      ]
     },
     "metadata": {},
     "output_type": "display_data"
    },
    {
     "data": {
      "text/html": [
       "<pre>Number of features          : 1</pre>"
      ],
      "text/plain": [
       "Number of features          : 1"
      ]
     },
     "metadata": {},
     "output_type": "display_data"
    },
    {
     "data": {
      "text/html": [
       "<pre>Number of unpacked features : 1</pre>"
      ],
      "text/plain": [
       "Number of unpacked features : 1"
      ]
     },
     "metadata": {},
     "output_type": "display_data"
    },
    {
     "data": {
      "text/html": [
       "<pre>Number of coefficients    : 2</pre>"
      ],
      "text/plain": [
       "Number of coefficients    : 2"
      ]
     },
     "metadata": {},
     "output_type": "display_data"
    },
    {
     "data": {
      "text/html": [
       "<pre>Starting Newton Method</pre>"
      ],
      "text/plain": [
       "Starting Newton Method"
      ]
     },
     "metadata": {},
     "output_type": "display_data"
    },
    {
     "data": {
      "text/html": [
       "<pre>--------------------------------------------------------</pre>"
      ],
      "text/plain": [
       "--------------------------------------------------------"
      ]
     },
     "metadata": {},
     "output_type": "display_data"
    },
    {
     "data": {
      "text/html": [
       "<pre>+-----------+----------+--------------+--------------------+----------------------+---------------+-----------------+</pre>"
      ],
      "text/plain": [
       "+-----------+----------+--------------+--------------------+----------------------+---------------+-----------------+"
      ]
     },
     "metadata": {},
     "output_type": "display_data"
    },
    {
     "data": {
      "text/html": [
       "<pre>| Iteration | Passes   | Elapsed Time | Training-max_error | Validation-max_error | Training-rmse | Validation-rmse |</pre>"
      ],
      "text/plain": [
       "| Iteration | Passes   | Elapsed Time | Training-max_error | Validation-max_error | Training-rmse | Validation-rmse |"
      ]
     },
     "metadata": {},
     "output_type": "display_data"
    },
    {
     "data": {
      "text/html": [
       "<pre>+-----------+----------+--------------+--------------------+----------------------+---------------+-----------------+</pre>"
      ],
      "text/plain": [
       "+-----------+----------+--------------+--------------------+----------------------+---------------+-----------------+"
      ]
     },
     "metadata": {},
     "output_type": "display_data"
    },
    {
     "data": {
      "text/html": [
       "<pre>| 1         | 2        | 1.050099     | 4307920.251299     | 4385968.245584       | 259701.580327 | 315880.587420   |</pre>"
      ],
      "text/plain": [
       "| 1         | 2        | 1.050099     | 4307920.251299     | 4385968.245584       | 259701.580327 | 315880.587420   |"
      ]
     },
     "metadata": {},
     "output_type": "display_data"
    },
    {
     "data": {
      "text/html": [
       "<pre>+-----------+----------+--------------+--------------------+----------------------+---------------+-----------------+</pre>"
      ],
      "text/plain": [
       "+-----------+----------+--------------+--------------------+----------------------+---------------+-----------------+"
      ]
     },
     "metadata": {},
     "output_type": "display_data"
    },
    {
     "data": {
      "text/html": [
       "<pre>SUCCESS: Optimal solution found.</pre>"
      ],
      "text/plain": [
       "SUCCESS: Optimal solution found."
      ]
     },
     "metadata": {},
     "output_type": "display_data"
    },
    {
     "data": {
      "text/html": [
       "<pre></pre>"
      ],
      "text/plain": []
     },
     "metadata": {},
     "output_type": "display_data"
    }
   ],
   "source": [
    "sqft_model=graphlab.linear_regression.create(train_data, target=\"price\", features=['sqft_living'])"
   ]
  },
  {
   "cell_type": "code",
   "execution_count": 12,
   "metadata": {},
   "outputs": [
    {
     "ename": "ImportError",
     "evalue": "No module named matplotlib.pyplot",
     "output_type": "error",
     "traceback": [
      "\u001b[1;31m---------------------------------------------------------------------------\u001b[0m",
      "\u001b[1;31mImportError\u001b[0m                               Traceback (most recent call last)",
      "\u001b[1;32m<ipython-input-12-0a39c4624e67>\u001b[0m in \u001b[0;36m<module>\u001b[1;34m()\u001b[0m\n\u001b[1;32m----> 1\u001b[1;33m \u001b[1;32mimport\u001b[0m \u001b[0mmatplotlib\u001b[0m\u001b[1;33m.\u001b[0m\u001b[0mpyplot\u001b[0m \u001b[1;32mas\u001b[0m \u001b[0mplt\u001b[0m\u001b[1;33m\u001b[0m\u001b[0m\n\u001b[0m\u001b[0;32m      2\u001b[0m \u001b[0mget_ipython\u001b[0m\u001b[1;33m(\u001b[0m\u001b[1;33m)\u001b[0m\u001b[1;33m.\u001b[0m\u001b[0mmagic\u001b[0m\u001b[1;33m(\u001b[0m\u001b[1;34mu'matplotlib inline'\u001b[0m\u001b[1;33m)\u001b[0m\u001b[1;33m\u001b[0m\u001b[0m\n",
      "\u001b[1;31mImportError\u001b[0m: No module named matplotlib.pyplot"
     ]
    }
   ],
   "source": [
    "import matplotlib.pyplot as plt\n",
    "%matplotlib inline"
   ]
  },
  {
   "cell_type": "code",
   "execution_count": 28,
   "metadata": {},
   "outputs": [
    {
     "ename": "TypeError",
     "evalue": "'module' object is not callable",
     "output_type": "error",
     "traceback": [
      "\u001b[1;31m---------------------------------------------------------------------------\u001b[0m",
      "\u001b[1;31mTypeError\u001b[0m                                 Traceback (most recent call last)",
      "\u001b[1;32m<ipython-input-28-13e97675f0ae>\u001b[0m in \u001b[0;36m<module>\u001b[1;34m()\u001b[0m\n\u001b[0;32m      1\u001b[0m graphlab.canvas(test_data['sqft_living'], test_data['price'], '.',\n\u001b[1;32m----> 2\u001b[1;33m         test_data['sqft_living'], sqft_model.predict(test_data), '-')\n\u001b[0m",
      "\u001b[1;31mTypeError\u001b[0m: 'module' object is not callable"
     ]
    }
   ],
   "source": [
    "plt.plot(test_data['sqft_living'], test_data['price'], '.',\n",
    "        test_data['sqft_living'], sqft_model.predict(test_data), '-')"
   ]
  },
  {
   "cell_type": "code",
   "execution_count": 13,
   "metadata": {},
   "outputs": [
    {
     "name": "stderr",
     "output_type": "stream",
     "text": [
      "[ERROR] graphlab.toolkits._main: Toolkit error: Field 'coefficient' does not exist. Use list_fields() for a list of fields that can be queried.\n",
      "\n"
     ]
    },
    {
     "ename": "ToolkitError",
     "evalue": "Field 'coefficient' does not exist. Use list_fields() for a list of fields that can be queried.\n",
     "output_type": "error",
     "traceback": [
      "\u001b[1;31m---------------------------------------------------------------------------\u001b[0m",
      "\u001b[1;31mToolkitError\u001b[0m                              Traceback (most recent call last)",
      "\u001b[1;32m<ipython-input-13-633764e27183>\u001b[0m in \u001b[0;36m<module>\u001b[1;34m()\u001b[0m\n\u001b[1;32m----> 1\u001b[1;33m \u001b[0msqft_model\u001b[0m\u001b[1;33m.\u001b[0m\u001b[0mget\u001b[0m\u001b[1;33m(\u001b[0m\u001b[1;34m'coefficient'\u001b[0m\u001b[1;33m)\u001b[0m\u001b[1;33m\u001b[0m\u001b[0m\n\u001b[0m",
      "\u001b[1;32mc:\\devl\\gllab\\lib\\site-packages\\graphlab\\toolkits\\regression\\linear_regression.pyc\u001b[0m in \u001b[0;36mget\u001b[1;34m(self, field)\u001b[0m\n\u001b[0;32m    514\u001b[0m \u001b[1;33m\u001b[0m\u001b[0m\n\u001b[0;32m    515\u001b[0m         \u001b[0m_mt\u001b[0m\u001b[1;33m.\u001b[0m\u001b[0m_get_metric_tracker\u001b[0m\u001b[1;33m(\u001b[0m\u001b[1;33m)\u001b[0m\u001b[1;33m.\u001b[0m\u001b[0mtrack\u001b[0m\u001b[1;33m(\u001b[0m\u001b[1;34m'toolkit.regression.linear_regression.get'\u001b[0m\u001b[1;33m)\u001b[0m\u001b[1;33m\u001b[0m\u001b[0m\n\u001b[1;32m--> 516\u001b[1;33m         \u001b[1;32mreturn\u001b[0m \u001b[0msuper\u001b[0m\u001b[1;33m(\u001b[0m\u001b[0mLinearRegression\u001b[0m\u001b[1;33m,\u001b[0m \u001b[0mself\u001b[0m\u001b[1;33m)\u001b[0m\u001b[1;33m.\u001b[0m\u001b[0mget\u001b[0m\u001b[1;33m(\u001b[0m\u001b[0mfield\u001b[0m\u001b[1;33m)\u001b[0m\u001b[1;33m\u001b[0m\u001b[0m\n\u001b[0m\u001b[0;32m    517\u001b[0m \u001b[1;33m\u001b[0m\u001b[0m\n\u001b[0;32m    518\u001b[0m \u001b[1;33m\u001b[0m\u001b[0m\n",
      "\u001b[1;32mc:\\devl\\gllab\\lib\\site-packages\\graphlab\\toolkits\\_supervised_learning.pyc\u001b[0m in \u001b[0;36mget\u001b[1;34m(self, field)\u001b[0m\n\u001b[0;32m    224\u001b[0m                 \u001b[1;34m'model_name'\u001b[0m\u001b[1;33m:\u001b[0m \u001b[0mself\u001b[0m\u001b[1;33m.\u001b[0m\u001b[0m__name__\u001b[0m\u001b[1;33m,\u001b[0m\u001b[1;33m\u001b[0m\u001b[0m\n\u001b[0;32m    225\u001b[0m                 'field': field}\n\u001b[1;32m--> 226\u001b[1;33m         \u001b[0mresponse\u001b[0m \u001b[1;33m=\u001b[0m \u001b[0m_graphlab\u001b[0m\u001b[1;33m.\u001b[0m\u001b[0mtoolkits\u001b[0m\u001b[1;33m.\u001b[0m\u001b[0m_main\u001b[0m\u001b[1;33m.\u001b[0m\u001b[0mrun\u001b[0m\u001b[1;33m(\u001b[0m\u001b[1;34m'supervised_learning_get_value'\u001b[0m\u001b[1;33m,\u001b[0m \u001b[0mopts\u001b[0m\u001b[1;33m)\u001b[0m\u001b[1;33m\u001b[0m\u001b[0m\n\u001b[0m\u001b[0;32m    227\u001b[0m         \u001b[1;32mreturn\u001b[0m \u001b[0m_map_unity_proxy_to_object\u001b[0m\u001b[1;33m(\u001b[0m\u001b[0mresponse\u001b[0m\u001b[1;33m[\u001b[0m\u001b[1;34m'value'\u001b[0m\u001b[1;33m]\u001b[0m\u001b[1;33m)\u001b[0m\u001b[1;33m\u001b[0m\u001b[0m\n\u001b[0;32m    228\u001b[0m \u001b[1;33m\u001b[0m\u001b[0m\n",
      "\u001b[1;32mc:\\devl\\gllab\\lib\\site-packages\\graphlab\\toolkits\\_main.pyc\u001b[0m in \u001b[0;36mrun\u001b[1;34m(toolkit_name, options, verbose, show_progress)\u001b[0m\n\u001b[0;32m     87\u001b[0m         \u001b[0m_get_metric_tracker\u001b[0m\u001b[1;33m(\u001b[0m\u001b[1;33m)\u001b[0m\u001b[1;33m.\u001b[0m\u001b[0mtrack\u001b[0m\u001b[1;33m(\u001b[0m\u001b[0mmetric_name\u001b[0m\u001b[1;33m,\u001b[0m \u001b[0mvalue\u001b[0m\u001b[1;33m=\u001b[0m\u001b[1;36m1\u001b[0m\u001b[1;33m,\u001b[0m \u001b[0mproperties\u001b[0m\u001b[1;33m=\u001b[0m\u001b[0mtrack_props\u001b[0m\u001b[1;33m,\u001b[0m \u001b[0msend_sys_info\u001b[0m\u001b[1;33m=\u001b[0m\u001b[0mFalse\u001b[0m\u001b[1;33m)\u001b[0m\u001b[1;33m\u001b[0m\u001b[0m\n\u001b[0;32m     88\u001b[0m \u001b[1;33m\u001b[0m\u001b[0m\n\u001b[1;32m---> 89\u001b[1;33m         \u001b[1;32mraise\u001b[0m \u001b[0mToolkitError\u001b[0m\u001b[1;33m(\u001b[0m\u001b[0mstr\u001b[0m\u001b[1;33m(\u001b[0m\u001b[0mmessage\u001b[0m\u001b[1;33m)\u001b[0m\u001b[1;33m)\u001b[0m\u001b[1;33m\u001b[0m\u001b[0m\n\u001b[0m",
      "\u001b[1;31mToolkitError\u001b[0m: Field 'coefficient' does not exist. Use list_fields() for a list of fields that can be queried.\n"
     ]
    }
   ],
   "source": [
    "sqft_model.get('coefficient')"
   ]
  },
  {
   "cell_type": "markdown",
   "metadata": {},
   "source": [
    "# Explore other features in data"
   ]
  },
  {
   "cell_type": "code",
   "execution_count": 14,
   "metadata": {},
   "outputs": [],
   "source": [
    "my_features = ['bedrooms', 'bathrooms', 'sqft_living', 'sqft_lot', 'floors', 'zipcode']"
   ]
  },
  {
   "cell_type": "code",
   "execution_count": 15,
   "metadata": {},
   "outputs": [
    {
     "data": {
      "application/javascript": [
       "$(\"head\").append($(\"<link/>\").attr({\n",
       "  rel:  \"stylesheet\",\n",
       "  type: \"text/css\",\n",
       "  href: \"//cdnjs.cloudflare.com/ajax/libs/font-awesome/4.1.0/css/font-awesome.min.css\"\n",
       "}));\n",
       "$(\"head\").append($(\"<link/>\").attr({\n",
       "  rel:  \"stylesheet\",\n",
       "  type: \"text/css\",\n",
       "  href: \"https://static.turi.com/products/graphlab-create/2.1/canvas/css/canvas.css\"\n",
       "}));\n",
       "\n",
       "            (function(){\n",
       "\n",
       "                var e = null;\n",
       "                if (typeof element == 'undefined') {\n",
       "                    var scripts = document.getElementsByTagName('script');\n",
       "                    var thisScriptTag = scripts[scripts.length-1];\n",
       "                    var parentDiv = thisScriptTag.parentNode;\n",
       "                    e = document.createElement('div');\n",
       "                    parentDiv.appendChild(e);\n",
       "                } else {\n",
       "                    e = element[0];\n",
       "                }\n",
       "\n",
       "                if (typeof requirejs !== 'undefined') {\n",
       "                    // disable load timeout; ipython_app.js is large and can take a while to load.\n",
       "                    requirejs.config({waitSeconds: 0});\n",
       "                }\n",
       "\n",
       "                require(['https://static.turi.com/products/graphlab-create/2.1/canvas/js/ipython_app.js'], function(IPythonApp){\n",
       "                    var app = new IPythonApp();\n",
       "                    app.attachView('sframe','Summary', {\"ipython\": true, \"sketch\": {\"bathrooms\": {\"std\": 0.770145339884052, \"complete\": true, \"min\": 0.0, \"max\": 8.0, \"quantile\": [0.0, 1.0, 1.0, 1.0, 1.0, 1.0, 1.0, 1.0, 1.0, 1.0, 1.0, 1.0, 1.0, 1.0, 1.0, 1.0, 1.0, 1.0, 1.0, 1.5, 1.5, 1.5, 1.5, 1.5, 1.5, 1.75, 1.75, 1.75, 1.75, 1.75, 1.75, 1.75, 1.75, 1.75, 1.75, 1.75, 1.75, 1.75, 1.75, 1.75, 2.0, 2.0, 2.0, 2.0, 2.0, 2.0, 2.0, 2.0, 2.25, 2.25, 2.25, 2.25, 2.25, 2.25, 2.25, 2.25, 2.25, 2.25, 2.5, 2.5, 2.5, 2.5, 2.5, 2.5, 2.5, 2.5, 2.5, 2.5, 2.5, 2.5, 2.5, 2.5, 2.5, 2.5, 2.5, 2.5, 2.5, 2.5, 2.5, 2.5, 2.5, 2.5, 2.5, 2.75, 2.75, 2.75, 2.75, 2.75, 3.0, 3.0, 3.0, 3.0, 3.25, 3.25, 3.5, 3.5, 3.5, 3.5, 3.75, 4.25, 8.0], \"median\": 2.25, \"numeric\": true, \"num_unique\": 30, \"num_undefined\": 0, \"var\": 0.593123844545122, \"progress\": 1.0, \"size\": 21613, \"frequent_items\": {\"2.25\": {\"frequency\": 2047, \"value\": 2.25}, \"1.0\": {\"frequency\": 3852, \"value\": 1.0}, \"2.0\": {\"frequency\": 1930, \"value\": 2.0}, \"3.0\": {\"frequency\": 753, \"value\": 3.0}, \"4.0\": {\"frequency\": 136, \"value\": 4.0}, \"5.0\": {\"frequency\": 21, \"value\": 5.0}, \"4.5\": {\"frequency\": 100, \"value\": 4.5}, \"8.0\": {\"frequency\": 2, \"value\": 8.0}, \"0.75\": {\"frequency\": 72, \"value\": 0.75}, \"0.5\": {\"frequency\": 4, \"value\": 0.5}, \"0.0\": {\"frequency\": 10, \"value\": 0.0}, \"6.5\": {\"frequency\": 2, \"value\": 6.5}, \"6.0\": {\"frequency\": 6, \"value\": 6.0}, \"7.5\": {\"frequency\": 1, \"value\": 7.5}, \"1.5\": {\"frequency\": 1446, \"value\": 1.5}, \"4.25\": {\"frequency\": 79, \"value\": 4.25}, \"1.75\": {\"frequency\": 3048, \"value\": 1.75}, \"1.25\": {\"frequency\": 9, \"value\": 1.25}, \"4.75\": {\"frequency\": 23, \"value\": 4.75}, \"5.25\": {\"frequency\": 13, \"value\": 5.25}, \"5.75\": {\"frequency\": 4, \"value\": 5.75}, \"2.5\": {\"frequency\": 5380, \"value\": 2.5}, \"3.75\": {\"frequency\": 155, \"value\": 3.75}, \"2.75\": {\"frequency\": 1185, \"value\": 2.75}, \"6.75\": {\"frequency\": 2, \"value\": 6.75}, \"3.25\": {\"frequency\": 589, \"value\": 3.25}, \"7.75\": {\"frequency\": 1, \"value\": 7.75}, \"3.5\": {\"frequency\": 731, \"value\": 3.5}, \"5.5\": {\"frequency\": 10, \"value\": 5.5}, \"6.25\": {\"frequency\": 2, \"value\": 6.25}}, \"mean\": 2.1147573219821405}, \"bedrooms\": {\"std\": 0.9300403146391121, \"complete\": true, \"min\": 0.0, \"max\": 33.0, \"quantile\": [0.0, 2.0, 2.0, 2.0, 2.0, 2.0, 2.0, 2.0, 2.0, 2.0, 2.0, 2.0, 2.0, 2.0, 3.0, 3.0, 3.0, 3.0, 3.0, 3.0, 3.0, 3.0, 3.0, 3.0, 3.0, 3.0, 3.0, 3.0, 3.0, 3.0, 3.0, 3.0, 3.0, 3.0, 3.0, 3.0, 3.0, 3.0, 3.0, 3.0, 3.0, 3.0, 3.0, 3.0, 3.0, 3.0, 3.0, 3.0, 3.0, 3.0, 3.0, 3.0, 3.0, 3.0, 3.0, 3.0, 3.0, 3.0, 3.0, 3.0, 4.0, 4.0, 4.0, 4.0, 4.0, 4.0, 4.0, 4.0, 4.0, 4.0, 4.0, 4.0, 4.0, 4.0, 4.0, 4.0, 4.0, 4.0, 4.0, 4.0, 4.0, 4.0, 4.0, 4.0, 4.0, 4.0, 4.0, 4.0, 4.0, 4.0, 4.0, 4.0, 5.0, 5.0, 5.0, 5.0, 5.0, 5.0, 5.0, 6.0, 33.0], \"median\": 3.0, \"numeric\": true, \"num_unique\": 13, \"num_undefined\": 0, \"var\": 0.8649749868540186, \"progress\": 1.0, \"size\": 21613, \"frequent_items\": {\"0.0\": {\"frequency\": 13, \"value\": 0.0}, \"1.0\": {\"frequency\": 199, \"value\": 1.0}, \"2.0\": {\"frequency\": 2760, \"value\": 2.0}, \"3.0\": {\"frequency\": 9824, \"value\": 3.0}, \"4.0\": {\"frequency\": 6882, \"value\": 4.0}, \"5.0\": {\"frequency\": 1601, \"value\": 5.0}, \"6.0\": {\"frequency\": 272, \"value\": 6.0}, \"7.0\": {\"frequency\": 38, \"value\": 7.0}, \"8.0\": {\"frequency\": 13, \"value\": 8.0}, \"9.0\": {\"frequency\": 6, \"value\": 9.0}, \"10.0\": {\"frequency\": 3, \"value\": 10.0}, \"11.0\": {\"frequency\": 1, \"value\": 11.0}, \"33.0\": {\"frequency\": 1, \"value\": 33.0}}, \"mean\": 3.3708416230972045}, \"zipcode\": {\"complete\": true, \"numeric\": false, \"num_unique\": 70, \"num_undefined\": 0, \"progress\": 1.0, \"frequent_items\": {\"98019\": {\"frequency\": 190, \"value\": \"98019\"}, \"98039\": {\"frequency\": 50, \"value\": \"98039\"}, \"98038\": {\"frequency\": 590, \"value\": \"98038\"}, \"98118\": {\"frequency\": 508, \"value\": \"98118\"}, \"98119\": {\"frequency\": 184, \"value\": \"98119\"}, \"98116\": {\"frequency\": 330, \"value\": \"98116\"}, \"98117\": {\"frequency\": 553, \"value\": \"98117\"}, \"98011\": {\"frequency\": 195, \"value\": \"98011\"}, \"98115\": {\"frequency\": 583, \"value\": \"98115\"}, \"98112\": {\"frequency\": 269, \"value\": \"98112\"}, \"98030\": {\"frequency\": 256, \"value\": \"98030\"}, \"98033\": {\"frequency\": 432, \"value\": \"98033\"}, \"98032\": {\"frequency\": 125, \"value\": \"98032\"}, \"98092\": {\"frequency\": 351, \"value\": \"98092\"}, \"98058\": {\"frequency\": 455, \"value\": \"98058\"}, \"98003\": {\"frequency\": 280, \"value\": \"98003\"}, \"98198\": {\"frequency\": 280, \"value\": \"98198\"}, \"98199\": {\"frequency\": 317, \"value\": \"98199\"}, \"98077\": {\"frequency\": 198, \"value\": \"98077\"}, \"98004\": {\"frequency\": 317, \"value\": \"98004\"}, \"98005\": {\"frequency\": 168, \"value\": \"98005\"}, \"98006\": {\"frequency\": 498, \"value\": \"98006\"}, \"98007\": {\"frequency\": 141, \"value\": \"98007\"}, \"98001\": {\"frequency\": 362, \"value\": \"98001\"}, \"98002\": {\"frequency\": 199, \"value\": \"98002\"}, \"98065\": {\"frequency\": 310, \"value\": \"98065\"}, \"98040\": {\"frequency\": 282, \"value\": \"98040\"}, \"98166\": {\"frequency\": 254, \"value\": \"98166\"}, \"98042\": {\"frequency\": 548, \"value\": \"98042\"}, \"98008\": {\"frequency\": 283, \"value\": \"98008\"}, \"98045\": {\"frequency\": 221, \"value\": \"98045\"}, \"98144\": {\"frequency\": 343, \"value\": \"98144\"}, \"98027\": {\"frequency\": 412, \"value\": \"98027\"}, \"98010\": {\"frequency\": 100, \"value\": \"98010\"}, \"98109\": {\"frequency\": 109, \"value\": \"98109\"}, \"98108\": {\"frequency\": 186, \"value\": \"98108\"}, \"98028\": {\"frequency\": 283, \"value\": \"98028\"}, \"98029\": {\"frequency\": 321, \"value\": \"98029\"}, \"98105\": {\"frequency\": 229, \"value\": \"98105\"}, \"98122\": {\"frequency\": 290, \"value\": \"98122\"}, \"98024\": {\"frequency\": 81, \"value\": \"98024\"}, \"98146\": {\"frequency\": 288, \"value\": \"98146\"}, \"98022\": {\"frequency\": 234, \"value\": \"98022\"}, \"98126\": {\"frequency\": 354, \"value\": \"98126\"}, \"98103\": {\"frequency\": 602, \"value\": \"98103\"}, \"98023\": {\"frequency\": 499, \"value\": \"98023\"}, \"98125\": {\"frequency\": 410, \"value\": \"98125\"}, \"98148\": {\"frequency\": 57, \"value\": \"98148\"}, \"98031\": {\"frequency\": 274, \"value\": \"98031\"}, \"98102\": {\"frequency\": 105, \"value\": \"98102\"}, \"98188\": {\"frequency\": 136, \"value\": \"98188\"}, \"98034\": {\"frequency\": 545, \"value\": \"98034\"}, \"98106\": {\"frequency\": 335, \"value\": \"98106\"}, \"98014\": {\"frequency\": 124, \"value\": \"98014\"}, \"98107\": {\"frequency\": 266, \"value\": \"98107\"}, \"98155\": {\"frequency\": 446, \"value\": \"98155\"}, \"98052\": {\"frequency\": 574, \"value\": \"98052\"}, \"98178\": {\"frequency\": 262, \"value\": \"98178\"}, \"98070\": {\"frequency\": 118, \"value\": \"98070\"}, \"98136\": {\"frequency\": 263, \"value\": \"98136\"}, \"98072\": {\"frequency\": 273, \"value\": \"98072\"}, \"98075\": {\"frequency\": 359, \"value\": \"98075\"}, \"98074\": {\"frequency\": 441, \"value\": \"98074\"}, \"98059\": {\"frequency\": 468, \"value\": \"98059\"}, \"98133\": {\"frequency\": 494, \"value\": \"98133\"}, \"98056\": {\"frequency\": 406, \"value\": \"98056\"}, \"98055\": {\"frequency\": 268, \"value\": \"98055\"}, \"98053\": {\"frequency\": 405, \"value\": \"98053\"}, \"98168\": {\"frequency\": 269, \"value\": \"98168\"}, \"98177\": {\"frequency\": 255, \"value\": \"98177\"}}, \"size\": 21613}, \"sqft_living\": {\"std\": 918.4196493828819, \"complete\": true, \"min\": 290.0, \"max\": 13540.0, \"quantile\": [290.0, 720.0, 790.0, 850.0, 900.0, 940.0, 970.0, 1010.0, 1030.0, 1060.0, 1090.0, 1120.0, 1150.0, 1170.0, 1200.0, 1220.0, 1240.0, 1260.0, 1280.0, 1300.0, 1320.0, 1340.0, 1370.0, 1390.0, 1408.0, 1420.0, 1440.0, 1460.0, 1480.0, 1500.0, 1520.0, 1540.0, 1560.0, 1580.0, 1600.0, 1610.0, 1640.0, 1660.0, 1670.0, 1690.0, 1710.0, 1730.0, 1750.0, 1770.0, 1790.0, 1810.0, 1830.0, 1850.0, 1870.0, 1890.0, 1910.0, 1940.0, 1960.0, 1980.0, 2000.0, 2020.0, 2050.0, 2070.0, 2090.0, 2110.0, 2130.0, 2160.0, 2180.0, 2201.0, 2230.0, 2260.0, 2290.0, 2320.0, 2340.0, 2370.0, 2400.0, 2420.0, 2450.0, 2490.0, 2520.0, 2550.0, 2588.0, 2620.0, 2660.0, 2690.0, 2730.0, 2780.0, 2810.0, 2860.0, 2910.0, 2970.0, 3020.0, 3070.0, 3140.0, 3190.0, 3250.0, 3340.0, 3420.0, 3510.0, 3640.0, 3770.0, 3930.0, 4140.0, 4400.0, 5010.0, 13540.0], \"median\": 1910.0, \"numeric\": true, \"num_unique\": 1044, \"num_undefined\": 0, \"var\": 843494.6523725756, \"progress\": 1.0, \"size\": 21613, \"frequent_items\": {\"2050.0\": {\"frequency\": 83, \"value\": 2050.0}, \"4100.0\": {\"frequency\": 5, \"value\": 4100.0}, \"2056.0\": {\"frequency\": 2, \"value\": 2056.0}, \"2732.0\": {\"frequency\": 2, \"value\": 2732.0}, \"2060.0\": {\"frequency\": 100, \"value\": 2060.0}, \"4110.0\": {\"frequency\": 10, \"value\": 4110.0}, \"2064.0\": {\"frequency\": 1, \"value\": 2064.0}, \"4115.0\": {\"frequency\": 1, \"value\": 4115.0}, \"2068.0\": {\"frequency\": 1, \"value\": 2068.0}, \"2070.0\": {\"frequency\": 92, \"value\": 2070.0}, \"4120.0\": {\"frequency\": 9, \"value\": 4120.0}, \"2052.0\": {\"frequency\": 1, \"value\": 2052.0}, \"2074.0\": {\"frequency\": 1, \"value\": 2074.0}, \"2075.0\": {\"frequency\": 2, \"value\": 2075.0}, \"2080.0\": {\"frequency\": 98, \"value\": 2080.0}, \"4130.0\": {\"frequency\": 8, \"value\": 4130.0}, \"2085.0\": {\"frequency\": 1, \"value\": 2085.0}, \"2090.0\": {\"frequency\": 95, \"value\": 2090.0}, \"4140.0\": {\"frequency\": 12, \"value\": 4140.0}, \"2093.0\": {\"frequency\": 1, \"value\": 2093.0}, \"2095.0\": {\"frequency\": 3, \"value\": 2095.0}, \"2099.0\": {\"frequency\": 1, \"value\": 2099.0}, \"2100.0\": {\"frequency\": 116, \"value\": 2100.0}, \"4150.0\": {\"frequency\": 10, \"value\": 4150.0}, \"6200.0\": {\"frequency\": 2, \"value\": 6200.0}, \"2105.0\": {\"frequency\": 1, \"value\": 2105.0}, \"2110.0\": {\"frequency\": 82, \"value\": 2110.0}, \"4160.0\": {\"frequency\": 7, \"value\": 4160.0}, \"6210.0\": {\"frequency\": 1, \"value\": 6210.0}, \"2115.0\": {\"frequency\": 1, \"value\": 2115.0}, \"2120.0\": {\"frequency\": 111, \"value\": 2120.0}, \"4170.0\": {\"frequency\": 6, \"value\": 4170.0}, \"2744.0\": {\"frequency\": 1, \"value\": 2744.0}, \"2130.0\": {\"frequency\": 94, \"value\": 2130.0}, \"4180.0\": {\"frequency\": 7, \"value\": 4180.0}, \"2134.0\": {\"frequency\": 1, \"value\": 2134.0}, \"2140.0\": {\"frequency\": 78, \"value\": 2140.0}, \"4190.0\": {\"frequency\": 6, \"value\": 4190.0}, \"6240.0\": {\"frequency\": 1, \"value\": 6240.0}, \"2145.0\": {\"frequency\": 1, \"value\": 2145.0}, \"2150.0\": {\"frequency\": 85, \"value\": 2150.0}, \"4200.0\": {\"frequency\": 6, \"value\": 4200.0}, \"2153.0\": {\"frequency\": 1, \"value\": 2153.0}, \"2154.0\": {\"frequency\": 2, \"value\": 2154.0}, \"2155.0\": {\"frequency\": 1, \"value\": 2155.0}, \"2156.0\": {\"frequency\": 1, \"value\": 2156.0}, \"2160.0\": {\"frequency\": 96, \"value\": 2160.0}, \"5480.0\": {\"frequency\": 4, \"value\": 5480.0}, \"4210.0\": {\"frequency\": 7, \"value\": 4210.0}, \"2163.0\": {\"frequency\": 2, \"value\": 2163.0}, \"6260.0\": {\"frequency\": 1, \"value\": 6260.0}, \"2166.0\": {\"frequency\": 1, \"value\": 2166.0}, \"2168.0\": {\"frequency\": 2, \"value\": 2168.0}, \"2170.0\": {\"frequency\": 80, \"value\": 2170.0}, \"4220.0\": {\"frequency\": 8, \"value\": 4220.0}, \"4225.0\": {\"frequency\": 1, \"value\": 4225.0}, \"2180.0\": {\"frequency\": 89, \"value\": 2180.0}, \"2181.0\": {\"frequency\": 1, \"value\": 2181.0}, \"4230.0\": {\"frequency\": 11, \"value\": 4230.0}, \"2185.0\": {\"frequency\": 1, \"value\": 2185.0}, \"2190.0\": {\"frequency\": 92, \"value\": 2190.0}, \"4240.0\": {\"frequency\": 7, \"value\": 4240.0}, \"3960.0\": {\"frequency\": 11, \"value\": 3960.0}, \"2195.0\": {\"frequency\": 1, \"value\": 2195.0}, \"2196.0\": {\"frequency\": 1, \"value\": 2196.0}, \"2414.0\": {\"frequency\": 1, \"value\": 2414.0}, \"2198.0\": {\"frequency\": 1, \"value\": 2198.0}, \"2200.0\": {\"frequency\": 93, \"value\": 2200.0}, \"2201.0\": {\"frequency\": 1, \"value\": 2201.0}, \"4250.0\": {\"frequency\": 10, \"value\": 4250.0}, \"6300.0\": {\"frequency\": 1, \"value\": 6300.0}, \"2206.0\": {\"frequency\": 1, \"value\": 2206.0}, \"2208.0\": {\"frequency\": 1, \"value\": 2208.0}, \"1392.0\": {\"frequency\": 1, \"value\": 1392.0}, \"2210.0\": {\"frequency\": 74, \"value\": 2210.0}, \"4260.0\": {\"frequency\": 6, \"value\": 4260.0}, \"2216.0\": {\"frequency\": 1, \"value\": 2216.0}, \"2217.0\": {\"frequency\": 1, \"value\": 2217.0}, \"2220.0\": {\"frequency\": 75, \"value\": 2220.0}, \"4270.0\": {\"frequency\": 11, \"value\": 4270.0}, \"2223.0\": {\"frequency\": 1, \"value\": 2223.0}, \"2229.0\": {\"frequency\": 1, \"value\": 2229.0}, \"2230.0\": {\"frequency\": 82, \"value\": 2230.0}, \"4280.0\": {\"frequency\": 9, \"value\": 4280.0}, \"2233.0\": {\"frequency\": 1, \"value\": 2233.0}, \"6330.0\": {\"frequency\": 1, \"value\": 6330.0}, \"2235.0\": {\"frequency\": 1, \"value\": 2235.0}, \"4285.0\": {\"frequency\": 2, \"value\": 4285.0}, \"2238.0\": {\"frequency\": 1, \"value\": 2238.0}, \"2240.0\": {\"frequency\": 101, \"value\": 2240.0}, \"4290.0\": {\"frequency\": 7, \"value\": 4290.0}, \"2244.0\": {\"frequency\": 1, \"value\": 2244.0}, \"2245.0\": {\"frequency\": 2, \"value\": 2245.0}, \"2250.0\": {\"frequency\": 68, \"value\": 2250.0}, \"2251.0\": {\"frequency\": 1, \"value\": 2251.0}, \"4300.0\": {\"frequency\": 8, \"value\": 4300.0}, \"2253.0\": {\"frequency\": 1, \"value\": 2253.0}, \"1741.0\": {\"frequency\": 2, \"value\": 1741.0}, \"2257.0\": {\"frequency\": 1, \"value\": 2257.0}, \"2259.0\": {\"frequency\": 1, \"value\": 2259.0}, \"2260.0\": {\"frequency\": 79, \"value\": 2260.0}, \"4310.0\": {\"frequency\": 5, \"value\": 4310.0}, \"2267.0\": {\"frequency\": 1, \"value\": 2267.0}, \"2270.0\": {\"frequency\": 62, \"value\": 2270.0}, \"4133.0\": {\"frequency\": 1, \"value\": 4133.0}, \"4320.0\": {\"frequency\": 9, \"value\": 4320.0}, \"6370.0\": {\"frequency\": 1, \"value\": 6370.0}, \"2280.0\": {\"frequency\": 81, \"value\": 2280.0}, \"4330.0\": {\"frequency\": 4, \"value\": 4330.0}, \"2283.0\": {\"frequency\": 1, \"value\": 2283.0}, \"6380.0\": {\"frequency\": 1, \"value\": 6380.0}, \"2286.0\": {\"frequency\": 1, \"value\": 2286.0}, \"2290.0\": {\"frequency\": 80, \"value\": 2290.0}, \"4340.0\": {\"frequency\": 8, \"value\": 4340.0}, \"6390.0\": {\"frequency\": 1, \"value\": 6390.0}, \"4168.0\": {\"frequency\": 1, \"value\": 4168.0}, \"2298.0\": {\"frequency\": 1, \"value\": 2298.0}, \"2300.0\": {\"frequency\": 84, \"value\": 2300.0}, \"2301.0\": {\"frequency\": 1, \"value\": 2301.0}, \"4350.0\": {\"frequency\": 7, \"value\": 4350.0}, \"2303.0\": {\"frequency\": 3, \"value\": 2303.0}, \"6400.0\": {\"frequency\": 1, \"value\": 6400.0}, \"2305.0\": {\"frequency\": 1, \"value\": 2305.0}, \"2310.0\": {\"frequency\": 59, \"value\": 2310.0}, \"2311.0\": {\"frequency\": 1, \"value\": 2311.0}, \"4360.0\": {\"frequency\": 9, \"value\": 4360.0}, \"2092.0\": {\"frequency\": 1, \"value\": 2092.0}, \"6410.0\": {\"frequency\": 1, \"value\": 6410.0}, \"6530.0\": {\"frequency\": 1, \"value\": 6530.0}, \"2320.0\": {\"frequency\": 90, \"value\": 2320.0}, \"1752.0\": {\"frequency\": 1, \"value\": 1752.0}, \"4370.0\": {\"frequency\": 8, \"value\": 4370.0}, \"3118.0\": {\"frequency\": 1, \"value\": 3118.0}, \"2329.0\": {\"frequency\": 2, \"value\": 2329.0}, \"2330.0\": {\"frequency\": 76, \"value\": 2330.0}, \"2331.0\": {\"frequency\": 1, \"value\": 2331.0}, \"4380.0\": {\"frequency\": 7, \"value\": 4380.0}, \"6430.0\": {\"frequency\": 1, \"value\": 6430.0}, \"1072.0\": {\"frequency\": 1, \"value\": 1072.0}, \"4386.0\": {\"frequency\": 1, \"value\": 4386.0}, \"2340.0\": {\"frequency\": 80, \"value\": 2340.0}, \"2341.0\": {\"frequency\": 1, \"value\": 2341.0}, \"4390.0\": {\"frequency\": 7, \"value\": 4390.0}, \"2344.0\": {\"frequency\": 2, \"value\": 2344.0}, \"2350.0\": {\"frequency\": 74, \"value\": 2350.0}, \"4400.0\": {\"frequency\": 5, \"value\": 4400.0}, \"3488.0\": {\"frequency\": 1, \"value\": 3488.0}, \"2738.0\": {\"frequency\": 1, \"value\": 2738.0}, \"2360.0\": {\"frequency\": 75, \"value\": 2360.0}, \"1076.0\": {\"frequency\": 1, \"value\": 1076.0}, \"4410.0\": {\"frequency\": 12, \"value\": 4410.0}, \"2370.0\": {\"frequency\": 75, \"value\": 2370.0}, \"4420.0\": {\"frequency\": 9, \"value\": 4420.0}, \"2375.0\": {\"frequency\": 1, \"value\": 2375.0}, \"2380.0\": {\"frequency\": 64, \"value\": 2380.0}, \"4430.0\": {\"frequency\": 6, \"value\": 4430.0}, \"3470.0\": {\"frequency\": 21, \"value\": 3470.0}, \"2390.0\": {\"frequency\": 85, \"value\": 2390.0}, \"4440.0\": {\"frequency\": 7, \"value\": 4440.0}, \"2393.0\": {\"frequency\": 1, \"value\": 2393.0}, \"6490.0\": {\"frequency\": 1, \"value\": 6490.0}, \"2395.0\": {\"frequency\": 1, \"value\": 2395.0}, \"2398.0\": {\"frequency\": 1, \"value\": 2398.0}, \"2400.0\": {\"frequency\": 84, \"value\": 2400.0}, \"4450.0\": {\"frequency\": 2, \"value\": 4450.0}, \"2403.0\": {\"frequency\": 1, \"value\": 2403.0}, \"6500.0\": {\"frequency\": 1, \"value\": 6500.0}, \"2406.0\": {\"frequency\": 1, \"value\": 2406.0}, \"1084.0\": {\"frequency\": 1, \"value\": 1084.0}, \"2410.0\": {\"frequency\": 57, \"value\": 2410.0}, \"4460.0\": {\"frequency\": 9, \"value\": 4460.0}, \"2413.0\": {\"frequency\": 1, \"value\": 2413.0}, \"6510.0\": {\"frequency\": 1, \"value\": 6510.0}, \"2415.0\": {\"frequency\": 1, \"value\": 2415.0}, \"370.0\": {\"frequency\": 1, \"value\": 370.0}, \"2420.0\": {\"frequency\": 88, \"value\": 2420.0}, \"4470.0\": {\"frequency\": 7, \"value\": 4470.0}, \"2423.0\": {\"frequency\": 1, \"value\": 2423.0}, \"2424.0\": {\"frequency\": 2, \"value\": 2424.0}, \"2425.0\": {\"frequency\": 1, \"value\": 2425.0}, \"4475.0\": {\"frequency\": 2, \"value\": 4475.0}, \"380.0\": {\"frequency\": 1, \"value\": 380.0}, \"2430.0\": {\"frequency\": 70, \"value\": 2430.0}, \"2432.0\": {\"frequency\": 1, \"value\": 2432.0}, \"3136.0\": {\"frequency\": 1, \"value\": 3136.0}, \"2434.0\": {\"frequency\": 1, \"value\": 2434.0}, \"2437.0\": {\"frequency\": 1, \"value\": 2437.0}, \"390.0\": {\"frequency\": 2, \"value\": 390.0}, \"2440.0\": {\"frequency\": 87, \"value\": 2440.0}, \"2441.0\": {\"frequency\": 1, \"value\": 2441.0}, \"4490.0\": {\"frequency\": 8, \"value\": 4490.0}, \"4495.0\": {\"frequency\": 1, \"value\": 4495.0}, \"2448.0\": {\"frequency\": 1, \"value\": 2448.0}, \"2450.0\": {\"frequency\": 52, \"value\": 2450.0}, \"4500.0\": {\"frequency\": 8, \"value\": 4500.0}, \"2798.0\": {\"frequency\": 2, \"value\": 2798.0}, \"6550.0\": {\"frequency\": 1, \"value\": 6550.0}, \"5810.0\": {\"frequency\": 1, \"value\": 5810.0}, \"2456.0\": {\"frequency\": 1, \"value\": 2456.0}, \"1092.0\": {\"frequency\": 1, \"value\": 1092.0}, \"410.0\": {\"frequency\": 1, \"value\": 410.0}, \"2460.0\": {\"frequency\": 66, \"value\": 2460.0}, \"4510.0\": {\"frequency\": 4, \"value\": 4510.0}, \"6563.0\": {\"frequency\": 1, \"value\": 6563.0}, \"420.0\": {\"frequency\": 2, \"value\": 420.0}, \"2470.0\": {\"frequency\": 52, \"value\": 2470.0}, \"4520.0\": {\"frequency\": 2, \"value\": 4520.0}, \"2473.0\": {\"frequency\": 1, \"value\": 2473.0}, \"2475.0\": {\"frequency\": 4, \"value\": 2475.0}, \"430.0\": {\"frequency\": 1, \"value\": 430.0}, \"2480.0\": {\"frequency\": 65, \"value\": 2480.0}, \"2481.0\": {\"frequency\": 1, \"value\": 2481.0}, \"4530.0\": {\"frequency\": 2, \"value\": 4530.0}, \"2483.0\": {\"frequency\": 2, \"value\": 2483.0}, \"440.0\": {\"frequency\": 1, \"value\": 440.0}, \"3828.0\": {\"frequency\": 1, \"value\": 3828.0}, \"2490.0\": {\"frequency\": 58, \"value\": 2490.0}, \"4540.0\": {\"frequency\": 1, \"value\": 4540.0}, \"2495.0\": {\"frequency\": 3, \"value\": 2495.0}, \"2496.0\": {\"frequency\": 1, \"value\": 2496.0}, \"2497.0\": {\"frequency\": 1, \"value\": 2497.0}, \"2500.0\": {\"frequency\": 90, \"value\": 2500.0}, \"1782.0\": {\"frequency\": 1, \"value\": 1782.0}, \"4550.0\": {\"frequency\": 2, \"value\": 4550.0}, \"3148.0\": {\"frequency\": 1, \"value\": 3148.0}, \"2506.0\": {\"frequency\": 2, \"value\": 2506.0}, \"2507.0\": {\"frequency\": 1, \"value\": 2507.0}, \"460.0\": {\"frequency\": 1, \"value\": 460.0}, \"2510.0\": {\"frequency\": 70, \"value\": 2510.0}, \"4560.0\": {\"frequency\": 8, \"value\": 4560.0}, \"2514.0\": {\"frequency\": 1, \"value\": 2514.0}, \"2517.0\": {\"frequency\": 1, \"value\": 2517.0}, \"2518.0\": {\"frequency\": 1, \"value\": 2518.0}, \"2519.0\": {\"frequency\": 1, \"value\": 2519.0}, \"2520.0\": {\"frequency\": 71, \"value\": 2520.0}, \"1444.0\": {\"frequency\": 1, \"value\": 1444.0}, \"4570.0\": {\"frequency\": 6, \"value\": 4570.0}, \"8670.0\": {\"frequency\": 1, \"value\": 8670.0}, \"4575.0\": {\"frequency\": 1, \"value\": 4575.0}, \"480.0\": {\"frequency\": 2, \"value\": 480.0}, \"2529.0\": {\"frequency\": 1, \"value\": 2529.0}, \"2530.0\": {\"frequency\": 48, \"value\": 2530.0}, \"2531.0\": {\"frequency\": 1, \"value\": 2531.0}, \"4580.0\": {\"frequency\": 2, \"value\": 4580.0}, \"6630.0\": {\"frequency\": 1, \"value\": 6630.0}, \"490.0\": {\"frequency\": 1, \"value\": 490.0}, \"2540.0\": {\"frequency\": 61, \"value\": 2540.0}, \"4590.0\": {\"frequency\": 7, \"value\": 4590.0}, \"6640.0\": {\"frequency\": 2, \"value\": 6640.0}, \"2547.0\": {\"frequency\": 1, \"value\": 2547.0}, \"500.0\": {\"frequency\": 1, \"value\": 500.0}, \"2550.0\": {\"frequency\": 74, \"value\": 2550.0}, \"4600.0\": {\"frequency\": 6, \"value\": 4600.0}, \"2555.0\": {\"frequency\": 1, \"value\": 2555.0}, \"2557.0\": {\"frequency\": 1, \"value\": 2557.0}, \"2560.0\": {\"frequency\": 58, \"value\": 2560.0}, \"4610.0\": {\"frequency\": 7, \"value\": 4610.0}, \"520.0\": {\"frequency\": 6, \"value\": 520.0}, \"2570.0\": {\"frequency\": 62, \"value\": 2570.0}, \"4620.0\": {\"frequency\": 3, \"value\": 4620.0}, \"6670.0\": {\"frequency\": 1, \"value\": 6670.0}, \"2575.0\": {\"frequency\": 1, \"value\": 2575.0}, \"2577.0\": {\"frequency\": 1, \"value\": 2577.0}, \"2578.0\": {\"frequency\": 1, \"value\": 2578.0}, \"2580.0\": {\"frequency\": 51, \"value\": 2580.0}, \"2478.0\": {\"frequency\": 1, \"value\": 2478.0}, \"4630.0\": {\"frequency\": 2, \"value\": 4630.0}, \"2584.0\": {\"frequency\": 1, \"value\": 2584.0}, \"540.0\": {\"frequency\": 2, \"value\": 540.0}, \"2590.0\": {\"frequency\": 55, \"value\": 2590.0}, \"4640.0\": {\"frequency\": 4, \"value\": 4640.0}, \"2594.0\": {\"frequency\": 1, \"value\": 2594.0}, \"4645.0\": {\"frequency\": 1, \"value\": 4645.0}, \"550.0\": {\"frequency\": 4, \"value\": 550.0}, \"2600.0\": {\"frequency\": 68, \"value\": 2600.0}, \"2601.0\": {\"frequency\": 1, \"value\": 2601.0}, \"4650.0\": {\"frequency\": 2, \"value\": 4650.0}, \"2605.0\": {\"frequency\": 3, \"value\": 2605.0}, \"560.0\": {\"frequency\": 4, \"value\": 560.0}, \"2610.0\": {\"frequency\": 51, \"value\": 2610.0}, \"4660.0\": {\"frequency\": 6, \"value\": 4660.0}, \"570.0\": {\"frequency\": 3, \"value\": 570.0}, \"2620.0\": {\"frequency\": 73, \"value\": 2620.0}, \"1802.0\": {\"frequency\": 1, \"value\": 1802.0}, \"4670.0\": {\"frequency\": 5, \"value\": 4670.0}, \"2623.0\": {\"frequency\": 1, \"value\": 2623.0}, \"580.0\": {\"frequency\": 5, \"value\": 580.0}, \"2630.0\": {\"frequency\": 53, \"value\": 2630.0}, \"2632.0\": {\"frequency\": 2, \"value\": 2632.0}, \"2828.0\": {\"frequency\": 1, \"value\": 2828.0}, \"1122.0\": {\"frequency\": 2, \"value\": 1122.0}, \"590.0\": {\"frequency\": 5, \"value\": 590.0}, \"2640.0\": {\"frequency\": 50, \"value\": 2640.0}, \"2641.0\": {\"frequency\": 2, \"value\": 2641.0}, \"4690.0\": {\"frequency\": 5, \"value\": 4690.0}, \"2643.0\": {\"frequency\": 1, \"value\": 2643.0}, \"600.0\": {\"frequency\": 7, \"value\": 600.0}, \"3172.0\": {\"frequency\": 1, \"value\": 3172.0}, \"2650.0\": {\"frequency\": 60, \"value\": 2650.0}, \"4700.0\": {\"frequency\": 8, \"value\": 4700.0}, \"2653.0\": {\"frequency\": 1, \"value\": 2653.0}, \"2655.0\": {\"frequency\": 1, \"value\": 2655.0}, \"2656.0\": {\"frequency\": 1, \"value\": 2656.0}, \"610.0\": {\"frequency\": 4, \"value\": 610.0}, \"2660.0\": {\"frequency\": 62, \"value\": 2660.0}, \"4710.0\": {\"frequency\": 1, \"value\": 4710.0}, \"2665.0\": {\"frequency\": 1, \"value\": 2665.0}, \"3362.0\": {\"frequency\": 1, \"value\": 3362.0}, \"620.0\": {\"frequency\": 12, \"value\": 620.0}, \"2669.0\": {\"frequency\": 1, \"value\": 2669.0}, \"2670.0\": {\"frequency\": 46, \"value\": 2670.0}, \"4720.0\": {\"frequency\": 4, \"value\": 4720.0}, \"2675.0\": {\"frequency\": 1, \"value\": 2675.0}, \"630.0\": {\"frequency\": 5, \"value\": 630.0}, \"2680.0\": {\"frequency\": 64, \"value\": 2680.0}, \"1812.0\": {\"frequency\": 1, \"value\": 1812.0}, \"4730.0\": {\"frequency\": 2, \"value\": 4730.0}, \"2683.0\": {\"frequency\": 1, \"value\": 2683.0}, \"640.0\": {\"frequency\": 5, \"value\": 640.0}, \"2689.0\": {\"frequency\": 2, \"value\": 2689.0}, \"2690.0\": {\"frequency\": 42, \"value\": 2690.0}, \"4740.0\": {\"frequency\": 5, \"value\": 4740.0}, \"1934.0\": {\"frequency\": 1, \"value\": 1934.0}, \"650.0\": {\"frequency\": 3, \"value\": 650.0}, \"2700.0\": {\"frequency\": 58, \"value\": 2700.0}, \"2701.0\": {\"frequency\": 2, \"value\": 2701.0}, \"4750.0\": {\"frequency\": 5, \"value\": 4750.0}, \"660.0\": {\"frequency\": 6, \"value\": 660.0}, \"2710.0\": {\"frequency\": 51, \"value\": 2710.0}, \"4760.0\": {\"frequency\": 1, \"value\": 4760.0}, \"2714.0\": {\"frequency\": 2, \"value\": 2714.0}, \"2716.0\": {\"frequency\": 1, \"value\": 2716.0}, \"2717.0\": {\"frequency\": 1, \"value\": 2717.0}, \"670.0\": {\"frequency\": 25, \"value\": 670.0}, \"2720.0\": {\"frequency\": 58, \"value\": 2720.0}, \"4770.0\": {\"frequency\": 2, \"value\": 4770.0}, \"2502.0\": {\"frequency\": 1, \"value\": 2502.0}, \"6160.0\": {\"frequency\": 1, \"value\": 6160.0}, \"680.0\": {\"frequency\": 13, \"value\": 680.0}, \"2730.0\": {\"frequency\": 48, \"value\": 2730.0}, \"4780.0\": {\"frequency\": 2, \"value\": 4780.0}, \"2734.0\": {\"frequency\": 1, \"value\": 2734.0}, \"690.0\": {\"frequency\": 8, \"value\": 690.0}, \"2740.0\": {\"frequency\": 53, \"value\": 2740.0}, \"4790.0\": {\"frequency\": 2, \"value\": 4790.0}, \"6840.0\": {\"frequency\": 1, \"value\": 6840.0}, \"700.0\": {\"frequency\": 36, \"value\": 700.0}, \"2750.0\": {\"frequency\": 40, \"value\": 2750.0}, \"4800.0\": {\"frequency\": 3, \"value\": 4800.0}, \"2753.0\": {\"frequency\": 1, \"value\": 2753.0}, \"2755.0\": {\"frequency\": 2, \"value\": 2755.0}, \"710.0\": {\"frequency\": 27, \"value\": 710.0}, \"2760.0\": {\"frequency\": 43, \"value\": 2760.0}, \"4810.0\": {\"frequency\": 2, \"value\": 4810.0}, \"720.0\": {\"frequency\": 49, \"value\": 720.0}, \"3192.0\": {\"frequency\": 1, \"value\": 3192.0}, \"2770.0\": {\"frequency\": 56, \"value\": 2770.0}, \"4820.0\": {\"frequency\": 1, \"value\": 4820.0}, \"730.0\": {\"frequency\": 14, \"value\": 730.0}, \"2780.0\": {\"frequency\": 47, \"value\": 2780.0}, \"4830.0\": {\"frequency\": 4, \"value\": 4830.0}, \"2783.0\": {\"frequency\": 1, \"value\": 2783.0}, \"6880.0\": {\"frequency\": 1, \"value\": 6880.0}, \"740.0\": {\"frequency\": 22, \"value\": 740.0}, \"2789.0\": {\"frequency\": 1, \"value\": 2789.0}, \"2790.0\": {\"frequency\": 52, \"value\": 2790.0}, \"2793.0\": {\"frequency\": 1, \"value\": 2793.0}, \"2795.0\": {\"frequency\": 1, \"value\": 2795.0}, \"2796.0\": {\"frequency\": 1, \"value\": 2796.0}, \"750.0\": {\"frequency\": 27, \"value\": 750.0}, \"2800.0\": {\"frequency\": 54, \"value\": 2800.0}, \"4850.0\": {\"frequency\": 4, \"value\": 4850.0}, \"2803.0\": {\"frequency\": 1, \"value\": 2803.0}, \"6900.0\": {\"frequency\": 1, \"value\": 6900.0}, \"2807.0\": {\"frequency\": 1, \"value\": 2807.0}, \"760.0\": {\"frequency\": 25, \"value\": 760.0}, \"2810.0\": {\"frequency\": 46, \"value\": 2810.0}, \"2811.0\": {\"frequency\": 1, \"value\": 2811.0}, \"4860.0\": {\"frequency\": 5, \"value\": 4860.0}, \"1834.0\": {\"frequency\": 1, \"value\": 1834.0}, \"2815.0\": {\"frequency\": 2, \"value\": 2815.0}, \"770.0\": {\"frequency\": 42, \"value\": 770.0}, \"2820.0\": {\"frequency\": 54, \"value\": 2820.0}, \"470.0\": {\"frequency\": 2, \"value\": 470.0}, \"4870.0\": {\"frequency\": 3, \"value\": 4870.0}, \"780.0\": {\"frequency\": 26, \"value\": 780.0}, \"3202.0\": {\"frequency\": 1, \"value\": 3202.0}, \"2830.0\": {\"frequency\": 46, \"value\": 2830.0}, \"6930.0\": {\"frequency\": 1, \"value\": 6930.0}, \"4883.0\": {\"frequency\": 1, \"value\": 4883.0}, \"790.0\": {\"frequency\": 38, \"value\": 790.0}, \"2840.0\": {\"frequency\": 49, \"value\": 2840.0}, \"4890.0\": {\"frequency\": 3, \"value\": 4890.0}, \"2844.0\": {\"frequency\": 1, \"value\": 2844.0}, \"2846.0\": {\"frequency\": 1, \"value\": 2846.0}, \"800.0\": {\"frequency\": 47, \"value\": 800.0}, \"2849.0\": {\"frequency\": 1, \"value\": 2849.0}, \"2850.0\": {\"frequency\": 38, \"value\": 2850.0}, \"809.0\": {\"frequency\": 1, \"value\": 809.0}, \"810.0\": {\"frequency\": 27, \"value\": 810.0}, \"2860.0\": {\"frequency\": 39, \"value\": 2860.0}, \"4910.0\": {\"frequency\": 4, \"value\": 4910.0}, \"2864.0\": {\"frequency\": 1, \"value\": 2864.0}, \"820.0\": {\"frequency\": 40, \"value\": 820.0}, \"1502.0\": {\"frequency\": 1, \"value\": 1502.0}, \"2870.0\": {\"frequency\": 38, \"value\": 2870.0}, \"4920.0\": {\"frequency\": 3, \"value\": 4920.0}, \"828.0\": {\"frequency\": 1, \"value\": 828.0}, \"830.0\": {\"frequency\": 36, \"value\": 830.0}, \"2880.0\": {\"frequency\": 46, \"value\": 2880.0}, \"833.0\": {\"frequency\": 1, \"value\": 833.0}, \"4930.0\": {\"frequency\": 4, \"value\": 4930.0}, \"6980.0\": {\"frequency\": 1, \"value\": 6980.0}, \"2885.0\": {\"frequency\": 1, \"value\": 2885.0}, \"840.0\": {\"frequency\": 56, \"value\": 840.0}, \"2890.0\": {\"frequency\": 34, \"value\": 2890.0}, \"2891.0\": {\"frequency\": 1, \"value\": 2891.0}, \"4940.0\": {\"frequency\": 1, \"value\": 4940.0}, \"850.0\": {\"frequency\": 26, \"value\": 850.0}, \"2900.0\": {\"frequency\": 35, \"value\": 2900.0}, \"7000.0\": {\"frequency\": 1, \"value\": 7000.0}, \"2905.0\": {\"frequency\": 1, \"value\": 2905.0}, \"2906.0\": {\"frequency\": 1, \"value\": 2906.0}, \"860.0\": {\"frequency\": 57, \"value\": 860.0}, \"2910.0\": {\"frequency\": 57, \"value\": 2910.0}, \"4960.0\": {\"frequency\": 2, \"value\": 4960.0}, \"2192.0\": {\"frequency\": 1, \"value\": 2192.0}, \"1510.0\": {\"frequency\": 114, \"value\": 1510.0}, \"870.0\": {\"frequency\": 36, \"value\": 870.0}, \"2920.0\": {\"frequency\": 43, \"value\": 2920.0}, \"2876.0\": {\"frequency\": 2, \"value\": 2876.0}, \"4970.0\": {\"frequency\": 1, \"value\": 4970.0}, \"2927.0\": {\"frequency\": 2, \"value\": 2927.0}, \"880.0\": {\"frequency\": 54, \"value\": 880.0}, \"2930.0\": {\"frequency\": 37, \"value\": 2930.0}, \"4980.0\": {\"frequency\": 2, \"value\": 4980.0}, \"3030.0\": {\"frequency\": 45, \"value\": 3030.0}, \"890.0\": {\"frequency\": 33, \"value\": 890.0}, \"2940.0\": {\"frequency\": 34, \"value\": 2940.0}, \"2538.0\": {\"frequency\": 1, \"value\": 2538.0}, \"894.0\": {\"frequency\": 1, \"value\": 894.0}, \"900.0\": {\"frequency\": 53, \"value\": 900.0}, \"901.0\": {\"frequency\": 1, \"value\": 901.0}, \"2950.0\": {\"frequency\": 32, \"value\": 2950.0}, \"5000.0\": {\"frequency\": 4, \"value\": 5000.0}, \"7050.0\": {\"frequency\": 1, \"value\": 7050.0}, \"3223.0\": {\"frequency\": 2, \"value\": 3223.0}, \"910.0\": {\"frequency\": 60, \"value\": 910.0}, \"2960.0\": {\"frequency\": 37, \"value\": 2960.0}, \"2961.0\": {\"frequency\": 1, \"value\": 2961.0}, \"5010.0\": {\"frequency\": 3, \"value\": 5010.0}, \"2963.0\": {\"frequency\": 1, \"value\": 2963.0}, \"2542.0\": {\"frequency\": 1, \"value\": 2542.0}, \"920.0\": {\"frequency\": 51, \"value\": 920.0}, \"2970.0\": {\"frequency\": 29, \"value\": 2970.0}, \"5020.0\": {\"frequency\": 3, \"value\": 5020.0}, \"2544.0\": {\"frequency\": 1, \"value\": 2544.0}, \"930.0\": {\"frequency\": 43, \"value\": 930.0}, \"2979.0\": {\"frequency\": 1, \"value\": 2979.0}, \"2980.0\": {\"frequency\": 57, \"value\": 2980.0}, \"5030.0\": {\"frequency\": 1, \"value\": 5030.0}, \"7080.0\": {\"frequency\": 1, \"value\": 7080.0}, \"940.0\": {\"frequency\": 62, \"value\": 940.0}, \"1522.0\": {\"frequency\": 1, \"value\": 1522.0}, \"2990.0\": {\"frequency\": 48, \"value\": 2990.0}, \"5040.0\": {\"frequency\": 3, \"value\": 5040.0}, \"2993.0\": {\"frequency\": 1, \"value\": 2993.0}, \"950.0\": {\"frequency\": 46, \"value\": 950.0}, \"3000.0\": {\"frequency\": 40, \"value\": 3000.0}, \"3001.0\": {\"frequency\": 1, \"value\": 3001.0}, \"5050.0\": {\"frequency\": 4, \"value\": 5050.0}, \"7100.0\": {\"frequency\": 1, \"value\": 7100.0}, \"960.0\": {\"frequency\": 82, \"value\": 960.0}, \"3010.0\": {\"frequency\": 48, \"value\": 3010.0}, \"1867.0\": {\"frequency\": 1, \"value\": 1867.0}, \"5060.0\": {\"frequency\": 1, \"value\": 5060.0}, \"844.0\": {\"frequency\": 1, \"value\": 844.0}, \"970.0\": {\"frequency\": 49, \"value\": 970.0}, \"5067.0\": {\"frequency\": 1, \"value\": 5067.0}, \"3020.0\": {\"frequency\": 41, \"value\": 3020.0}, \"5070.0\": {\"frequency\": 1, \"value\": 5070.0}, \"7120.0\": {\"frequency\": 1, \"value\": 7120.0}, \"980.0\": {\"frequency\": 53, \"value\": 980.0}, \"982.0\": {\"frequency\": 1, \"value\": 982.0}, \"5080.0\": {\"frequency\": 1, \"value\": 5080.0}, \"988.0\": {\"frequency\": 1, \"value\": 988.0}, \"990.0\": {\"frequency\": 53, \"value\": 990.0}, \"3040.0\": {\"frequency\": 45, \"value\": 3040.0}, \"5090.0\": {\"frequency\": 2, \"value\": 5090.0}, \"3238.0\": {\"frequency\": 1, \"value\": 3238.0}, \"998.0\": {\"frequency\": 2, \"value\": 998.0}, \"1000.0\": {\"frequency\": 73, \"value\": 1000.0}, \"3050.0\": {\"frequency\": 25, \"value\": 3050.0}, \"3052.0\": {\"frequency\": 1, \"value\": 3052.0}, \"1008.0\": {\"frequency\": 1, \"value\": 1008.0}, \"1010.0\": {\"frequency\": 129, \"value\": 1010.0}, \"3060.0\": {\"frequency\": 34, \"value\": 3060.0}, \"5110.0\": {\"frequency\": 2, \"value\": 5110.0}, \"3064.0\": {\"frequency\": 1, \"value\": 3064.0}, \"1876.0\": {\"frequency\": 1, \"value\": 1876.0}, \"1020.0\": {\"frequency\": 73, \"value\": 1020.0}, \"3070.0\": {\"frequency\": 36, \"value\": 3070.0}, \"5120.0\": {\"frequency\": 2, \"value\": 5120.0}, \"1030.0\": {\"frequency\": 57, \"value\": 1030.0}, \"3080.0\": {\"frequency\": 36, \"value\": 3080.0}, \"3444.0\": {\"frequency\": 1, \"value\": 3444.0}, \"5130.0\": {\"frequency\": 1, \"value\": 5130.0}, \"3085.0\": {\"frequency\": 1, \"value\": 3085.0}, \"12050.0\": {\"frequency\": 1, \"value\": 12050.0}, \"3087.0\": {\"frequency\": 1, \"value\": 3087.0}, \"1040.0\": {\"frequency\": 78, \"value\": 1040.0}, \"3090.0\": {\"frequency\": 38, \"value\": 3090.0}, \"1048.0\": {\"frequency\": 1, \"value\": 1048.0}, \"1050.0\": {\"frequency\": 68, \"value\": 1050.0}, \"3100.0\": {\"frequency\": 34, \"value\": 3100.0}, \"5150.0\": {\"frequency\": 3, \"value\": 5150.0}, \"1060.0\": {\"frequency\": 94, \"value\": 1060.0}, \"1061.0\": {\"frequency\": 1, \"value\": 1061.0}, \"3110.0\": {\"frequency\": 35, \"value\": 3110.0}, \"5160.0\": {\"frequency\": 1, \"value\": 5160.0}, \"1068.0\": {\"frequency\": 3, \"value\": 1068.0}, \"1070.0\": {\"frequency\": 76, \"value\": 1070.0}, \"3120.0\": {\"frequency\": 24, \"value\": 3120.0}, \"2568.0\": {\"frequency\": 1, \"value\": 2568.0}, \"5170.0\": {\"frequency\": 1, \"value\": 5170.0}, \"7220.0\": {\"frequency\": 1, \"value\": 7220.0}, \"1078.0\": {\"frequency\": 1, \"value\": 1078.0}, \"1080.0\": {\"frequency\": 50, \"value\": 1080.0}, \"3130.0\": {\"frequency\": 35, \"value\": 3130.0}, \"5180.0\": {\"frequency\": 5, \"value\": 5180.0}, \"3133.0\": {\"frequency\": 1, \"value\": 3133.0}, \"3135.0\": {\"frequency\": 1, \"value\": 3135.0}, \"1088.0\": {\"frequency\": 2, \"value\": 1088.0}, \"1090.0\": {\"frequency\": 69, \"value\": 1090.0}, \"3140.0\": {\"frequency\": 32, \"value\": 3140.0}, \"5190.0\": {\"frequency\": 3, \"value\": 5190.0}, \"1095.0\": {\"frequency\": 1, \"value\": 1095.0}, \"1100.0\": {\"frequency\": 79, \"value\": 1100.0}, \"3150.0\": {\"frequency\": 36, \"value\": 3150.0}, \"1108.0\": {\"frequency\": 1, \"value\": 1108.0}, \"1110.0\": {\"frequency\": 48, \"value\": 1110.0}, \"3160.0\": {\"frequency\": 49, \"value\": 3160.0}, \"5210.0\": {\"frequency\": 1, \"value\": 5210.0}, \"1120.0\": {\"frequency\": 86, \"value\": 1120.0}, \"1552.0\": {\"frequency\": 2, \"value\": 1552.0}, \"3170.0\": {\"frequency\": 22, \"value\": 3170.0}, \"5220.0\": {\"frequency\": 2, \"value\": 5220.0}, \"1894.0\": {\"frequency\": 1, \"value\": 1894.0}, \"7270.0\": {\"frequency\": 1, \"value\": 7270.0}, \"3176.0\": {\"frequency\": 1, \"value\": 3176.0}, \"1129.0\": {\"frequency\": 1, \"value\": 1129.0}, \"1130.0\": {\"frequency\": 56, \"value\": 1130.0}, \"1131.0\": {\"frequency\": 1, \"value\": 1131.0}, \"3180.0\": {\"frequency\": 41, \"value\": 3180.0}, \"3181.0\": {\"frequency\": 1, \"value\": 3181.0}, \"5230.0\": {\"frequency\": 3, \"value\": 5230.0}, \"1140.0\": {\"frequency\": 100, \"value\": 1140.0}, \"3190.0\": {\"frequency\": 47, \"value\": 3190.0}, \"5240.0\": {\"frequency\": 1, \"value\": 5240.0}, \"2708.0\": {\"frequency\": 1, \"value\": 2708.0}, \"1150.0\": {\"frequency\": 98, \"value\": 1150.0}, \"3200.0\": {\"frequency\": 36, \"value\": 3200.0}, \"5250.0\": {\"frequency\": 1, \"value\": 5250.0}, \"3206.0\": {\"frequency\": 1, \"value\": 3206.0}, \"1159.0\": {\"frequency\": 1, \"value\": 1159.0}, \"1160.0\": {\"frequency\": 91, \"value\": 1160.0}, \"3210.0\": {\"frequency\": 18, \"value\": 3210.0}, \"2242.0\": {\"frequency\": 5, \"value\": 2242.0}, \"3216.0\": {\"frequency\": 1, \"value\": 3216.0}, \"3217.0\": {\"frequency\": 1, \"value\": 3217.0}, \"1170.0\": {\"frequency\": 78, \"value\": 1170.0}, \"3220.0\": {\"frequency\": 40, \"value\": 3220.0}, \"5270.0\": {\"frequency\": 3, \"value\": 5270.0}, \"1175.0\": {\"frequency\": 2, \"value\": 1175.0}, \"7320.0\": {\"frequency\": 1, \"value\": 7320.0}, \"1180.0\": {\"frequency\": 89, \"value\": 1180.0}, \"3028.0\": {\"frequency\": 1, \"value\": 3028.0}, \"3230.0\": {\"frequency\": 36, \"value\": 3230.0}, \"5280.0\": {\"frequency\": 1, \"value\": 5280.0}, \"3236.0\": {\"frequency\": 1, \"value\": 3236.0}, \"1190.0\": {\"frequency\": 67, \"value\": 1190.0}, \"3240.0\": {\"frequency\": 31, \"value\": 3240.0}, \"2588.0\": {\"frequency\": 2, \"value\": 2588.0}, \"5290.0\": {\"frequency\": 2, \"value\": 5290.0}, \"1200.0\": {\"frequency\": 118, \"value\": 1200.0}, \"3250.0\": {\"frequency\": 28, \"value\": 3250.0}, \"5300.0\": {\"frequency\": 2, \"value\": 5300.0}, \"7350.0\": {\"frequency\": 1, \"value\": 7350.0}, \"5305.0\": {\"frequency\": 1, \"value\": 5305.0}, \"1210.0\": {\"frequency\": 88, \"value\": 1210.0}, \"3260.0\": {\"frequency\": 20, \"value\": 3260.0}, \"5310.0\": {\"frequency\": 4, \"value\": 5310.0}, \"3266.0\": {\"frequency\": 2, \"value\": 3266.0}, \"1220.0\": {\"frequency\": 92, \"value\": 1220.0}, \"3270.0\": {\"frequency\": 23, \"value\": 3270.0}, \"5320.0\": {\"frequency\": 1, \"value\": 5320.0}, \"3273.0\": {\"frequency\": 1, \"value\": 3273.0}, \"3274.0\": {\"frequency\": 1, \"value\": 3274.0}, \"3276.0\": {\"frequency\": 1, \"value\": 3276.0}, \"1230.0\": {\"frequency\": 82, \"value\": 1230.0}, \"3280.0\": {\"frequency\": 29, \"value\": 3280.0}, \"1233.0\": {\"frequency\": 1, \"value\": 1233.0}, \"5330.0\": {\"frequency\": 2, \"value\": 5330.0}, \"3284.0\": {\"frequency\": 1, \"value\": 3284.0}, \"1239.0\": {\"frequency\": 1, \"value\": 1239.0}, \"1240.0\": {\"frequency\": 112, \"value\": 1240.0}, \"1572.0\": {\"frequency\": 1, \"value\": 1572.0}, \"3290.0\": {\"frequency\": 29, \"value\": 3290.0}, \"5340.0\": {\"frequency\": 1, \"value\": 5340.0}, \"7390.0\": {\"frequency\": 1, \"value\": 7390.0}, \"1232.0\": {\"frequency\": 1, \"value\": 1232.0}, \"1250.0\": {\"frequency\": 120, \"value\": 1250.0}, \"13540.0\": {\"frequency\": 1, \"value\": 13540.0}, \"2598.0\": {\"frequency\": 1, \"value\": 2598.0}, \"5350.0\": {\"frequency\": 2, \"value\": 5350.0}, \"1255.0\": {\"frequency\": 2, \"value\": 1255.0}, \"1256.0\": {\"frequency\": 1, \"value\": 1256.0}, \"3305.0\": {\"frequency\": 1, \"value\": 3305.0}, \"1260.0\": {\"frequency\": 113, \"value\": 1260.0}, \"3310.0\": {\"frequency\": 23, \"value\": 3310.0}, \"893.0\": {\"frequency\": 1, \"value\": 893.0}, \"5360.0\": {\"frequency\": 1, \"value\": 5360.0}, \"3316.0\": {\"frequency\": 1, \"value\": 3316.0}, \"1270.0\": {\"frequency\": 102, \"value\": 1270.0}, \"3320.0\": {\"frequency\": 36, \"value\": 3320.0}, \"5370.0\": {\"frequency\": 5, \"value\": 5370.0}, \"1275.0\": {\"frequency\": 1, \"value\": 1275.0}, \"7420.0\": {\"frequency\": 1, \"value\": 7420.0}, \"1278.0\": {\"frequency\": 1, \"value\": 1278.0}, \"1280.0\": {\"frequency\": 100, \"value\": 1280.0}, \"3330.0\": {\"frequency\": 21, \"value\": 3330.0}, \"1290.0\": {\"frequency\": 74, \"value\": 1290.0}, \"3340.0\": {\"frequency\": 22, \"value\": 3340.0}, \"1295.0\": {\"frequency\": 1, \"value\": 1295.0}, \"7440.0\": {\"frequency\": 1, \"value\": 7440.0}, \"384.0\": {\"frequency\": 1, \"value\": 384.0}, \"1300.0\": {\"frequency\": 138, \"value\": 1300.0}, \"3350.0\": {\"frequency\": 22, \"value\": 3350.0}, \"5400.0\": {\"frequency\": 1, \"value\": 5400.0}, \"5403.0\": {\"frequency\": 1, \"value\": 5403.0}, \"1310.0\": {\"frequency\": 81, \"value\": 1310.0}, \"3360.0\": {\"frequency\": 22, \"value\": 3360.0}, \"3361.0\": {\"frequency\": 2, \"value\": 3361.0}, \"5410.0\": {\"frequency\": 1, \"value\": 5410.0}, \"1315.0\": {\"frequency\": 1, \"value\": 1315.0}, \"902.0\": {\"frequency\": 1, \"value\": 902.0}, \"3366.0\": {\"frequency\": 1, \"value\": 3366.0}, \"1320.0\": {\"frequency\": 122, \"value\": 1320.0}, \"3370.0\": {\"frequency\": 39, \"value\": 3370.0}, \"5420.0\": {\"frequency\": 1, \"value\": 5420.0}, \"7730.0\": {\"frequency\": 1, \"value\": 7730.0}, \"1330.0\": {\"frequency\": 89, \"value\": 1330.0}, \"3380.0\": {\"frequency\": 17, \"value\": 3380.0}, \"1333.0\": {\"frequency\": 1, \"value\": 1333.0}, \"5430.0\": {\"frequency\": 2, \"value\": 5430.0}, \"7480.0\": {\"frequency\": 1, \"value\": 7480.0}, \"2612.0\": {\"frequency\": 1, \"value\": 2612.0}, \"1340.0\": {\"frequency\": 113, \"value\": 1340.0}, \"3390.0\": {\"frequency\": 16, \"value\": 3390.0}, \"5440.0\": {\"frequency\": 2, \"value\": 5440.0}, \"1347.0\": {\"frequency\": 1, \"value\": 1347.0}, \"1350.0\": {\"frequency\": 95, \"value\": 1350.0}, \"3400.0\": {\"frequency\": 30, \"value\": 3400.0}, \"3402.0\": {\"frequency\": 1, \"value\": 3402.0}, \"1358.0\": {\"frequency\": 3, \"value\": 1358.0}, \"5860.0\": {\"frequency\": 3, \"value\": 5860.0}, \"1360.0\": {\"frequency\": 96, \"value\": 1360.0}, \"3410.0\": {\"frequency\": 24, \"value\": 3410.0}, \"5461.0\": {\"frequency\": 1, \"value\": 5461.0}, \"3300.0\": {\"frequency\": 24, \"value\": 3300.0}, \"1370.0\": {\"frequency\": 118, \"value\": 1370.0}, \"3420.0\": {\"frequency\": 32, \"value\": 3420.0}, \"5470.0\": {\"frequency\": 2, \"value\": 5470.0}, \"1380.0\": {\"frequency\": 85, \"value\": 1380.0}, \"1381.0\": {\"frequency\": 1, \"value\": 1381.0}, \"3430.0\": {\"frequency\": 20, \"value\": 3430.0}, \"1384.0\": {\"frequency\": 3, \"value\": 1384.0}, \"1390.0\": {\"frequency\": 89, \"value\": 1390.0}, \"3440.0\": {\"frequency\": 27, \"value\": 3440.0}, \"7400.0\": {\"frequency\": 1, \"value\": 7400.0}, \"5490.0\": {\"frequency\": 2, \"value\": 5490.0}, \"1396.0\": {\"frequency\": 1, \"value\": 1396.0}, \"1397.0\": {\"frequency\": 1, \"value\": 1397.0}, \"1400.0\": {\"frequency\": 135, \"value\": 1400.0}, \"3450.0\": {\"frequency\": 24, \"value\": 3450.0}, \"1405.0\": {\"frequency\": 1, \"value\": 1405.0}, \"1408.0\": {\"frequency\": 1, \"value\": 1408.0}, \"1410.0\": {\"frequency\": 109, \"value\": 1410.0}, \"3460.0\": {\"frequency\": 14, \"value\": 3460.0}, \"1413.0\": {\"frequency\": 2, \"value\": 1413.0}, \"3078.0\": {\"frequency\": 1, \"value\": 3078.0}, \"1420.0\": {\"frequency\": 92, \"value\": 1420.0}, \"1422.0\": {\"frequency\": 1, \"value\": 1422.0}, \"5520.0\": {\"frequency\": 1, \"value\": 5520.0}, \"1425.0\": {\"frequency\": 1, \"value\": 1425.0}, \"4480.0\": {\"frequency\": 3, \"value\": 4480.0}, \"1427.0\": {\"frequency\": 1, \"value\": 1427.0}, \"1430.0\": {\"frequency\": 116, \"value\": 1430.0}, \"3480.0\": {\"frequency\": 21, \"value\": 3480.0}, \"2628.0\": {\"frequency\": 1, \"value\": 2628.0}, \"5530.0\": {\"frequency\": 1, \"value\": 5530.0}, \"1435.0\": {\"frequency\": 1, \"value\": 1435.0}, \"1440.0\": {\"frequency\": 133, \"value\": 1440.0}, \"1264.0\": {\"frequency\": 1, \"value\": 1264.0}, \"3490.0\": {\"frequency\": 26, \"value\": 3490.0}, \"5540.0\": {\"frequency\": 2, \"value\": 5540.0}, \"1445.0\": {\"frequency\": 5, \"value\": 1445.0}, \"9640.0\": {\"frequency\": 1, \"value\": 9640.0}, \"5545.0\": {\"frequency\": 1, \"value\": 5545.0}, \"1450.0\": {\"frequency\": 91, \"value\": 1450.0}, \"1451.0\": {\"frequency\": 1, \"value\": 1451.0}, \"3500.0\": {\"frequency\": 29, \"value\": 3500.0}, \"1453.0\": {\"frequency\": 1, \"value\": 1453.0}, \"5550.0\": {\"frequency\": 4, \"value\": 5550.0}, \"3504.0\": {\"frequency\": 1, \"value\": 3504.0}, \"4680.0\": {\"frequency\": 2, \"value\": 4680.0}, \"1458.0\": {\"frequency\": 1, \"value\": 1458.0}, \"1460.0\": {\"frequency\": 116, \"value\": 1460.0}, \"3510.0\": {\"frequency\": 21, \"value\": 3510.0}, \"1463.0\": {\"frequency\": 1, \"value\": 1463.0}, \"1465.0\": {\"frequency\": 1, \"value\": 1465.0}, \"1470.0\": {\"frequency\": 112, \"value\": 1470.0}, \"3520.0\": {\"frequency\": 21, \"value\": 3520.0}, \"1952.0\": {\"frequency\": 1, \"value\": 1952.0}, \"5570.0\": {\"frequency\": 1, \"value\": 5570.0}, \"7620.0\": {\"frequency\": 1, \"value\": 7620.0}, \"3526.0\": {\"frequency\": 1, \"value\": 3526.0}, \"3527.0\": {\"frequency\": 1, \"value\": 3527.0}, \"1480.0\": {\"frequency\": 125, \"value\": 1480.0}, \"1481.0\": {\"frequency\": 2, \"value\": 1481.0}, \"3530.0\": {\"frequency\": 21, \"value\": 3530.0}, \"1484.0\": {\"frequency\": 1, \"value\": 1484.0}, \"1954.0\": {\"frequency\": 2, \"value\": 1954.0}, \"5584.0\": {\"frequency\": 1, \"value\": 5584.0}, \"1489.0\": {\"frequency\": 3, \"value\": 1489.0}, \"1490.0\": {\"frequency\": 99, \"value\": 1490.0}, \"3540.0\": {\"frequency\": 14, \"value\": 3540.0}, \"1494.0\": {\"frequency\": 2, \"value\": 1494.0}, \"1495.0\": {\"frequency\": 1, \"value\": 1495.0}, \"1496.0\": {\"frequency\": 1, \"value\": 1496.0}, \"3545.0\": {\"frequency\": 1, \"value\": 3545.0}, \"1500.0\": {\"frequency\": 112, \"value\": 1500.0}, \"3550.0\": {\"frequency\": 20, \"value\": 3550.0}, \"5600.0\": {\"frequency\": 1, \"value\": 5600.0}, \"3555.0\": {\"frequency\": 1, \"value\": 3555.0}, \"1509.0\": {\"frequency\": 3, \"value\": 1509.0}, \"1414.0\": {\"frequency\": 1, \"value\": 1414.0}, \"3560.0\": {\"frequency\": 28, \"value\": 3560.0}, \"5610.0\": {\"frequency\": 2, \"value\": 5610.0}, \"1516.0\": {\"frequency\": 1, \"value\": 1516.0}, \"1520.0\": {\"frequency\": 102, \"value\": 1520.0}, \"3569.0\": {\"frequency\": 1, \"value\": 3569.0}, \"3570.0\": {\"frequency\": 16, \"value\": 3570.0}, \"5620.0\": {\"frequency\": 2, \"value\": 5620.0}, \"1528.0\": {\"frequency\": 1, \"value\": 1528.0}, \"1530.0\": {\"frequency\": 109, \"value\": 1530.0}, \"3580.0\": {\"frequency\": 14, \"value\": 3580.0}, \"5635.0\": {\"frequency\": 1, \"value\": 5635.0}, \"1540.0\": {\"frequency\": 124, \"value\": 1540.0}, \"3590.0\": {\"frequency\": 7, \"value\": 3590.0}, \"5640.0\": {\"frequency\": 1, \"value\": 5640.0}, \"3595.0\": {\"frequency\": 1, \"value\": 3595.0}, \"3596.0\": {\"frequency\": 1, \"value\": 3596.0}, \"3597.0\": {\"frequency\": 1, \"value\": 3597.0}, \"1550.0\": {\"frequency\": 96, \"value\": 1550.0}, \"3600.0\": {\"frequency\": 25, \"value\": 3600.0}, \"1553.0\": {\"frequency\": 2, \"value\": 1553.0}, \"1556.0\": {\"frequency\": 1, \"value\": 1556.0}, \"1560.0\": {\"frequency\": 124, \"value\": 1560.0}, \"3610.0\": {\"frequency\": 19, \"value\": 3610.0}, \"5660.0\": {\"frequency\": 1, \"value\": 5660.0}, \"1626.0\": {\"frequency\": 1, \"value\": 1626.0}, \"7710.0\": {\"frequency\": 1, \"value\": 7710.0}, \"1570.0\": {\"frequency\": 100, \"value\": 1570.0}, \"1571.0\": {\"frequency\": 1, \"value\": 1571.0}, \"3620.0\": {\"frequency\": 17, \"value\": 3620.0}, \"5670.0\": {\"frequency\": 1, \"value\": 5670.0}, \"1578.0\": {\"frequency\": 1, \"value\": 1578.0}, \"1580.0\": {\"frequency\": 119, \"value\": 1580.0}, \"3630.0\": {\"frequency\": 13, \"value\": 3630.0}, \"1584.0\": {\"frequency\": 3, \"value\": 1584.0}, \"530.0\": {\"frequency\": 3, \"value\": 530.0}, \"1212.0\": {\"frequency\": 1, \"value\": 1212.0}, \"1590.0\": {\"frequency\": 104, \"value\": 1590.0}, \"2313.0\": {\"frequency\": 1, \"value\": 2313.0}, \"3640.0\": {\"frequency\": 13, \"value\": 3640.0}, \"1594.0\": {\"frequency\": 1, \"value\": 1594.0}, \"1600.0\": {\"frequency\": 109, \"value\": 1600.0}, \"1601.0\": {\"frequency\": 1, \"value\": 1601.0}, \"3650.0\": {\"frequency\": 19, \"value\": 3650.0}, \"5700.0\": {\"frequency\": 1, \"value\": 5700.0}, \"1606.0\": {\"frequency\": 1, \"value\": 1606.0}, \"3655.0\": {\"frequency\": 1, \"value\": 3655.0}, \"1608.0\": {\"frequency\": 3, \"value\": 1608.0}, \"1610.0\": {\"frequency\": 112, \"value\": 1610.0}, \"1611.0\": {\"frequency\": 1, \"value\": 1611.0}, \"3660.0\": {\"frequency\": 10, \"value\": 3660.0}, \"1613.0\": {\"frequency\": 1, \"value\": 1613.0}, \"5710.0\": {\"frequency\": 1, \"value\": 5710.0}, \"1615.0\": {\"frequency\": 1, \"value\": 1615.0}, \"1620.0\": {\"frequency\": 99, \"value\": 1620.0}, \"2452.0\": {\"frequency\": 1, \"value\": 2452.0}, \"3670.0\": {\"frequency\": 15, \"value\": 3670.0}, \"3672.0\": {\"frequency\": 1, \"value\": 3672.0}, \"3674.0\": {\"frequency\": 1, \"value\": 3674.0}, \"1628.0\": {\"frequency\": 1, \"value\": 1628.0}, \"3002.0\": {\"frequency\": 1, \"value\": 3002.0}, \"1630.0\": {\"frequency\": 94, \"value\": 1630.0}, \"3680.0\": {\"frequency\": 21, \"value\": 3680.0}, \"1296.0\": {\"frequency\": 1, \"value\": 1296.0}, \"5730.0\": {\"frequency\": 1, \"value\": 5730.0}, \"1852.0\": {\"frequency\": 2, \"value\": 1852.0}, \"5510.0\": {\"frequency\": 1, \"value\": 5510.0}, \"1639.0\": {\"frequency\": 1, \"value\": 1639.0}, \"1640.0\": {\"frequency\": 112, \"value\": 1640.0}, \"3004.0\": {\"frequency\": 1, \"value\": 3004.0}, \"3690.0\": {\"frequency\": 12, \"value\": 3690.0}, \"1643.0\": {\"frequency\": 1, \"value\": 1643.0}, \"5740.0\": {\"frequency\": 1, \"value\": 5740.0}, \"1646.0\": {\"frequency\": 3, \"value\": 1646.0}, \"3695.0\": {\"frequency\": 1, \"value\": 3695.0}, \"1650.0\": {\"frequency\": 117, \"value\": 1650.0}, \"1651.0\": {\"frequency\": 2, \"value\": 1651.0}, \"3700.0\": {\"frequency\": 18, \"value\": 3700.0}, \"1982.0\": {\"frequency\": 1, \"value\": 1982.0}, \"1654.0\": {\"frequency\": 2, \"value\": 1654.0}, \"1656.0\": {\"frequency\": 1, \"value\": 1656.0}, \"1657.0\": {\"frequency\": 1, \"value\": 1657.0}, \"1658.0\": {\"frequency\": 1, \"value\": 1658.0}, \"1252.0\": {\"frequency\": 1, \"value\": 1252.0}, \"1660.0\": {\"frequency\": 129, \"value\": 1660.0}, \"3710.0\": {\"frequency\": 10, \"value\": 3710.0}, \"5760.0\": {\"frequency\": 1, \"value\": 5760.0}, \"3691.0\": {\"frequency\": 1, \"value\": 3691.0}, \"3056.0\": {\"frequency\": 1, \"value\": 3056.0}, \"1670.0\": {\"frequency\": 109, \"value\": 1670.0}, \"3720.0\": {\"frequency\": 23, \"value\": 3720.0}, \"5770.0\": {\"frequency\": 3, \"value\": 5770.0}, \"1676.0\": {\"frequency\": 1, \"value\": 1676.0}, \"962.0\": {\"frequency\": 1, \"value\": 962.0}, \"5774.0\": {\"frequency\": 1, \"value\": 5774.0}, \"1679.0\": {\"frequency\": 1, \"value\": 1679.0}, \"1680.0\": {\"frequency\": 116, \"value\": 1680.0}, \"3730.0\": {\"frequency\": 16, \"value\": 3730.0}, \"5780.0\": {\"frequency\": 2, \"value\": 5780.0}, \"1689.0\": {\"frequency\": 1, \"value\": 1689.0}, \"1690.0\": {\"frequency\": 110, \"value\": 1690.0}, \"3740.0\": {\"frequency\": 17, \"value\": 3740.0}, \"5790.0\": {\"frequency\": 2, \"value\": 5790.0}, \"2672.0\": {\"frequency\": 1, \"value\": 2672.0}, \"9890.0\": {\"frequency\": 1, \"value\": 9890.0}, \"1700.0\": {\"frequency\": 108, \"value\": 1700.0}, \"3750.0\": {\"frequency\": 10, \"value\": 3750.0}, \"3753.0\": {\"frequency\": 1, \"value\": 3753.0}, \"7850.0\": {\"frequency\": 1, \"value\": 7850.0}, \"1710.0\": {\"frequency\": 93, \"value\": 1710.0}, \"3760.0\": {\"frequency\": 18, \"value\": 3760.0}, \"1992.0\": {\"frequency\": 1, \"value\": 1992.0}, \"1714.0\": {\"frequency\": 3, \"value\": 1714.0}, \"1715.0\": {\"frequency\": 1, \"value\": 1715.0}, \"1720.0\": {\"frequency\": 125, \"value\": 1720.0}, \"3770.0\": {\"frequency\": 13, \"value\": 3770.0}, \"5820.0\": {\"frequency\": 1, \"value\": 5820.0}, \"1726.0\": {\"frequency\": 1, \"value\": 1726.0}, \"1728.0\": {\"frequency\": 1, \"value\": 1728.0}, \"1730.0\": {\"frequency\": 100, \"value\": 1730.0}, \"3780.0\": {\"frequency\": 14, \"value\": 3780.0}, \"2678.0\": {\"frequency\": 1, \"value\": 2678.0}, \"5830.0\": {\"frequency\": 1, \"value\": 5830.0}, \"1313.0\": {\"frequency\": 1, \"value\": 1313.0}, \"7880.0\": {\"frequency\": 1, \"value\": 7880.0}, \"3786.0\": {\"frequency\": 1, \"value\": 3786.0}, \"1740.0\": {\"frequency\": 115, \"value\": 1740.0}, \"290.0\": {\"frequency\": 1, \"value\": 290.0}, \"3790.0\": {\"frequency\": 9, \"value\": 3790.0}, \"5840.0\": {\"frequency\": 2, \"value\": 5840.0}, \"1747.0\": {\"frequency\": 1, \"value\": 1747.0}, \"5844.0\": {\"frequency\": 1, \"value\": 5844.0}, \"1750.0\": {\"frequency\": 83, \"value\": 1750.0}, \"3800.0\": {\"frequency\": 10, \"value\": 3800.0}, \"5850.0\": {\"frequency\": 2, \"value\": 5850.0}, \"1757.0\": {\"frequency\": 1, \"value\": 1757.0}, \"1760.0\": {\"frequency\": 104, \"value\": 1760.0}, \"3810.0\": {\"frequency\": 13, \"value\": 3810.0}, \"1763.0\": {\"frequency\": 1, \"value\": 1763.0}, \"1764.0\": {\"frequency\": 1, \"value\": 1764.0}, \"1765.0\": {\"frequency\": 1, \"value\": 1765.0}, \"1767.0\": {\"frequency\": 1, \"value\": 1767.0}, \"1769.0\": {\"frequency\": 2, \"value\": 1769.0}, \"1770.0\": {\"frequency\": 98, \"value\": 1770.0}, \"3820.0\": {\"frequency\": 13, \"value\": 3820.0}, \"3281.0\": {\"frequency\": 1, \"value\": 3281.0}, \"1776.0\": {\"frequency\": 1, \"value\": 1776.0}, \"1778.0\": {\"frequency\": 1, \"value\": 1778.0}, \"1780.0\": {\"frequency\": 117, \"value\": 1780.0}, \"3830.0\": {\"frequency\": 20, \"value\": 3830.0}, \"3831.0\": {\"frequency\": 1, \"value\": 3831.0}, \"1785.0\": {\"frequency\": 2, \"value\": 1785.0}, \"2835.0\": {\"frequency\": 1, \"value\": 2835.0}, \"1788.0\": {\"frequency\": 1, \"value\": 1788.0}, \"1322.0\": {\"frequency\": 2, \"value\": 1322.0}, \"1790.0\": {\"frequency\": 110, \"value\": 1790.0}, \"3840.0\": {\"frequency\": 14, \"value\": 3840.0}, \"1794.0\": {\"frequency\": 1, \"value\": 1794.0}, \"3845.0\": {\"frequency\": 1, \"value\": 3845.0}, \"1798.0\": {\"frequency\": 1, \"value\": 1798.0}, \"3847.0\": {\"frequency\": 1, \"value\": 3847.0}, \"1800.0\": {\"frequency\": 129, \"value\": 1800.0}, \"3850.0\": {\"frequency\": 8, \"value\": 3850.0}, \"1805.0\": {\"frequency\": 1, \"value\": 1805.0}, \"1808.0\": {\"frequency\": 1, \"value\": 1808.0}, \"1810.0\": {\"frequency\": 98, \"value\": 1810.0}, \"1811.0\": {\"frequency\": 1, \"value\": 1811.0}, \"3860.0\": {\"frequency\": 15, \"value\": 3860.0}, \"1814.0\": {\"frequency\": 1, \"value\": 1814.0}, \"2692.0\": {\"frequency\": 2, \"value\": 2692.0}, \"1820.0\": {\"frequency\": 128, \"value\": 1820.0}, \"3870.0\": {\"frequency\": 12, \"value\": 3870.0}, \"1824.0\": {\"frequency\": 1, \"value\": 1824.0}, \"1830.0\": {\"frequency\": 114, \"value\": 1830.0}, \"3880.0\": {\"frequency\": 13, \"value\": 3880.0}, \"1833.0\": {\"frequency\": 1, \"value\": 1833.0}, \"5930.0\": {\"frequency\": 1, \"value\": 5930.0}, \"2658.0\": {\"frequency\": 1, \"value\": 2658.0}, \"1840.0\": {\"frequency\": 101, \"value\": 1840.0}, \"3890.0\": {\"frequency\": 14, \"value\": 3890.0}, \"5940.0\": {\"frequency\": 1, \"value\": 5940.0}, \"1845.0\": {\"frequency\": 1, \"value\": 1845.0}, \"1847.0\": {\"frequency\": 2, \"value\": 1847.0}, \"10040.0\": {\"frequency\": 1, \"value\": 10040.0}, \"1850.0\": {\"frequency\": 100, \"value\": 1850.0}, \"3900.0\": {\"frequency\": 10, \"value\": 3900.0}, \"3902.0\": {\"frequency\": 1, \"value\": 3902.0}, \"8000.0\": {\"frequency\": 1, \"value\": 8000.0}, \"3906.0\": {\"frequency\": 1, \"value\": 3906.0}, \"1860.0\": {\"frequency\": 91, \"value\": 1860.0}, \"1861.0\": {\"frequency\": 1, \"value\": 1861.0}, \"3910.0\": {\"frequency\": 13, \"value\": 3910.0}, \"1864.0\": {\"frequency\": 1, \"value\": 1864.0}, \"8010.0\": {\"frequency\": 1, \"value\": 8010.0}, \"3915.0\": {\"frequency\": 1, \"value\": 3915.0}, \"1870.0\": {\"frequency\": 96, \"value\": 1870.0}, \"1677.0\": {\"frequency\": 2, \"value\": 1677.0}, \"3920.0\": {\"frequency\": 17, \"value\": 3920.0}, \"6110.0\": {\"frequency\": 1, \"value\": 6110.0}, \"8020.0\": {\"frequency\": 1, \"value\": 8020.0}, \"1678.0\": {\"frequency\": 1, \"value\": 1678.0}, \"1880.0\": {\"frequency\": 90, \"value\": 1880.0}, \"3930.0\": {\"frequency\": 11, \"value\": 3930.0}, \"3931.0\": {\"frequency\": 1, \"value\": 3931.0}, \"5450.0\": {\"frequency\": 2, \"value\": 5450.0}, \"3045.0\": {\"frequency\": 1, \"value\": 3045.0}, \"1889.0\": {\"frequency\": 1, \"value\": 1889.0}, \"1890.0\": {\"frequency\": 98, \"value\": 1890.0}, \"3940.0\": {\"frequency\": 8, \"value\": 3940.0}, \"5990.0\": {\"frequency\": 2, \"value\": 5990.0}, \"1899.0\": {\"frequency\": 1, \"value\": 1899.0}, \"1900.0\": {\"frequency\": 117, \"value\": 1900.0}, \"3950.0\": {\"frequency\": 13, \"value\": 3950.0}, \"1904.0\": {\"frequency\": 1, \"value\": 1904.0}, \"2382.0\": {\"frequency\": 1, \"value\": 2382.0}, \"1909.0\": {\"frequency\": 1, \"value\": 1909.0}, \"1910.0\": {\"frequency\": 81, \"value\": 1910.0}, \"4073.0\": {\"frequency\": 1, \"value\": 4073.0}, \"1912.0\": {\"frequency\": 1, \"value\": 1912.0}, \"3732.0\": {\"frequency\": 1, \"value\": 3732.0}, \"1914.0\": {\"frequency\": 2, \"value\": 1914.0}, \"1920.0\": {\"frequency\": 94, \"value\": 1920.0}, \"1921.0\": {\"frequency\": 1, \"value\": 1921.0}, \"3970.0\": {\"frequency\": 8, \"value\": 3970.0}, \"5100.0\": {\"frequency\": 1, \"value\": 5100.0}, \"1930.0\": {\"frequency\": 88, \"value\": 1930.0}, \"3980.0\": {\"frequency\": 6, \"value\": 3980.0}, \"6030.0\": {\"frequency\": 1, \"value\": 6030.0}, \"1936.0\": {\"frequency\": 2, \"value\": 1936.0}, \"3065.0\": {\"frequency\": 1, \"value\": 3065.0}, \"1940.0\": {\"frequency\": 101, \"value\": 1940.0}, \"3990.0\": {\"frequency\": 16, \"value\": 3990.0}, \"6040.0\": {\"frequency\": 1, \"value\": 6040.0}, \"1946.0\": {\"frequency\": 1, \"value\": 1946.0}, \"6810.0\": {\"frequency\": 1, \"value\": 6810.0}, \"1950.0\": {\"frequency\": 92, \"value\": 1950.0}, \"4000.0\": {\"frequency\": 7, \"value\": 4000.0}, \"9200.0\": {\"frequency\": 1, \"value\": 9200.0}, \"6050.0\": {\"frequency\": 2, \"value\": 6050.0}, \"6055.0\": {\"frequency\": 1, \"value\": 6055.0}, \"1960.0\": {\"frequency\": 110, \"value\": 1960.0}, \"1961.0\": {\"frequency\": 1, \"value\": 1961.0}, \"4010.0\": {\"frequency\": 12, \"value\": 4010.0}, \"1964.0\": {\"frequency\": 1, \"value\": 1964.0}, \"1352.0\": {\"frequency\": 1, \"value\": 1352.0}, \"1970.0\": {\"frequency\": 84, \"value\": 1970.0}, \"4020.0\": {\"frequency\": 9, \"value\": 4020.0}, \"2718.0\": {\"frequency\": 1, \"value\": 2718.0}, \"6070.0\": {\"frequency\": 2, \"value\": 6070.0}, \"1975.0\": {\"frequency\": 1, \"value\": 1975.0}, \"1979.0\": {\"frequency\": 1, \"value\": 1979.0}, \"1980.0\": {\"frequency\": 105, \"value\": 1980.0}, \"1981.0\": {\"frequency\": 2, \"value\": 1981.0}, \"4030.0\": {\"frequency\": 11, \"value\": 4030.0}, \"1983.0\": {\"frequency\": 1, \"value\": 1983.0}, \"1984.0\": {\"frequency\": 3, \"value\": 1984.0}, \"1986.0\": {\"frequency\": 1, \"value\": 1986.0}, \"1987.0\": {\"frequency\": 1, \"value\": 1987.0}, \"6085.0\": {\"frequency\": 1, \"value\": 6085.0}, \"1990.0\": {\"frequency\": 85, \"value\": 1990.0}, \"4040.0\": {\"frequency\": 14, \"value\": 4040.0}, \"1995.0\": {\"frequency\": 4, \"value\": 1995.0}, \"1996.0\": {\"frequency\": 1, \"value\": 1996.0}, \"5960.0\": {\"frequency\": 2, \"value\": 5960.0}, \"2000.0\": {\"frequency\": 103, \"value\": 2000.0}, \"4050.0\": {\"frequency\": 8, \"value\": 4050.0}, \"2005.0\": {\"frequency\": 1, \"value\": 2005.0}, \"2007.0\": {\"frequency\": 1, \"value\": 2007.0}, \"2008.0\": {\"frequency\": 1, \"value\": 2008.0}, \"2009.0\": {\"frequency\": 2, \"value\": 2009.0}, \"2010.0\": {\"frequency\": 77, \"value\": 2010.0}, \"4060.0\": {\"frequency\": 13, \"value\": 4060.0}, \"2014.0\": {\"frequency\": 1, \"value\": 2014.0}, \"2015.0\": {\"frequency\": 1, \"value\": 2015.0}, \"4065.0\": {\"frequency\": 1, \"value\": 4065.0}, \"2019.0\": {\"frequency\": 1, \"value\": 2019.0}, \"2020.0\": {\"frequency\": 104, \"value\": 2020.0}, \"4070.0\": {\"frequency\": 10, \"value\": 4070.0}, \"5720.0\": {\"frequency\": 1, \"value\": 5720.0}, \"2025.0\": {\"frequency\": 1, \"value\": 2025.0}, \"2026.0\": {\"frequency\": 1, \"value\": 2026.0}, \"2029.0\": {\"frequency\": 1, \"value\": 2029.0}, \"2030.0\": {\"frequency\": 78, \"value\": 2030.0}, \"2031.0\": {\"frequency\": 1, \"value\": 2031.0}, \"4080.0\": {\"frequency\": 7, \"value\": 4080.0}, \"2034.0\": {\"frequency\": 1, \"value\": 2034.0}, \"4083.0\": {\"frequency\": 1, \"value\": 4083.0}, \"2038.0\": {\"frequency\": 1, \"value\": 2038.0}, \"2040.0\": {\"frequency\": 104, \"value\": 2040.0}, \"4090.0\": {\"frequency\": 8, \"value\": 4090.0}, \"2044.0\": {\"frequency\": 1, \"value\": 2044.0}, \"1365.0\": {\"frequency\": 1, \"value\": 1365.0}}, \"mean\": 2079.8997362698337}, \"floors\": {\"std\": 0.5399764027733702, \"complete\": true, \"min\": 1.0, \"max\": 3.5, \"quantile\": [1.0, 1.0, 1.0, 1.0, 1.0, 1.0, 1.0, 1.0, 1.0, 1.0, 1.0, 1.0, 1.0, 1.0, 1.0, 1.0, 1.0, 1.0, 1.0, 1.0, 1.0, 1.0, 1.0, 1.0, 1.0, 1.0, 1.0, 1.0, 1.0, 1.0, 1.0, 1.0, 1.0, 1.0, 1.0, 1.0, 1.0, 1.0, 1.0, 1.0, 1.0, 1.0, 1.0, 1.0, 1.0, 1.0, 1.0, 1.0, 1.0, 1.0, 1.5, 1.5, 1.5, 1.5, 1.5, 1.5, 1.5, 1.5, 1.5, 2.0, 2.0, 2.0, 2.0, 2.0, 2.0, 2.0, 2.0, 2.0, 2.0, 2.0, 2.0, 2.0, 2.0, 2.0, 2.0, 2.0, 2.0, 2.0, 2.0, 2.0, 2.0, 2.0, 2.0, 2.0, 2.0, 2.0, 2.0, 2.0, 2.0, 2.0, 2.0, 2.0, 2.0, 2.0, 2.0, 2.0, 2.0, 2.5, 3.0, 3.0, 3.5], \"median\": 1.5, \"numeric\": true, \"num_unique\": 6, \"num_undefined\": 0, \"var\": 0.2915745155520689, \"progress\": 1.0, \"size\": 21613, \"frequent_items\": {\"1.5\": {\"frequency\": 1910, \"value\": 1.5}, \"1.0\": {\"frequency\": 10680, \"value\": 1.0}, \"2.0\": {\"frequency\": 8241, \"value\": 2.0}, \"3.0\": {\"frequency\": 613, \"value\": 3.0}, \"2.5\": {\"frequency\": 161, \"value\": 2.5}, \"3.5\": {\"frequency\": 8, \"value\": 3.5}}, \"mean\": 1.4943089807060534}, \"sqft_lot\": {\"std\": 41419.55327262765, \"complete\": true, \"min\": 520.0, \"max\": 1651359.0, \"quantile\": [520.0, 1010.0, 1184.0, 1304.0, 1488.0, 1800.0, 2166.0, 2550.0, 2849.0, 3075.0, 3328.0, 3561.0, 3716.0, 3868.0, 4000.0, 4013.0, 4120.0, 4257.0, 4418.0, 4501.0, 4643.0, 4799.0, 4869.0, 5000.0, 5000.0, 5040.0, 5119.0, 5210.0, 5375.0, 5500.0, 5612.0, 5750.0, 5866.0, 6000.0, 6000.0, 6120.0, 6246.0, 6360.0, 6491.0, 6600.0, 6744.0, 6875.0, 7000.0, 7134.0, 7200.0, 7215.0, 7282.0, 7355.0, 7473.0, 7520.0, 7620.0, 7700.0, 7800.0, 7875.0, 7995.0, 8072.0, 8141.0, 8247.0, 8366.0, 8424.0, 8521.0, 8636.0, 8775.0, 8913.0, 9028.0, 9186.0, 9340.0, 9492.0, 9600.0, 9687.0, 9800.0, 9960.0, 10092.0, 10248.0, 10450.0, 10689.0, 10900.0, 11220.0, 11524.0, 11900.0, 12177.0, 12558.0, 13040.0, 13515.0, 14200.0, 15024.0, 15704.0, 16728.0, 18000.0, 19542.0, 21450.0, 24186.0, 28405.0, 34981.0, 37642.0, 43170.0, 50479.0, 67518.0, 105587.0, 211576.0, 1651359.0], \"median\": 7620.0, \"numeric\": true, \"num_unique\": 9763, \"num_undefined\": 0, \"var\": 1715579393.3040402, \"progress\": 1.0, \"size\": 21613, \"frequent_items\": {\"57346.0\": {\"frequency\": 1, \"value\": 57346.0}, \"8195.0\": {\"frequency\": 2, \"value\": 8195.0}, \"8196.0\": {\"frequency\": 2, \"value\": 8196.0}, \"8200.0\": {\"frequency\": 11, \"value\": 8200.0}, \"8201.0\": {\"frequency\": 2, \"value\": 8201.0}, \"6829.0\": {\"frequency\": 2, \"value\": 6829.0}, \"16400.0\": {\"frequency\": 2, \"value\": 16400.0}, \"8214.0\": {\"frequency\": 2, \"value\": 8214.0}, \"8215.0\": {\"frequency\": 4, \"value\": 8215.0}, \"8219.0\": {\"frequency\": 1, \"value\": 8219.0}, \"8220.0\": {\"frequency\": 6, \"value\": 8220.0}, \"8223.0\": {\"frequency\": 4, \"value\": 8223.0}, \"8225.0\": {\"frequency\": 3, \"value\": 8225.0}, \"8227.0\": {\"frequency\": 3, \"value\": 8227.0}, \"57381.0\": {\"frequency\": 1, \"value\": 57381.0}, \"8230.0\": {\"frequency\": 3, \"value\": 8230.0}, \"8232.0\": {\"frequency\": 2, \"value\": 8232.0}, \"8234.0\": {\"frequency\": 4, \"value\": 8234.0}, \"8235.0\": {\"frequency\": 2, \"value\": 8235.0}, \"8239.0\": {\"frequency\": 3, \"value\": 8239.0}, \"8240.0\": {\"frequency\": 8, \"value\": 8240.0}, \"4366.0\": {\"frequency\": 3, \"value\": 4366.0}, \"9566.0\": {\"frequency\": 3, \"value\": 9566.0}, \"8247.0\": {\"frequency\": 1, \"value\": 8247.0}, \"8249.0\": {\"frequency\": 1, \"value\": 8249.0}, \"8250.0\": {\"frequency\": 34, \"value\": 8250.0}, \"8251.0\": {\"frequency\": 2, \"value\": 8251.0}, \"8252.0\": {\"frequency\": 3, \"value\": 8252.0}, \"8254.0\": {\"frequency\": 3, \"value\": 8254.0}, \"8255.0\": {\"frequency\": 2, \"value\": 8255.0}, \"8256.0\": {\"frequency\": 2, \"value\": 8256.0}, \"8261.0\": {\"frequency\": 3, \"value\": 8261.0}, \"49222.0\": {\"frequency\": 4, \"value\": 49222.0}, \"9569.0\": {\"frequency\": 1, \"value\": 9569.0}, \"8266.0\": {\"frequency\": 2, \"value\": 8266.0}, \"8268.0\": {\"frequency\": 2, \"value\": 8268.0}, \"8270.0\": {\"frequency\": 2, \"value\": 8270.0}, \"8272.0\": {\"frequency\": 2, \"value\": 8272.0}, \"8276.0\": {\"frequency\": 4, \"value\": 8276.0}, \"8279.0\": {\"frequency\": 3, \"value\": 8279.0}, \"8280.0\": {\"frequency\": 7, \"value\": 8280.0}, \"8281.0\": {\"frequency\": 4, \"value\": 8281.0}, \"8282.0\": {\"frequency\": 4, \"value\": 8282.0}, \"8284.0\": {\"frequency\": 4, \"value\": 8284.0}, \"8287.0\": {\"frequency\": 2, \"value\": 8287.0}, \"8288.0\": {\"frequency\": 1, \"value\": 8288.0}, \"8208.0\": {\"frequency\": 4, \"value\": 8208.0}, \"8290.0\": {\"frequency\": 4, \"value\": 8290.0}, \"221284.0\": {\"frequency\": 1, \"value\": 221284.0}, \"8296.0\": {\"frequency\": 3, \"value\": 8296.0}, \"8300.0\": {\"frequency\": 6, \"value\": 8300.0}, \"8301.0\": {\"frequency\": 5, \"value\": 8301.0}, \"8303.0\": {\"frequency\": 3, \"value\": 8303.0}, \"8304.0\": {\"frequency\": 2, \"value\": 8304.0}, \"8306.0\": {\"frequency\": 2, \"value\": 8306.0}, \"8307.0\": {\"frequency\": 2, \"value\": 8307.0}, \"8308.0\": {\"frequency\": 5, \"value\": 8308.0}, \"6005.0\": {\"frequency\": 4, \"value\": 6005.0}, \"8313.0\": {\"frequency\": 2, \"value\": 8313.0}, \"8314.0\": {\"frequency\": 2, \"value\": 8314.0}, \"8315.0\": {\"frequency\": 2, \"value\": 8315.0}, \"8316.0\": {\"frequency\": 9, \"value\": 8316.0}, \"139392.0\": {\"frequency\": 2, \"value\": 139392.0}, \"8321.0\": {\"frequency\": 2, \"value\": 8321.0}, \"1387.0\": {\"frequency\": 2, \"value\": 1387.0}, \"8325.0\": {\"frequency\": 5, \"value\": 8325.0}, \"8327.0\": {\"frequency\": 2, \"value\": 8327.0}, \"8329.0\": {\"frequency\": 2, \"value\": 8329.0}, \"8331.0\": {\"frequency\": 2, \"value\": 8331.0}, \"98445.0\": {\"frequency\": 4, \"value\": 98445.0}, \"16526.0\": {\"frequency\": 2, \"value\": 16526.0}, \"8336.0\": {\"frequency\": 4, \"value\": 8336.0}, \"8338.0\": {\"frequency\": 2, \"value\": 8338.0}, \"8340.0\": {\"frequency\": 2, \"value\": 8340.0}, \"8342.0\": {\"frequency\": 3, \"value\": 8342.0}, \"8345.0\": {\"frequency\": 2, \"value\": 8345.0}, \"8346.0\": {\"frequency\": 2, \"value\": 8346.0}, \"57499.0\": {\"frequency\": 7, \"value\": 57499.0}, \"8354.0\": {\"frequency\": 2, \"value\": 8354.0}, \"8355.0\": {\"frequency\": 1, \"value\": 8355.0}, \"8360.0\": {\"frequency\": 2, \"value\": 8360.0}, \"8362.0\": {\"frequency\": 2, \"value\": 8362.0}, \"8364.0\": {\"frequency\": 5, \"value\": 8364.0}, \"8366.0\": {\"frequency\": 4, \"value\": 8366.0}, \"8370.0\": {\"frequency\": 4, \"value\": 8370.0}, \"8372.0\": {\"frequency\": 4, \"value\": 8372.0}, \"8374.0\": {\"frequency\": 2, \"value\": 8374.0}, \"24759.0\": {\"frequency\": 1, \"value\": 24759.0}, \"8376.0\": {\"frequency\": 2, \"value\": 8376.0}, \"9588.0\": {\"frequency\": 3, \"value\": 9588.0}, \"8378.0\": {\"frequency\": 5, \"value\": 8378.0}, \"8379.0\": {\"frequency\": 2, \"value\": 8379.0}, \"8382.0\": {\"frequency\": 4, \"value\": 8382.0}, \"8384.0\": {\"frequency\": 6, \"value\": 8384.0}, \"8385.0\": {\"frequency\": 2, \"value\": 8385.0}, \"8390.0\": {\"frequency\": 2, \"value\": 8390.0}, \"8391.0\": {\"frequency\": 2, \"value\": 8391.0}, \"8392.0\": {\"frequency\": 2, \"value\": 8392.0}, \"8395.0\": {\"frequency\": 4, \"value\": 8395.0}, \"8398.0\": {\"frequency\": 2, \"value\": 8398.0}, \"8399.0\": {\"frequency\": 2, \"value\": 8399.0}, \"8400.0\": {\"frequency\": 111, \"value\": 8400.0}, \"8401.0\": {\"frequency\": 3, \"value\": 8401.0}, \"8402.0\": {\"frequency\": 2, \"value\": 8402.0}, \"8404.0\": {\"frequency\": 3, \"value\": 8404.0}, \"16600.0\": {\"frequency\": 2, \"value\": 16600.0}, \"8409.0\": {\"frequency\": 2, \"value\": 8409.0}, \"8410.0\": {\"frequency\": 6, \"value\": 8410.0}, \"16603.0\": {\"frequency\": 1, \"value\": 16603.0}, \"8412.0\": {\"frequency\": 4, \"value\": 8412.0}, \"8414.0\": {\"frequency\": 3, \"value\": 8414.0}, \"49375.0\": {\"frequency\": 1, \"value\": 49375.0}, \"106722.0\": {\"frequency\": 3, \"value\": 106722.0}, \"8423.0\": {\"frequency\": 2, \"value\": 8423.0}, \"8424.0\": {\"frequency\": 8, \"value\": 8424.0}, \"8426.0\": {\"frequency\": 3, \"value\": 8426.0}, \"16619.0\": {\"frequency\": 1, \"value\": 16619.0}, \"8429.0\": {\"frequency\": 2, \"value\": 8429.0}, \"9597.0\": {\"frequency\": 2, \"value\": 9597.0}, \"8432.0\": {\"frequency\": 4, \"value\": 8432.0}, \"8433.0\": {\"frequency\": 2, \"value\": 8433.0}, \"8436.0\": {\"frequency\": 3, \"value\": 8436.0}, \"8437.0\": {\"frequency\": 1, \"value\": 8437.0}, \"8438.0\": {\"frequency\": 3, \"value\": 8438.0}, \"8440.0\": {\"frequency\": 2, \"value\": 8440.0}, \"8442.0\": {\"frequency\": 6, \"value\": 8442.0}, \"1407.0\": {\"frequency\": 5, \"value\": 1407.0}, \"24829.0\": {\"frequency\": 2, \"value\": 24829.0}, \"8447.0\": {\"frequency\": 2, \"value\": 8447.0}, \"8448.0\": {\"frequency\": 6, \"value\": 8448.0}, \"8449.0\": {\"frequency\": 3, \"value\": 8449.0}, \"8450.0\": {\"frequency\": 14, \"value\": 8450.0}, \"8451.0\": {\"frequency\": 3, \"value\": 8451.0}, \"8454.0\": {\"frequency\": 2, \"value\": 8454.0}, \"16650.0\": {\"frequency\": 2, \"value\": 16650.0}, \"8459.0\": {\"frequency\": 2, \"value\": 8459.0}, \"8460.0\": {\"frequency\": 2, \"value\": 8460.0}, \"4141.0\": {\"frequency\": 2, \"value\": 4141.0}, \"8465.0\": {\"frequency\": 2, \"value\": 8465.0}, \"8467.0\": {\"frequency\": 2, \"value\": 8467.0}, \"8469.0\": {\"frequency\": 2, \"value\": 8469.0}, \"8470.0\": {\"frequency\": 13, \"value\": 8470.0}, \"13700.0\": {\"frequency\": 4, \"value\": 13700.0}, \"8474.0\": {\"frequency\": 3, \"value\": 8474.0}, \"8475.0\": {\"frequency\": 4, \"value\": 8475.0}, \"8476.0\": {\"frequency\": 2, \"value\": 8476.0}, \"10970.0\": {\"frequency\": 1, \"value\": 10970.0}, \"8479.0\": {\"frequency\": 1, \"value\": 8479.0}, \"8480.0\": {\"frequency\": 7, \"value\": 8480.0}, \"8481.0\": {\"frequency\": 2, \"value\": 8481.0}, \"41250.0\": {\"frequency\": 2, \"value\": 41250.0}, \"16679.0\": {\"frequency\": 2, \"value\": 16679.0}, \"8490.0\": {\"frequency\": 2, \"value\": 8490.0}, \"8491.0\": {\"frequency\": 2, \"value\": 8491.0}, \"8494.0\": {\"frequency\": 3, \"value\": 8494.0}, \"41263.0\": {\"frequency\": 1, \"value\": 41263.0}, \"8498.0\": {\"frequency\": 3, \"value\": 8498.0}, \"8499.0\": {\"frequency\": 2, \"value\": 8499.0}, \"8500.0\": {\"frequency\": 19, \"value\": 8500.0}, \"8501.0\": {\"frequency\": 3, \"value\": 8501.0}, \"8504.0\": {\"frequency\": 8, \"value\": 8504.0}, \"8505.0\": {\"frequency\": 14, \"value\": 8505.0}, \"8509.0\": {\"frequency\": 3, \"value\": 8509.0}, \"8510.0\": {\"frequency\": 2, \"value\": 8510.0}, \"8511.0\": {\"frequency\": 2, \"value\": 8511.0}, \"8512.0\": {\"frequency\": 4, \"value\": 8512.0}, \"8514.0\": {\"frequency\": 2, \"value\": 8514.0}, \"5515.0\": {\"frequency\": 2, \"value\": 5515.0}, \"74052.0\": {\"frequency\": 4, \"value\": 74052.0}, \"8517.0\": {\"frequency\": 1, \"value\": 8517.0}, \"8518.0\": {\"frequency\": 3, \"value\": 8518.0}, \"8519.0\": {\"frequency\": 2, \"value\": 8519.0}, \"8520.0\": {\"frequency\": 6, \"value\": 8520.0}, \"8521.0\": {\"frequency\": 3, \"value\": 8521.0}, \"8526.0\": {\"frequency\": 2, \"value\": 8526.0}, \"8528.0\": {\"frequency\": 5, \"value\": 8528.0}, \"8529.0\": {\"frequency\": 2, \"value\": 8529.0}, \"8530.0\": {\"frequency\": 2, \"value\": 8530.0}, \"8532.0\": {\"frequency\": 2, \"value\": 8532.0}, \"90169.0\": {\"frequency\": 2, \"value\": 90169.0}, \"24920.0\": {\"frequency\": 1, \"value\": 24920.0}, \"8540.0\": {\"frequency\": 8, \"value\": 8540.0}, \"8541.0\": {\"frequency\": 2, \"value\": 8541.0}, \"8544.0\": {\"frequency\": 2, \"value\": 8544.0}, \"8545.0\": {\"frequency\": 3, \"value\": 8545.0}, \"24931.0\": {\"frequency\": 1, \"value\": 24931.0}, \"8548.0\": {\"frequency\": 3, \"value\": 8548.0}, \"8549.0\": {\"frequency\": 3, \"value\": 8549.0}, \"8550.0\": {\"frequency\": 6, \"value\": 8550.0}, \"8555.0\": {\"frequency\": 2, \"value\": 8555.0}, \"8556.0\": {\"frequency\": 3, \"value\": 8556.0}, \"8558.0\": {\"frequency\": 3, \"value\": 8558.0}, \"8560.0\": {\"frequency\": 11, \"value\": 8560.0}, \"8564.0\": {\"frequency\": 2, \"value\": 8564.0}, \"4158.0\": {\"frequency\": 2, \"value\": 4158.0}, \"8570.0\": {\"frequency\": 3, \"value\": 8570.0}, \"8571.0\": {\"frequency\": 4, \"value\": 8571.0}, \"8572.0\": {\"frequency\": 3, \"value\": 8572.0}, \"8573.0\": {\"frequency\": 2, \"value\": 8573.0}, \"8576.0\": {\"frequency\": 2, \"value\": 8576.0}, \"8577.0\": {\"frequency\": 1, \"value\": 8577.0}, \"41346.0\": {\"frequency\": 1, \"value\": 41346.0}, \"8579.0\": {\"frequency\": 2, \"value\": 8579.0}, \"8580.0\": {\"frequency\": 19, \"value\": 8580.0}, \"8581.0\": {\"frequency\": 3, \"value\": 8581.0}, \"8584.0\": {\"frequency\": 2, \"value\": 8584.0}, \"8587.0\": {\"frequency\": 2, \"value\": 8587.0}, \"6893.0\": {\"frequency\": 2, \"value\": 6893.0}, \"8592.0\": {\"frequency\": 2, \"value\": 8592.0}, \"8600.0\": {\"frequency\": 7, \"value\": 8600.0}, \"8601.0\": {\"frequency\": 3, \"value\": 8601.0}, \"16800.0\": {\"frequency\": 4, \"value\": 16800.0}, \"8610.0\": {\"frequency\": 5, \"value\": 8610.0}, \"8611.0\": {\"frequency\": 2, \"value\": 8611.0}, \"8612.0\": {\"frequency\": 2, \"value\": 8612.0}, \"8613.0\": {\"frequency\": 2, \"value\": 8613.0}, \"8616.0\": {\"frequency\": 1, \"value\": 8616.0}, \"8620.0\": {\"frequency\": 1, \"value\": 8620.0}, \"8621.0\": {\"frequency\": 2, \"value\": 8621.0}, \"8622.0\": {\"frequency\": 4, \"value\": 8622.0}, \"8624.0\": {\"frequency\": 2, \"value\": 8624.0}, \"8625.0\": {\"frequency\": 17, \"value\": 8625.0}, \"8628.0\": {\"frequency\": 2, \"value\": 8628.0}, \"1438.0\": {\"frequency\": 2, \"value\": 1438.0}, \"8630.0\": {\"frequency\": 2, \"value\": 8630.0}, \"8631.0\": {\"frequency\": 2, \"value\": 8631.0}, \"8632.0\": {\"frequency\": 2, \"value\": 8632.0}, \"8636.0\": {\"frequency\": 8, \"value\": 8636.0}, \"8640.0\": {\"frequency\": 16, \"value\": 8640.0}, \"8641.0\": {\"frequency\": 2, \"value\": 8641.0}, \"8642.0\": {\"frequency\": 3, \"value\": 8642.0}, \"213444.0\": {\"frequency\": 3, \"value\": 213444.0}, \"8645.0\": {\"frequency\": 8, \"value\": 8645.0}, \"8648.0\": {\"frequency\": 1, \"value\": 8648.0}, \"8653.0\": {\"frequency\": 3, \"value\": 8653.0}, \"11000.0\": {\"frequency\": 12, \"value\": 11000.0}, \"8658.0\": {\"frequency\": 2, \"value\": 8658.0}, \"8659.0\": {\"frequency\": 2, \"value\": 8659.0}, \"8660.0\": {\"frequency\": 2, \"value\": 8660.0}, \"8661.0\": {\"frequency\": 2, \"value\": 8661.0}, \"9636.0\": {\"frequency\": 4, \"value\": 9636.0}, \"8666.0\": {\"frequency\": 2, \"value\": 8666.0}, \"8667.0\": {\"frequency\": 3, \"value\": 8667.0}, \"8670.0\": {\"frequency\": 2, \"value\": 8670.0}, \"8676.0\": {\"frequency\": 2, \"value\": 8676.0}, \"8677.0\": {\"frequency\": 1, \"value\": 8677.0}, \"8680.0\": {\"frequency\": 6, \"value\": 8680.0}, \"8682.0\": {\"frequency\": 3, \"value\": 8682.0}, \"8684.0\": {\"frequency\": 2, \"value\": 8684.0}, \"8685.0\": {\"frequency\": 3, \"value\": 8685.0}, \"8686.0\": {\"frequency\": 2, \"value\": 8686.0}, \"17832.0\": {\"frequency\": 1, \"value\": 17832.0}, \"8690.0\": {\"frequency\": 5, \"value\": 8690.0}, \"4179.0\": {\"frequency\": 2, \"value\": 4179.0}, \"8698.0\": {\"frequency\": 2, \"value\": 8698.0}, \"8700.0\": {\"frequency\": 15, \"value\": 8700.0}, \"8701.0\": {\"frequency\": 2, \"value\": 8701.0}, \"8706.0\": {\"frequency\": 3, \"value\": 8706.0}, \"8709.0\": {\"frequency\": 2, \"value\": 8709.0}, \"8710.0\": {\"frequency\": 7, \"value\": 8710.0}, \"8711.0\": {\"frequency\": 2, \"value\": 8711.0}, \"8712.0\": {\"frequency\": 7, \"value\": 8712.0}, \"16905.0\": {\"frequency\": 1, \"value\": 16905.0}, \"16909.0\": {\"frequency\": 2, \"value\": 16909.0}, \"8720.0\": {\"frequency\": 3, \"value\": 8720.0}, \"8721.0\": {\"frequency\": 2, \"value\": 8721.0}, \"8722.0\": {\"frequency\": 2, \"value\": 8722.0}, \"8725.0\": {\"frequency\": 2, \"value\": 8725.0}, \"8726.0\": {\"frequency\": 2, \"value\": 8726.0}, \"54014.0\": {\"frequency\": 4, \"value\": 54014.0}, \"8734.0\": {\"frequency\": 3, \"value\": 8734.0}, \"8737.0\": {\"frequency\": 3, \"value\": 8737.0}, \"8738.0\": {\"frequency\": 3, \"value\": 8738.0}, \"8740.0\": {\"frequency\": 2, \"value\": 8740.0}, \"8744.0\": {\"frequency\": 1, \"value\": 8744.0}, \"4188.0\": {\"frequency\": 1, \"value\": 4188.0}, \"5353.0\": {\"frequency\": 3, \"value\": 5353.0}, \"16940.0\": {\"frequency\": 2, \"value\": 16940.0}, \"9650.0\": {\"frequency\": 3, \"value\": 9650.0}, \"8750.0\": {\"frequency\": 19, \"value\": 8750.0}, \"8755.0\": {\"frequency\": 5, \"value\": 8755.0}, \"8760.0\": {\"frequency\": 5, \"value\": 8760.0}, \"8763.0\": {\"frequency\": 2, \"value\": 8763.0}, \"8764.0\": {\"frequency\": 3, \"value\": 8764.0}, \"8765.0\": {\"frequency\": 2, \"value\": 8765.0}, \"8767.0\": {\"frequency\": 3, \"value\": 8767.0}, \"98881.0\": {\"frequency\": 2, \"value\": 98881.0}, \"8770.0\": {\"frequency\": 2, \"value\": 8770.0}, \"8775.0\": {\"frequency\": 14, \"value\": 8775.0}, \"8778.0\": {\"frequency\": 3, \"value\": 8778.0}, \"8784.0\": {\"frequency\": 1, \"value\": 8784.0}, \"8786.0\": {\"frequency\": 3, \"value\": 8786.0}, \"16980.0\": {\"frequency\": 1, \"value\": 16980.0}, \"8792.0\": {\"frequency\": 2, \"value\": 8792.0}, \"8797.0\": {\"frequency\": 3, \"value\": 8797.0}, \"6294.0\": {\"frequency\": 2, \"value\": 6294.0}, \"8800.0\": {\"frequency\": 42, \"value\": 8800.0}, \"17000.0\": {\"frequency\": 2, \"value\": 17000.0}, \"17852.0\": {\"frequency\": 1, \"value\": 17852.0}, \"8811.0\": {\"frequency\": 1, \"value\": 8811.0}, \"8813.0\": {\"frequency\": 2, \"value\": 8813.0}, \"8814.0\": {\"frequency\": 2, \"value\": 8814.0}, \"8816.0\": {\"frequency\": 2, \"value\": 8816.0}, \"8817.0\": {\"frequency\": 3, \"value\": 8817.0}, \"8820.0\": {\"frequency\": 12, \"value\": 8820.0}, \"9663.0\": {\"frequency\": 2, \"value\": 9663.0}, \"3840.0\": {\"frequency\": 18, \"value\": 3840.0}, \"8835.0\": {\"frequency\": 1, \"value\": 8835.0}, \"8837.0\": {\"frequency\": 2, \"value\": 8837.0}, \"8840.0\": {\"frequency\": 5, \"value\": 8840.0}, \"649.0\": {\"frequency\": 2, \"value\": 649.0}, \"8848.0\": {\"frequency\": 2, \"value\": 8848.0}, \"8850.0\": {\"frequency\": 3, \"value\": 8850.0}, \"1475.0\": {\"frequency\": 2, \"value\": 1475.0}, \"8853.0\": {\"frequency\": 3, \"value\": 8853.0}, \"8856.0\": {\"frequency\": 5, \"value\": 8856.0}, \"8858.0\": {\"frequency\": 1, \"value\": 8858.0}, \"8860.0\": {\"frequency\": 1, \"value\": 8860.0}, \"25245.0\": {\"frequency\": 1, \"value\": 25245.0}, \"8862.0\": {\"frequency\": 2, \"value\": 8862.0}, \"8863.0\": {\"frequency\": 2, \"value\": 8863.0}, \"8865.0\": {\"frequency\": 2, \"value\": 8865.0}, \"66211.0\": {\"frequency\": 2, \"value\": 66211.0}, \"8868.0\": {\"frequency\": 2, \"value\": 8868.0}, \"8874.0\": {\"frequency\": 3, \"value\": 8874.0}, \"8875.0\": {\"frequency\": 3, \"value\": 8875.0}, \"8876.0\": {\"frequency\": 2, \"value\": 8876.0}, \"8879.0\": {\"frequency\": 3, \"value\": 8879.0}, \"8880.0\": {\"frequency\": 2, \"value\": 8880.0}, \"17864.0\": {\"frequency\": 1, \"value\": 17864.0}, \"690.0\": {\"frequency\": 2, \"value\": 690.0}, \"8885.0\": {\"frequency\": 2, \"value\": 8885.0}, \"8886.0\": {\"frequency\": 2, \"value\": 8886.0}, \"16500.0\": {\"frequency\": 3, \"value\": 16500.0}, \"8890.0\": {\"frequency\": 3, \"value\": 8890.0}, \"8892.0\": {\"frequency\": 2, \"value\": 8892.0}, \"8893.0\": {\"frequency\": 2, \"value\": 8893.0}, \"871200.0\": {\"frequency\": 2, \"value\": 871200.0}, \"33474.0\": {\"frequency\": 1, \"value\": 33474.0}, \"1483.0\": {\"frequency\": 2, \"value\": 1483.0}, \"8900.0\": {\"frequency\": 4, \"value\": 8900.0}, \"11041.0\": {\"frequency\": 2, \"value\": 11041.0}, \"8906.0\": {\"frequency\": 7, \"value\": 8906.0}, \"17100.0\": {\"frequency\": 2, \"value\": 17100.0}, \"8909.0\": {\"frequency\": 2, \"value\": 8909.0}, \"8910.0\": {\"frequency\": 9, \"value\": 8910.0}, \"6025.0\": {\"frequency\": 2, \"value\": 6025.0}, \"8913.0\": {\"frequency\": 2, \"value\": 8913.0}, \"8920.0\": {\"frequency\": 2, \"value\": 8920.0}, \"8921.0\": {\"frequency\": 2, \"value\": 8921.0}, \"8924.0\": {\"frequency\": 2, \"value\": 8924.0}, \"8925.0\": {\"frequency\": 13, \"value\": 8925.0}, \"1488.0\": {\"frequency\": 3, \"value\": 1488.0}, \"8936.0\": {\"frequency\": 2, \"value\": 8936.0}, \"745.0\": {\"frequency\": 2, \"value\": 745.0}, \"115434.0\": {\"frequency\": 3, \"value\": 115434.0}, \"747.0\": {\"frequency\": 2, \"value\": 747.0}, \"8941.0\": {\"frequency\": 2, \"value\": 8941.0}, \"750.0\": {\"frequency\": 2, \"value\": 750.0}, \"8944.0\": {\"frequency\": 2, \"value\": 8944.0}, \"8947.0\": {\"frequency\": 2, \"value\": 8947.0}, \"8950.0\": {\"frequency\": 2, \"value\": 8950.0}, \"230868.0\": {\"frequency\": 2, \"value\": 230868.0}, \"8955.0\": {\"frequency\": 2, \"value\": 8955.0}, \"25341.0\": {\"frequency\": 1, \"value\": 25341.0}, \"8959.0\": {\"frequency\": 1, \"value\": 8959.0}, \"8960.0\": {\"frequency\": 12, \"value\": 8960.0}, \"8320.0\": {\"frequency\": 7, \"value\": 8320.0}, \"8968.0\": {\"frequency\": 4, \"value\": 8968.0}, \"8970.0\": {\"frequency\": 6, \"value\": 8970.0}, \"779.0\": {\"frequency\": 2, \"value\": 779.0}, \"8975.0\": {\"frequency\": 2, \"value\": 8975.0}, \"8976.0\": {\"frequency\": 4, \"value\": 8976.0}, \"218252.0\": {\"frequency\": 1, \"value\": 218252.0}, \"17172.0\": {\"frequency\": 2, \"value\": 17172.0}, \"12420.0\": {\"frequency\": 4, \"value\": 12420.0}, \"8990.0\": {\"frequency\": 3, \"value\": 8990.0}, \"8991.0\": {\"frequency\": 2, \"value\": 8991.0}, \"800.0\": {\"frequency\": 3, \"value\": 800.0}, \"17186.0\": {\"frequency\": 1, \"value\": 17186.0}, \"8995.0\": {\"frequency\": 2, \"value\": 8995.0}, \"8996.0\": {\"frequency\": 2, \"value\": 8996.0}, \"27441.0\": {\"frequency\": 2, \"value\": 27441.0}, \"9000.0\": {\"frequency\": 93, \"value\": 9000.0}, \"9001.0\": {\"frequency\": 2, \"value\": 9001.0}, \"9002.0\": {\"frequency\": 2, \"value\": 9002.0}, \"9003.0\": {\"frequency\": 3, \"value\": 9003.0}, \"9009.0\": {\"frequency\": 2, \"value\": 9009.0}, \"9010.0\": {\"frequency\": 3, \"value\": 9010.0}, \"17204.0\": {\"frequency\": 1, \"value\": 17204.0}, \"9015.0\": {\"frequency\": 3, \"value\": 9015.0}, \"17208.0\": {\"frequency\": 2, \"value\": 17208.0}, \"19252.0\": {\"frequency\": 1, \"value\": 19252.0}, \"1664.0\": {\"frequency\": 2, \"value\": 1664.0}, \"12426.0\": {\"frequency\": 2, \"value\": 12426.0}, \"123710.0\": {\"frequency\": 2, \"value\": 123710.0}, \"9023.0\": {\"frequency\": 2, \"value\": 9023.0}, \"9025.0\": {\"frequency\": 1, \"value\": 9025.0}, \"835.0\": {\"frequency\": 2, \"value\": 835.0}, \"9030.0\": {\"frequency\": 5, \"value\": 9030.0}, \"41800.0\": {\"frequency\": 1, \"value\": 41800.0}, \"9035.0\": {\"frequency\": 2, \"value\": 9035.0}, \"844.0\": {\"frequency\": 2, \"value\": 844.0}, \"9040.0\": {\"frequency\": 3, \"value\": 9040.0}, \"9041.0\": {\"frequency\": 3, \"value\": 9041.0}, \"9044.0\": {\"frequency\": 2, \"value\": 9044.0}, \"9045.0\": {\"frequency\": 2, \"value\": 9045.0}, \"9048.0\": {\"frequency\": 2, \"value\": 9048.0}, \"9050.0\": {\"frequency\": 1, \"value\": 9050.0}, \"9053.0\": {\"frequency\": 2, \"value\": 9053.0}, \"9055.0\": {\"frequency\": 2, \"value\": 9055.0}, \"865.0\": {\"frequency\": 3, \"value\": 865.0}, \"9065.0\": {\"frequency\": 2, \"value\": 9065.0}, \"9066.0\": {\"frequency\": 2, \"value\": 9066.0}, \"7617.0\": {\"frequency\": 3, \"value\": 7617.0}, \"877.0\": {\"frequency\": 2, \"value\": 877.0}, \"6973.0\": {\"frequency\": 2, \"value\": 6973.0}, \"9072.0\": {\"frequency\": 5, \"value\": 9072.0}, \"881.0\": {\"frequency\": 1, \"value\": 881.0}, \"9075.0\": {\"frequency\": 4, \"value\": 9075.0}, \"9077.0\": {\"frequency\": 2, \"value\": 9077.0}, \"886.0\": {\"frequency\": 2, \"value\": 886.0}, \"9079.0\": {\"frequency\": 1, \"value\": 9079.0}, \"889.0\": {\"frequency\": 3, \"value\": 889.0}, \"890.0\": {\"frequency\": 1, \"value\": 890.0}, \"9083.0\": {\"frequency\": 3, \"value\": 9083.0}, \"892.0\": {\"frequency\": 2, \"value\": 892.0}, \"9085.0\": {\"frequency\": 3, \"value\": 9085.0}, \"9086.0\": {\"frequency\": 2, \"value\": 9086.0}, \"9087.0\": {\"frequency\": 3, \"value\": 9087.0}, \"9088.0\": {\"frequency\": 2, \"value\": 9088.0}, \"9090.0\": {\"frequency\": 2, \"value\": 9090.0}, \"9091.0\": {\"frequency\": 1, \"value\": 9091.0}, \"900.0\": {\"frequency\": 2, \"value\": 900.0}, \"9095.0\": {\"frequency\": 1, \"value\": 9095.0}, \"9096.0\": {\"frequency\": 2, \"value\": 9096.0}, \"9097.0\": {\"frequency\": 2, \"value\": 9097.0}, \"9099.0\": {\"frequency\": 2, \"value\": 9099.0}, \"9100.0\": {\"frequency\": 16, \"value\": 9100.0}, \"9102.0\": {\"frequency\": 3, \"value\": 9102.0}, \"912.0\": {\"frequency\": 2, \"value\": 912.0}, \"915.0\": {\"frequency\": 3, \"value\": 915.0}, \"17300.0\": {\"frequency\": 2, \"value\": 17300.0}, \"920.0\": {\"frequency\": 2, \"value\": 920.0}, \"923.0\": {\"frequency\": 2, \"value\": 923.0}, \"25500.0\": {\"frequency\": 2, \"value\": 25500.0}, \"926.0\": {\"frequency\": 2, \"value\": 926.0}, \"9119.0\": {\"frequency\": 1, \"value\": 9119.0}, \"9120.0\": {\"frequency\": 7, \"value\": 9120.0}, \"929.0\": {\"frequency\": 1, \"value\": 929.0}, \"932.0\": {\"frequency\": 2, \"value\": 932.0}, \"9125.0\": {\"frequency\": 2, \"value\": 9125.0}, \"934.0\": {\"frequency\": 3, \"value\": 934.0}, \"936.0\": {\"frequency\": 3, \"value\": 936.0}, \"9130.0\": {\"frequency\": 3, \"value\": 9130.0}, \"41900.0\": {\"frequency\": 1, \"value\": 41900.0}, \"941.0\": {\"frequency\": 3, \"value\": 941.0}, \"50094.0\": {\"frequency\": 4, \"value\": 50094.0}, \"9135.0\": {\"frequency\": 6, \"value\": 9135.0}, \"9136.0\": {\"frequency\": 3, \"value\": 9136.0}, \"9139.0\": {\"frequency\": 2, \"value\": 9139.0}, \"9140.0\": {\"frequency\": 3, \"value\": 9140.0}, \"17334.0\": {\"frequency\": 3, \"value\": 17334.0}, \"951.0\": {\"frequency\": 2, \"value\": 951.0}, \"9144.0\": {\"frequency\": 2, \"value\": 9144.0}, \"9145.0\": {\"frequency\": 2, \"value\": 9145.0}, \"954.0\": {\"frequency\": 2, \"value\": 954.0}, \"9147.0\": {\"frequency\": 5, \"value\": 9147.0}, \"9148.0\": {\"frequency\": 2, \"value\": 9148.0}, \"9150.0\": {\"frequency\": 7, \"value\": 9150.0}, \"960.0\": {\"frequency\": 2, \"value\": 960.0}, \"9153.0\": {\"frequency\": 2, \"value\": 9153.0}, \"17349.0\": {\"frequency\": 2, \"value\": 17349.0}, \"9158.0\": {\"frequency\": 2, \"value\": 9158.0}, \"7535.0\": {\"frequency\": 2, \"value\": 7535.0}, \"9160.0\": {\"frequency\": 2, \"value\": 9160.0}, \"7670.0\": {\"frequency\": 3, \"value\": 7670.0}, \"9162.0\": {\"frequency\": 2, \"value\": 9162.0}, \"9163.0\": {\"frequency\": 7, \"value\": 9163.0}, \"222156.0\": {\"frequency\": 2, \"value\": 222156.0}, \"974.0\": {\"frequency\": 2, \"value\": 974.0}, \"977.0\": {\"frequency\": 2, \"value\": 977.0}, \"9170.0\": {\"frequency\": 3, \"value\": 9170.0}, \"979.0\": {\"frequency\": 2, \"value\": 979.0}, \"33750.0\": {\"frequency\": 2, \"value\": 33750.0}, \"983.0\": {\"frequency\": 4, \"value\": 983.0}, \"9176.0\": {\"frequency\": 2, \"value\": 9176.0}, \"9177.0\": {\"frequency\": 1, \"value\": 9177.0}, \"987.0\": {\"frequency\": 2, \"value\": 987.0}, \"9180.0\": {\"frequency\": 3, \"value\": 9180.0}, \"989.0\": {\"frequency\": 3, \"value\": 989.0}, \"9182.0\": {\"frequency\": 2, \"value\": 9182.0}, \"9187.0\": {\"frequency\": 2, \"value\": 9187.0}, \"17380.0\": {\"frequency\": 1, \"value\": 17380.0}, \"997.0\": {\"frequency\": 2, \"value\": 997.0}, \"998.0\": {\"frequency\": 2, \"value\": 998.0}, \"9191.0\": {\"frequency\": 1, \"value\": 9191.0}, \"9194.0\": {\"frequency\": 1, \"value\": 9194.0}, \"9195.0\": {\"frequency\": 3, \"value\": 9195.0}, \"1005.0\": {\"frequency\": 3, \"value\": 1005.0}, \"17390.0\": {\"frequency\": 1, \"value\": 17390.0}, \"9199.0\": {\"frequency\": 2, \"value\": 9199.0}, \"9200.0\": {\"frequency\": 13, \"value\": 9200.0}, \"16552.0\": {\"frequency\": 2, \"value\": 16552.0}, \"9202.0\": {\"frequency\": 2, \"value\": 9202.0}, \"1012.0\": {\"frequency\": 2, \"value\": 1012.0}, \"9205.0\": {\"frequency\": 2, \"value\": 9205.0}, \"9206.0\": {\"frequency\": 1, \"value\": 9206.0}, \"1016.0\": {\"frequency\": 1, \"value\": 1016.0}, \"9209.0\": {\"frequency\": 2, \"value\": 9209.0}, \"9210.0\": {\"frequency\": 3, \"value\": 9210.0}, \"9211.0\": {\"frequency\": 2, \"value\": 9211.0}, \"1020.0\": {\"frequency\": 4, \"value\": 1020.0}, \"1021.0\": {\"frequency\": 3, \"value\": 1021.0}, \"1022.0\": {\"frequency\": 2, \"value\": 1022.0}, \"25600.0\": {\"frequency\": 2, \"value\": 25600.0}, \"9220.0\": {\"frequency\": 3, \"value\": 9220.0}, \"1032.0\": {\"frequency\": 3, \"value\": 1032.0}, \"9225.0\": {\"frequency\": 7, \"value\": 9225.0}, \"9226.0\": {\"frequency\": 2, \"value\": 9226.0}, \"1036.0\": {\"frequency\": 2, \"value\": 1036.0}, \"9230.0\": {\"frequency\": 2, \"value\": 9230.0}, \"9231.0\": {\"frequency\": 2, \"value\": 9231.0}, \"17424.0\": {\"frequency\": 4, \"value\": 17424.0}, \"9234.0\": {\"frequency\": 2, \"value\": 9234.0}, \"9235.0\": {\"frequency\": 2, \"value\": 9235.0}, \"1044.0\": {\"frequency\": 1, \"value\": 1044.0}, \"24750.0\": {\"frequency\": 3, \"value\": 24750.0}, \"9238.0\": {\"frequency\": 3, \"value\": 9238.0}, \"9239.0\": {\"frequency\": 3, \"value\": 9239.0}, \"9240.0\": {\"frequency\": 12, \"value\": 9240.0}, \"1540.0\": {\"frequency\": 2, \"value\": 1540.0}, \"9242.0\": {\"frequency\": 1, \"value\": 9242.0}, \"1051.0\": {\"frequency\": 2, \"value\": 1051.0}, \"9244.0\": {\"frequency\": 2, \"value\": 9244.0}, \"9247.0\": {\"frequency\": 2, \"value\": 9247.0}, \"9248.0\": {\"frequency\": 4, \"value\": 9248.0}, \"1058.0\": {\"frequency\": 4, \"value\": 1058.0}, \"1060.0\": {\"frequency\": 4, \"value\": 1060.0}, \"9253.0\": {\"frequency\": 2, \"value\": 9253.0}, \"1062.0\": {\"frequency\": 2, \"value\": 1062.0}, \"9255.0\": {\"frequency\": 2, \"value\": 9255.0}, \"1066.0\": {\"frequency\": 1, \"value\": 1066.0}, \"9260.0\": {\"frequency\": 2, \"value\": 9260.0}, \"9261.0\": {\"frequency\": 2, \"value\": 9261.0}, \"189486.0\": {\"frequency\": 3, \"value\": 189486.0}, \"9263.0\": {\"frequency\": 2, \"value\": 9263.0}, \"1073.0\": {\"frequency\": 4, \"value\": 1073.0}, \"9266.0\": {\"frequency\": 2, \"value\": 9266.0}, \"9583.0\": {\"frequency\": 9, \"value\": 9583.0}, \"1077.0\": {\"frequency\": 2, \"value\": 1077.0}, \"9270.0\": {\"frequency\": 3, \"value\": 9270.0}, \"9272.0\": {\"frequency\": 2, \"value\": 9272.0}, \"9273.0\": {\"frequency\": 2, \"value\": 9273.0}, \"9276.0\": {\"frequency\": 1, \"value\": 9276.0}, \"1085.0\": {\"frequency\": 2, \"value\": 1085.0}, \"1086.0\": {\"frequency\": 2, \"value\": 1086.0}, \"1400.0\": {\"frequency\": 4, \"value\": 1400.0}, \"9282.0\": {\"frequency\": 5, \"value\": 9282.0}, \"1091.0\": {\"frequency\": 3, \"value\": 1091.0}, \"1092.0\": {\"frequency\": 3, \"value\": 1092.0}, \"181319.0\": {\"frequency\": 1, \"value\": 181319.0}, \"9288.0\": {\"frequency\": 2, \"value\": 9288.0}, \"107593.0\": {\"frequency\": 1, \"value\": 107593.0}, \"8375.0\": {\"frequency\": 4, \"value\": 8375.0}, \"9292.0\": {\"frequency\": 2, \"value\": 9292.0}, \"1101.0\": {\"frequency\": 2, \"value\": 1101.0}, \"1102.0\": {\"frequency\": 3, \"value\": 1102.0}, \"17487.0\": {\"frequency\": 1, \"value\": 17487.0}, \"1107.0\": {\"frequency\": 3, \"value\": 1107.0}, \"9300.0\": {\"frequency\": 11, \"value\": 9300.0}, \"9301.0\": {\"frequency\": 2, \"value\": 9301.0}, \"1110.0\": {\"frequency\": 2, \"value\": 1110.0}, \"1113.0\": {\"frequency\": 2, \"value\": 1113.0}, \"1114.0\": {\"frequency\": 3, \"value\": 1114.0}, \"9307.0\": {\"frequency\": 1, \"value\": 9307.0}, \"9310.0\": {\"frequency\": 3, \"value\": 9310.0}, \"1119.0\": {\"frequency\": 2, \"value\": 1119.0}, \"9312.0\": {\"frequency\": 2, \"value\": 9312.0}, \"9314.0\": {\"frequency\": 2, \"value\": 9314.0}, \"9315.0\": {\"frequency\": 4, \"value\": 9315.0}, \"1125.0\": {\"frequency\": 4, \"value\": 1125.0}, \"9320.0\": {\"frequency\": 2, \"value\": 9320.0}, \"12476.0\": {\"frequency\": 2, \"value\": 12476.0}, \"9322.0\": {\"frequency\": 2, \"value\": 9322.0}, \"9323.0\": {\"frequency\": 2, \"value\": 9323.0}, \"1133.0\": {\"frequency\": 2, \"value\": 1133.0}, \"9328.0\": {\"frequency\": 3, \"value\": 9328.0}, \"1137.0\": {\"frequency\": 3, \"value\": 1137.0}, \"25714.0\": {\"frequency\": 1, \"value\": 25714.0}, \"9747.0\": {\"frequency\": 2, \"value\": 9747.0}, \"1140.0\": {\"frequency\": 3, \"value\": 1140.0}, \"9334.0\": {\"frequency\": 2, \"value\": 9334.0}, \"1146.0\": {\"frequency\": 2, \"value\": 1146.0}, \"9339.0\": {\"frequency\": 2, \"value\": 9339.0}, \"1149.0\": {\"frequency\": 3, \"value\": 1149.0}, \"1150.0\": {\"frequency\": 2, \"value\": 1150.0}, \"33919.0\": {\"frequency\": 1, \"value\": 33919.0}, \"12480.0\": {\"frequency\": 2, \"value\": 12480.0}, \"9346.0\": {\"frequency\": 2, \"value\": 9346.0}, \"1155.0\": {\"frequency\": 2, \"value\": 1155.0}, \"1156.0\": {\"frequency\": 2, \"value\": 1156.0}, \"1157.0\": {\"frequency\": 5, \"value\": 1157.0}, \"9350.0\": {\"frequency\": 11, \"value\": 9350.0}, \"1159.0\": {\"frequency\": 1, \"value\": 1159.0}, \"1161.0\": {\"frequency\": 3, \"value\": 1161.0}, \"9354.0\": {\"frequency\": 2, \"value\": 9354.0}, \"1165.0\": {\"frequency\": 3, \"value\": 1165.0}, \"1168.0\": {\"frequency\": 2, \"value\": 1168.0}, \"9362.0\": {\"frequency\": 3, \"value\": 9362.0}, \"1171.0\": {\"frequency\": 2, \"value\": 1171.0}, \"9364.0\": {\"frequency\": 2, \"value\": 9364.0}, \"1173.0\": {\"frequency\": 4, \"value\": 1173.0}, \"1174.0\": {\"frequency\": 4, \"value\": 1174.0}, \"1175.0\": {\"frequency\": 1, \"value\": 1175.0}, \"9370.0\": {\"frequency\": 3, \"value\": 9370.0}, \"1179.0\": {\"frequency\": 2, \"value\": 1179.0}, \"1180.0\": {\"frequency\": 6, \"value\": 1180.0}, \"9373.0\": {\"frequency\": 2, \"value\": 9373.0}, \"1182.0\": {\"frequency\": 2, \"value\": 1182.0}, \"9375.0\": {\"frequency\": 11, \"value\": 9375.0}, \"1184.0\": {\"frequency\": 2, \"value\": 1184.0}, \"9377.0\": {\"frequency\": 2, \"value\": 9377.0}, \"1186.0\": {\"frequency\": 2, \"value\": 1186.0}, \"1187.0\": {\"frequency\": 2, \"value\": 1187.0}, \"9380.0\": {\"frequency\": 5, \"value\": 9380.0}, \"1189.0\": {\"frequency\": 5, \"value\": 1189.0}, \"1192.0\": {\"frequency\": 2, \"value\": 1192.0}, \"1193.0\": {\"frequency\": 3, \"value\": 1193.0}, \"1194.0\": {\"frequency\": 4, \"value\": 1194.0}, \"1196.0\": {\"frequency\": 2, \"value\": 1196.0}, \"9389.0\": {\"frequency\": 2, \"value\": 9389.0}, \"9391.0\": {\"frequency\": 2, \"value\": 9391.0}, \"1200.0\": {\"frequency\": 9, \"value\": 1200.0}, \"17585.0\": {\"frequency\": 1, \"value\": 17585.0}, \"1204.0\": {\"frequency\": 4, \"value\": 1204.0}, \"1566.0\": {\"frequency\": 2, \"value\": 1566.0}, \"9400.0\": {\"frequency\": 8, \"value\": 9400.0}, \"1209.0\": {\"frequency\": 2, \"value\": 1209.0}, \"1210.0\": {\"frequency\": 2, \"value\": 1210.0}, \"9403.0\": {\"frequency\": 2, \"value\": 9403.0}, \"1213.0\": {\"frequency\": 4, \"value\": 1213.0}, \"4132.0\": {\"frequency\": 2, \"value\": 4132.0}, \"17600.0\": {\"frequency\": 3, \"value\": 17600.0}, \"1219.0\": {\"frequency\": 2, \"value\": 1219.0}, \"42180.0\": {\"frequency\": 2, \"value\": 42180.0}, \"1221.0\": {\"frequency\": 4, \"value\": 1221.0}, \"9414.0\": {\"frequency\": 2, \"value\": 9414.0}, \"9415.0\": {\"frequency\": 2, \"value\": 9415.0}, \"9416.0\": {\"frequency\": 2, \"value\": 9416.0}, \"9417.0\": {\"frequency\": 3, \"value\": 9417.0}, \"9420.0\": {\"frequency\": 2, \"value\": 9420.0}, \"1229.0\": {\"frequency\": 2, \"value\": 1229.0}, \"1230.0\": {\"frequency\": 3, \"value\": 1230.0}, \"9425.0\": {\"frequency\": 3, \"value\": 9425.0}, \"9426.0\": {\"frequency\": 2, \"value\": 9426.0}, \"9427.0\": {\"frequency\": 2, \"value\": 9427.0}, \"1236.0\": {\"frequency\": 4, \"value\": 1236.0}, \"1237.0\": {\"frequency\": 3, \"value\": 1237.0}, \"9430.0\": {\"frequency\": 2, \"value\": 9430.0}, \"76665.0\": {\"frequency\": 2, \"value\": 76665.0}, \"1240.0\": {\"frequency\": 4, \"value\": 1240.0}, \"1241.0\": {\"frequency\": 2, \"value\": 1241.0}, \"9435.0\": {\"frequency\": 2, \"value\": 9435.0}, \"1245.0\": {\"frequency\": 4, \"value\": 1245.0}, \"1246.0\": {\"frequency\": 3, \"value\": 1246.0}, \"9440.0\": {\"frequency\": 2, \"value\": 9440.0}, \"1249.0\": {\"frequency\": 5, \"value\": 1249.0}, \"1250.0\": {\"frequency\": 8, \"value\": 1250.0}, \"1251.0\": {\"frequency\": 4, \"value\": 1251.0}, \"1253.0\": {\"frequency\": 2, \"value\": 1253.0}, \"9448.0\": {\"frequency\": 2, \"value\": 9448.0}, \"9450.0\": {\"frequency\": 19, \"value\": 9450.0}, \"9451.0\": {\"frequency\": 2, \"value\": 9451.0}, \"9452.0\": {\"frequency\": 2, \"value\": 9452.0}, \"9453.0\": {\"frequency\": 2, \"value\": 9453.0}, \"1262.0\": {\"frequency\": 3, \"value\": 1262.0}, \"1263.0\": {\"frequency\": 3, \"value\": 1263.0}, \"1264.0\": {\"frequency\": 3, \"value\": 1264.0}, \"1265.0\": {\"frequency\": 2, \"value\": 1265.0}, \"9460.0\": {\"frequency\": 6, \"value\": 9460.0}, \"1269.0\": {\"frequency\": 4, \"value\": 1269.0}, \"1270.0\": {\"frequency\": 3, \"value\": 1270.0}, \"4308.0\": {\"frequency\": 2, \"value\": 4308.0}, \"9466.0\": {\"frequency\": 2, \"value\": 9466.0}, \"9467.0\": {\"frequency\": 1, \"value\": 9467.0}, \"230652.0\": {\"frequency\": 1, \"value\": 230652.0}, \"1278.0\": {\"frequency\": 2, \"value\": 1278.0}, \"83199.0\": {\"frequency\": 2, \"value\": 83199.0}, \"1280.0\": {\"frequency\": 3, \"value\": 1280.0}, \"9473.0\": {\"frequency\": 3, \"value\": 9473.0}, \"1282.0\": {\"frequency\": 2, \"value\": 1282.0}, \"9477.0\": {\"frequency\": 2, \"value\": 9477.0}, \"1286.0\": {\"frequency\": 4, \"value\": 1286.0}, \"1287.0\": {\"frequency\": 2, \"value\": 1287.0}, \"9480.0\": {\"frequency\": 6, \"value\": 9480.0}, \"1289.0\": {\"frequency\": 2, \"value\": 1289.0}, \"1290.0\": {\"frequency\": 5, \"value\": 1290.0}, \"9484.0\": {\"frequency\": 2, \"value\": 9484.0}, \"9486.0\": {\"frequency\": 3, \"value\": 9486.0}, \"1581.0\": {\"frequency\": 1, \"value\": 1581.0}, \"9488.0\": {\"frequency\": 3, \"value\": 9488.0}, \"1298.0\": {\"frequency\": 2, \"value\": 1298.0}, \"9492.0\": {\"frequency\": 2, \"value\": 9492.0}, \"1302.0\": {\"frequency\": 2, \"value\": 1302.0}, \"1303.0\": {\"frequency\": 2, \"value\": 1303.0}, \"1304.0\": {\"frequency\": 2, \"value\": 1304.0}, \"9497.0\": {\"frequency\": 3, \"value\": 9497.0}, \"1306.0\": {\"frequency\": 3, \"value\": 1306.0}, \"9500.0\": {\"frequency\": 14, \"value\": 9500.0}, \"1309.0\": {\"frequency\": 2, \"value\": 1309.0}, \"1310.0\": {\"frequency\": 2, \"value\": 1310.0}, \"1311.0\": {\"frequency\": 2, \"value\": 1311.0}, \"1312.0\": {\"frequency\": 4, \"value\": 1312.0}, \"17700.0\": {\"frequency\": 2, \"value\": 17700.0}, \"1320.0\": {\"frequency\": 3, \"value\": 1320.0}, \"1321.0\": {\"frequency\": 2, \"value\": 1321.0}, \"9514.0\": {\"frequency\": 3, \"value\": 9514.0}, \"214315.0\": {\"frequency\": 3, \"value\": 214315.0}, \"9516.0\": {\"frequency\": 3, \"value\": 9516.0}, \"1325.0\": {\"frequency\": 4, \"value\": 1325.0}, \"9519.0\": {\"frequency\": 3, \"value\": 9519.0}, \"9520.0\": {\"frequency\": 8, \"value\": 9520.0}, \"1329.0\": {\"frequency\": 3, \"value\": 1329.0}, \"1330.0\": {\"frequency\": 3, \"value\": 1330.0}, \"17715.0\": {\"frequency\": 1, \"value\": 17715.0}, \"1332.0\": {\"frequency\": 4, \"value\": 1332.0}, \"9525.0\": {\"frequency\": 11, \"value\": 9525.0}, \"1334.0\": {\"frequency\": 2, \"value\": 1334.0}, \"9527.0\": {\"frequency\": 2, \"value\": 9527.0}, \"9528.0\": {\"frequency\": 2, \"value\": 9528.0}, \"9529.0\": {\"frequency\": 2, \"value\": 9529.0}, \"9530.0\": {\"frequency\": 1, \"value\": 9530.0}, \"8415.0\": {\"frequency\": 2, \"value\": 8415.0}, \"1340.0\": {\"frequency\": 3, \"value\": 1340.0}, \"1343.0\": {\"frequency\": 2, \"value\": 1343.0}, \"9540.0\": {\"frequency\": 3, \"value\": 9540.0}, \"1349.0\": {\"frequency\": 3, \"value\": 1349.0}, \"9542.0\": {\"frequency\": 2, \"value\": 9542.0}, \"9545.0\": {\"frequency\": 2, \"value\": 9545.0}, \"9546.0\": {\"frequency\": 2, \"value\": 9546.0}, \"9547.0\": {\"frequency\": 2, \"value\": 9547.0}, \"9548.0\": {\"frequency\": 2, \"value\": 9548.0}, \"9549.0\": {\"frequency\": 2, \"value\": 9549.0}, \"9550.0\": {\"frequency\": 3, \"value\": 9550.0}, \"1361.0\": {\"frequency\": 3, \"value\": 1361.0}, \"1362.0\": {\"frequency\": 3, \"value\": 1362.0}, \"91476.0\": {\"frequency\": 2, \"value\": 91476.0}, \"34133.0\": {\"frequency\": 1, \"value\": 34133.0}, \"1368.0\": {\"frequency\": 2, \"value\": 1368.0}, \"1369.0\": {\"frequency\": 3, \"value\": 1369.0}, \"9563.0\": {\"frequency\": 2, \"value\": 9563.0}, \"1372.0\": {\"frequency\": 1, \"value\": 1372.0}, \"9565.0\": {\"frequency\": 1, \"value\": 9565.0}, \"1374.0\": {\"frequency\": 1, \"value\": 1374.0}, \"9568.0\": {\"frequency\": 2, \"value\": 9568.0}, \"1377.0\": {\"frequency\": 3, \"value\": 1377.0}, \"9570.0\": {\"frequency\": 4, \"value\": 9570.0}, \"1380.0\": {\"frequency\": 3, \"value\": 1380.0}, \"25958.0\": {\"frequency\": 1, \"value\": 25958.0}, \"9576.0\": {\"frequency\": 5, \"value\": 9576.0}, \"1386.0\": {\"frequency\": 2, \"value\": 1386.0}, \"9579.0\": {\"frequency\": 3, \"value\": 9579.0}, \"9580.0\": {\"frequency\": 2, \"value\": 9580.0}, \"1391.0\": {\"frequency\": 1, \"value\": 1391.0}, \"1396.0\": {\"frequency\": 2, \"value\": 1396.0}, \"7647.0\": {\"frequency\": 2, \"value\": 7647.0}, \"9592.0\": {\"frequency\": 1, \"value\": 9592.0}, \"9594.0\": {\"frequency\": 2, \"value\": 9594.0}, \"17789.0\": {\"frequency\": 1, \"value\": 17789.0}, \"9599.0\": {\"frequency\": 3, \"value\": 9599.0}, \"9600.0\": {\"frequency\": 109, \"value\": 9600.0}, \"9601.0\": {\"frequency\": 6, \"value\": 9601.0}, \"9602.0\": {\"frequency\": 2, \"value\": 9602.0}, \"9603.0\": {\"frequency\": 6, \"value\": 9603.0}, \"9604.0\": {\"frequency\": 2, \"value\": 9604.0}, \"9605.0\": {\"frequency\": 4, \"value\": 9605.0}, \"9606.0\": {\"frequency\": 4, \"value\": 9606.0}, \"22081.0\": {\"frequency\": 2, \"value\": 22081.0}, \"9608.0\": {\"frequency\": 2, \"value\": 9608.0}, \"9610.0\": {\"frequency\": 4, \"value\": 9610.0}, \"9611.0\": {\"frequency\": 2, \"value\": 9611.0}, \"9612.0\": {\"frequency\": 7, \"value\": 9612.0}, \"9614.0\": {\"frequency\": 3, \"value\": 9614.0}, \"40419.0\": {\"frequency\": 1, \"value\": 40419.0}, \"26000.0\": {\"frequency\": 2, \"value\": 26000.0}, \"1425.0\": {\"frequency\": 2, \"value\": 1425.0}, \"9620.0\": {\"frequency\": 7, \"value\": 9620.0}, \"9622.0\": {\"frequency\": 2, \"value\": 9622.0}, \"9623.0\": {\"frequency\": 2, \"value\": 9623.0}, \"9624.0\": {\"frequency\": 5, \"value\": 9624.0}, \"9625.0\": {\"frequency\": 3, \"value\": 9625.0}, \"9627.0\": {\"frequency\": 2, \"value\": 9627.0}, \"9628.0\": {\"frequency\": 2, \"value\": 9628.0}, \"9629.0\": {\"frequency\": 4, \"value\": 9629.0}, \"9630.0\": {\"frequency\": 5, \"value\": 9630.0}, \"9633.0\": {\"frequency\": 1, \"value\": 9633.0}, \"1442.0\": {\"frequency\": 4, \"value\": 1442.0}, \"9635.0\": {\"frequency\": 2, \"value\": 9635.0}, \"1444.0\": {\"frequency\": 2, \"value\": 1444.0}, \"1445.0\": {\"frequency\": 3, \"value\": 1445.0}, \"9638.0\": {\"frequency\": 4, \"value\": 9638.0}, \"9639.0\": {\"frequency\": 2, \"value\": 9639.0}, \"99752.0\": {\"frequency\": 2, \"value\": 99752.0}, \"17833.0\": {\"frequency\": 2, \"value\": 17833.0}, \"9643.0\": {\"frequency\": 3, \"value\": 9643.0}, \"1452.0\": {\"frequency\": 4, \"value\": 1452.0}, \"9645.0\": {\"frequency\": 3, \"value\": 9645.0}, \"9647.0\": {\"frequency\": 2, \"value\": 9647.0}, \"9648.0\": {\"frequency\": 3, \"value\": 9648.0}, \"1458.0\": {\"frequency\": 3, \"value\": 1458.0}, \"9652.0\": {\"frequency\": 6, \"value\": 9652.0}, \"9653.0\": {\"frequency\": 4, \"value\": 9653.0}, \"9654.0\": {\"frequency\": 2, \"value\": 9654.0}, \"9655.0\": {\"frequency\": 2, \"value\": 9655.0}, \"9656.0\": {\"frequency\": 6, \"value\": 9656.0}, \"9660.0\": {\"frequency\": 4, \"value\": 9660.0}, \"17853.0\": {\"frequency\": 2, \"value\": 17853.0}, \"1471.0\": {\"frequency\": 2, \"value\": 1471.0}, \"1473.0\": {\"frequency\": 2, \"value\": 1473.0}, \"17859.0\": {\"frequency\": 4, \"value\": 17859.0}, \"9668.0\": {\"frequency\": 2, \"value\": 9668.0}, \"45302.0\": {\"frequency\": 4, \"value\": 45302.0}, \"9670.0\": {\"frequency\": 2, \"value\": 9670.0}, \"26055.0\": {\"frequency\": 1, \"value\": 26055.0}, \"1480.0\": {\"frequency\": 2, \"value\": 1480.0}, \"1612.0\": {\"frequency\": 3, \"value\": 1612.0}, \"9674.0\": {\"frequency\": 2, \"value\": 9674.0}, \"9675.0\": {\"frequency\": 3, \"value\": 9675.0}, \"1485.0\": {\"frequency\": 3, \"value\": 1485.0}, \"1486.0\": {\"frequency\": 2, \"value\": 1486.0}, \"1487.0\": {\"frequency\": 4, \"value\": 1487.0}, \"9680.0\": {\"frequency\": 10, \"value\": 9680.0}, \"9682.0\": {\"frequency\": 3, \"value\": 9682.0}, \"9684.0\": {\"frequency\": 2, \"value\": 9684.0}, \"1493.0\": {\"frequency\": 3, \"value\": 1493.0}, \"9686.0\": {\"frequency\": 2, \"value\": 9686.0}, \"9687.0\": {\"frequency\": 3, \"value\": 9687.0}, \"9689.0\": {\"frequency\": 2, \"value\": 9689.0}, \"9690.0\": {\"frequency\": 5, \"value\": 9690.0}, \"1499.0\": {\"frequency\": 2, \"value\": 1499.0}, \"1500.0\": {\"frequency\": 6, \"value\": 1500.0}, \"1501.0\": {\"frequency\": 3, \"value\": 1501.0}, \"9696.0\": {\"frequency\": 2, \"value\": 9696.0}, \"9697.0\": {\"frequency\": 3, \"value\": 9697.0}, \"9700.0\": {\"frequency\": 2, \"value\": 9700.0}, \"9701.0\": {\"frequency\": 3, \"value\": 9701.0}, \"9702.0\": {\"frequency\": 3, \"value\": 9702.0}, \"9703.0\": {\"frequency\": 2, \"value\": 9703.0}, \"1512.0\": {\"frequency\": 2, \"value\": 1512.0}, \"9705.0\": {\"frequency\": 2, \"value\": 9705.0}, \"9706.0\": {\"frequency\": 2, \"value\": 9706.0}, \"1516.0\": {\"frequency\": 2, \"value\": 1516.0}, \"9711.0\": {\"frequency\": 3, \"value\": 9711.0}, \"39848.0\": {\"frequency\": 2, \"value\": 39848.0}, \"9714.0\": {\"frequency\": 3, \"value\": 9714.0}, \"9715.0\": {\"frequency\": 4, \"value\": 9715.0}, \"34293.0\": {\"frequency\": 1, \"value\": 34293.0}, \"9719.0\": {\"frequency\": 3, \"value\": 9719.0}, \"10962.0\": {\"frequency\": 3, \"value\": 10962.0}, \"1620.0\": {\"frequency\": 2, \"value\": 1620.0}, \"1531.0\": {\"frequency\": 2, \"value\": 1531.0}, \"9725.0\": {\"frequency\": 3, \"value\": 9725.0}, \"9727.0\": {\"frequency\": 2, \"value\": 9727.0}, \"1536.0\": {\"frequency\": 2, \"value\": 1536.0}, \"9730.0\": {\"frequency\": 3, \"value\": 9730.0}, \"9732.0\": {\"frequency\": 3, \"value\": 9732.0}, \"9736.0\": {\"frequency\": 3, \"value\": 9736.0}, \"1545.0\": {\"frequency\": 2, \"value\": 1545.0}, \"9743.0\": {\"frequency\": 2, \"value\": 9743.0}, \"17936.0\": {\"frequency\": 1, \"value\": 17936.0}, \"13912.0\": {\"frequency\": 2, \"value\": 13912.0}, \"16643.0\": {\"frequency\": 2, \"value\": 16643.0}, \"9748.0\": {\"frequency\": 3, \"value\": 9748.0}, \"9750.0\": {\"frequency\": 43, \"value\": 9750.0}, \"9751.0\": {\"frequency\": 2, \"value\": 9751.0}, \"9752.0\": {\"frequency\": 5, \"value\": 9752.0}, \"9753.0\": {\"frequency\": 4, \"value\": 9753.0}, \"17950.0\": {\"frequency\": 1, \"value\": 17950.0}, \"9760.0\": {\"frequency\": 6, \"value\": 9760.0}, \"1569.0\": {\"frequency\": 2, \"value\": 1569.0}, \"1570.0\": {\"frequency\": 2, \"value\": 1570.0}, \"9764.0\": {\"frequency\": 2, \"value\": 9764.0}, \"9766.0\": {\"frequency\": 2, \"value\": 9766.0}, \"1577.0\": {\"frequency\": 2, \"value\": 1577.0}, \"9773.0\": {\"frequency\": 2, \"value\": 9773.0}, \"9774.0\": {\"frequency\": 2, \"value\": 9774.0}, \"9775.0\": {\"frequency\": 10, \"value\": 9775.0}, \"1585.0\": {\"frequency\": 2, \"value\": 1585.0}, \"9778.0\": {\"frequency\": 2, \"value\": 9778.0}, \"1587.0\": {\"frequency\": 3, \"value\": 1587.0}, \"9780.0\": {\"frequency\": 4, \"value\": 9780.0}, \"1590.0\": {\"frequency\": 3, \"value\": 1590.0}, \"9784.0\": {\"frequency\": 2, \"value\": 9784.0}, \"9786.0\": {\"frequency\": 3, \"value\": 9786.0}, \"1596.0\": {\"frequency\": 2, \"value\": 1596.0}, \"8458.0\": {\"frequency\": 3, \"value\": 8458.0}, \"1598.0\": {\"frequency\": 2, \"value\": 1598.0}, \"7093.0\": {\"frequency\": 2, \"value\": 7093.0}, \"9792.0\": {\"frequency\": 2, \"value\": 9792.0}, \"9793.0\": {\"frequency\": 2, \"value\": 9793.0}, \"9796.0\": {\"frequency\": 2, \"value\": 9796.0}, \"9798.0\": {\"frequency\": 3, \"value\": 9798.0}, \"9800.0\": {\"frequency\": 20, \"value\": 9800.0}, \"1609.0\": {\"frequency\": 2, \"value\": 1609.0}, \"9804.0\": {\"frequency\": 4, \"value\": 9804.0}, \"1613.0\": {\"frequency\": 4, \"value\": 1613.0}, \"1614.0\": {\"frequency\": 2, \"value\": 1614.0}, \"18000.0\": {\"frequency\": 13, \"value\": 18000.0}, \"1618.0\": {\"frequency\": 2, \"value\": 1618.0}, \"9812.0\": {\"frequency\": 4, \"value\": 9812.0}, \"9813.0\": {\"frequency\": 1, \"value\": 9813.0}, \"9816.0\": {\"frequency\": 1, \"value\": 9816.0}, \"12013.0\": {\"frequency\": 2, \"value\": 12013.0}, \"9822.0\": {\"frequency\": 3, \"value\": 9822.0}, \"9824.0\": {\"frequency\": 2, \"value\": 9824.0}, \"9825.0\": {\"frequency\": 9, \"value\": 9825.0}, \"9826.0\": {\"frequency\": 2, \"value\": 9826.0}, \"9827.0\": {\"frequency\": 5, \"value\": 9827.0}, \"9828.0\": {\"frequency\": 2, \"value\": 9828.0}, \"9830.0\": {\"frequency\": 3, \"value\": 9830.0}, \"1638.0\": {\"frequency\": 2, \"value\": 1638.0}, \"13927.0\": {\"frequency\": 3, \"value\": 13927.0}, \"34412.0\": {\"frequency\": 2, \"value\": 34412.0}, \"9840.0\": {\"frequency\": 5, \"value\": 9840.0}, \"7378.0\": {\"frequency\": 2, \"value\": 7378.0}, \"1650.0\": {\"frequency\": 3, \"value\": 1650.0}, \"9847.0\": {\"frequency\": 2, \"value\": 9847.0}, \"1656.0\": {\"frequency\": 2, \"value\": 1656.0}, \"9850.0\": {\"frequency\": 1, \"value\": 9850.0}, \"9855.0\": {\"frequency\": 2, \"value\": 9855.0}, \"9856.0\": {\"frequency\": 3, \"value\": 9856.0}, \"3008.0\": {\"frequency\": 3, \"value\": 3008.0}, \"18050.0\": {\"frequency\": 2, \"value\": 18050.0}, \"9861.0\": {\"frequency\": 2, \"value\": 9861.0}, \"18055.0\": {\"frequency\": 2, \"value\": 18055.0}, \"9864.0\": {\"frequency\": 2, \"value\": 9864.0}, \"206474.0\": {\"frequency\": 2, \"value\": 206474.0}, \"9869.0\": {\"frequency\": 2, \"value\": 9869.0}, \"9870.0\": {\"frequency\": 3, \"value\": 9870.0}, \"9874.0\": {\"frequency\": 3, \"value\": 9874.0}, \"9875.0\": {\"frequency\": 3, \"value\": 9875.0}, \"9877.0\": {\"frequency\": 2, \"value\": 9877.0}, \"9879.0\": {\"frequency\": 2, \"value\": 9879.0}, \"9880.0\": {\"frequency\": 4, \"value\": 9880.0}, \"3012.0\": {\"frequency\": 2, \"value\": 3012.0}, \"9882.0\": {\"frequency\": 2, \"value\": 9882.0}, \"9886.0\": {\"frequency\": 3, \"value\": 9886.0}, \"9887.0\": {\"frequency\": 2, \"value\": 9887.0}, \"9889.0\": {\"frequency\": 2, \"value\": 9889.0}, \"9897.0\": {\"frequency\": 2, \"value\": 9897.0}, \"9898.0\": {\"frequency\": 3, \"value\": 9898.0}, \"9900.0\": {\"frequency\": 29, \"value\": 9900.0}, \"1709.0\": {\"frequency\": 2, \"value\": 1709.0}, \"9907.0\": {\"frequency\": 2, \"value\": 9907.0}, \"9912.0\": {\"frequency\": 2, \"value\": 9912.0}, \"1722.0\": {\"frequency\": 2, \"value\": 1722.0}, \"9916.0\": {\"frequency\": 4, \"value\": 9916.0}, \"9917.0\": {\"frequency\": 1, \"value\": 9917.0}, \"9920.0\": {\"frequency\": 6, \"value\": 9920.0}, \"16672.0\": {\"frequency\": 2, \"value\": 16672.0}, \"1730.0\": {\"frequency\": 2, \"value\": 1730.0}, \"9926.0\": {\"frequency\": 2, \"value\": 9926.0}, \"9935.0\": {\"frequency\": 2, \"value\": 9935.0}, \"9936.0\": {\"frequency\": 2, \"value\": 9936.0}, \"9848.0\": {\"frequency\": 3, \"value\": 9848.0}, \"9938.0\": {\"frequency\": 2, \"value\": 9938.0}, \"11214.0\": {\"frequency\": 3, \"value\": 11214.0}, \"26326.0\": {\"frequency\": 1, \"value\": 26326.0}, \"1755.0\": {\"frequency\": 3, \"value\": 1755.0}, \"1756.0\": {\"frequency\": 2, \"value\": 1756.0}, \"18042.0\": {\"frequency\": 2, \"value\": 18042.0}, \"9950.0\": {\"frequency\": 2, \"value\": 9950.0}, \"1760.0\": {\"frequency\": 3, \"value\": 1760.0}, \"9957.0\": {\"frequency\": 3, \"value\": 9957.0}, \"9960.0\": {\"frequency\": 2, \"value\": 9960.0}, \"8487.0\": {\"frequency\": 3, \"value\": 8487.0}, \"9964.0\": {\"frequency\": 1, \"value\": 9964.0}, \"42733.0\": {\"frequency\": 2, \"value\": 42733.0}, \"9966.0\": {\"frequency\": 2, \"value\": 9966.0}, \"1777.0\": {\"frequency\": 1, \"value\": 1777.0}, \"1778.0\": {\"frequency\": 2, \"value\": 1778.0}, \"1779.0\": {\"frequency\": 2, \"value\": 1779.0}, \"9972.0\": {\"frequency\": 4, \"value\": 9972.0}, \"9975.0\": {\"frequency\": 4, \"value\": 9975.0}, \"9976.0\": {\"frequency\": 1, \"value\": 9976.0}, \"7104.0\": {\"frequency\": 3, \"value\": 7104.0}, \"1793.0\": {\"frequency\": 2, \"value\": 1793.0}, \"9990.0\": {\"frequency\": 5, \"value\": 9990.0}, \"91911.0\": {\"frequency\": 2, \"value\": 91911.0}, \"1800.0\": {\"frequency\": 9, \"value\": 1800.0}, \"9994.0\": {\"frequency\": 3, \"value\": 9994.0}, \"9996.0\": {\"frequency\": 2, \"value\": 9996.0}, \"9997.0\": {\"frequency\": 2, \"value\": 9997.0}, \"10000.0\": {\"frequency\": 46, \"value\": 10000.0}, \"10002.0\": {\"frequency\": 1, \"value\": 10002.0}, \"10003.0\": {\"frequency\": 2, \"value\": 10003.0}, \"10005.0\": {\"frequency\": 7, \"value\": 10005.0}, \"18200.0\": {\"frequency\": 6, \"value\": 18200.0}, \"10010.0\": {\"frequency\": 2, \"value\": 10010.0}, \"1824.0\": {\"frequency\": 3, \"value\": 1824.0}, \"10018.0\": {\"frequency\": 7, \"value\": 10018.0}, \"1827.0\": {\"frequency\": 3, \"value\": 1827.0}, \"10023.0\": {\"frequency\": 2, \"value\": 10023.0}, \"10026.0\": {\"frequency\": 2, \"value\": 10026.0}, \"10030.0\": {\"frequency\": 2, \"value\": 10030.0}, \"10031.0\": {\"frequency\": 2, \"value\": 10031.0}, \"10032.0\": {\"frequency\": 3, \"value\": 10032.0}, \"10035.0\": {\"frequency\": 2, \"value\": 10035.0}, \"1845.0\": {\"frequency\": 2, \"value\": 1845.0}, \"1846.0\": {\"frequency\": 1, \"value\": 1846.0}, \"1848.0\": {\"frequency\": 2, \"value\": 1848.0}, \"9157.0\": {\"frequency\": 2, \"value\": 9157.0}, \"1850.0\": {\"frequency\": 4, \"value\": 1850.0}, \"10043.0\": {\"frequency\": 2, \"value\": 10043.0}, \"10046.0\": {\"frequency\": 2, \"value\": 10046.0}, \"10049.0\": {\"frequency\": 1, \"value\": 10049.0}, \"10050.0\": {\"frequency\": 11, \"value\": 10050.0}, \"10051.0\": {\"frequency\": 4, \"value\": 10051.0}, \"10052.0\": {\"frequency\": 2, \"value\": 10052.0}, \"18250.0\": {\"frequency\": 1, \"value\": 18250.0}, \"10061.0\": {\"frequency\": 1, \"value\": 10061.0}, \"10062.0\": {\"frequency\": 2, \"value\": 10062.0}, \"10064.0\": {\"frequency\": 3, \"value\": 10064.0}, \"1873.0\": {\"frequency\": 2, \"value\": 1873.0}, \"10070.0\": {\"frequency\": 2, \"value\": 10070.0}, \"10072.0\": {\"frequency\": 2, \"value\": 10072.0}, \"1882.0\": {\"frequency\": 2, \"value\": 1882.0}, \"10075.0\": {\"frequency\": 2, \"value\": 10075.0}, \"100188.0\": {\"frequency\": 3, \"value\": 100188.0}, \"10078.0\": {\"frequency\": 3, \"value\": 10078.0}, \"10079.0\": {\"frequency\": 4, \"value\": 10079.0}, \"10080.0\": {\"frequency\": 9, \"value\": 10080.0}, \"10086.0\": {\"frequency\": 2, \"value\": 10086.0}, \"1898.0\": {\"frequency\": 1, \"value\": 1898.0}, \"10092.0\": {\"frequency\": 1, \"value\": 10092.0}, \"10094.0\": {\"frequency\": 2, \"value\": 10094.0}, \"10098.0\": {\"frequency\": 2, \"value\": 10098.0}, \"1683.0\": {\"frequency\": 3, \"value\": 1683.0}, \"10100.0\": {\"frequency\": 4, \"value\": 10100.0}, \"1431.0\": {\"frequency\": 2, \"value\": 1431.0}, \"18295.0\": {\"frequency\": 4, \"value\": 18295.0}, \"1919.0\": {\"frequency\": 2, \"value\": 1919.0}, \"18304.0\": {\"frequency\": 2, \"value\": 18304.0}, \"10115.0\": {\"frequency\": 2, \"value\": 10115.0}, \"26500.0\": {\"frequency\": 2, \"value\": 26500.0}, \"10117.0\": {\"frequency\": 3, \"value\": 10117.0}, \"10120.0\": {\"frequency\": 2, \"value\": 10120.0}, \"10122.0\": {\"frequency\": 1, \"value\": 10122.0}, \"10125.0\": {\"frequency\": 25, \"value\": 10125.0}, \"10126.0\": {\"frequency\": 2, \"value\": 10126.0}, \"50529.0\": {\"frequency\": 2, \"value\": 50529.0}, \"1942.0\": {\"frequency\": 2, \"value\": 1942.0}, \"10136.0\": {\"frequency\": 2, \"value\": 10136.0}, \"10137.0\": {\"frequency\": 3, \"value\": 10137.0}, \"10139.0\": {\"frequency\": 2, \"value\": 10139.0}, \"10140.0\": {\"frequency\": 5, \"value\": 10140.0}, \"1950.0\": {\"frequency\": 4, \"value\": 1950.0}, \"10150.0\": {\"frequency\": 4, \"value\": 10150.0}, \"10152.0\": {\"frequency\": 2, \"value\": 10152.0}, \"10155.0\": {\"frequency\": 4, \"value\": 10155.0}, \"1968.0\": {\"frequency\": 5, \"value\": 1968.0}, \"7155.0\": {\"frequency\": 3, \"value\": 7155.0}, \"10165.0\": {\"frequency\": 1, \"value\": 10165.0}, \"18360.0\": {\"frequency\": 3, \"value\": 18360.0}, \"18361.0\": {\"frequency\": 1, \"value\": 18361.0}, \"18362.0\": {\"frequency\": 2, \"value\": 18362.0}, \"53578.0\": {\"frequency\": 5, \"value\": 53578.0}, \"67518.0\": {\"frequency\": 3, \"value\": 67518.0}, \"7157.0\": {\"frequency\": 2, \"value\": 7157.0}, \"1984.0\": {\"frequency\": 3, \"value\": 1984.0}, \"1985.0\": {\"frequency\": 2, \"value\": 1985.0}, \"10179.0\": {\"frequency\": 2, \"value\": 10179.0}, \"1988.0\": {\"frequency\": 3, \"value\": 1988.0}, \"10182.0\": {\"frequency\": 2, \"value\": 10182.0}, \"1991.0\": {\"frequency\": 2, \"value\": 1991.0}, \"10186.0\": {\"frequency\": 2, \"value\": 10186.0}, \"10189.0\": {\"frequency\": 3, \"value\": 10189.0}, \"10190.0\": {\"frequency\": 3, \"value\": 10190.0}, \"2000.0\": {\"frequency\": 5, \"value\": 2000.0}, \"10194.0\": {\"frequency\": 2, \"value\": 10194.0}, \"2003.0\": {\"frequency\": 3, \"value\": 2003.0}, \"10196.0\": {\"frequency\": 2, \"value\": 10196.0}, \"10200.0\": {\"frequency\": 30, \"value\": 10200.0}, \"10202.0\": {\"frequency\": 5, \"value\": 10202.0}, \"18616.0\": {\"frequency\": 1, \"value\": 18616.0}, \"10204.0\": {\"frequency\": 1, \"value\": 10204.0}, \"18400.0\": {\"frequency\": 4, \"value\": 18400.0}, \"10212.0\": {\"frequency\": 1, \"value\": 10212.0}, \"10215.0\": {\"frequency\": 3, \"value\": 10215.0}, \"10221.0\": {\"frequency\": 2, \"value\": 10221.0}, \"10223.0\": {\"frequency\": 2, \"value\": 10223.0}, \"10227.0\": {\"frequency\": 3, \"value\": 10227.0}, \"10228.0\": {\"frequency\": 1, \"value\": 10228.0}, \"10229.0\": {\"frequency\": 2, \"value\": 10229.0}, \"10230.0\": {\"frequency\": 5, \"value\": 10230.0}, \"2040.0\": {\"frequency\": 3, \"value\": 2040.0}, \"10240.0\": {\"frequency\": 6, \"value\": 10240.0}, \"2050.0\": {\"frequency\": 2, \"value\": 2050.0}, \"2052.0\": {\"frequency\": 3, \"value\": 2052.0}, \"10245.0\": {\"frequency\": 2, \"value\": 10245.0}, \"10248.0\": {\"frequency\": 2, \"value\": 10248.0}, \"10250.0\": {\"frequency\": 4, \"value\": 10250.0}, \"10255.0\": {\"frequency\": 1, \"value\": 10255.0}, \"2064.0\": {\"frequency\": 2, \"value\": 2064.0}, \"10257.0\": {\"frequency\": 1, \"value\": 10257.0}, \"75794.0\": {\"frequency\": 3, \"value\": 75794.0}, \"10259.0\": {\"frequency\": 1, \"value\": 10259.0}, \"10260.0\": {\"frequency\": 8, \"value\": 10260.0}, \"10270.0\": {\"frequency\": 3, \"value\": 10270.0}, \"10271.0\": {\"frequency\": 1, \"value\": 10271.0}, \"34848.0\": {\"frequency\": 3, \"value\": 34848.0}, \"5808.0\": {\"frequency\": 2, \"value\": 5808.0}, \"10275.0\": {\"frequency\": 3, \"value\": 10275.0}, \"10277.0\": {\"frequency\": 2, \"value\": 10277.0}, \"10280.0\": {\"frequency\": 2, \"value\": 10280.0}, \"10281.0\": {\"frequency\": 1, \"value\": 10281.0}, \"2091.0\": {\"frequency\": 2, \"value\": 2091.0}, \"2096.0\": {\"frequency\": 3, \"value\": 2096.0}, \"10289.0\": {\"frequency\": 2, \"value\": 10289.0}, \"10290.0\": {\"frequency\": 3, \"value\": 10290.0}, \"10291.0\": {\"frequency\": 2, \"value\": 10291.0}, \"2100.0\": {\"frequency\": 2, \"value\": 2100.0}, \"10296.0\": {\"frequency\": 3, \"value\": 10296.0}, \"10297.0\": {\"frequency\": 2, \"value\": 10297.0}, \"10300.0\": {\"frequency\": 11, \"value\": 10300.0}, \"10302.0\": {\"frequency\": 1, \"value\": 10302.0}, \"22000.0\": {\"frequency\": 6, \"value\": 22000.0}, \"2114.0\": {\"frequency\": 2, \"value\": 2114.0}, \"18500.0\": {\"frequency\": 2, \"value\": 18500.0}, \"10319.0\": {\"frequency\": 3, \"value\": 10319.0}, \"10320.0\": {\"frequency\": 4, \"value\": 10320.0}, \"8547.0\": {\"frequency\": 3, \"value\": 8547.0}, \"10327.0\": {\"frequency\": 2, \"value\": 10327.0}, \"2138.0\": {\"frequency\": 1, \"value\": 2138.0}, \"43101.0\": {\"frequency\": 1, \"value\": 43101.0}, \"10335.0\": {\"frequency\": 3, \"value\": 10335.0}, \"10336.0\": {\"frequency\": 2, \"value\": 10336.0}, \"7184.0\": {\"frequency\": 4, \"value\": 7184.0}, \"2147.0\": {\"frequency\": 3, \"value\": 2147.0}, \"2150.0\": {\"frequency\": 3, \"value\": 2150.0}, \"10344.0\": {\"frequency\": 2, \"value\": 10344.0}, \"26300.0\": {\"frequency\": 1, \"value\": 26300.0}, \"18540.0\": {\"frequency\": 2, \"value\": 18540.0}, \"10350.0\": {\"frequency\": 13, \"value\": 10350.0}, \"2159.0\": {\"frequency\": 3, \"value\": 2159.0}, \"2162.0\": {\"frequency\": 2, \"value\": 2162.0}, \"43124.0\": {\"frequency\": 2, \"value\": 43124.0}, \"10358.0\": {\"frequency\": 3, \"value\": 10358.0}, \"10360.0\": {\"frequency\": 4, \"value\": 10360.0}, \"10361.0\": {\"frequency\": 2, \"value\": 10361.0}, \"2171.0\": {\"frequency\": 3, \"value\": 2171.0}, \"10368.0\": {\"frequency\": 2, \"value\": 10368.0}, \"10369.0\": {\"frequency\": 2, \"value\": 10369.0}, \"10370.0\": {\"frequency\": 2, \"value\": 10370.0}, \"10375.0\": {\"frequency\": 4, \"value\": 10375.0}, \"2191.0\": {\"frequency\": 2, \"value\": 2191.0}, \"10384.0\": {\"frequency\": 2, \"value\": 10384.0}, \"215186.0\": {\"frequency\": 3, \"value\": 215186.0}, \"2199.0\": {\"frequency\": 2, \"value\": 2199.0}, \"2200.0\": {\"frequency\": 4, \"value\": 2200.0}, \"10400.0\": {\"frequency\": 11, \"value\": 10400.0}, \"10403.0\": {\"frequency\": 3, \"value\": 10403.0}, \"10404.0\": {\"frequency\": 2, \"value\": 10404.0}, \"2216.0\": {\"frequency\": 2, \"value\": 2216.0}, \"10409.0\": {\"frequency\": 2, \"value\": 10409.0}, \"2218.0\": {\"frequency\": 2, \"value\": 2218.0}, \"10416.0\": {\"frequency\": 3, \"value\": 10416.0}, \"2229.0\": {\"frequency\": 2, \"value\": 2229.0}, \"10423.0\": {\"frequency\": 3, \"value\": 10423.0}, \"35000.0\": {\"frequency\": 7, \"value\": 35000.0}, \"10426.0\": {\"frequency\": 2, \"value\": 10426.0}, \"35003.0\": {\"frequency\": 1, \"value\": 35003.0}, \"2240.0\": {\"frequency\": 2, \"value\": 2240.0}, \"100545.0\": {\"frequency\": 1, \"value\": 100545.0}, \"10440.0\": {\"frequency\": 4, \"value\": 10440.0}, \"2250.0\": {\"frequency\": 8, \"value\": 2250.0}, \"35021.0\": {\"frequency\": 2, \"value\": 35021.0}, \"18641.0\": {\"frequency\": 1, \"value\": 18641.0}, \"35026.0\": {\"frequency\": 1, \"value\": 35026.0}, \"2261.0\": {\"frequency\": 2, \"value\": 2261.0}, \"10454.0\": {\"frequency\": 8, \"value\": 10454.0}, \"10455.0\": {\"frequency\": 3, \"value\": 10455.0}, \"10459.0\": {\"frequency\": 2, \"value\": 10459.0}, \"10460.0\": {\"frequency\": 2, \"value\": 10460.0}, \"35040.0\": {\"frequency\": 2, \"value\": 35040.0}, \"2278.0\": {\"frequency\": 1, \"value\": 2278.0}, \"2280.0\": {\"frequency\": 2, \"value\": 2280.0}, \"2287.0\": {\"frequency\": 1, \"value\": 2287.0}, \"10480.0\": {\"frequency\": 3, \"value\": 10480.0}, \"10481.0\": {\"frequency\": 2, \"value\": 10481.0}, \"7209.0\": {\"frequency\": 4, \"value\": 7209.0}, \"2296.0\": {\"frequency\": 2, \"value\": 2296.0}, \"10489.0\": {\"frequency\": 2, \"value\": 10489.0}, \"10490.0\": {\"frequency\": 2, \"value\": 10490.0}, \"10492.0\": {\"frequency\": 2, \"value\": 10492.0}, \"35070.0\": {\"frequency\": 2, \"value\": 35070.0}, \"12672.0\": {\"frequency\": 2, \"value\": 12672.0}, \"10500.0\": {\"frequency\": 31, \"value\": 10500.0}, \"2309.0\": {\"frequency\": 1, \"value\": 2309.0}, \"10505.0\": {\"frequency\": 2, \"value\": 10505.0}, \"18700.0\": {\"frequency\": 2, \"value\": 18700.0}, \"100623.0\": {\"frequency\": 2, \"value\": 100623.0}, \"10513.0\": {\"frequency\": 2, \"value\": 10513.0}, \"10514.0\": {\"frequency\": 1, \"value\": 10514.0}, \"10519.0\": {\"frequency\": 2, \"value\": 10519.0}, \"10521.0\": {\"frequency\": 2, \"value\": 10521.0}, \"10523.0\": {\"frequency\": 2, \"value\": 10523.0}, \"35100.0\": {\"frequency\": 4, \"value\": 35100.0}, \"59677.0\": {\"frequency\": 4, \"value\": 59677.0}, \"35102.0\": {\"frequency\": 1, \"value\": 35102.0}, \"52272.0\": {\"frequency\": 3, \"value\": 52272.0}, \"10530.0\": {\"frequency\": 6, \"value\": 10530.0}, \"2340.0\": {\"frequency\": 2, \"value\": 2340.0}, \"9948.0\": {\"frequency\": 2, \"value\": 9948.0}, \"18730.0\": {\"frequency\": 3, \"value\": 18730.0}, \"84267.0\": {\"frequency\": 1, \"value\": 84267.0}, \"2350.0\": {\"frequency\": 4, \"value\": 2350.0}, \"10548.0\": {\"frequency\": 2, \"value\": 10548.0}, \"10550.0\": {\"frequency\": 2, \"value\": 10550.0}, \"10560.0\": {\"frequency\": 2, \"value\": 10560.0}, \"2370.0\": {\"frequency\": 3, \"value\": 2370.0}, \"2375.0\": {\"frequency\": 2, \"value\": 2375.0}, \"10572.0\": {\"frequency\": 2, \"value\": 10572.0}, \"10573.0\": {\"frequency\": 2, \"value\": 10573.0}, \"10574.0\": {\"frequency\": 2, \"value\": 10574.0}, \"10575.0\": {\"frequency\": 2, \"value\": 10575.0}, \"10576.0\": {\"frequency\": 3, \"value\": 10576.0}, \"10578.0\": {\"frequency\": 2, \"value\": 10578.0}, \"10583.0\": {\"frequency\": 2, \"value\": 10583.0}, \"10584.0\": {\"frequency\": 4, \"value\": 10584.0}, \"10585.0\": {\"frequency\": 2, \"value\": 10585.0}, \"10588.0\": {\"frequency\": 4, \"value\": 10588.0}, \"2400.0\": {\"frequency\": 19, \"value\": 2400.0}, \"26977.0\": {\"frequency\": 1, \"value\": 26977.0}, \"2402.0\": {\"frequency\": 1, \"value\": 2402.0}, \"108900.0\": {\"frequency\": 8, \"value\": 108900.0}, \"10600.0\": {\"frequency\": 2, \"value\": 10600.0}, \"7228.0\": {\"frequency\": 2, \"value\": 7228.0}, \"10603.0\": {\"frequency\": 2, \"value\": 10603.0}, \"2415.0\": {\"frequency\": 2, \"value\": 2415.0}, \"18800.0\": {\"frequency\": 1, \"value\": 18800.0}, \"43377.0\": {\"frequency\": 1, \"value\": 43377.0}, \"10620.0\": {\"frequency\": 1, \"value\": 10620.0}, \"27007.0\": {\"frequency\": 3, \"value\": 27007.0}, \"35200.0\": {\"frequency\": 2, \"value\": 35200.0}, \"10625.0\": {\"frequency\": 4, \"value\": 10625.0}, \"10631.0\": {\"frequency\": 2, \"value\": 10631.0}, \"10637.0\": {\"frequency\": 2, \"value\": 10637.0}, \"2446.0\": {\"frequency\": 2, \"value\": 2446.0}, \"10640.0\": {\"frequency\": 2, \"value\": 10640.0}, \"10650.0\": {\"frequency\": 5, \"value\": 10650.0}, \"10655.0\": {\"frequency\": 2, \"value\": 10655.0}, \"10660.0\": {\"frequency\": 3, \"value\": 10660.0}, \"5265.0\": {\"frequency\": 4, \"value\": 5265.0}, \"2480.0\": {\"frequency\": 2, \"value\": 2480.0}, \"117176.0\": {\"frequency\": 4, \"value\": 117176.0}, \"2490.0\": {\"frequency\": 2, \"value\": 2490.0}, \"2493.0\": {\"frequency\": 2, \"value\": 2493.0}, \"2500.0\": {\"frequency\": 36, \"value\": 2500.0}, \"76230.0\": {\"frequency\": 2, \"value\": 76230.0}, \"35273.0\": {\"frequency\": 2, \"value\": 35273.0}, \"10701.0\": {\"frequency\": 1, \"value\": 10701.0}, \"30456.0\": {\"frequency\": 2, \"value\": 30456.0}, \"18900.0\": {\"frequency\": 3, \"value\": 18900.0}, \"10710.0\": {\"frequency\": 2, \"value\": 10710.0}, \"35287.0\": {\"frequency\": 1, \"value\": 35287.0}, \"10716.0\": {\"frequency\": 2, \"value\": 10716.0}, \"2527.0\": {\"frequency\": 2, \"value\": 2527.0}, \"10720.0\": {\"frequency\": 7, \"value\": 10720.0}, \"2530.0\": {\"frequency\": 1, \"value\": 2530.0}, \"10723.0\": {\"frequency\": 5, \"value\": 10723.0}, \"8091.0\": {\"frequency\": 2, \"value\": 8091.0}, \"10725.0\": {\"frequency\": 3, \"value\": 10725.0}, \"10726.0\": {\"frequency\": 4, \"value\": 10726.0}, \"10730.0\": {\"frequency\": 2, \"value\": 10730.0}, \"10733.0\": {\"frequency\": 2, \"value\": 10733.0}, \"25000.0\": {\"frequency\": 2, \"value\": 25000.0}, \"10739.0\": {\"frequency\": 2, \"value\": 10739.0}, \"2550.0\": {\"frequency\": 16, \"value\": 2550.0}, \"10744.0\": {\"frequency\": 2, \"value\": 10744.0}, \"2555.0\": {\"frequency\": 1, \"value\": 2555.0}, \"10750.0\": {\"frequency\": 2, \"value\": 10750.0}, \"2560.0\": {\"frequency\": 3, \"value\": 2560.0}, \"10754.0\": {\"frequency\": 2, \"value\": 10754.0}, \"10757.0\": {\"frequency\": 3, \"value\": 10757.0}, \"10762.0\": {\"frequency\": 2, \"value\": 10762.0}, \"10763.0\": {\"frequency\": 2, \"value\": 10763.0}, \"125452.0\": {\"frequency\": 3, \"value\": 125452.0}, \"10766.0\": {\"frequency\": 3, \"value\": 10766.0}, \"2575.0\": {\"frequency\": 2, \"value\": 2575.0}, \"2580.0\": {\"frequency\": 3, \"value\": 2580.0}, \"10780.0\": {\"frequency\": 2, \"value\": 10780.0}, \"2589.0\": {\"frequency\": 2, \"value\": 2589.0}, \"35362.0\": {\"frequency\": 2, \"value\": 35362.0}, \"2600.0\": {\"frequency\": 7, \"value\": 2600.0}, \"10794.0\": {\"frequency\": 3, \"value\": 10794.0}, \"10796.0\": {\"frequency\": 2, \"value\": 10796.0}, \"10798.0\": {\"frequency\": 2, \"value\": 10798.0}, \"10800.0\": {\"frequency\": 44, \"value\": 10800.0}, \"2610.0\": {\"frequency\": 2, \"value\": 2610.0}, \"2614.0\": {\"frequency\": 2, \"value\": 2614.0}, \"19000.0\": {\"frequency\": 6, \"value\": 19000.0}, \"4533.0\": {\"frequency\": 3, \"value\": 4533.0}, \"10816.0\": {\"frequency\": 2, \"value\": 10816.0}, \"2625.0\": {\"frequency\": 3, \"value\": 2625.0}, \"10819.0\": {\"frequency\": 2, \"value\": 10819.0}, \"2631.0\": {\"frequency\": 2, \"value\": 2631.0}, \"10827.0\": {\"frequency\": 2, \"value\": 10827.0}, \"2640.0\": {\"frequency\": 8, \"value\": 2640.0}, \"199253.0\": {\"frequency\": 2, \"value\": 199253.0}, \"2650.0\": {\"frequency\": 2, \"value\": 2650.0}, \"6837.0\": {\"frequency\": 2, \"value\": 6837.0}, \"133729.0\": {\"frequency\": 1, \"value\": 133729.0}, \"10850.0\": {\"frequency\": 3, \"value\": 10850.0}, \"7270.0\": {\"frequency\": 2, \"value\": 7270.0}, \"10856.0\": {\"frequency\": 2, \"value\": 10856.0}, \"10860.0\": {\"frequency\": 3, \"value\": 10860.0}, \"2674.0\": {\"frequency\": 2, \"value\": 2674.0}, \"10875.0\": {\"frequency\": 8, \"value\": 10875.0}, \"51836.0\": {\"frequency\": 6, \"value\": 51836.0}, \"50965.0\": {\"frequency\": 3, \"value\": 50965.0}, \"10880.0\": {\"frequency\": 6, \"value\": 10880.0}, \"2691.0\": {\"frequency\": 1, \"value\": 2691.0}, \"2692.0\": {\"frequency\": 1, \"value\": 2692.0}, \"19080.0\": {\"frequency\": 2, \"value\": 19080.0}, \"10890.0\": {\"frequency\": 9, \"value\": 10890.0}, \"2699.0\": {\"frequency\": 2, \"value\": 2699.0}, \"2700.0\": {\"frequency\": 13, \"value\": 2700.0}, \"10900.0\": {\"frequency\": 4, \"value\": 10900.0}, \"2710.0\": {\"frequency\": 2, \"value\": 2710.0}, \"15246.0\": {\"frequency\": 5, \"value\": 15246.0}, \"2720.0\": {\"frequency\": 2, \"value\": 2720.0}, \"2723.0\": {\"frequency\": 2, \"value\": 2723.0}, \"10920.0\": {\"frequency\": 9, \"value\": 10920.0}, \"2731.0\": {\"frequency\": 2, \"value\": 2731.0}, \"10925.0\": {\"frequency\": 3, \"value\": 10925.0}, \"27311.0\": {\"frequency\": 1, \"value\": 27311.0}, \"10929.0\": {\"frequency\": 2, \"value\": 10929.0}, \"2738.0\": {\"frequency\": 2, \"value\": 2738.0}, \"2748.0\": {\"frequency\": 2, \"value\": 2748.0}, \"2750.0\": {\"frequency\": 7, \"value\": 2750.0}, \"2752.0\": {\"frequency\": 6, \"value\": 2752.0}, \"10016.0\": {\"frequency\": 2, \"value\": 10016.0}, \"10950.0\": {\"frequency\": 4, \"value\": 10950.0}, \"2760.0\": {\"frequency\": 2, \"value\": 2760.0}, \"10954.0\": {\"frequency\": 2, \"value\": 10954.0}, \"10956.0\": {\"frequency\": 2, \"value\": 10956.0}, \"4557.0\": {\"frequency\": 2, \"value\": 4557.0}, \"10960.0\": {\"frequency\": 3, \"value\": 10960.0}, \"7288.0\": {\"frequency\": 2, \"value\": 7288.0}, \"2770.0\": {\"frequency\": 1, \"value\": 2770.0}, \"2772.0\": {\"frequency\": 2, \"value\": 2772.0}, \"4558.0\": {\"frequency\": 5, \"value\": 4558.0}, \"10968.0\": {\"frequency\": 3, \"value\": 10968.0}, \"2778.0\": {\"frequency\": 2, \"value\": 2778.0}, \"2002.0\": {\"frequency\": 2, \"value\": 2002.0}, \"2788.0\": {\"frequency\": 2, \"value\": 2788.0}, \"2790.0\": {\"frequency\": 2, \"value\": 2790.0}, \"7293.0\": {\"frequency\": 2, \"value\": 7293.0}, \"2800.0\": {\"frequency\": 16, \"value\": 2800.0}, \"2805.0\": {\"frequency\": 2, \"value\": 2805.0}, \"2807.0\": {\"frequency\": 2, \"value\": 2807.0}, \"2808.0\": {\"frequency\": 2, \"value\": 2808.0}, \"19200.0\": {\"frequency\": 6, \"value\": 19200.0}, \"7296.0\": {\"frequency\": 2, \"value\": 7296.0}, \"11010.0\": {\"frequency\": 1, \"value\": 11010.0}, \"2820.0\": {\"frequency\": 4, \"value\": 2820.0}, \"9914.0\": {\"frequency\": 2, \"value\": 9914.0}, \"2839.0\": {\"frequency\": 2, \"value\": 2839.0}, \"11034.0\": {\"frequency\": 3, \"value\": 11034.0}, \"11040.0\": {\"frequency\": 3, \"value\": 11040.0}, \"2849.0\": {\"frequency\": 1, \"value\": 2849.0}, \"2850.0\": {\"frequency\": 6, \"value\": 2850.0}, \"2856.0\": {\"frequency\": 3, \"value\": 2856.0}, \"11049.0\": {\"frequency\": 2, \"value\": 11049.0}, \"11050.0\": {\"frequency\": 5, \"value\": 11050.0}, \"11054.0\": {\"frequency\": 2, \"value\": 11054.0}, \"11056.0\": {\"frequency\": 2, \"value\": 11056.0}, \"2865.0\": {\"frequency\": 1, \"value\": 2865.0}, \"2867.0\": {\"frequency\": 2, \"value\": 2867.0}, \"11060.0\": {\"frequency\": 4, \"value\": 11060.0}, \"2874.0\": {\"frequency\": 1, \"value\": 2874.0}, \"2875.0\": {\"frequency\": 7, \"value\": 2875.0}, \"11070.0\": {\"frequency\": 4, \"value\": 11070.0}, \"2880.0\": {\"frequency\": 2, \"value\": 2880.0}, \"2885.0\": {\"frequency\": 2, \"value\": 2885.0}, \"15500.0\": {\"frequency\": 3, \"value\": 15500.0}, \"2890.0\": {\"frequency\": 5, \"value\": 2890.0}, \"11088.0\": {\"frequency\": 2, \"value\": 11088.0}, \"11090.0\": {\"frequency\": 2, \"value\": 11090.0}, \"2900.0\": {\"frequency\": 1, \"value\": 2900.0}, \"11096.0\": {\"frequency\": 2, \"value\": 11096.0}, \"9644.0\": {\"frequency\": 1, \"value\": 9644.0}, \"11100.0\": {\"frequency\": 7, \"value\": 11100.0}, \"158558.0\": {\"frequency\": 2, \"value\": 158558.0}, \"35679.0\": {\"frequency\": 2, \"value\": 35679.0}, \"11108.0\": {\"frequency\": 2, \"value\": 11108.0}, \"11111.0\": {\"frequency\": 3, \"value\": 11111.0}, \"19602.0\": {\"frequency\": 2, \"value\": 19602.0}, \"11120.0\": {\"frequency\": 4, \"value\": 11120.0}, \"2930.0\": {\"frequency\": 1, \"value\": 2930.0}, \"2937.0\": {\"frequency\": 1, \"value\": 2937.0}, \"11130.0\": {\"frequency\": 2, \"value\": 11130.0}, \"2940.0\": {\"frequency\": 2, \"value\": 2940.0}, \"29163.0\": {\"frequency\": 2, \"value\": 29163.0}, \"2958.0\": {\"frequency\": 2, \"value\": 2958.0}, \"1860.0\": {\"frequency\": 2, \"value\": 1860.0}, \"2970.0\": {\"frequency\": 7, \"value\": 2970.0}, \"2971.0\": {\"frequency\": 2, \"value\": 2971.0}, \"11165.0\": {\"frequency\": 3, \"value\": 11165.0}, \"2975.0\": {\"frequency\": 3, \"value\": 2975.0}, \"11171.0\": {\"frequency\": 2, \"value\": 11171.0}, \"2980.0\": {\"frequency\": 2, \"value\": 2980.0}, \"11173.0\": {\"frequency\": 2, \"value\": 11173.0}, \"2982.0\": {\"frequency\": 1, \"value\": 2982.0}, \"2983.0\": {\"frequency\": 2, \"value\": 2983.0}, \"11180.0\": {\"frequency\": 5, \"value\": 11180.0}, \"29170.0\": {\"frequency\": 1, \"value\": 29170.0}, \"2992.0\": {\"frequency\": 3, \"value\": 2992.0}, \"73616.0\": {\"frequency\": 2, \"value\": 73616.0}, \"11422.0\": {\"frequency\": 2, \"value\": 11422.0}, \"3000.0\": {\"frequency\": 84, \"value\": 3000.0}, \"11193.0\": {\"frequency\": 2, \"value\": 11193.0}, \"3003.0\": {\"frequency\": 2, \"value\": 3003.0}, \"3006.0\": {\"frequency\": 1, \"value\": 3006.0}, \"11200.0\": {\"frequency\": 21, \"value\": 11200.0}, \"11201.0\": {\"frequency\": 2, \"value\": 11201.0}, \"3011.0\": {\"frequency\": 2, \"value\": 3011.0}, \"11204.0\": {\"frequency\": 1, \"value\": 11204.0}, \"11205.0\": {\"frequency\": 2, \"value\": 11205.0}, \"11210.0\": {\"frequency\": 2, \"value\": 11210.0}, \"84942.0\": {\"frequency\": 1, \"value\": 84942.0}, \"3031.0\": {\"frequency\": 3, \"value\": 3031.0}, \"11225.0\": {\"frequency\": 3, \"value\": 11225.0}, \"9921.0\": {\"frequency\": 2, \"value\": 9921.0}, \"43995.0\": {\"frequency\": 6, \"value\": 43995.0}, \"49658.0\": {\"frequency\": 8, \"value\": 49658.0}, \"11230.0\": {\"frequency\": 1, \"value\": 11230.0}, \"7333.0\": {\"frequency\": 2, \"value\": 7333.0}, \"3040.0\": {\"frequency\": 3, \"value\": 3040.0}, \"11234.0\": {\"frequency\": 3, \"value\": 11234.0}, \"11240.0\": {\"frequency\": 2, \"value\": 11240.0}, \"19436.0\": {\"frequency\": 1, \"value\": 19436.0}, \"27631.0\": {\"frequency\": 1, \"value\": 27631.0}, \"3056.0\": {\"frequency\": 2, \"value\": 3056.0}, \"11250.0\": {\"frequency\": 24, \"value\": 11250.0}, \"3060.0\": {\"frequency\": 24, \"value\": 3060.0}, \"11254.0\": {\"frequency\": 1, \"value\": 11254.0}, \"3068.0\": {\"frequency\": 2, \"value\": 3068.0}, \"5973.0\": {\"frequency\": 2, \"value\": 5973.0}, \"3075.0\": {\"frequency\": 5, \"value\": 3075.0}, \"11270.0\": {\"frequency\": 2, \"value\": 11270.0}, \"3080.0\": {\"frequency\": 4, \"value\": 3080.0}, \"3088.0\": {\"frequency\": 2, \"value\": 3088.0}, \"3090.0\": {\"frequency\": 13, \"value\": 3090.0}, \"16197.0\": {\"frequency\": 2, \"value\": 16197.0}, \"3100.0\": {\"frequency\": 3, \"value\": 3100.0}, \"93218.0\": {\"frequency\": 2, \"value\": 93218.0}, \"11305.0\": {\"frequency\": 2, \"value\": 11305.0}, \"3118.0\": {\"frequency\": 2, \"value\": 3118.0}, \"3120.0\": {\"frequency\": 6, \"value\": 3120.0}, \"3121.0\": {\"frequency\": 2, \"value\": 3121.0}, \"11443.0\": {\"frequency\": 2, \"value\": 11443.0}, \"3125.0\": {\"frequency\": 2, \"value\": 3125.0}, \"3128.0\": {\"frequency\": 4, \"value\": 3128.0}, \"1468.0\": {\"frequency\": 2, \"value\": 1468.0}, \"3132.0\": {\"frequency\": 2, \"value\": 3132.0}, \"11325.0\": {\"frequency\": 7, \"value\": 11325.0}, \"3135.0\": {\"frequency\": 3, \"value\": 3135.0}, \"3140.0\": {\"frequency\": 2, \"value\": 3140.0}, \"3141.0\": {\"frequency\": 2, \"value\": 3141.0}, \"3143.0\": {\"frequency\": 2, \"value\": 3143.0}, \"11340.0\": {\"frequency\": 11, \"value\": 11340.0}, \"22370.0\": {\"frequency\": 1, \"value\": 22370.0}, \"3150.0\": {\"frequency\": 7, \"value\": 3150.0}, \"11350.0\": {\"frequency\": 3, \"value\": 11350.0}, \"19550.0\": {\"frequency\": 2, \"value\": 19550.0}, \"3172.0\": {\"frequency\": 3, \"value\": 3172.0}, \"11375.0\": {\"frequency\": 4, \"value\": 11375.0}, \"11380.0\": {\"frequency\": 2, \"value\": 11380.0}, \"3192.0\": {\"frequency\": 3, \"value\": 3192.0}, \"11385.0\": {\"frequency\": 2, \"value\": 11385.0}, \"11390.0\": {\"frequency\": 1, \"value\": 11390.0}, \"3200.0\": {\"frequency\": 31, \"value\": 3200.0}, \"11393.0\": {\"frequency\": 3, \"value\": 11393.0}, \"60548.0\": {\"frequency\": 3, \"value\": 60548.0}, \"3207.0\": {\"frequency\": 2, \"value\": 3207.0}, \"11400.0\": {\"frequency\": 10, \"value\": 11400.0}, \"3210.0\": {\"frequency\": 2, \"value\": 3210.0}, \"3211.0\": {\"frequency\": 5, \"value\": 3211.0}, \"11407.0\": {\"frequency\": 2, \"value\": 11407.0}, \"19600.0\": {\"frequency\": 2, \"value\": 19600.0}, \"11410.0\": {\"frequency\": 2, \"value\": 11410.0}, \"273556.0\": {\"frequency\": 2, \"value\": 273556.0}, \"3225.0\": {\"frequency\": 5, \"value\": 3225.0}, \"3230.0\": {\"frequency\": 3, \"value\": 3230.0}, \"11424.0\": {\"frequency\": 1, \"value\": 11424.0}, \"3240.0\": {\"frequency\": 9, \"value\": 3240.0}, \"3245.0\": {\"frequency\": 2, \"value\": 3245.0}, \"11440.0\": {\"frequency\": 3, \"value\": 11440.0}, \"3250.0\": {\"frequency\": 5, \"value\": 3250.0}, \"19635.0\": {\"frequency\": 1, \"value\": 19635.0}, \"3255.0\": {\"frequency\": 2, \"value\": 3255.0}, \"11448.0\": {\"frequency\": 2, \"value\": 11448.0}, \"224442.0\": {\"frequency\": 2, \"value\": 224442.0}, \"5564.0\": {\"frequency\": 2, \"value\": 5564.0}, \"11454.0\": {\"frequency\": 3, \"value\": 11454.0}, \"11455.0\": {\"frequency\": 2, \"value\": 11455.0}, \"3264.0\": {\"frequency\": 3, \"value\": 3264.0}, \"3272.0\": {\"frequency\": 2, \"value\": 3272.0}, \"11466.0\": {\"frequency\": 2, \"value\": 11466.0}, \"3277.0\": {\"frequency\": 1, \"value\": 3277.0}, \"11470.0\": {\"frequency\": 1, \"value\": 11470.0}, \"1331.0\": {\"frequency\": 2, \"value\": 1331.0}, \"11475.0\": {\"frequency\": 4, \"value\": 11475.0}, \"11480.0\": {\"frequency\": 2, \"value\": 11480.0}, \"11481.0\": {\"frequency\": 2, \"value\": 11481.0}, \"9384.0\": {\"frequency\": 2, \"value\": 9384.0}, \"19680.0\": {\"frequency\": 2, \"value\": 19680.0}, \"3300.0\": {\"frequency\": 15, \"value\": 3300.0}, \"1201.0\": {\"frequency\": 4, \"value\": 1201.0}, \"11500.0\": {\"frequency\": 11, \"value\": 11500.0}, \"15570.0\": {\"frequency\": 2, \"value\": 15570.0}, \"11505.0\": {\"frequency\": 2, \"value\": 11505.0}, \"3315.0\": {\"frequency\": 2, \"value\": 3315.0}, \"19700.0\": {\"frequency\": 2, \"value\": 19700.0}, \"36085.0\": {\"frequency\": 1, \"value\": 36085.0}, \"3323.0\": {\"frequency\": 1, \"value\": 3323.0}, \"3325.0\": {\"frequency\": 2, \"value\": 3325.0}, \"3328.0\": {\"frequency\": 2, \"value\": 3328.0}, \"1920.0\": {\"frequency\": 3, \"value\": 1920.0}, \"3330.0\": {\"frequency\": 5, \"value\": 3330.0}, \"3332.0\": {\"frequency\": 2, \"value\": 3332.0}, \"3333.0\": {\"frequency\": 3, \"value\": 3333.0}, \"11530.0\": {\"frequency\": 2, \"value\": 11530.0}, \"3340.0\": {\"frequency\": 2, \"value\": 3340.0}, \"11536.0\": {\"frequency\": 3, \"value\": 11536.0}, \"3348.0\": {\"frequency\": 3, \"value\": 3348.0}, \"11542.0\": {\"frequency\": 2, \"value\": 11542.0}, \"14212.0\": {\"frequency\": 2, \"value\": 14212.0}, \"11547.0\": {\"frequency\": 2, \"value\": 11547.0}, \"11550.0\": {\"frequency\": 2, \"value\": 11550.0}, \"118047.0\": {\"frequency\": 3, \"value\": 118047.0}, \"3360.0\": {\"frequency\": 9, \"value\": 3360.0}, \"11562.0\": {\"frequency\": 2, \"value\": 11562.0}, \"27951.0\": {\"frequency\": 1, \"value\": 27951.0}, \"3376.0\": {\"frequency\": 2, \"value\": 3376.0}, \"11575.0\": {\"frequency\": 1, \"value\": 11575.0}, \"11576.0\": {\"frequency\": 2, \"value\": 11576.0}, \"3388.0\": {\"frequency\": 1, \"value\": 3388.0}, \"11583.0\": {\"frequency\": 2, \"value\": 11583.0}, \"11585.0\": {\"frequency\": 3, \"value\": 11585.0}, \"3399.0\": {\"frequency\": 2, \"value\": 3399.0}, \"3400.0\": {\"frequency\": 22, \"value\": 3400.0}, \"3402.0\": {\"frequency\": 3, \"value\": 3402.0}, \"3404.0\": {\"frequency\": 2, \"value\": 3404.0}, \"11599.0\": {\"frequency\": 1, \"value\": 11599.0}, \"1750.0\": {\"frequency\": 3, \"value\": 1750.0}, \"11603.0\": {\"frequency\": 2, \"value\": 11603.0}, \"3413.0\": {\"frequency\": 1, \"value\": 3413.0}, \"19800.0\": {\"frequency\": 3, \"value\": 19800.0}, \"11610.0\": {\"frequency\": 2, \"value\": 11610.0}, \"3419.0\": {\"frequency\": 1, \"value\": 3419.0}, \"3420.0\": {\"frequency\": 9, \"value\": 3420.0}, \"28000.0\": {\"frequency\": 3, \"value\": 28000.0}, \"3425.0\": {\"frequency\": 2, \"value\": 3425.0}, \"3427.0\": {\"frequency\": 3, \"value\": 3427.0}, \"28008.0\": {\"frequency\": 2, \"value\": 28008.0}, \"11625.0\": {\"frequency\": 3, \"value\": 11625.0}, \"3436.0\": {\"frequency\": 2, \"value\": 3436.0}, \"3438.0\": {\"frequency\": 2, \"value\": 3438.0}, \"11632.0\": {\"frequency\": 2, \"value\": 11632.0}, \"7401.0\": {\"frequency\": 2, \"value\": 7401.0}, \"28025.0\": {\"frequency\": 1, \"value\": 28025.0}, \"3451.0\": {\"frequency\": 3, \"value\": 3451.0}, \"6116.0\": {\"frequency\": 2, \"value\": 6116.0}, \"3455.0\": {\"frequency\": 1, \"value\": 3455.0}, \"36224.0\": {\"frequency\": 1, \"value\": 36224.0}, \"85377.0\": {\"frequency\": 2, \"value\": 85377.0}, \"11651.0\": {\"frequency\": 2, \"value\": 11651.0}, \"11652.0\": {\"frequency\": 3, \"value\": 11652.0}, \"28037.0\": {\"frequency\": 1, \"value\": 28037.0}, \"5298.0\": {\"frequency\": 3, \"value\": 5298.0}, \"28040.0\": {\"frequency\": 1, \"value\": 28040.0}, \"19850.0\": {\"frequency\": 3, \"value\": 19850.0}, \"3469.0\": {\"frequency\": 1, \"value\": 3469.0}, \"11662.0\": {\"frequency\": 2, \"value\": 11662.0}, \"44431.0\": {\"frequency\": 7, \"value\": 44431.0}, \"3475.0\": {\"frequency\": 3, \"value\": 3475.0}, \"3478.0\": {\"frequency\": 4, \"value\": 3478.0}, \"3480.0\": {\"frequency\": 4, \"value\": 3480.0}, \"19865.0\": {\"frequency\": 2, \"value\": 19865.0}, \"11675.0\": {\"frequency\": 2, \"value\": 11675.0}, \"3497.0\": {\"frequency\": 2, \"value\": 3497.0}, \"11690.0\": {\"frequency\": 2, \"value\": 11690.0}, \"3500.0\": {\"frequency\": 18, \"value\": 3500.0}, \"216493.0\": {\"frequency\": 2, \"value\": 216493.0}, \"3503.0\": {\"frequency\": 2, \"value\": 3503.0}, \"3504.0\": {\"frequency\": 2, \"value\": 3504.0}, \"4680.0\": {\"frequency\": 5, \"value\": 4680.0}, \"3507.0\": {\"frequency\": 2, \"value\": 3507.0}, \"11700.0\": {\"frequency\": 9, \"value\": 11700.0}, \"13444.0\": {\"frequency\": 2, \"value\": 13444.0}, \"3515.0\": {\"frequency\": 2, \"value\": 3515.0}, \"19901.0\": {\"frequency\": 1, \"value\": 19901.0}, \"3520.0\": {\"frequency\": 6, \"value\": 3520.0}, \"4683.0\": {\"frequency\": 2, \"value\": 4683.0}, \"11725.0\": {\"frequency\": 1, \"value\": 11725.0}, \"11727.0\": {\"frequency\": 2, \"value\": 11727.0}, \"3538.0\": {\"frequency\": 1, \"value\": 3538.0}, \"3540.0\": {\"frequency\": 2, \"value\": 3540.0}, \"11740.0\": {\"frequency\": 2, \"value\": 11740.0}, \"11745.0\": {\"frequency\": 3, \"value\": 11745.0}, \"52707.0\": {\"frequency\": 2, \"value\": 52707.0}, \"11750.0\": {\"frequency\": 3, \"value\": 11750.0}, \"3560.0\": {\"frequency\": 3, \"value\": 3560.0}, \"3561.0\": {\"frequency\": 2, \"value\": 3561.0}, \"3562.0\": {\"frequency\": 1, \"value\": 3562.0}, \"3565.0\": {\"frequency\": 2, \"value\": 3565.0}, \"1960.0\": {\"frequency\": 2, \"value\": 1960.0}, \"3570.0\": {\"frequency\": 5, \"value\": 3570.0}, \"11765.0\": {\"frequency\": 2, \"value\": 11765.0}, \"19965.0\": {\"frequency\": 2, \"value\": 19965.0}, \"3582.0\": {\"frequency\": 3, \"value\": 3582.0}, \"11775.0\": {\"frequency\": 2, \"value\": 11775.0}, \"3584.0\": {\"frequency\": 2, \"value\": 3584.0}, \"11520.0\": {\"frequency\": 4, \"value\": 11520.0}, \"3588.0\": {\"frequency\": 3, \"value\": 3588.0}, \"11788.0\": {\"frequency\": 1, \"value\": 11788.0}, \"3600.0\": {\"frequency\": 103, \"value\": 3600.0}, \"11793.0\": {\"frequency\": 2, \"value\": 11793.0}, \"11795.0\": {\"frequency\": 2, \"value\": 11795.0}, \"3604.0\": {\"frequency\": 2, \"value\": 3604.0}, \"19991.0\": {\"frequency\": 2, \"value\": 19991.0}, \"3608.0\": {\"frequency\": 2, \"value\": 3608.0}, \"28185.0\": {\"frequency\": 2, \"value\": 28185.0}, \"3610.0\": {\"frequency\": 3, \"value\": 3610.0}, \"3615.0\": {\"frequency\": 2, \"value\": 3615.0}, \"20000.0\": {\"frequency\": 12, \"value\": 20000.0}, \"10160.0\": {\"frequency\": 7, \"value\": 10160.0}, \"3622.0\": {\"frequency\": 2, \"value\": 3622.0}, \"3624.0\": {\"frequency\": 2, \"value\": 3624.0}, \"11817.0\": {\"frequency\": 1, \"value\": 11817.0}, \"101930.0\": {\"frequency\": 3, \"value\": 101930.0}, \"3630.0\": {\"frequency\": 2, \"value\": 3630.0}, \"36400.0\": {\"frequency\": 1, \"value\": 36400.0}, \"3640.0\": {\"frequency\": 4, \"value\": 3640.0}, \"11835.0\": {\"frequency\": 2, \"value\": 11835.0}, \"7434.0\": {\"frequency\": 5, \"value\": 7434.0}, \"11843.0\": {\"frequency\": 2, \"value\": 11843.0}, \"20040.0\": {\"frequency\": 2, \"value\": 20040.0}, \"20041.0\": {\"frequency\": 1, \"value\": 20041.0}, \"3658.0\": {\"frequency\": 1, \"value\": 3658.0}, \"940.0\": {\"frequency\": 2, \"value\": 940.0}, \"11856.0\": {\"frequency\": 2, \"value\": 11856.0}, \"3667.0\": {\"frequency\": 2, \"value\": 3667.0}, \"3672.0\": {\"frequency\": 4, \"value\": 3672.0}, \"10170.0\": {\"frequency\": 2, \"value\": 10170.0}, \"11870.0\": {\"frequency\": 1, \"value\": 11870.0}, \"11872.0\": {\"frequency\": 1, \"value\": 11872.0}, \"11875.0\": {\"frequency\": 4, \"value\": 11875.0}, \"11877.0\": {\"frequency\": 2, \"value\": 11877.0}, \"11880.0\": {\"frequency\": 6, \"value\": 11880.0}, \"7215.0\": {\"frequency\": 5, \"value\": 7215.0}, \"3690.0\": {\"frequency\": 3, \"value\": 3690.0}, \"11884.0\": {\"frequency\": 3, \"value\": 11884.0}, \"3700.0\": {\"frequency\": 6, \"value\": 3700.0}, \"11894.0\": {\"frequency\": 2, \"value\": 11894.0}, \"11900.0\": {\"frequency\": 13, \"value\": 11900.0}, \"3710.0\": {\"frequency\": 2, \"value\": 3710.0}, \"10176.0\": {\"frequency\": 2, \"value\": 10176.0}, \"17003.0\": {\"frequency\": 2, \"value\": 17003.0}, \"20100.0\": {\"frequency\": 3, \"value\": 20100.0}, \"3350.0\": {\"frequency\": 3, \"value\": 3350.0}, \"942.0\": {\"frequency\": 4, \"value\": 942.0}, \"3720.0\": {\"frequency\": 6, \"value\": 3720.0}, \"3721.0\": {\"frequency\": 3, \"value\": 3721.0}, \"11914.0\": {\"frequency\": 3, \"value\": 11914.0}, \"28300.0\": {\"frequency\": 2, \"value\": 28300.0}, \"7489.0\": {\"frequency\": 2, \"value\": 7489.0}, \"11920.0\": {\"frequency\": 2, \"value\": 11920.0}, \"3729.0\": {\"frequency\": 2, \"value\": 3729.0}, \"3730.0\": {\"frequency\": 3, \"value\": 3730.0}, \"11925.0\": {\"frequency\": 2, \"value\": 11925.0}, \"15400.0\": {\"frequency\": 3, \"value\": 15400.0}, \"3737.0\": {\"frequency\": 2, \"value\": 3737.0}, \"3738.0\": {\"frequency\": 2, \"value\": 3738.0}, \"3740.0\": {\"frequency\": 3, \"value\": 3740.0}, \"11935.0\": {\"frequency\": 2, \"value\": 11935.0}, \"9672.0\": {\"frequency\": 4, \"value\": 9672.0}, \"3750.0\": {\"frequency\": 24, \"value\": 3750.0}, \"11946.0\": {\"frequency\": 1, \"value\": 11946.0}, \"10183.0\": {\"frequency\": 5, \"value\": 10183.0}, \"3757.0\": {\"frequency\": 4, \"value\": 3757.0}, \"3760.0\": {\"frequency\": 7, \"value\": 3760.0}, \"3764.0\": {\"frequency\": 2, \"value\": 3764.0}, \"20150.0\": {\"frequency\": 2, \"value\": 20150.0}, \"11960.0\": {\"frequency\": 2, \"value\": 11960.0}, \"20158.0\": {\"frequency\": 1, \"value\": 20158.0}, \"3777.0\": {\"frequency\": 2, \"value\": 3777.0}, \"11970.0\": {\"frequency\": 3, \"value\": 11970.0}, \"3780.0\": {\"frequency\": 4, \"value\": 3780.0}, \"3784.0\": {\"frequency\": 4, \"value\": 3784.0}, \"11985.0\": {\"frequency\": 3, \"value\": 11985.0}, \"3795.0\": {\"frequency\": 2, \"value\": 3795.0}, \"3800.0\": {\"frequency\": 28, \"value\": 3800.0}, \"11995.0\": {\"frequency\": 2, \"value\": 11995.0}, \"11997.0\": {\"frequency\": 2, \"value\": 11997.0}, \"12000.0\": {\"frequency\": 42, \"value\": 12000.0}, \"3809.0\": {\"frequency\": 1, \"value\": 3809.0}, \"3810.0\": {\"frequency\": 2, \"value\": 3810.0}, \"12005.0\": {\"frequency\": 2, \"value\": 12005.0}, \"8536.0\": {\"frequency\": 5, \"value\": 8536.0}, \"3819.0\": {\"frequency\": 2, \"value\": 3819.0}, \"3821.0\": {\"frequency\": 2, \"value\": 3821.0}, \"3825.0\": {\"frequency\": 18, \"value\": 3825.0}, \"3826.0\": {\"frequency\": 2, \"value\": 3826.0}, \"3827.0\": {\"frequency\": 2, \"value\": 3827.0}, \"12028.0\": {\"frequency\": 2, \"value\": 12028.0}, \"3838.0\": {\"frequency\": 2, \"value\": 3838.0}, \"3839.0\": {\"frequency\": 2, \"value\": 3839.0}, \"12032.0\": {\"frequency\": 2, \"value\": 12032.0}, \"3841.0\": {\"frequency\": 1, \"value\": 3841.0}, \"3844.0\": {\"frequency\": 11, \"value\": 3844.0}, \"12039.0\": {\"frequency\": 2, \"value\": 12039.0}, \"12040.0\": {\"frequency\": 2, \"value\": 12040.0}, \"3850.0\": {\"frequency\": 7, \"value\": 3850.0}, \"3852.0\": {\"frequency\": 1, \"value\": 3852.0}, \"3855.0\": {\"frequency\": 2, \"value\": 3855.0}, \"3864.0\": {\"frequency\": 3, \"value\": 3864.0}, \"3865.0\": {\"frequency\": 2, \"value\": 3865.0}, \"20251.0\": {\"frequency\": 2, \"value\": 20251.0}, \"3868.0\": {\"frequency\": 3, \"value\": 3868.0}, \"3870.0\": {\"frequency\": 4, \"value\": 3870.0}, \"12063.0\": {\"frequency\": 2, \"value\": 12063.0}, \"3873.0\": {\"frequency\": 3, \"value\": 3873.0}, \"3876.0\": {\"frequency\": 6, \"value\": 3876.0}, \"12070.0\": {\"frequency\": 3, \"value\": 12070.0}, \"69415.0\": {\"frequency\": 1, \"value\": 69415.0}, \"3880.0\": {\"frequency\": 21, \"value\": 3880.0}, \"12075.0\": {\"frequency\": 2, \"value\": 12075.0}, \"3885.0\": {\"frequency\": 2, \"value\": 3885.0}, \"12080.0\": {\"frequency\": 3, \"value\": 12080.0}, \"56628.0\": {\"frequency\": 3, \"value\": 56628.0}, \"12090.0\": {\"frequency\": 2, \"value\": 12090.0}, \"3899.0\": {\"frequency\": 3, \"value\": 3899.0}, \"3900.0\": {\"frequency\": 14, \"value\": 3900.0}, \"12094.0\": {\"frequency\": 2, \"value\": 12094.0}, \"12095.0\": {\"frequency\": 1, \"value\": 12095.0}, \"3905.0\": {\"frequency\": 2, \"value\": 3905.0}, \"44866.0\": {\"frequency\": 4, \"value\": 44866.0}, \"44867.0\": {\"frequency\": 1, \"value\": 44867.0}, \"12100.0\": {\"frequency\": 6, \"value\": 12100.0}, \"12103.0\": {\"frequency\": 2, \"value\": 12103.0}, \"3916.0\": {\"frequency\": 3, \"value\": 3916.0}, \"3917.0\": {\"frequency\": 2, \"value\": 3917.0}, \"3920.0\": {\"frequency\": 4, \"value\": 3920.0}, \"257875.0\": {\"frequency\": 2, \"value\": 257875.0}, \"12120.0\": {\"frequency\": 1, \"value\": 12120.0}, \"2020.0\": {\"frequency\": 2, \"value\": 2020.0}, \"3930.0\": {\"frequency\": 2, \"value\": 3930.0}, \"3933.0\": {\"frequency\": 2, \"value\": 3933.0}, \"3938.0\": {\"frequency\": 2, \"value\": 3938.0}, \"3943.0\": {\"frequency\": 2, \"value\": 3943.0}, \"12142.0\": {\"frequency\": 2, \"value\": 12142.0}, \"3952.0\": {\"frequency\": 2, \"value\": 3952.0}, \"12145.0\": {\"frequency\": 2, \"value\": 12145.0}, \"12150.0\": {\"frequency\": 4, \"value\": 12150.0}, \"3959.0\": {\"frequency\": 2, \"value\": 3959.0}, \"3960.0\": {\"frequency\": 13, \"value\": 3960.0}, \"3962.0\": {\"frequency\": 2, \"value\": 3962.0}, \"12155.0\": {\"frequency\": 3, \"value\": 12155.0}, \"107157.0\": {\"frequency\": 4, \"value\": 107157.0}, \"12160.0\": {\"frequency\": 3, \"value\": 12160.0}, \"12164.0\": {\"frequency\": 2, \"value\": 12164.0}, \"3974.0\": {\"frequency\": 2, \"value\": 3974.0}, \"3975.0\": {\"frequency\": 2, \"value\": 3975.0}, \"3976.0\": {\"frequency\": 2, \"value\": 3976.0}, \"3978.0\": {\"frequency\": 2, \"value\": 3978.0}, \"3980.0\": {\"frequency\": 6, \"value\": 3980.0}, \"3984.0\": {\"frequency\": 2, \"value\": 3984.0}, \"3986.0\": {\"frequency\": 2, \"value\": 3986.0}, \"28563.0\": {\"frequency\": 1, \"value\": 28563.0}, \"3990.0\": {\"frequency\": 5, \"value\": 3990.0}, \"53143.0\": {\"frequency\": 3, \"value\": 53143.0}, \"3995.0\": {\"frequency\": 2, \"value\": 3995.0}, \"3996.0\": {\"frequency\": 2, \"value\": 3996.0}, \"4000.0\": {\"frequency\": 251, \"value\": 4000.0}, \"4002.0\": {\"frequency\": 2, \"value\": 4002.0}, \"4003.0\": {\"frequency\": 2, \"value\": 4003.0}, \"12196.0\": {\"frequency\": 8, \"value\": 12196.0}, \"4005.0\": {\"frequency\": 3, \"value\": 4005.0}, \"4006.0\": {\"frequency\": 3, \"value\": 4006.0}, \"12199.0\": {\"frequency\": 1, \"value\": 12199.0}, \"4010.0\": {\"frequency\": 2, \"value\": 4010.0}, \"4011.0\": {\"frequency\": 2, \"value\": 4011.0}, \"4013.0\": {\"frequency\": 3, \"value\": 4013.0}, \"8861.0\": {\"frequency\": 2, \"value\": 8861.0}, \"20400.0\": {\"frequency\": 2, \"value\": 20400.0}, \"24684.0\": {\"frequency\": 2, \"value\": 24684.0}, \"4020.0\": {\"frequency\": 3, \"value\": 4020.0}, \"217014.0\": {\"frequency\": 1, \"value\": 217014.0}, \"28600.0\": {\"frequency\": 2, \"value\": 28600.0}, \"4025.0\": {\"frequency\": 6, \"value\": 4025.0}, \"20412.0\": {\"frequency\": 2, \"value\": 20412.0}, \"4030.0\": {\"frequency\": 2, \"value\": 4030.0}, \"4031.0\": {\"frequency\": 2, \"value\": 4031.0}, \"4038.0\": {\"frequency\": 2, \"value\": 4038.0}, \"12231.0\": {\"frequency\": 4, \"value\": 12231.0}, \"4040.0\": {\"frequency\": 5, \"value\": 4040.0}, \"12236.0\": {\"frequency\": 2, \"value\": 12236.0}, \"4045.0\": {\"frequency\": 2, \"value\": 4045.0}, \"4046.0\": {\"frequency\": 6, \"value\": 4046.0}, \"12240.0\": {\"frequency\": 3, \"value\": 12240.0}, \"4049.0\": {\"frequency\": 1, \"value\": 4049.0}, \"4050.0\": {\"frequency\": 11, \"value\": 4050.0}, \"12243.0\": {\"frequency\": 1, \"value\": 12243.0}, \"4052.0\": {\"frequency\": 2, \"value\": 4052.0}, \"12410.0\": {\"frequency\": 2, \"value\": 12410.0}, \"4054.0\": {\"frequency\": 3, \"value\": 4054.0}, \"12250.0\": {\"frequency\": 3, \"value\": 12250.0}, \"12252.0\": {\"frequency\": 2, \"value\": 12252.0}, \"20445.0\": {\"frequency\": 2, \"value\": 20445.0}, \"102366.0\": {\"frequency\": 3, \"value\": 102366.0}, \"11600.0\": {\"frequency\": 5, \"value\": 11600.0}, \"61419.0\": {\"frequency\": 5, \"value\": 61419.0}, \"4076.0\": {\"frequency\": 2, \"value\": 4076.0}, \"4077.0\": {\"frequency\": 2, \"value\": 4077.0}, \"315374.0\": {\"frequency\": 1, \"value\": 315374.0}, \"36847.0\": {\"frequency\": 1, \"value\": 36847.0}, \"4080.0\": {\"frequency\": 67, \"value\": 4080.0}, \"4082.0\": {\"frequency\": 2, \"value\": 4082.0}, \"4084.0\": {\"frequency\": 2, \"value\": 4084.0}, \"4086.0\": {\"frequency\": 2, \"value\": 4086.0}, \"4088.0\": {\"frequency\": 2, \"value\": 4088.0}, \"4089.0\": {\"frequency\": 2, \"value\": 4089.0}, \"12282.0\": {\"frequency\": 3, \"value\": 12282.0}, \"12285.0\": {\"frequency\": 2, \"value\": 12285.0}, \"4094.0\": {\"frequency\": 2, \"value\": 4094.0}, \"4095.0\": {\"frequency\": 3, \"value\": 4095.0}, \"4096.0\": {\"frequency\": 2, \"value\": 4096.0}, \"4097.0\": {\"frequency\": 2, \"value\": 4097.0}, \"4100.0\": {\"frequency\": 4, \"value\": 4100.0}, \"4102.0\": {\"frequency\": 3, \"value\": 4102.0}, \"4104.0\": {\"frequency\": 4, \"value\": 4104.0}, \"4106.0\": {\"frequency\": 2, \"value\": 4106.0}, \"4108.0\": {\"frequency\": 3, \"value\": 4108.0}, \"7294.0\": {\"frequency\": 3, \"value\": 7294.0}, \"12305.0\": {\"frequency\": 2, \"value\": 12305.0}, \"4120.0\": {\"frequency\": 21, \"value\": 4120.0}, \"4125.0\": {\"frequency\": 7, \"value\": 4125.0}, \"28703.0\": {\"frequency\": 2, \"value\": 28703.0}, \"12320.0\": {\"frequency\": 2, \"value\": 12320.0}, \"36900.0\": {\"frequency\": 2, \"value\": 36900.0}, \"6150.0\": {\"frequency\": 13, \"value\": 6150.0}, \"12327.0\": {\"frequency\": 2, \"value\": 12327.0}, \"4136.0\": {\"frequency\": 2, \"value\": 4136.0}, \"11612.0\": {\"frequency\": 2, \"value\": 11612.0}, \"4139.0\": {\"frequency\": 1, \"value\": 4139.0}, \"4140.0\": {\"frequency\": 4, \"value\": 4140.0}, \"28717.0\": {\"frequency\": 1, \"value\": 28717.0}, \"8867.0\": {\"frequency\": 3, \"value\": 8867.0}, \"12342.0\": {\"frequency\": 1, \"value\": 12342.0}, \"4153.0\": {\"frequency\": 2, \"value\": 4153.0}, \"12349.0\": {\"frequency\": 2, \"value\": 12349.0}, \"12350.0\": {\"frequency\": 7, \"value\": 12350.0}, \"4160.0\": {\"frequency\": 10, \"value\": 4160.0}, \"4163.0\": {\"frequency\": 2, \"value\": 4163.0}, \"4165.0\": {\"frequency\": 2, \"value\": 4165.0}, \"4166.0\": {\"frequency\": 2, \"value\": 4166.0}, \"4171.0\": {\"frequency\": 2, \"value\": 4171.0}, \"28750.0\": {\"frequency\": 2, \"value\": 28750.0}, \"12368.0\": {\"frequency\": 2, \"value\": 12368.0}, \"4178.0\": {\"frequency\": 4, \"value\": 4178.0}, \"36947.0\": {\"frequency\": 1, \"value\": 36947.0}, \"4180.0\": {\"frequency\": 2, \"value\": 4180.0}, \"4182.0\": {\"frequency\": 4, \"value\": 4182.0}, \"12375.0\": {\"frequency\": 2, \"value\": 12375.0}, \"4185.0\": {\"frequency\": 2, \"value\": 4185.0}, \"4187.0\": {\"frequency\": 2, \"value\": 4187.0}, \"94300.0\": {\"frequency\": 1, \"value\": 94300.0}, \"12381.0\": {\"frequency\": 2, \"value\": 12381.0}, \"4190.0\": {\"frequency\": 2, \"value\": 4190.0}, \"4191.0\": {\"frequency\": 2, \"value\": 4191.0}, \"12384.0\": {\"frequency\": 3, \"value\": 12384.0}, \"6160.0\": {\"frequency\": 4, \"value\": 6160.0}, \"4200.0\": {\"frequency\": 49, \"value\": 4200.0}, \"4203.0\": {\"frequency\": 4, \"value\": 4203.0}, \"18450.0\": {\"frequency\": 2, \"value\": 18450.0}, \"4206.0\": {\"frequency\": 3, \"value\": 4206.0}, \"12688.0\": {\"frequency\": 2, \"value\": 12688.0}, \"2067.0\": {\"frequency\": 1, \"value\": 2067.0}, \"3433.0\": {\"frequency\": 2, \"value\": 3433.0}, \"12408.0\": {\"frequency\": 3, \"value\": 12408.0}, \"159865.0\": {\"frequency\": 3, \"value\": 159865.0}, \"4218.0\": {\"frequency\": 3, \"value\": 4218.0}, \"4220.0\": {\"frequency\": 4, \"value\": 4220.0}, \"4222.0\": {\"frequency\": 1, \"value\": 4222.0}, \"12415.0\": {\"frequency\": 2, \"value\": 12415.0}, \"4225.0\": {\"frequency\": 3, \"value\": 4225.0}, \"4226.0\": {\"frequency\": 2, \"value\": 4226.0}, \"4228.0\": {\"frequency\": 3, \"value\": 4228.0}, \"8897.0\": {\"frequency\": 2, \"value\": 8897.0}, \"4234.0\": {\"frequency\": 2, \"value\": 4234.0}, \"12429.0\": {\"frequency\": 2, \"value\": 12429.0}, \"12430.0\": {\"frequency\": 2, \"value\": 12430.0}, \"7533.0\": {\"frequency\": 2, \"value\": 7533.0}, \"4240.0\": {\"frequency\": 13, \"value\": 4240.0}, \"77972.0\": {\"frequency\": 3, \"value\": 77972.0}, \"4247.0\": {\"frequency\": 2, \"value\": 4247.0}, \"4250.0\": {\"frequency\": 7, \"value\": 4250.0}, \"12443.0\": {\"frequency\": 2, \"value\": 12443.0}, \"4252.0\": {\"frequency\": 2, \"value\": 4252.0}, \"7175.0\": {\"frequency\": 2, \"value\": 7175.0}, \"4264.0\": {\"frequency\": 2, \"value\": 4264.0}, \"37034.0\": {\"frequency\": 2, \"value\": 37034.0}, \"711.0\": {\"frequency\": 2, \"value\": 711.0}, \"4268.0\": {\"frequency\": 5, \"value\": 4268.0}, \"4270.0\": {\"frequency\": 3, \"value\": 4270.0}, \"4271.0\": {\"frequency\": 2, \"value\": 4271.0}, \"13000.0\": {\"frequency\": 15, \"value\": 13000.0}, \"4275.0\": {\"frequency\": 4, \"value\": 4275.0}, \"4280.0\": {\"frequency\": 4, \"value\": 4280.0}, \"4284.0\": {\"frequency\": 5, \"value\": 4284.0}, \"4286.0\": {\"frequency\": 2, \"value\": 4286.0}, \"209088.0\": {\"frequency\": 2, \"value\": 209088.0}, \"4290.0\": {\"frequency\": 6, \"value\": 4290.0}, \"1234.0\": {\"frequency\": 2, \"value\": 1234.0}, \"4297.0\": {\"frequency\": 2, \"value\": 4297.0}, \"4300.0\": {\"frequency\": 8, \"value\": 4300.0}, \"4301.0\": {\"frequency\": 2, \"value\": 4301.0}, \"4305.0\": {\"frequency\": 2, \"value\": 4305.0}, \"4307.0\": {\"frequency\": 2, \"value\": 4307.0}, \"12500.0\": {\"frequency\": 22, \"value\": 12500.0}, \"4310.0\": {\"frequency\": 3, \"value\": 4310.0}, \"20700.0\": {\"frequency\": 3, \"value\": 20700.0}, \"4320.0\": {\"frequency\": 11, \"value\": 4320.0}, \"4322.0\": {\"frequency\": 4, \"value\": 4322.0}, \"12519.0\": {\"frequency\": 2, \"value\": 12519.0}, \"12522.0\": {\"frequency\": 2, \"value\": 12522.0}, \"12523.0\": {\"frequency\": 2, \"value\": 12523.0}, \"4332.0\": {\"frequency\": 4, \"value\": 4332.0}, \"4333.0\": {\"frequency\": 2, \"value\": 4333.0}, \"4334.0\": {\"frequency\": 2, \"value\": 4334.0}, \"12527.0\": {\"frequency\": 2, \"value\": 12527.0}, \"12528.0\": {\"frequency\": 3, \"value\": 12528.0}, \"4337.0\": {\"frequency\": 3, \"value\": 4337.0}, \"4338.0\": {\"frequency\": 3, \"value\": 4338.0}, \"4342.0\": {\"frequency\": 1, \"value\": 4342.0}, \"12540.0\": {\"frequency\": 3, \"value\": 12540.0}, \"4350.0\": {\"frequency\": 7, \"value\": 4350.0}, \"15744.0\": {\"frequency\": 1, \"value\": 15744.0}, \"4356.0\": {\"frequency\": 2, \"value\": 4356.0}, \"4360.0\": {\"frequency\": 3, \"value\": 4360.0}, \"12555.0\": {\"frequency\": 1, \"value\": 12555.0}, \"12558.0\": {\"frequency\": 3, \"value\": 12558.0}, \"4368.0\": {\"frequency\": 3, \"value\": 4368.0}, \"4370.0\": {\"frequency\": 2, \"value\": 4370.0}, \"12566.0\": {\"frequency\": 2, \"value\": 12566.0}, \"4375.0\": {\"frequency\": 2, \"value\": 4375.0}, \"4380.0\": {\"frequency\": 1, \"value\": 4380.0}, \"18480.0\": {\"frequency\": 2, \"value\": 18480.0}, \"4399.0\": {\"frequency\": 3, \"value\": 4399.0}, \"4400.0\": {\"frequency\": 56, \"value\": 4400.0}, \"11656.0\": {\"frequency\": 2, \"value\": 11656.0}, \"12600.0\": {\"frequency\": 8, \"value\": 12600.0}, \"10292.0\": {\"frequency\": 3, \"value\": 10292.0}, \"4410.0\": {\"frequency\": 2, \"value\": 4410.0}, \"94525.0\": {\"frequency\": 4, \"value\": 94525.0}, \"4418.0\": {\"frequency\": 2, \"value\": 4418.0}, \"12611.0\": {\"frequency\": 1, \"value\": 12611.0}, \"4420.0\": {\"frequency\": 2, \"value\": 4420.0}, \"12616.0\": {\"frequency\": 2, \"value\": 12616.0}, \"4425.0\": {\"frequency\": 2, \"value\": 4425.0}, \"4426.0\": {\"frequency\": 1, \"value\": 4426.0}, \"4429.0\": {\"frequency\": 2, \"value\": 4429.0}, \"12625.0\": {\"frequency\": 2, \"value\": 12625.0}, \"12626.0\": {\"frequency\": 2, \"value\": 12626.0}, \"4438.0\": {\"frequency\": 2, \"value\": 4438.0}, \"4440.0\": {\"frequency\": 8, \"value\": 4440.0}, \"4441.0\": {\"frequency\": 2, \"value\": 4441.0}, \"4443.0\": {\"frequency\": 2, \"value\": 4443.0}, \"4445.0\": {\"frequency\": 2, \"value\": 4445.0}, \"4447.0\": {\"frequency\": 2, \"value\": 4447.0}, \"4450.0\": {\"frequency\": 2, \"value\": 4450.0}, \"4452.0\": {\"frequency\": 2, \"value\": 4452.0}, \"4455.0\": {\"frequency\": 2, \"value\": 4455.0}, \"12632.0\": {\"frequency\": 2, \"value\": 12632.0}, \"4468.0\": {\"frequency\": 2, \"value\": 4468.0}, \"206910.0\": {\"frequency\": 2, \"value\": 206910.0}, \"8937.0\": {\"frequency\": 2, \"value\": 8937.0}, \"4473.0\": {\"frequency\": 4, \"value\": 4473.0}, \"8938.0\": {\"frequency\": 2, \"value\": 8938.0}, \"4480.0\": {\"frequency\": 9, \"value\": 4480.0}, \"4482.0\": {\"frequency\": 2, \"value\": 4482.0}, \"12675.0\": {\"frequency\": 2, \"value\": 12675.0}, \"4488.0\": {\"frequency\": 3, \"value\": 4488.0}, \"12682.0\": {\"frequency\": 2, \"value\": 12682.0}, \"20875.0\": {\"frequency\": 2, \"value\": 20875.0}, \"22594.0\": {\"frequency\": 1, \"value\": 22594.0}, \"4494.0\": {\"frequency\": 1, \"value\": 4494.0}, \"4495.0\": {\"frequency\": 4, \"value\": 4495.0}, \"4496.0\": {\"frequency\": 2, \"value\": 4496.0}, \"4497.0\": {\"frequency\": 2, \"value\": 4497.0}, \"12690.0\": {\"frequency\": 3, \"value\": 12690.0}, \"4499.0\": {\"frequency\": 4, \"value\": 4499.0}, \"4500.0\": {\"frequency\": 114, \"value\": 4500.0}, \"4501.0\": {\"frequency\": 2, \"value\": 4501.0}, \"4502.0\": {\"frequency\": 4, \"value\": 4502.0}, \"12696.0\": {\"frequency\": 2, \"value\": 12696.0}, \"4505.0\": {\"frequency\": 3, \"value\": 4505.0}, \"4506.0\": {\"frequency\": 2, \"value\": 4506.0}, \"12700.0\": {\"frequency\": 2, \"value\": 12700.0}, \"4510.0\": {\"frequency\": 2, \"value\": 4510.0}, \"4512.0\": {\"frequency\": 2, \"value\": 4512.0}, \"12705.0\": {\"frequency\": 2, \"value\": 12705.0}, \"4515.0\": {\"frequency\": 2, \"value\": 4515.0}, \"4520.0\": {\"frequency\": 3, \"value\": 4520.0}, \"12714.0\": {\"frequency\": 2, \"value\": 12714.0}, \"4524.0\": {\"frequency\": 4, \"value\": 4524.0}, \"20917.0\": {\"frequency\": 1, \"value\": 20917.0}, \"4534.0\": {\"frequency\": 6, \"value\": 4534.0}, \"4539.0\": {\"frequency\": 3, \"value\": 4539.0}, \"4541.0\": {\"frequency\": 2, \"value\": 4541.0}, \"4548.0\": {\"frequency\": 2, \"value\": 4548.0}, \"4549.0\": {\"frequency\": 2, \"value\": 4549.0}, \"4550.0\": {\"frequency\": 3, \"value\": 4550.0}, \"4551.0\": {\"frequency\": 2, \"value\": 4551.0}, \"4553.0\": {\"frequency\": 2, \"value\": 4553.0}, \"4555.0\": {\"frequency\": 2, \"value\": 4555.0}, \"4556.0\": {\"frequency\": 1, \"value\": 4556.0}, \"45517.0\": {\"frequency\": 1, \"value\": 45517.0}, \"12750.0\": {\"frequency\": 10, \"value\": 12750.0}, \"4560.0\": {\"frequency\": 15, \"value\": 4560.0}, \"12753.0\": {\"frequency\": 3, \"value\": 12753.0}, \"4564.0\": {\"frequency\": 2, \"value\": 4564.0}, \"4565.0\": {\"frequency\": 1, \"value\": 4565.0}, \"2128.0\": {\"frequency\": 2, \"value\": 2128.0}, \"4244.0\": {\"frequency\": 3, \"value\": 4244.0}, \"5608.0\": {\"frequency\": 3, \"value\": 5608.0}, \"111078.0\": {\"frequency\": 2, \"value\": 111078.0}, \"12775.0\": {\"frequency\": 1, \"value\": 12775.0}, \"4584.0\": {\"frequency\": 2, \"value\": 4584.0}, \"4587.0\": {\"frequency\": 2, \"value\": 4587.0}, \"4590.0\": {\"frequency\": 17, \"value\": 4590.0}, \"4592.0\": {\"frequency\": 4, \"value\": 4592.0}, \"20978.0\": {\"frequency\": 1, \"value\": 20978.0}, \"70131.0\": {\"frequency\": 2, \"value\": 70131.0}, \"4596.0\": {\"frequency\": 2, \"value\": 4596.0}, \"4597.0\": {\"frequency\": 1, \"value\": 4597.0}, \"4600.0\": {\"frequency\": 34, \"value\": 4600.0}, \"12793.0\": {\"frequency\": 3, \"value\": 12793.0}, \"4602.0\": {\"frequency\": 3, \"value\": 4602.0}, \"4606.0\": {\"frequency\": 2, \"value\": 4606.0}, \"8064.0\": {\"frequency\": 5, \"value\": 8064.0}, \"4611.0\": {\"frequency\": 2, \"value\": 4611.0}, \"8961.0\": {\"frequency\": 1, \"value\": 8961.0}, \"21000.0\": {\"frequency\": 6, \"value\": 21000.0}, \"4620.0\": {\"frequency\": 2, \"value\": 4620.0}, \"4625.0\": {\"frequency\": 2, \"value\": 4625.0}, \"4627.0\": {\"frequency\": 2, \"value\": 4627.0}, \"12821.0\": {\"frequency\": 3, \"value\": 12821.0}, \"12823.0\": {\"frequency\": 2, \"value\": 12823.0}, \"12825.0\": {\"frequency\": 5, \"value\": 12825.0}, \"5337.0\": {\"frequency\": 1, \"value\": 5337.0}, \"4635.0\": {\"frequency\": 10, \"value\": 4635.0}, \"4636.0\": {\"frequency\": 3, \"value\": 4636.0}, \"4637.0\": {\"frequency\": 2, \"value\": 4637.0}, \"4640.0\": {\"frequency\": 5, \"value\": 4640.0}, \"7601.0\": {\"frequency\": 3, \"value\": 7601.0}, \"4648.0\": {\"frequency\": 2, \"value\": 4648.0}, \"4650.0\": {\"frequency\": 10, \"value\": 4650.0}, \"12843.0\": {\"frequency\": 1, \"value\": 12843.0}, \"4652.0\": {\"frequency\": 2, \"value\": 4652.0}, \"18525.0\": {\"frequency\": 2, \"value\": 18525.0}, \"12850.0\": {\"frequency\": 1, \"value\": 12850.0}, \"21043.0\": {\"frequency\": 2, \"value\": 21043.0}, \"4662.0\": {\"frequency\": 1, \"value\": 4662.0}, \"36276.0\": {\"frequency\": 1, \"value\": 36276.0}, \"29242.0\": {\"frequency\": 1, \"value\": 29242.0}, \"4667.0\": {\"frequency\": 4, \"value\": 4667.0}, \"4668.0\": {\"frequency\": 2, \"value\": 4668.0}, \"4670.0\": {\"frequency\": 2, \"value\": 4670.0}, \"12866.0\": {\"frequency\": 2, \"value\": 12866.0}, \"4675.0\": {\"frequency\": 4, \"value\": 4675.0}, \"4676.0\": {\"frequency\": 1, \"value\": 4676.0}, \"7606.0\": {\"frequency\": 2, \"value\": 7606.0}, \"12870.0\": {\"frequency\": 2, \"value\": 12870.0}, \"78408.0\": {\"frequency\": 5, \"value\": 78408.0}, \"13068.0\": {\"frequency\": 7, \"value\": 13068.0}, \"143947.0\": {\"frequency\": 1, \"value\": 143947.0}, \"4684.0\": {\"frequency\": 2, \"value\": 4684.0}, \"4688.0\": {\"frequency\": 2, \"value\": 4688.0}, \"4690.0\": {\"frequency\": 2, \"value\": 4690.0}, \"4692.0\": {\"frequency\": 2, \"value\": 4692.0}, \"37461.0\": {\"frequency\": 1, \"value\": 37461.0}, \"4694.0\": {\"frequency\": 3, \"value\": 4694.0}, \"4697.0\": {\"frequency\": 2, \"value\": 4697.0}, \"4698.0\": {\"frequency\": 2, \"value\": 4698.0}, \"4700.0\": {\"frequency\": 13, \"value\": 4700.0}, \"4704.0\": {\"frequency\": 2, \"value\": 4704.0}, \"12899.0\": {\"frequency\": 2, \"value\": 12899.0}, \"4708.0\": {\"frequency\": 2, \"value\": 4708.0}, \"1248.0\": {\"frequency\": 3, \"value\": 1248.0}, \"3517.0\": {\"frequency\": 2, \"value\": 3517.0}, \"4720.0\": {\"frequency\": 6, \"value\": 4720.0}, \"209523.0\": {\"frequency\": 4, \"value\": 209523.0}, \"4725.0\": {\"frequency\": 10, \"value\": 4725.0}, \"4729.0\": {\"frequency\": 2, \"value\": 4729.0}, \"4730.0\": {\"frequency\": 3, \"value\": 4730.0}, \"4736.0\": {\"frequency\": 3, \"value\": 4736.0}, \"4740.0\": {\"frequency\": 2, \"value\": 4740.0}, \"4743.0\": {\"frequency\": 2, \"value\": 4743.0}, \"4745.0\": {\"frequency\": 2, \"value\": 4745.0}, \"12940.0\": {\"frequency\": 1, \"value\": 12940.0}, \"4750.0\": {\"frequency\": 27, \"value\": 4750.0}, \"4751.0\": {\"frequency\": 3, \"value\": 4751.0}, \"4755.0\": {\"frequency\": 3, \"value\": 4755.0}, \"12950.0\": {\"frequency\": 2, \"value\": 12950.0}, \"4760.0\": {\"frequency\": 10, \"value\": 4760.0}, \"4762.0\": {\"frequency\": 1, \"value\": 4762.0}, \"4764.0\": {\"frequency\": 1, \"value\": 4764.0}, \"12960.0\": {\"frequency\": 2, \"value\": 12960.0}, \"4770.0\": {\"frequency\": 4, \"value\": 4770.0}, \"4774.0\": {\"frequency\": 3, \"value\": 4774.0}, \"12968.0\": {\"frequency\": 2, \"value\": 12968.0}, \"4777.0\": {\"frequency\": 4, \"value\": 4777.0}, \"45738.0\": {\"frequency\": 10, \"value\": 45738.0}, \"4780.0\": {\"frequency\": 4, \"value\": 4780.0}, \"4781.0\": {\"frequency\": 2, \"value\": 4781.0}, \"4788.0\": {\"frequency\": 3, \"value\": 4788.0}, \"4789.0\": {\"frequency\": 1, \"value\": 4789.0}, \"705.0\": {\"frequency\": 2, \"value\": 705.0}, \"12987.0\": {\"frequency\": 3, \"value\": 12987.0}, \"4797.0\": {\"frequency\": 2, \"value\": 4797.0}, \"21183.0\": {\"frequency\": 2, \"value\": 21183.0}, \"4800.0\": {\"frequency\": 120, \"value\": 4800.0}, \"4802.0\": {\"frequency\": 2, \"value\": 4802.0}, \"4805.0\": {\"frequency\": 2, \"value\": 4805.0}, \"217800.0\": {\"frequency\": 16, \"value\": 217800.0}, \"13002.0\": {\"frequency\": 2, \"value\": 13002.0}, \"8994.0\": {\"frequency\": 2, \"value\": 8994.0}, \"4814.0\": {\"frequency\": 2, \"value\": 4814.0}, \"4815.0\": {\"frequency\": 5, \"value\": 4815.0}, \"4818.0\": {\"frequency\": 2, \"value\": 4818.0}, \"205603.0\": {\"frequency\": 2, \"value\": 205603.0}, \"4822.0\": {\"frequency\": 1, \"value\": 4822.0}, \"4828.0\": {\"frequency\": 2, \"value\": 4828.0}, \"4831.0\": {\"frequency\": 2, \"value\": 4831.0}, \"4836.0\": {\"frequency\": 2, \"value\": 4836.0}, \"4838.0\": {\"frequency\": 6, \"value\": 4838.0}, \"13031.0\": {\"frequency\": 1, \"value\": 13031.0}, \"4840.0\": {\"frequency\": 10, \"value\": 4840.0}, \"4841.0\": {\"frequency\": 2, \"value\": 4841.0}, \"13095.0\": {\"frequency\": 2, \"value\": 13095.0}, \"11730.0\": {\"frequency\": 2, \"value\": 11730.0}, \"94960.0\": {\"frequency\": 2, \"value\": 94960.0}, \"905.0\": {\"frequency\": 3, \"value\": 905.0}, \"4850.0\": {\"frequency\": 7, \"value\": 4850.0}, \"21235.0\": {\"frequency\": 1, \"value\": 21235.0}, \"4859.0\": {\"frequency\": 2, \"value\": 4859.0}, \"4860.0\": {\"frequency\": 2, \"value\": 4860.0}, \"13054.0\": {\"frequency\": 2, \"value\": 13054.0}, \"3708.0\": {\"frequency\": 3, \"value\": 3708.0}, \"4866.0\": {\"frequency\": 2, \"value\": 4866.0}, \"13059.0\": {\"frequency\": 2, \"value\": 13059.0}, \"4871.0\": {\"frequency\": 2, \"value\": 4871.0}, \"4874.0\": {\"frequency\": 2, \"value\": 4874.0}, \"4875.0\": {\"frequency\": 10, \"value\": 4875.0}, \"4876.0\": {\"frequency\": 2, \"value\": 4876.0}, \"4880.0\": {\"frequency\": 5, \"value\": 4880.0}, \"4887.0\": {\"frequency\": 2, \"value\": 4887.0}, \"4888.0\": {\"frequency\": 2, \"value\": 4888.0}, \"13085.0\": {\"frequency\": 2, \"value\": 13085.0}, \"4895.0\": {\"frequency\": 2, \"value\": 4895.0}, \"13104.0\": {\"frequency\": 2, \"value\": 13104.0}, \"4898.0\": {\"frequency\": 2, \"value\": 4898.0}, \"4900.0\": {\"frequency\": 9, \"value\": 4900.0}, \"4903.0\": {\"frequency\": 2, \"value\": 4903.0}, \"4904.0\": {\"frequency\": 2, \"value\": 4904.0}, \"4905.0\": {\"frequency\": 3, \"value\": 4905.0}, \"185130.0\": {\"frequency\": 2, \"value\": 185130.0}, \"13100.0\": {\"frequency\": 5, \"value\": 13100.0}, \"4912.0\": {\"frequency\": 2, \"value\": 4912.0}, \"4913.0\": {\"frequency\": 2, \"value\": 4913.0}, \"21303.0\": {\"frequency\": 3, \"value\": 21303.0}, \"4920.0\": {\"frequency\": 12, \"value\": 4920.0}, \"4923.0\": {\"frequency\": 2, \"value\": 4923.0}, \"4924.0\": {\"frequency\": 3, \"value\": 4924.0}, \"16258.0\": {\"frequency\": 2, \"value\": 16258.0}, \"4930.0\": {\"frequency\": 3, \"value\": 4930.0}, \"13125.0\": {\"frequency\": 3, \"value\": 13125.0}, \"13129.0\": {\"frequency\": 2, \"value\": 13129.0}, \"15842.0\": {\"frequency\": 1, \"value\": 15842.0}, \"4944.0\": {\"frequency\": 3, \"value\": 4944.0}, \"4945.0\": {\"frequency\": 5, \"value\": 4945.0}, \"62290.0\": {\"frequency\": 3, \"value\": 62290.0}, \"7651.0\": {\"frequency\": 2, \"value\": 7651.0}, \"4948.0\": {\"frequency\": 2, \"value\": 4948.0}, \"4949.0\": {\"frequency\": 2, \"value\": 4949.0}, \"4950.0\": {\"frequency\": 15, \"value\": 4950.0}, \"825.0\": {\"frequency\": 2, \"value\": 825.0}, \"4959.0\": {\"frequency\": 2, \"value\": 4959.0}, \"4960.0\": {\"frequency\": 8, \"value\": 4960.0}, \"4961.0\": {\"frequency\": 3, \"value\": 4961.0}, \"4964.0\": {\"frequency\": 2, \"value\": 4964.0}, \"4972.0\": {\"frequency\": 2, \"value\": 4972.0}, \"21357.0\": {\"frequency\": 1, \"value\": 21357.0}, \"4975.0\": {\"frequency\": 2, \"value\": 4975.0}, \"13168.0\": {\"frequency\": 2, \"value\": 13168.0}, \"4978.0\": {\"frequency\": 3, \"value\": 4978.0}, \"4980.0\": {\"frequency\": 6, \"value\": 4980.0}, \"4984.0\": {\"frequency\": 2, \"value\": 4984.0}, \"4990.0\": {\"frequency\": 2, \"value\": 4990.0}, \"4992.0\": {\"frequency\": 2, \"value\": 4992.0}, \"4995.0\": {\"frequency\": 2, \"value\": 4995.0}, \"4997.0\": {\"frequency\": 3, \"value\": 4997.0}, \"5000.0\": {\"frequency\": 358, \"value\": 5000.0}, \"5001.0\": {\"frequency\": 15, \"value\": 5001.0}, \"5002.0\": {\"frequency\": 6, \"value\": 5002.0}, \"5004.0\": {\"frequency\": 2, \"value\": 5004.0}, \"5005.0\": {\"frequency\": 3, \"value\": 5005.0}, \"5006.0\": {\"frequency\": 2, \"value\": 5006.0}, \"13200.0\": {\"frequency\": 5, \"value\": 13200.0}, \"5009.0\": {\"frequency\": 2, \"value\": 5009.0}, \"13202.0\": {\"frequency\": 1, \"value\": 13202.0}, \"5012.0\": {\"frequency\": 3, \"value\": 5012.0}, \"5013.0\": {\"frequency\": 3, \"value\": 5013.0}, \"21399.0\": {\"frequency\": 1, \"value\": 21399.0}, \"5017.0\": {\"frequency\": 1, \"value\": 5017.0}, \"103237.0\": {\"frequency\": 2, \"value\": 103237.0}, \"5024.0\": {\"frequency\": 3, \"value\": 5024.0}, \"5025.0\": {\"frequency\": 5, \"value\": 5025.0}, \"5026.0\": {\"frequency\": 4, \"value\": 5026.0}, \"5027.0\": {\"frequency\": 4, \"value\": 5027.0}, \"5028.0\": {\"frequency\": 1, \"value\": 5028.0}, \"5029.0\": {\"frequency\": 4, \"value\": 5029.0}, \"5030.0\": {\"frequency\": 3, \"value\": 5030.0}, \"11761.0\": {\"frequency\": 2, \"value\": 11761.0}, \"37800.0\": {\"frequency\": 2, \"value\": 37800.0}, \"5034.0\": {\"frequency\": 2, \"value\": 5034.0}, \"5036.0\": {\"frequency\": 1, \"value\": 5036.0}, \"5038.0\": {\"frequency\": 3, \"value\": 5038.0}, \"5040.0\": {\"frequency\": 29, \"value\": 5040.0}, \"5043.0\": {\"frequency\": 5, \"value\": 5043.0}, \"5044.0\": {\"frequency\": 1, \"value\": 5044.0}, \"5048.0\": {\"frequency\": 2, \"value\": 5048.0}, \"13241.0\": {\"frequency\": 2, \"value\": 13241.0}, \"5050.0\": {\"frequency\": 9, \"value\": 5050.0}, \"5054.0\": {\"frequency\": 3, \"value\": 5054.0}, \"174240.0\": {\"frequency\": 2, \"value\": 174240.0}, \"5060.0\": {\"frequency\": 9, \"value\": 5060.0}, \"242629.0\": {\"frequency\": 1, \"value\": 242629.0}, \"5065.0\": {\"frequency\": 2, \"value\": 5065.0}, \"13260.0\": {\"frequency\": 4, \"value\": 13260.0}, \"5070.0\": {\"frequency\": 5, \"value\": 5070.0}, \"5071.0\": {\"frequency\": 3, \"value\": 5071.0}, \"5077.0\": {\"frequency\": 3, \"value\": 5077.0}, \"103382.0\": {\"frequency\": 1, \"value\": 103382.0}, \"5079.0\": {\"frequency\": 2, \"value\": 5079.0}, \"5080.0\": {\"frequency\": 17, \"value\": 5080.0}, \"5085.0\": {\"frequency\": 3, \"value\": 5085.0}, \"5086.0\": {\"frequency\": 2, \"value\": 5086.0}, \"5088.0\": {\"frequency\": 2, \"value\": 5088.0}, \"5089.0\": {\"frequency\": 2, \"value\": 5089.0}, \"5090.0\": {\"frequency\": 2, \"value\": 5090.0}, \"108464.0\": {\"frequency\": 3, \"value\": 108464.0}, \"5096.0\": {\"frequency\": 3, \"value\": 5096.0}, \"5097.0\": {\"frequency\": 2, \"value\": 5097.0}, \"5100.0\": {\"frequency\": 78, \"value\": 5100.0}, \"5101.0\": {\"frequency\": 4, \"value\": 5101.0}, \"5102.0\": {\"frequency\": 5, \"value\": 5102.0}, \"13296.0\": {\"frequency\": 2, \"value\": 13296.0}, \"18600.0\": {\"frequency\": 3, \"value\": 18600.0}, \"5106.0\": {\"frequency\": 2, \"value\": 5106.0}, \"4947.0\": {\"frequency\": 3, \"value\": 4947.0}, \"13300.0\": {\"frequency\": 8, \"value\": 13300.0}, \"11774.0\": {\"frequency\": 2, \"value\": 11774.0}, \"5110.0\": {\"frequency\": 4, \"value\": 5110.0}, \"13303.0\": {\"frequency\": 1, \"value\": 13303.0}, \"5112.0\": {\"frequency\": 2, \"value\": 5112.0}, \"7808.0\": {\"frequency\": 2, \"value\": 7808.0}, \"78843.0\": {\"frequency\": 2, \"value\": 78843.0}, \"5118.0\": {\"frequency\": 2, \"value\": 5118.0}, \"5120.0\": {\"frequency\": 27, \"value\": 5120.0}, \"5125.0\": {\"frequency\": 4, \"value\": 5125.0}, \"5128.0\": {\"frequency\": 2, \"value\": 5128.0}, \"5130.0\": {\"frequency\": 3, \"value\": 5130.0}, \"5131.0\": {\"frequency\": 2, \"value\": 5131.0}, \"5136.0\": {\"frequency\": 2, \"value\": 5136.0}, \"5137.0\": {\"frequency\": 2, \"value\": 5137.0}, \"5140.0\": {\"frequency\": 2, \"value\": 5140.0}, \"5375.0\": {\"frequency\": 7, \"value\": 5375.0}, \"11780.0\": {\"frequency\": 3, \"value\": 11780.0}, \"5146.0\": {\"frequency\": 4, \"value\": 5146.0}, \"5150.0\": {\"frequency\": 18, \"value\": 5150.0}, \"7685.0\": {\"frequency\": 1, \"value\": 7685.0}, \"5156.0\": {\"frequency\": 2, \"value\": 5156.0}, \"13350.0\": {\"frequency\": 2, \"value\": 13350.0}, \"209959.0\": {\"frequency\": 1, \"value\": 209959.0}, \"5160.0\": {\"frequency\": 9, \"value\": 5160.0}, \"5163.0\": {\"frequency\": 1, \"value\": 5163.0}, \"5167.0\": {\"frequency\": 1, \"value\": 5167.0}, \"5170.0\": {\"frequency\": 2, \"value\": 5170.0}, \"5171.0\": {\"frequency\": 1, \"value\": 5171.0}, \"5175.0\": {\"frequency\": 8, \"value\": 5175.0}, \"13370.0\": {\"frequency\": 2, \"value\": 13370.0}, \"21344.0\": {\"frequency\": 2, \"value\": 21344.0}, \"220308.0\": {\"frequency\": 1, \"value\": 220308.0}, \"5188.0\": {\"frequency\": 2, \"value\": 5188.0}, \"9720.0\": {\"frequency\": 12, \"value\": 9720.0}, \"13384.0\": {\"frequency\": 1, \"value\": 13384.0}, \"5195.0\": {\"frequency\": 2, \"value\": 5195.0}, \"5196.0\": {\"frequency\": 2, \"value\": 5196.0}, \"13392.0\": {\"frequency\": 2, \"value\": 13392.0}, \"10424.0\": {\"frequency\": 2, \"value\": 10424.0}, \"5202.0\": {\"frequency\": 4, \"value\": 5202.0}, \"5203.0\": {\"frequency\": 2, \"value\": 5203.0}, \"5210.0\": {\"frequency\": 2, \"value\": 5210.0}, \"5212.0\": {\"frequency\": 1, \"value\": 5212.0}, \"37981.0\": {\"frequency\": 1, \"value\": 37981.0}, \"21600.0\": {\"frequency\": 2, \"value\": 21600.0}, \"5217.0\": {\"frequency\": 3, \"value\": 5217.0}, \"92347.0\": {\"frequency\": 2, \"value\": 92347.0}, \"13412.0\": {\"frequency\": 1, \"value\": 13412.0}, \"5222.0\": {\"frequency\": 2, \"value\": 5222.0}, \"13416.0\": {\"frequency\": 1, \"value\": 13416.0}, \"5225.0\": {\"frequency\": 6, \"value\": 5225.0}, \"5236.0\": {\"frequency\": 3, \"value\": 5236.0}, \"5238.0\": {\"frequency\": 3, \"value\": 5238.0}, \"873.0\": {\"frequency\": 2, \"value\": 873.0}, \"5240.0\": {\"frequency\": 8, \"value\": 5240.0}, \"13435.0\": {\"frequency\": 1, \"value\": 13435.0}, \"5244.0\": {\"frequency\": 2, \"value\": 5244.0}, \"874.0\": {\"frequency\": 2, \"value\": 874.0}, \"13440.0\": {\"frequency\": 2, \"value\": 13440.0}, \"5249.0\": {\"frequency\": 3, \"value\": 5249.0}, \"5250.0\": {\"frequency\": 32, \"value\": 5250.0}, \"5252.0\": {\"frequency\": 2, \"value\": 5252.0}, \"5257.0\": {\"frequency\": 3, \"value\": 5257.0}, \"5258.0\": {\"frequency\": 2, \"value\": 5258.0}, \"5259.0\": {\"frequency\": 1, \"value\": 5259.0}, \"5260.0\": {\"frequency\": 4, \"value\": 5260.0}, \"5264.0\": {\"frequency\": 2, \"value\": 5264.0}, \"11800.0\": {\"frequency\": 4, \"value\": 11800.0}, \"21650.0\": {\"frequency\": 1, \"value\": 21650.0}, \"5267.0\": {\"frequency\": 4, \"value\": 5267.0}, \"13464.0\": {\"frequency\": 1, \"value\": 13464.0}, \"13468.0\": {\"frequency\": 2, \"value\": 13468.0}, \"13470.0\": {\"frequency\": 1, \"value\": 13470.0}, \"5280.0\": {\"frequency\": 15, \"value\": 5280.0}, \"4976.0\": {\"frequency\": 2, \"value\": 4976.0}, \"13474.0\": {\"frequency\": 2, \"value\": 13474.0}, \"13475.0\": {\"frequency\": 2, \"value\": 13475.0}, \"95396.0\": {\"frequency\": 2, \"value\": 95396.0}, \"5289.0\": {\"frequency\": 2, \"value\": 5289.0}, \"13170.0\": {\"frequency\": 2, \"value\": 13170.0}, \"54450.0\": {\"frequency\": 8, \"value\": 54450.0}, \"5300.0\": {\"frequency\": 11, \"value\": 5300.0}, \"5304.0\": {\"frequency\": 3, \"value\": 5304.0}, \"5306.0\": {\"frequency\": 2, \"value\": 5306.0}, \"13500.0\": {\"frequency\": 20, \"value\": 13500.0}, \"13501.0\": {\"frequency\": 1, \"value\": 13501.0}, \"5310.0\": {\"frequency\": 3, \"value\": 5310.0}, \"13503.0\": {\"frequency\": 3, \"value\": 13503.0}, \"1268.0\": {\"frequency\": 2, \"value\": 1268.0}, \"20001.0\": {\"frequency\": 2, \"value\": 20001.0}, \"5320.0\": {\"frequency\": 2, \"value\": 5320.0}, \"5321.0\": {\"frequency\": 2, \"value\": 5321.0}, \"5322.0\": {\"frequency\": 1, \"value\": 5322.0}, \"213879.0\": {\"frequency\": 2, \"value\": 213879.0}, \"5330.0\": {\"frequency\": 1, \"value\": 5330.0}, \"5332.0\": {\"frequency\": 2, \"value\": 5332.0}, \"5333.0\": {\"frequency\": 2, \"value\": 5333.0}, \"5335.0\": {\"frequency\": 2, \"value\": 5335.0}, \"13529.0\": {\"frequency\": 2, \"value\": 13529.0}, \"13530.0\": {\"frequency\": 2, \"value\": 13530.0}, \"5339.0\": {\"frequency\": 2, \"value\": 5339.0}, \"5340.0\": {\"frequency\": 3, \"value\": 5340.0}, \"5348.0\": {\"frequency\": 2, \"value\": 5348.0}, \"5349.0\": {\"frequency\": 2, \"value\": 5349.0}, \"5350.0\": {\"frequency\": 10, \"value\": 5350.0}, \"9084.0\": {\"frequency\": 2, \"value\": 9084.0}, \"5354.0\": {\"frequency\": 2, \"value\": 5354.0}, \"144619.0\": {\"frequency\": 2, \"value\": 144619.0}, \"5356.0\": {\"frequency\": 1, \"value\": 5356.0}, \"10450.0\": {\"frequency\": 9, \"value\": 10450.0}, \"13551.0\": {\"frequency\": 2, \"value\": 13551.0}, \"5360.0\": {\"frequency\": 2, \"value\": 5360.0}, \"13554.0\": {\"frequency\": 2, \"value\": 13554.0}, \"103672.0\": {\"frequency\": 3, \"value\": 103672.0}, \"895.0\": {\"frequency\": 2, \"value\": 895.0}, \"18645.0\": {\"frequency\": 2, \"value\": 18645.0}, \"5376.0\": {\"frequency\": 3, \"value\": 5376.0}, \"5379.0\": {\"frequency\": 3, \"value\": 5379.0}, \"13572.0\": {\"frequency\": 2, \"value\": 13572.0}, \"62726.0\": {\"frequency\": 2, \"value\": 62726.0}, \"13579.0\": {\"frequency\": 3, \"value\": 13579.0}, \"5390.0\": {\"frequency\": 3, \"value\": 5390.0}, \"5393.0\": {\"frequency\": 3, \"value\": 5393.0}, \"29970.0\": {\"frequency\": 1, \"value\": 29970.0}, \"5395.0\": {\"frequency\": 4, \"value\": 5395.0}, \"21780.0\": {\"frequency\": 9, \"value\": 21780.0}, \"21781.0\": {\"frequency\": 3, \"value\": 21781.0}, \"13590.0\": {\"frequency\": 2, \"value\": 13590.0}, \"13592.0\": {\"frequency\": 1, \"value\": 13592.0}, \"5401.0\": {\"frequency\": 3, \"value\": 5401.0}, \"5402.0\": {\"frequency\": 3, \"value\": 5402.0}, \"5404.0\": {\"frequency\": 3, \"value\": 5404.0}, \"5405.0\": {\"frequency\": 2, \"value\": 5405.0}, \"5408.0\": {\"frequency\": 2, \"value\": 5408.0}, \"11824.0\": {\"frequency\": 2, \"value\": 11824.0}, \"13603.0\": {\"frequency\": 1, \"value\": 13603.0}, \"5412.0\": {\"frequency\": 2, \"value\": 5412.0}, \"5413.0\": {\"frequency\": 9, \"value\": 5413.0}, \"5414.0\": {\"frequency\": 2, \"value\": 5414.0}, \"5416.0\": {\"frequency\": 2, \"value\": 5416.0}, \"13609.0\": {\"frequency\": 2, \"value\": 13609.0}, \"5420.0\": {\"frequency\": 2, \"value\": 5420.0}, \"5421.0\": {\"frequency\": 2, \"value\": 5421.0}, \"5423.0\": {\"frequency\": 2, \"value\": 5423.0}, \"904.0\": {\"frequency\": 2, \"value\": 904.0}, \"21810.0\": {\"frequency\": 1, \"value\": 21810.0}, \"5428.0\": {\"frequency\": 2, \"value\": 5428.0}, \"37769.0\": {\"frequency\": 1, \"value\": 37769.0}, \"5432.0\": {\"frequency\": 2, \"value\": 5432.0}, \"5434.0\": {\"frequency\": 2, \"value\": 5434.0}, \"5438.0\": {\"frequency\": 1, \"value\": 5438.0}, \"5440.0\": {\"frequency\": 5, \"value\": 5440.0}, \"10464.0\": {\"frequency\": 3, \"value\": 10464.0}, \"5444.0\": {\"frequency\": 2, \"value\": 5444.0}, \"5445.0\": {\"frequency\": 3, \"value\": 5445.0}, \"5449.0\": {\"frequency\": 2, \"value\": 5449.0}, \"5450.0\": {\"frequency\": 5, \"value\": 5450.0}, \"5453.0\": {\"frequency\": 3, \"value\": 5453.0}, \"5455.0\": {\"frequency\": 2, \"value\": 5455.0}, \"5457.0\": {\"frequency\": 2, \"value\": 5457.0}, \"13650.0\": {\"frequency\": 2, \"value\": 13650.0}, \"5460.0\": {\"frequency\": 6, \"value\": 5460.0}, \"13457.0\": {\"frequency\": 2, \"value\": 13457.0}, \"5470.0\": {\"frequency\": 2, \"value\": 5470.0}, \"5472.0\": {\"frequency\": 3, \"value\": 5472.0}, \"5008.0\": {\"frequency\": 3, \"value\": 5008.0}, \"2910.0\": {\"frequency\": 3, \"value\": 2910.0}, \"223462.0\": {\"frequency\": 3, \"value\": 223462.0}, \"5478.0\": {\"frequency\": 2, \"value\": 5478.0}, \"4128.0\": {\"frequency\": 3, \"value\": 4128.0}, \"5484.0\": {\"frequency\": 1, \"value\": 5484.0}, \"5010.0\": {\"frequency\": 2, \"value\": 5010.0}, \"5488.0\": {\"frequency\": 3, \"value\": 5488.0}, \"5490.0\": {\"frequency\": 4, \"value\": 5490.0}, \"5493.0\": {\"frequency\": 1, \"value\": 5493.0}, \"5497.0\": {\"frequency\": 2, \"value\": 5497.0}, \"21883.0\": {\"frequency\": 2, \"value\": 21883.0}, \"5500.0\": {\"frequency\": 73, \"value\": 5500.0}, \"5502.0\": {\"frequency\": 2, \"value\": 5502.0}, \"13695.0\": {\"frequency\": 2, \"value\": 13695.0}, \"27260.0\": {\"frequency\": 1, \"value\": 27260.0}, \"5505.0\": {\"frequency\": 2, \"value\": 5505.0}, \"5508.0\": {\"frequency\": 4, \"value\": 5508.0}, \"5510.0\": {\"frequency\": 4, \"value\": 5510.0}, \"5511.0\": {\"frequency\": 4, \"value\": 5511.0}, \"5512.0\": {\"frequency\": 3, \"value\": 5512.0}, \"5015.0\": {\"frequency\": 4, \"value\": 5015.0}, \"5520.0\": {\"frequency\": 7, \"value\": 5520.0}, \"9112.0\": {\"frequency\": 6, \"value\": 9112.0}, \"5525.0\": {\"frequency\": 7, \"value\": 5525.0}, \"5527.0\": {\"frequency\": 3, \"value\": 5527.0}, \"5534.0\": {\"frequency\": 2, \"value\": 5534.0}, \"5539.0\": {\"frequency\": 4, \"value\": 5539.0}, \"7750.0\": {\"frequency\": 5, \"value\": 7750.0}, \"5544.0\": {\"frequency\": 3, \"value\": 5544.0}, \"13737.0\": {\"frequency\": 1, \"value\": 13737.0}, \"5546.0\": {\"frequency\": 3, \"value\": 5546.0}, \"5550.0\": {\"frequency\": 2, \"value\": 5550.0}, \"79279.0\": {\"frequency\": 2, \"value\": 79279.0}, \"21937.0\": {\"frequency\": 1, \"value\": 21937.0}, \"5555.0\": {\"frequency\": 2, \"value\": 5555.0}, \"13750.0\": {\"frequency\": 2, \"value\": 13750.0}, \"5559.0\": {\"frequency\": 3, \"value\": 5559.0}, \"5562.0\": {\"frequency\": 3, \"value\": 5562.0}, \"4004.0\": {\"frequency\": 2, \"value\": 4004.0}, \"38332.0\": {\"frequency\": 1, \"value\": 38332.0}, \"5568.0\": {\"frequency\": 2, \"value\": 5568.0}, \"5569.0\": {\"frequency\": 1, \"value\": 5569.0}, \"5570.0\": {\"frequency\": 2, \"value\": 5570.0}, \"5572.0\": {\"frequency\": 2, \"value\": 5572.0}, \"5577.0\": {\"frequency\": 2, \"value\": 5577.0}, \"5580.0\": {\"frequency\": 4, \"value\": 5580.0}, \"5581.0\": {\"frequency\": 2, \"value\": 5581.0}, \"13775.0\": {\"frequency\": 4, \"value\": 13775.0}, \"10488.0\": {\"frequency\": 3, \"value\": 10488.0}, \"13780.0\": {\"frequency\": 1, \"value\": 13780.0}, \"5589.0\": {\"frequency\": 2, \"value\": 5589.0}, \"5595.0\": {\"frequency\": 2, \"value\": 5595.0}, \"13791.0\": {\"frequency\": 1, \"value\": 13791.0}, \"5600.0\": {\"frequency\": 27, \"value\": 5600.0}, \"5602.0\": {\"frequency\": 2, \"value\": 5602.0}, \"9126.0\": {\"frequency\": 4, \"value\": 9126.0}, \"13800.0\": {\"frequency\": 2, \"value\": 13800.0}, \"2300.0\": {\"frequency\": 3, \"value\": 2300.0}, \"5610.0\": {\"frequency\": 3, \"value\": 5610.0}, \"70567.0\": {\"frequency\": 3, \"value\": 70567.0}, \"5612.0\": {\"frequency\": 6, \"value\": 5612.0}, \"5616.0\": {\"frequency\": 2, \"value\": 5616.0}, \"5618.0\": {\"frequency\": 2, \"value\": 5618.0}, \"28243.0\": {\"frequency\": 1, \"value\": 28243.0}, \"128502.0\": {\"frequency\": 2, \"value\": 128502.0}, \"13816.0\": {\"frequency\": 2, \"value\": 13816.0}, \"5625.0\": {\"frequency\": 4, \"value\": 5625.0}, \"5635.0\": {\"frequency\": 2, \"value\": 5635.0}, \"5639.0\": {\"frequency\": 3, \"value\": 5639.0}, \"9132.0\": {\"frequency\": 2, \"value\": 9132.0}, \"5643.0\": {\"frequency\": 2, \"value\": 5643.0}, \"5647.0\": {\"frequency\": 2, \"value\": 5647.0}, \"46609.0\": {\"frequency\": 7, \"value\": 46609.0}, \"5650.0\": {\"frequency\": 23, \"value\": 5650.0}, \"9134.0\": {\"frequency\": 2, \"value\": 9134.0}, \"22040.0\": {\"frequency\": 2, \"value\": 22040.0}, \"5663.0\": {\"frequency\": 2, \"value\": 5663.0}, \"5664.0\": {\"frequency\": 4, \"value\": 5664.0}, \"5665.0\": {\"frequency\": 3, \"value\": 5665.0}, \"13860.0\": {\"frequency\": 3, \"value\": 13860.0}, \"5669.0\": {\"frequency\": 3, \"value\": 5669.0}, \"5670.0\": {\"frequency\": 5, \"value\": 5670.0}, \"5671.0\": {\"frequency\": 1, \"value\": 5671.0}, \"5674.0\": {\"frequency\": 2, \"value\": 5674.0}, \"5677.0\": {\"frequency\": 2, \"value\": 5677.0}, \"3677.0\": {\"frequency\": 3, \"value\": 3677.0}, \"5680.0\": {\"frequency\": 5, \"value\": 5680.0}, \"5684.0\": {\"frequency\": 2, \"value\": 5684.0}, \"5688.0\": {\"frequency\": 2, \"value\": 5688.0}, \"5689.0\": {\"frequency\": 2, \"value\": 5689.0}, \"5692.0\": {\"frequency\": 2, \"value\": 5692.0}, \"3680.0\": {\"frequency\": 9, \"value\": 3680.0}, \"5700.0\": {\"frequency\": 30, \"value\": 5700.0}, \"5701.0\": {\"frequency\": 6, \"value\": 5701.0}, \"5702.0\": {\"frequency\": 2, \"value\": 5702.0}, \"5703.0\": {\"frequency\": 2, \"value\": 5703.0}, \"5706.0\": {\"frequency\": 3, \"value\": 5706.0}, \"9143.0\": {\"frequency\": 3, \"value\": 9143.0}, \"13900.0\": {\"frequency\": 2, \"value\": 13900.0}, \"5710.0\": {\"frequency\": 2, \"value\": 5710.0}, \"7828.0\": {\"frequency\": 3, \"value\": 7828.0}, \"5715.0\": {\"frequency\": 3, \"value\": 5715.0}, \"22100.0\": {\"frequency\": 3, \"value\": 22100.0}, \"5717.0\": {\"frequency\": 2, \"value\": 5717.0}, \"5720.0\": {\"frequency\": 9, \"value\": 5720.0}, \"5722.0\": {\"frequency\": 3, \"value\": 5722.0}, \"9465.0\": {\"frequency\": 2, \"value\": 9465.0}, \"5724.0\": {\"frequency\": 2, \"value\": 5724.0}, \"9146.0\": {\"frequency\": 2, \"value\": 9146.0}, \"22111.0\": {\"frequency\": 1, \"value\": 22111.0}, \"5733.0\": {\"frequency\": 2, \"value\": 5733.0}, \"5735.0\": {\"frequency\": 2, \"value\": 5735.0}, \"5737.0\": {\"frequency\": 3, \"value\": 5737.0}, \"5742.0\": {\"frequency\": 2, \"value\": 5742.0}, \"13938.0\": {\"frequency\": 1, \"value\": 13938.0}, \"13939.0\": {\"frequency\": 4, \"value\": 13939.0}, \"958.0\": {\"frequency\": 2, \"value\": 958.0}, \"5750.0\": {\"frequency\": 61, \"value\": 5750.0}, \"5751.0\": {\"frequency\": 2, \"value\": 5751.0}, \"5752.0\": {\"frequency\": 3, \"value\": 5752.0}, \"5753.0\": {\"frequency\": 3, \"value\": 5753.0}, \"5754.0\": {\"frequency\": 3, \"value\": 5754.0}, \"5756.0\": {\"frequency\": 4, \"value\": 5756.0}, \"5757.0\": {\"frequency\": 3, \"value\": 5757.0}, \"5758.0\": {\"frequency\": 3, \"value\": 5758.0}, \"5759.0\": {\"frequency\": 2, \"value\": 5759.0}, \"5760.0\": {\"frequency\": 13, \"value\": 5760.0}, \"5761.0\": {\"frequency\": 1, \"value\": 5761.0}, \"5763.0\": {\"frequency\": 2, \"value\": 5763.0}, \"5764.0\": {\"frequency\": 2, \"value\": 5764.0}, \"5765.0\": {\"frequency\": 2, \"value\": 5765.0}, \"13959.0\": {\"frequency\": 2, \"value\": 13959.0}, \"5772.0\": {\"frequency\": 2, \"value\": 5772.0}, \"5773.0\": {\"frequency\": 2, \"value\": 5773.0}, \"5775.0\": {\"frequency\": 2, \"value\": 5775.0}, \"13252.0\": {\"frequency\": 2, \"value\": 13252.0}, \"5787.0\": {\"frequency\": 2, \"value\": 5787.0}, \"5790.0\": {\"frequency\": 2, \"value\": 5790.0}, \"965.0\": {\"frequency\": 2, \"value\": 965.0}, \"5795.0\": {\"frequency\": 2, \"value\": 5795.0}, \"5797.0\": {\"frequency\": 3, \"value\": 5797.0}, \"5799.0\": {\"frequency\": 2, \"value\": 5799.0}, \"5800.0\": {\"frequency\": 19, \"value\": 5800.0}, \"5801.0\": {\"frequency\": 2, \"value\": 5801.0}, \"5802.0\": {\"frequency\": 2, \"value\": 5802.0}, \"5803.0\": {\"frequency\": 2, \"value\": 5803.0}, \"104108.0\": {\"frequency\": 2, \"value\": 104108.0}, \"5805.0\": {\"frequency\": 3, \"value\": 5805.0}, \"14000.0\": {\"frequency\": 11, \"value\": 14000.0}, \"5809.0\": {\"frequency\": 2, \"value\": 5809.0}, \"5817.0\": {\"frequency\": 2, \"value\": 5817.0}, \"5820.0\": {\"frequency\": 4, \"value\": 5820.0}, \"5821.0\": {\"frequency\": 2, \"value\": 5821.0}, \"5823.0\": {\"frequency\": 2, \"value\": 5823.0}, \"5824.0\": {\"frequency\": 3, \"value\": 5824.0}, \"5827.0\": {\"frequency\": 2, \"value\": 5827.0}, \"14021.0\": {\"frequency\": 2, \"value\": 14021.0}, \"5831.0\": {\"frequency\": 3, \"value\": 5831.0}, \"5835.0\": {\"frequency\": 2, \"value\": 5835.0}, \"5840.0\": {\"frequency\": 3, \"value\": 5840.0}, \"14034.0\": {\"frequency\": 1, \"value\": 14034.0}, \"5845.0\": {\"frequency\": 2, \"value\": 5845.0}, \"14040.0\": {\"frequency\": 4, \"value\": 14040.0}, \"5850.0\": {\"frequency\": 12, \"value\": 5850.0}, \"5854.0\": {\"frequency\": 2, \"value\": 5854.0}, \"5857.0\": {\"frequency\": 2, \"value\": 5857.0}, \"5858.0\": {\"frequency\": 2, \"value\": 5858.0}, \"5105.0\": {\"frequency\": 3, \"value\": 5105.0}, \"14052.0\": {\"frequency\": 1, \"value\": 14052.0}, \"194278.0\": {\"frequency\": 1, \"value\": 194278.0}, \"5864.0\": {\"frequency\": 2, \"value\": 5864.0}, \"14057.0\": {\"frequency\": 1, \"value\": 14057.0}, \"5866.0\": {\"frequency\": 3, \"value\": 5866.0}, \"5868.0\": {\"frequency\": 3, \"value\": 5868.0}, \"14062.0\": {\"frequency\": 1, \"value\": 14062.0}, \"5875.0\": {\"frequency\": 2, \"value\": 5875.0}, \"5876.0\": {\"frequency\": 2, \"value\": 5876.0}, \"14071.0\": {\"frequency\": 2, \"value\": 14071.0}, \"5880.0\": {\"frequency\": 9, \"value\": 5880.0}, \"22267.0\": {\"frequency\": 1, \"value\": 22267.0}, \"5885.0\": {\"frequency\": 1, \"value\": 5885.0}, \"5889.0\": {\"frequency\": 2, \"value\": 5889.0}, \"5893.0\": {\"frequency\": 2, \"value\": 5893.0}, \"3713.0\": {\"frequency\": 2, \"value\": 3713.0}, \"9198.0\": {\"frequency\": 3, \"value\": 9198.0}, \"5898.0\": {\"frequency\": 1, \"value\": 5898.0}, \"5899.0\": {\"frequency\": 3, \"value\": 5899.0}, \"5900.0\": {\"frequency\": 8, \"value\": 5900.0}, \"9471.0\": {\"frequency\": 2, \"value\": 9471.0}, \"14100.0\": {\"frequency\": 2, \"value\": 14100.0}, \"5909.0\": {\"frequency\": 3, \"value\": 5909.0}, \"5911.0\": {\"frequency\": 2, \"value\": 5911.0}, \"5913.0\": {\"frequency\": 2, \"value\": 5913.0}, \"14110.0\": {\"frequency\": 2, \"value\": 14110.0}, \"5920.0\": {\"frequency\": 2, \"value\": 5920.0}, \"5922.0\": {\"frequency\": 3, \"value\": 5922.0}, \"15450.0\": {\"frequency\": 3, \"value\": 15450.0}, \"5926.0\": {\"frequency\": 1, \"value\": 5926.0}, \"14120.0\": {\"frequency\": 1, \"value\": 14120.0}, \"5929.0\": {\"frequency\": 4, \"value\": 5929.0}, \"5930.0\": {\"frequency\": 2, \"value\": 5930.0}, \"5934.0\": {\"frequency\": 3, \"value\": 5934.0}, \"5936.0\": {\"frequency\": 2, \"value\": 5936.0}, \"5940.0\": {\"frequency\": 7, \"value\": 5940.0}, \"22326.0\": {\"frequency\": 2, \"value\": 22326.0}, \"2356.0\": {\"frequency\": 3, \"value\": 2356.0}, \"14138.0\": {\"frequency\": 2, \"value\": 14138.0}, \"14141.0\": {\"frequency\": 2, \"value\": 14141.0}, \"5950.0\": {\"frequency\": 4, \"value\": 5950.0}, \"5954.0\": {\"frequency\": 3, \"value\": 5954.0}, \"14149.0\": {\"frequency\": 2, \"value\": 14149.0}, \"5959.0\": {\"frequency\": 2, \"value\": 5959.0}, \"5960.0\": {\"frequency\": 3, \"value\": 5960.0}, \"5963.0\": {\"frequency\": 1, \"value\": 5963.0}, \"5965.0\": {\"frequency\": 2, \"value\": 5965.0}, \"1208.0\": {\"frequency\": 2, \"value\": 1208.0}, \"7821.0\": {\"frequency\": 3, \"value\": 7821.0}, \"5969.0\": {\"frequency\": 4, \"value\": 5969.0}, \"5091.0\": {\"frequency\": 2, \"value\": 5091.0}, \"22357.0\": {\"frequency\": 1, \"value\": 22357.0}, \"5974.0\": {\"frequency\": 4, \"value\": 5974.0}, \"5978.0\": {\"frequency\": 4, \"value\": 5978.0}, \"5979.0\": {\"frequency\": 2, \"value\": 5979.0}, \"5980.0\": {\"frequency\": 3, \"value\": 5980.0}, \"79714.0\": {\"frequency\": 1, \"value\": 79714.0}, \"5988.0\": {\"frequency\": 2, \"value\": 5988.0}, \"5992.0\": {\"frequency\": 3, \"value\": 5992.0}, \"5995.0\": {\"frequency\": 3, \"value\": 5995.0}, \"5999.0\": {\"frequency\": 3, \"value\": 5999.0}, \"6000.0\": {\"frequency\": 290, \"value\": 6000.0}, \"6001.0\": {\"frequency\": 1, \"value\": 6001.0}, \"6002.0\": {\"frequency\": 4, \"value\": 6002.0}, \"6003.0\": {\"frequency\": 2, \"value\": 6003.0}, \"14196.0\": {\"frequency\": 2, \"value\": 14196.0}, \"14197.0\": {\"frequency\": 2, \"value\": 14197.0}, \"6009.0\": {\"frequency\": 2, \"value\": 6009.0}, \"6010.0\": {\"frequency\": 4, \"value\": 6010.0}, \"6014.0\": {\"frequency\": 3, \"value\": 6014.0}, \"6015.0\": {\"frequency\": 2, \"value\": 6015.0}, \"6017.0\": {\"frequency\": 3, \"value\": 6017.0}, \"6018.0\": {\"frequency\": 2, \"value\": 6018.0}, \"6020.0\": {\"frequency\": 1, \"value\": 6020.0}, \"6021.0\": {\"frequency\": 2, \"value\": 6021.0}, \"6023.0\": {\"frequency\": 2, \"value\": 6023.0}, \"13292.0\": {\"frequency\": 2, \"value\": 13292.0}, \"22410.0\": {\"frequency\": 1, \"value\": 22410.0}, \"6030.0\": {\"frequency\": 4, \"value\": 6030.0}, \"6031.0\": {\"frequency\": 5, \"value\": 6031.0}, \"6032.0\": {\"frequency\": 2, \"value\": 6032.0}, \"6034.0\": {\"frequency\": 4, \"value\": 6034.0}, \"6037.0\": {\"frequency\": 4, \"value\": 6037.0}, \"52889.0\": {\"frequency\": 2, \"value\": 52889.0}, \"6041.0\": {\"frequency\": 2, \"value\": 6041.0}, \"6042.0\": {\"frequency\": 2, \"value\": 6042.0}, \"6045.0\": {\"frequency\": 2, \"value\": 6045.0}, \"11658.0\": {\"frequency\": 2, \"value\": 11658.0}, \"6049.0\": {\"frequency\": 2, \"value\": 6049.0}, \"6050.0\": {\"frequency\": 14, \"value\": 6050.0}, \"6052.0\": {\"frequency\": 2, \"value\": 6052.0}, \"6054.0\": {\"frequency\": 2, \"value\": 6054.0}, \"6055.0\": {\"frequency\": 2, \"value\": 6055.0}, \"14250.0\": {\"frequency\": 6, \"value\": 14250.0}, \"6060.0\": {\"frequency\": 6, \"value\": 6060.0}, \"1010.0\": {\"frequency\": 2, \"value\": 1010.0}, \"5107.0\": {\"frequency\": 2, \"value\": 5107.0}, \"87991.0\": {\"frequency\": 2, \"value\": 87991.0}, \"5108.0\": {\"frequency\": 2, \"value\": 5108.0}, \"6075.0\": {\"frequency\": 3, \"value\": 6075.0}, \"54160.0\": {\"frequency\": 2, \"value\": 54160.0}, \"6082.0\": {\"frequency\": 2, \"value\": 6082.0}, \"6083.0\": {\"frequency\": 2, \"value\": 6083.0}, \"47044.0\": {\"frequency\": 8, \"value\": 47044.0}, \"47045.0\": {\"frequency\": 1, \"value\": 47045.0}, \"6090.0\": {\"frequency\": 4, \"value\": 6090.0}, \"5111.0\": {\"frequency\": 5, \"value\": 5111.0}, \"6092.0\": {\"frequency\": 3, \"value\": 6092.0}, \"6093.0\": {\"frequency\": 2, \"value\": 6093.0}, \"6095.0\": {\"frequency\": 3, \"value\": 6095.0}, \"17400.0\": {\"frequency\": 5, \"value\": 17400.0}, \"6098.0\": {\"frequency\": 4, \"value\": 6098.0}, \"6099.0\": {\"frequency\": 5, \"value\": 6099.0}, \"6100.0\": {\"frequency\": 5, \"value\": 6100.0}, \"35150.0\": {\"frequency\": 2, \"value\": 35150.0}, \"6105.0\": {\"frequency\": 2, \"value\": 6105.0}, \"14300.0\": {\"frequency\": 2, \"value\": 14300.0}, \"6110.0\": {\"frequency\": 4, \"value\": 6110.0}, \"219106.0\": {\"frequency\": 2, \"value\": 219106.0}, \"5115.0\": {\"frequency\": 2, \"value\": 5115.0}, \"22500.0\": {\"frequency\": 2, \"value\": 22500.0}, \"6117.0\": {\"frequency\": 3, \"value\": 6117.0}, \"6120.0\": {\"frequency\": 39, \"value\": 6120.0}, \"6122.0\": {\"frequency\": 2, \"value\": 6122.0}, \"6124.0\": {\"frequency\": 2, \"value\": 6124.0}, \"6125.0\": {\"frequency\": 3, \"value\": 6125.0}, \"24700.0\": {\"frequency\": 2, \"value\": 24700.0}, \"6127.0\": {\"frequency\": 2, \"value\": 6127.0}, \"57000.0\": {\"frequency\": 1, \"value\": 57000.0}, \"6130.0\": {\"frequency\": 2, \"value\": 6130.0}, \"6132.0\": {\"frequency\": 3, \"value\": 6132.0}, \"6134.0\": {\"frequency\": 4, \"value\": 6134.0}, \"6137.0\": {\"frequency\": 3, \"value\": 6137.0}, \"6138.0\": {\"frequency\": 2, \"value\": 6138.0}, \"6139.0\": {\"frequency\": 2, \"value\": 6139.0}, \"6141.0\": {\"frequency\": 2, \"value\": 6141.0}, \"6143.0\": {\"frequency\": 2, \"value\": 6143.0}, \"6145.0\": {\"frequency\": 3, \"value\": 6145.0}, \"14338.0\": {\"frequency\": 1, \"value\": 14338.0}, \"11947.0\": {\"frequency\": 1, \"value\": 11947.0}, \"14342.0\": {\"frequency\": 1, \"value\": 14342.0}, \"14350.0\": {\"frequency\": 2, \"value\": 14350.0}, \"30736.0\": {\"frequency\": 1, \"value\": 30736.0}, \"6161.0\": {\"frequency\": 1, \"value\": 6161.0}, \"6162.0\": {\"frequency\": 1, \"value\": 6162.0}, \"6164.0\": {\"frequency\": 2, \"value\": 6164.0}, \"55321.0\": {\"frequency\": 3, \"value\": 55321.0}, \"6172.0\": {\"frequency\": 1, \"value\": 6172.0}, \"6174.0\": {\"frequency\": 3, \"value\": 6174.0}, \"6175.0\": {\"frequency\": 4, \"value\": 6175.0}, \"6178.0\": {\"frequency\": 2, \"value\": 6178.0}, \"6180.0\": {\"frequency\": 19, \"value\": 6180.0}, \"6181.0\": {\"frequency\": 2, \"value\": 6181.0}, \"14374.0\": {\"frequency\": 2, \"value\": 14374.0}, \"6183.0\": {\"frequency\": 2, \"value\": 6183.0}, \"6186.0\": {\"frequency\": 2, \"value\": 6186.0}, \"6187.0\": {\"frequency\": 3, \"value\": 6187.0}, \"13320.0\": {\"frequency\": 3, \"value\": 13320.0}, \"6194.0\": {\"frequency\": 2, \"value\": 6194.0}, \"6195.0\": {\"frequency\": 2, \"value\": 6195.0}, \"6197.0\": {\"frequency\": 2, \"value\": 6197.0}, \"1033.0\": {\"frequency\": 2, \"value\": 1033.0}, \"6200.0\": {\"frequency\": 22, \"value\": 6200.0}, \"6202.0\": {\"frequency\": 3, \"value\": 6202.0}, \"6203.0\": {\"frequency\": 2, \"value\": 6203.0}, \"6205.0\": {\"frequency\": 2, \"value\": 6205.0}, \"14400.0\": {\"frequency\": 11, \"value\": 14400.0}, \"14401.0\": {\"frequency\": 1, \"value\": 14401.0}, \"14402.0\": {\"frequency\": 1, \"value\": 14402.0}, \"6214.0\": {\"frequency\": 2, \"value\": 6214.0}, \"35169.0\": {\"frequency\": 2, \"value\": 35169.0}, \"6218.0\": {\"frequency\": 2, \"value\": 6218.0}, \"6219.0\": {\"frequency\": 1, \"value\": 6219.0}, \"6220.0\": {\"frequency\": 3, \"value\": 6220.0}, \"6222.0\": {\"frequency\": 3, \"value\": 6222.0}, \"6223.0\": {\"frequency\": 2, \"value\": 6223.0}, \"6224.0\": {\"frequency\": 3, \"value\": 6224.0}, \"6228.0\": {\"frequency\": 1, \"value\": 6228.0}, \"6232.0\": {\"frequency\": 4, \"value\": 6232.0}, \"6233.0\": {\"frequency\": 2, \"value\": 6233.0}, \"6236.0\": {\"frequency\": 2, \"value\": 6236.0}, \"6240.0\": {\"frequency\": 16, \"value\": 6240.0}, \"35124.0\": {\"frequency\": 2, \"value\": 35124.0}, \"14440.0\": {\"frequency\": 1, \"value\": 14440.0}, \"32175.0\": {\"frequency\": 1, \"value\": 32175.0}, \"6250.0\": {\"frequency\": 50, \"value\": 6250.0}, \"63597.0\": {\"frequency\": 2, \"value\": 63597.0}, \"6256.0\": {\"frequency\": 2, \"value\": 6256.0}, \"6258.0\": {\"frequency\": 2, \"value\": 6258.0}, \"6260.0\": {\"frequency\": 3, \"value\": 6260.0}, \"3774.0\": {\"frequency\": 3, \"value\": 3774.0}, \"6263.0\": {\"frequency\": 3, \"value\": 6263.0}, \"6265.0\": {\"frequency\": 2, \"value\": 6265.0}, \"22651.0\": {\"frequency\": 2, \"value\": 22651.0}, \"6270.0\": {\"frequency\": 2, \"value\": 6270.0}, \"6271.0\": {\"frequency\": 1, \"value\": 6271.0}, \"6272.0\": {\"frequency\": 2, \"value\": 6272.0}, \"14467.0\": {\"frequency\": 2, \"value\": 14467.0}, \"6278.0\": {\"frequency\": 3, \"value\": 6278.0}, \"6280.0\": {\"frequency\": 2, \"value\": 6280.0}, \"6282.0\": {\"frequency\": 2, \"value\": 6282.0}, \"6288.0\": {\"frequency\": 2, \"value\": 6288.0}, \"14486.0\": {\"frequency\": 1, \"value\": 14486.0}, \"6295.0\": {\"frequency\": 2, \"value\": 6295.0}, \"6298.0\": {\"frequency\": 2, \"value\": 6298.0}, \"6300.0\": {\"frequency\": 32, \"value\": 6300.0}, \"1050.0\": {\"frequency\": 2, \"value\": 1050.0}, \"6302.0\": {\"frequency\": 2, \"value\": 6302.0}, \"6305.0\": {\"frequency\": 2, \"value\": 6305.0}, \"14500.0\": {\"frequency\": 2, \"value\": 14500.0}, \"67953.0\": {\"frequency\": 3, \"value\": 67953.0}, \"6315.0\": {\"frequency\": 5, \"value\": 6315.0}, \"6318.0\": {\"frequency\": 2, \"value\": 6318.0}, \"22703.0\": {\"frequency\": 2, \"value\": 22703.0}, \"6320.0\": {\"frequency\": 5, \"value\": 6320.0}, \"6322.0\": {\"frequency\": 2, \"value\": 6322.0}, \"6324.0\": {\"frequency\": 3, \"value\": 6324.0}, \"6325.0\": {\"frequency\": 3, \"value\": 6325.0}, \"6326.0\": {\"frequency\": 2, \"value\": 6326.0}, \"6327.0\": {\"frequency\": 3, \"value\": 6327.0}, \"6332.0\": {\"frequency\": 2, \"value\": 6332.0}, \"4848.0\": {\"frequency\": 2, \"value\": 4848.0}, \"6334.0\": {\"frequency\": 2, \"value\": 6334.0}, \"6337.0\": {\"frequency\": 2, \"value\": 6337.0}, \"6345.0\": {\"frequency\": 3, \"value\": 6345.0}, \"9250.0\": {\"frequency\": 4, \"value\": 9250.0}, \"6350.0\": {\"frequency\": 17, \"value\": 6350.0}, \"40250.0\": {\"frequency\": 2, \"value\": 40250.0}, \"6353.0\": {\"frequency\": 1, \"value\": 6353.0}, \"6355.0\": {\"frequency\": 2, \"value\": 6355.0}, \"6360.0\": {\"frequency\": 20, \"value\": 6360.0}, \"6366.0\": {\"frequency\": 2, \"value\": 6366.0}, \"6369.0\": {\"frequency\": 2, \"value\": 6369.0}, \"6370.0\": {\"frequency\": 2, \"value\": 6370.0}, \"6371.0\": {\"frequency\": 4, \"value\": 6371.0}, \"14565.0\": {\"frequency\": 2, \"value\": 14565.0}, \"6375.0\": {\"frequency\": 7, \"value\": 6375.0}, \"6380.0\": {\"frequency\": 31, \"value\": 6380.0}, \"39150.0\": {\"frequency\": 1, \"value\": 39150.0}, \"6383.0\": {\"frequency\": 2, \"value\": 6383.0}, \"6384.0\": {\"frequency\": 2, \"value\": 6384.0}, \"6386.0\": {\"frequency\": 2, \"value\": 6386.0}, \"6388.0\": {\"frequency\": 1, \"value\": 6388.0}, \"6389.0\": {\"frequency\": 2, \"value\": 6389.0}, \"6390.0\": {\"frequency\": 2, \"value\": 6390.0}, \"6394.0\": {\"frequency\": 2, \"value\": 6394.0}, \"10623.0\": {\"frequency\": 2, \"value\": 10623.0}, \"6396.0\": {\"frequency\": 3, \"value\": 6396.0}, \"6398.0\": {\"frequency\": 2, \"value\": 6398.0}, \"6400.0\": {\"frequency\": 23, \"value\": 6400.0}, \"6405.0\": {\"frequency\": 4, \"value\": 6405.0}, \"14600.0\": {\"frequency\": 3, \"value\": 14600.0}, \"6413.0\": {\"frequency\": 4, \"value\": 6413.0}, \"6417.0\": {\"frequency\": 2, \"value\": 6417.0}, \"6420.0\": {\"frequency\": 7, \"value\": 6420.0}, \"6426.0\": {\"frequency\": 3, \"value\": 6426.0}, \"6435.0\": {\"frequency\": 3, \"value\": 6435.0}, \"14630.0\": {\"frequency\": 2, \"value\": 14630.0}, \"6439.0\": {\"frequency\": 2, \"value\": 6439.0}, \"6440.0\": {\"frequency\": 5, \"value\": 6440.0}, \"14633.0\": {\"frequency\": 2, \"value\": 14633.0}, \"13362.0\": {\"frequency\": 2, \"value\": 13362.0}, \"6448.0\": {\"frequency\": 2, \"value\": 6448.0}, \"12840.0\": {\"frequency\": 3, \"value\": 12840.0}, \"6450.0\": {\"frequency\": 10, \"value\": 6450.0}, \"1075.0\": {\"frequency\": 2, \"value\": 1075.0}, \"6452.0\": {\"frequency\": 2, \"value\": 6452.0}, \"14648.0\": {\"frequency\": 1, \"value\": 14648.0}, \"6460.0\": {\"frequency\": 4, \"value\": 6460.0}, \"10308.0\": {\"frequency\": 2, \"value\": 10308.0}, \"77536.0\": {\"frequency\": 2, \"value\": 77536.0}, \"1078.0\": {\"frequency\": 2, \"value\": 1078.0}, \"6474.0\": {\"frequency\": 3, \"value\": 6474.0}, \"13367.0\": {\"frequency\": 2, \"value\": 13367.0}, \"6479.0\": {\"frequency\": 2, \"value\": 6479.0}, \"6480.0\": {\"frequency\": 15, \"value\": 6480.0}, \"6481.0\": {\"frequency\": 2, \"value\": 6481.0}, \"1034.0\": {\"frequency\": 3, \"value\": 1034.0}, \"6490.0\": {\"frequency\": 2, \"value\": 6490.0}, \"21562.0\": {\"frequency\": 2, \"value\": 21562.0}, \"6495.0\": {\"frequency\": 2, \"value\": 6495.0}, \"383328.0\": {\"frequency\": 2, \"value\": 383328.0}, \"6497.0\": {\"frequency\": 2, \"value\": 6497.0}, \"6499.0\": {\"frequency\": 2, \"value\": 6499.0}, \"6500.0\": {\"frequency\": 40, \"value\": 6500.0}, \"6504.0\": {\"frequency\": 3, \"value\": 6504.0}, \"88426.0\": {\"frequency\": 3, \"value\": 88426.0}, \"6507.0\": {\"frequency\": 2, \"value\": 6507.0}, \"6508.0\": {\"frequency\": 2, \"value\": 6508.0}, \"6509.0\": {\"frequency\": 2, \"value\": 6509.0}, \"6510.0\": {\"frequency\": 2, \"value\": 6510.0}, \"6515.0\": {\"frequency\": 2, \"value\": 6515.0}, \"6516.0\": {\"frequency\": 3, \"value\": 6516.0}, \"36585.0\": {\"frequency\": 2, \"value\": 36585.0}, \"47480.0\": {\"frequency\": 9, \"value\": 47480.0}, \"5355.0\": {\"frequency\": 3, \"value\": 5355.0}, \"6527.0\": {\"frequency\": 3, \"value\": 6527.0}, \"6530.0\": {\"frequency\": 3, \"value\": 6530.0}, \"6533.0\": {\"frequency\": 2, \"value\": 6533.0}, \"6534.0\": {\"frequency\": 3, \"value\": 6534.0}, \"5185.0\": {\"frequency\": 4, \"value\": 5185.0}, \"6536.0\": {\"frequency\": 3, \"value\": 6536.0}, \"6537.0\": {\"frequency\": 2, \"value\": 6537.0}, \"14731.0\": {\"frequency\": 1, \"value\": 14731.0}, \"6540.0\": {\"frequency\": 4, \"value\": 6540.0}, \"6543.0\": {\"frequency\": 2, \"value\": 6543.0}, \"6549.0\": {\"frequency\": 2, \"value\": 6549.0}, \"6550.0\": {\"frequency\": 9, \"value\": 6550.0}, \"6551.0\": {\"frequency\": 4, \"value\": 6551.0}, \"6552.0\": {\"frequency\": 5, \"value\": 6552.0}, \"6553.0\": {\"frequency\": 2, \"value\": 6553.0}, \"6554.0\": {\"frequency\": 3, \"value\": 6554.0}, \"6555.0\": {\"frequency\": 3, \"value\": 6555.0}, \"6556.0\": {\"frequency\": 2, \"value\": 6556.0}, \"6557.0\": {\"frequency\": 2, \"value\": 6557.0}, \"6558.0\": {\"frequency\": 2, \"value\": 6558.0}, \"4408.0\": {\"frequency\": 4, \"value\": 4408.0}, \"6561.0\": {\"frequency\": 2, \"value\": 6561.0}, \"6564.0\": {\"frequency\": 1, \"value\": 6564.0}, \"6565.0\": {\"frequency\": 3, \"value\": 6565.0}, \"6566.0\": {\"frequency\": 2, \"value\": 6566.0}, \"6567.0\": {\"frequency\": 2, \"value\": 6567.0}, \"6572.0\": {\"frequency\": 2, \"value\": 6572.0}, \"5192.0\": {\"frequency\": 2, \"value\": 5192.0}, \"6583.0\": {\"frequency\": 2, \"value\": 6583.0}, \"6587.0\": {\"frequency\": 2, \"value\": 6587.0}, \"6590.0\": {\"frequency\": 2, \"value\": 6590.0}, \"6560.0\": {\"frequency\": 1, \"value\": 6560.0}, \"3220.0\": {\"frequency\": 2, \"value\": 3220.0}, \"6600.0\": {\"frequency\": 52, \"value\": 6600.0}, \"1100.0\": {\"frequency\": 2, \"value\": 1100.0}, \"6603.0\": {\"frequency\": 2, \"value\": 6603.0}, \"6604.0\": {\"frequency\": 4, \"value\": 6604.0}, \"6605.0\": {\"frequency\": 2, \"value\": 6605.0}, \"6607.0\": {\"frequency\": 2, \"value\": 6607.0}, \"14800.0\": {\"frequency\": 3, \"value\": 14800.0}, \"6612.0\": {\"frequency\": 3, \"value\": 6612.0}, \"6615.0\": {\"frequency\": 2, \"value\": 6615.0}, \"23000.0\": {\"frequency\": 2, \"value\": 23000.0}, \"14810.0\": {\"frequency\": 5, \"value\": 14810.0}, \"1103.0\": {\"frequency\": 2, \"value\": 1103.0}, \"6620.0\": {\"frequency\": 3, \"value\": 6620.0}, \"6621.0\": {\"frequency\": 2, \"value\": 6621.0}, \"6625.0\": {\"frequency\": 6, \"value\": 6625.0}, \"6628.0\": {\"frequency\": 3, \"value\": 6628.0}, \"14821.0\": {\"frequency\": 1, \"value\": 14821.0}, \"6630.0\": {\"frequency\": 3, \"value\": 6630.0}, \"14823.0\": {\"frequency\": 2, \"value\": 14823.0}, \"6634.0\": {\"frequency\": 4, \"value\": 6634.0}, \"6635.0\": {\"frequency\": 2, \"value\": 6635.0}, \"6642.0\": {\"frequency\": 2, \"value\": 6642.0}, \"6650.0\": {\"frequency\": 10, \"value\": 6650.0}, \"6651.0\": {\"frequency\": 2, \"value\": 6651.0}, \"6653.0\": {\"frequency\": 3, \"value\": 6653.0}, \"6654.0\": {\"frequency\": 4, \"value\": 6654.0}, \"6655.0\": {\"frequency\": 3, \"value\": 6655.0}, \"6656.0\": {\"frequency\": 2, \"value\": 6656.0}, \"6657.0\": {\"frequency\": 1, \"value\": 6657.0}, \"14850.0\": {\"frequency\": 5, \"value\": 14850.0}, \"6659.0\": {\"frequency\": 1, \"value\": 6659.0}, \"6660.0\": {\"frequency\": 5, \"value\": 6660.0}, \"31238.0\": {\"frequency\": 1, \"value\": 31238.0}, \"6663.0\": {\"frequency\": 2, \"value\": 6663.0}, \"6664.0\": {\"frequency\": 3, \"value\": 6664.0}, \"6666.0\": {\"frequency\": 3, \"value\": 6666.0}, \"6667.0\": {\"frequency\": 2, \"value\": 6667.0}, \"14864.0\": {\"frequency\": 1, \"value\": 14864.0}, \"6675.0\": {\"frequency\": 4, \"value\": 6675.0}, \"6677.0\": {\"frequency\": 2, \"value\": 6677.0}, \"6678.0\": {\"frequency\": 3, \"value\": 6678.0}, \"14872.0\": {\"frequency\": 1, \"value\": 14872.0}, \"13402.0\": {\"frequency\": 2, \"value\": 13402.0}, \"6687.0\": {\"frequency\": 3, \"value\": 6687.0}, \"6688.0\": {\"frequency\": 2, \"value\": 6688.0}, \"64033.0\": {\"frequency\": 2, \"value\": 64033.0}, \"1115.0\": {\"frequency\": 1, \"value\": 1115.0}, \"6695.0\": {\"frequency\": 3, \"value\": 6695.0}, \"6698.0\": {\"frequency\": 2, \"value\": 6698.0}, \"6699.0\": {\"frequency\": 2, \"value\": 6699.0}, \"6700.0\": {\"frequency\": 8, \"value\": 6700.0}, \"46173.0\": {\"frequency\": 6, \"value\": 46173.0}, \"6705.0\": {\"frequency\": 2, \"value\": 6705.0}, \"1118.0\": {\"frequency\": 2, \"value\": 1118.0}, \"39478.0\": {\"frequency\": 1, \"value\": 39478.0}, \"55867.0\": {\"frequency\": 1, \"value\": 55867.0}, \"23100.0\": {\"frequency\": 2, \"value\": 23100.0}, \"12042.0\": {\"frequency\": 3, \"value\": 12042.0}, \"6720.0\": {\"frequency\": 16, \"value\": 6720.0}, \"1120.0\": {\"frequency\": 3, \"value\": 1120.0}, \"7316.0\": {\"frequency\": 3, \"value\": 7316.0}, \"6725.0\": {\"frequency\": 2, \"value\": 6725.0}, \"6731.0\": {\"frequency\": 6, \"value\": 6731.0}, \"6732.0\": {\"frequency\": 2, \"value\": 6732.0}, \"6733.0\": {\"frequency\": 2, \"value\": 6733.0}, \"6738.0\": {\"frequency\": 4, \"value\": 6738.0}, \"6740.0\": {\"frequency\": 2, \"value\": 6740.0}, \"6743.0\": {\"frequency\": 2, \"value\": 6743.0}, \"6744.0\": {\"frequency\": 2, \"value\": 6744.0}, \"5220.0\": {\"frequency\": 4, \"value\": 5220.0}, \"12047.0\": {\"frequency\": 2, \"value\": 12047.0}, \"6750.0\": {\"frequency\": 26, \"value\": 6750.0}, \"60984.0\": {\"frequency\": 4, \"value\": 60984.0}, \"6752.0\": {\"frequency\": 3, \"value\": 6752.0}, \"4862.0\": {\"frequency\": 3, \"value\": 4862.0}, \"6755.0\": {\"frequency\": 3, \"value\": 6755.0}, \"219542.0\": {\"frequency\": 3, \"value\": 219542.0}, \"14952.0\": {\"frequency\": 1, \"value\": 14952.0}, \"6765.0\": {\"frequency\": 4, \"value\": 6765.0}, \"6766.0\": {\"frequency\": 3, \"value\": 6766.0}, \"6768.0\": {\"frequency\": 2, \"value\": 6768.0}, \"6770.0\": {\"frequency\": 3, \"value\": 6770.0}, \"6771.0\": {\"frequency\": 5, \"value\": 6771.0}, \"14782.0\": {\"frequency\": 1, \"value\": 14782.0}, \"6774.0\": {\"frequency\": 2, \"value\": 6774.0}, \"6775.0\": {\"frequency\": 5, \"value\": 6775.0}, \"6776.0\": {\"frequency\": 3, \"value\": 6776.0}, \"6780.0\": {\"frequency\": 3, \"value\": 6780.0}, \"6783.0\": {\"frequency\": 3, \"value\": 6783.0}, \"1131.0\": {\"frequency\": 4, \"value\": 1131.0}, \"6788.0\": {\"frequency\": 3, \"value\": 6788.0}, \"14984.0\": {\"frequency\": 1, \"value\": 14984.0}, \"14985.0\": {\"frequency\": 2, \"value\": 14985.0}, \"14986.0\": {\"frequency\": 2, \"value\": 14986.0}, \"6773.0\": {\"frequency\": 3, \"value\": 6773.0}, \"6800.0\": {\"frequency\": 16, \"value\": 6800.0}, \"12056.0\": {\"frequency\": 2, \"value\": 12056.0}, \"6804.0\": {\"frequency\": 2, \"value\": 6804.0}, \"6807.0\": {\"frequency\": 3, \"value\": 6807.0}, \"15000.0\": {\"frequency\": 28, \"value\": 15000.0}, \"15002.0\": {\"frequency\": 2, \"value\": 15002.0}, \"15003.0\": {\"frequency\": 2, \"value\": 15003.0}, \"203425.0\": {\"frequency\": 2, \"value\": 203425.0}, \"6818.0\": {\"frequency\": 2, \"value\": 6818.0}, \"3867.0\": {\"frequency\": 2, \"value\": 3867.0}, \"6820.0\": {\"frequency\": 6, \"value\": 6820.0}, \"2502.0\": {\"frequency\": 2, \"value\": 2502.0}, \"6824.0\": {\"frequency\": 1, \"value\": 6824.0}, \"6825.0\": {\"frequency\": 7, \"value\": 6825.0}, \"6826.0\": {\"frequency\": 2, \"value\": 6826.0}, \"6828.0\": {\"frequency\": 2, \"value\": 6828.0}, \"15021.0\": {\"frequency\": 1, \"value\": 15021.0}, \"15022.0\": {\"frequency\": 4, \"value\": 15022.0}, \"6833.0\": {\"frequency\": 2, \"value\": 6833.0}, \"15029.0\": {\"frequency\": 2, \"value\": 15029.0}, \"6838.0\": {\"frequency\": 2, \"value\": 6838.0}, \"6840.0\": {\"frequency\": 11, \"value\": 6840.0}, \"6845.0\": {\"frequency\": 2, \"value\": 6845.0}, \"6847.0\": {\"frequency\": 2, \"value\": 6847.0}, \"6848.0\": {\"frequency\": 2, \"value\": 6848.0}, \"6850.0\": {\"frequency\": 2, \"value\": 6850.0}, \"6852.0\": {\"frequency\": 1, \"value\": 6852.0}, \"13430.0\": {\"frequency\": 3, \"value\": 13430.0}, \"6854.0\": {\"frequency\": 2, \"value\": 6854.0}, \"6856.0\": {\"frequency\": 2, \"value\": 6856.0}, \"55756.0\": {\"frequency\": 2, \"value\": 55756.0}, \"15050.0\": {\"frequency\": 2, \"value\": 15050.0}, \"6860.0\": {\"frequency\": 2, \"value\": 6860.0}, \"6862.0\": {\"frequency\": 2, \"value\": 6862.0}, \"6865.0\": {\"frequency\": 2, \"value\": 6865.0}, \"6867.0\": {\"frequency\": 3, \"value\": 6867.0}, \"6871.0\": {\"frequency\": 2, \"value\": 6871.0}, \"6872.0\": {\"frequency\": 2, \"value\": 6872.0}, \"6874.0\": {\"frequency\": 4, \"value\": 6874.0}, \"6875.0\": {\"frequency\": 6, \"value\": 6875.0}, \"5283.0\": {\"frequency\": 2, \"value\": 5283.0}, \"218235.0\": {\"frequency\": 2, \"value\": 218235.0}, \"6887.0\": {\"frequency\": 2, \"value\": 6887.0}, \"31465.0\": {\"frequency\": 1, \"value\": 31465.0}, \"6890.0\": {\"frequency\": 2, \"value\": 6890.0}, \"15084.0\": {\"frequency\": 2, \"value\": 15084.0}, \"15085.0\": {\"frequency\": 1, \"value\": 15085.0}, \"6895.0\": {\"frequency\": 2, \"value\": 6895.0}, \"6896.0\": {\"frequency\": 2, \"value\": 6896.0}, \"6900.0\": {\"frequency\": 18, \"value\": 6900.0}, \"6902.0\": {\"frequency\": 2, \"value\": 6902.0}, \"6903.0\": {\"frequency\": 2, \"value\": 6903.0}, \"6906.0\": {\"frequency\": 4, \"value\": 6906.0}, \"6908.0\": {\"frequency\": 3, \"value\": 6908.0}, \"6909.0\": {\"frequency\": 2, \"value\": 6909.0}, \"6911.0\": {\"frequency\": 2, \"value\": 6911.0}, \"39683.0\": {\"frequency\": 1, \"value\": 39683.0}, \"6921.0\": {\"frequency\": 1, \"value\": 6921.0}, \"6923.0\": {\"frequency\": 2, \"value\": 6923.0}, \"6924.0\": {\"frequency\": 2, \"value\": 6924.0}, \"13288.0\": {\"frequency\": 2, \"value\": 13288.0}, \"15120.0\": {\"frequency\": 4, \"value\": 15120.0}, \"6930.0\": {\"frequency\": 9, \"value\": 6930.0}, \"6936.0\": {\"frequency\": 1, \"value\": 6936.0}, \"50308.0\": {\"frequency\": 1, \"value\": 50308.0}, \"6947.0\": {\"frequency\": 4, \"value\": 6947.0}, \"15143.0\": {\"frequency\": 2, \"value\": 15143.0}, \"9351.0\": {\"frequency\": 1, \"value\": 9351.0}, \"47916.0\": {\"frequency\": 4, \"value\": 47916.0}, \"6957.0\": {\"frequency\": 1, \"value\": 6957.0}, \"15151.0\": {\"frequency\": 2, \"value\": 15151.0}, \"6960.0\": {\"frequency\": 5, \"value\": 6960.0}, \"9779.0\": {\"frequency\": 3, \"value\": 9779.0}, \"6967.0\": {\"frequency\": 3, \"value\": 6967.0}, \"6969.0\": {\"frequency\": 5, \"value\": 6969.0}, \"6970.0\": {\"frequency\": 2, \"value\": 6970.0}, \"13450.0\": {\"frequency\": 2, \"value\": 13450.0}, \"6975.0\": {\"frequency\": 4, \"value\": 6975.0}, \"6978.0\": {\"frequency\": 4, \"value\": 6978.0}, \"6980.0\": {\"frequency\": 2, \"value\": 6980.0}, \"6983.0\": {\"frequency\": 2, \"value\": 6983.0}, \"6984.0\": {\"frequency\": 2, \"value\": 6984.0}, \"6985.0\": {\"frequency\": 3, \"value\": 6985.0}, \"219978.0\": {\"frequency\": 4, \"value\": 219978.0}, \"6988.0\": {\"frequency\": 3, \"value\": 6988.0}, \"6992.0\": {\"frequency\": 2, \"value\": 6992.0}, \"6994.0\": {\"frequency\": 2, \"value\": 6994.0}, \"15188.0\": {\"frequency\": 2, \"value\": 15188.0}, \"7000.0\": {\"frequency\": 76, \"value\": 7000.0}, \"7004.0\": {\"frequency\": 3, \"value\": 7004.0}, \"7005.0\": {\"frequency\": 2, \"value\": 7005.0}, \"7007.0\": {\"frequency\": 3, \"value\": 7007.0}, \"15200.0\": {\"frequency\": 3, \"value\": 15200.0}, \"9360.0\": {\"frequency\": 9, \"value\": 9360.0}, \"12091.0\": {\"frequency\": 2, \"value\": 12091.0}, \"7014.0\": {\"frequency\": 3, \"value\": 7014.0}, \"7015.0\": {\"frequency\": 4, \"value\": 7015.0}, \"23400.0\": {\"frequency\": 3, \"value\": 23400.0}, \"12092.0\": {\"frequency\": 4, \"value\": 12092.0}, \"15210.0\": {\"frequency\": 3, \"value\": 15210.0}, \"7020.0\": {\"frequency\": 12, \"value\": 7020.0}, \"13600.0\": {\"frequency\": 3, \"value\": 13600.0}, \"7024.0\": {\"frequency\": 2, \"value\": 7024.0}, \"97138.0\": {\"frequency\": 2, \"value\": 97138.0}, \"7029.0\": {\"frequency\": 2, \"value\": 7029.0}, \"7030.0\": {\"frequency\": 5, \"value\": 7030.0}, \"7633.0\": {\"frequency\": 2, \"value\": 7633.0}, \"7034.0\": {\"frequency\": 2, \"value\": 7034.0}, \"7035.0\": {\"frequency\": 4, \"value\": 7035.0}, \"7040.0\": {\"frequency\": 4, \"value\": 7040.0}, \"15235.0\": {\"frequency\": 1, \"value\": 15235.0}, \"7047.0\": {\"frequency\": 2, \"value\": 7047.0}, \"7048.0\": {\"frequency\": 2, \"value\": 7048.0}, \"7050.0\": {\"frequency\": 3, \"value\": 7050.0}, \"7051.0\": {\"frequency\": 2, \"value\": 7051.0}, \"7054.0\": {\"frequency\": 2, \"value\": 7054.0}, \"7055.0\": {\"frequency\": 2, \"value\": 7055.0}, \"7056.0\": {\"frequency\": 4, \"value\": 7056.0}, \"15250.0\": {\"frequency\": 2, \"value\": 15250.0}, \"7062.0\": {\"frequency\": 3, \"value\": 7062.0}, \"7064.0\": {\"frequency\": 2, \"value\": 7064.0}, \"15258.0\": {\"frequency\": 2, \"value\": 15258.0}, \"7068.0\": {\"frequency\": 2, \"value\": 7068.0}, \"7069.0\": {\"frequency\": 2, \"value\": 7069.0}, \"7070.0\": {\"frequency\": 2, \"value\": 7070.0}, \"7071.0\": {\"frequency\": 2, \"value\": 7071.0}, \"15264.0\": {\"frequency\": 2, \"value\": 15264.0}, \"7076.0\": {\"frequency\": 3, \"value\": 7076.0}, \"7080.0\": {\"frequency\": 7, \"value\": 7080.0}, \"7081.0\": {\"frequency\": 4, \"value\": 7081.0}, \"7084.0\": {\"frequency\": 2, \"value\": 7084.0}, \"7085.0\": {\"frequency\": 3, \"value\": 7085.0}, \"2868.0\": {\"frequency\": 2, \"value\": 2868.0}, \"7089.0\": {\"frequency\": 2, \"value\": 7089.0}, \"7091.0\": {\"frequency\": 2, \"value\": 7091.0}, \"9374.0\": {\"frequency\": 4, \"value\": 9374.0}, \"7095.0\": {\"frequency\": 3, \"value\": 7095.0}, \"1600.0\": {\"frequency\": 2, \"value\": 1600.0}, \"7098.0\": {\"frequency\": 2, \"value\": 7098.0}, \"7100.0\": {\"frequency\": 6, \"value\": 7100.0}, \"7102.0\": {\"frequency\": 6, \"value\": 7102.0}, \"23488.0\": {\"frequency\": 1, \"value\": 23488.0}, \"7107.0\": {\"frequency\": 2, \"value\": 7107.0}, \"7108.0\": {\"frequency\": 2, \"value\": 7108.0}, \"80837.0\": {\"frequency\": 1, \"value\": 80837.0}, \"7110.0\": {\"frequency\": 7, \"value\": 7110.0}, \"7111.0\": {\"frequency\": 3, \"value\": 7111.0}, \"7112.0\": {\"frequency\": 3, \"value\": 7112.0}, \"7115.0\": {\"frequency\": 1, \"value\": 7115.0}, \"7119.0\": {\"frequency\": 2, \"value\": 7119.0}, \"7120.0\": {\"frequency\": 5, \"value\": 7120.0}, \"2552.0\": {\"frequency\": 3, \"value\": 2552.0}, \"7123.0\": {\"frequency\": 2, \"value\": 7123.0}, \"10330.0\": {\"frequency\": 3, \"value\": 10330.0}, \"7125.0\": {\"frequency\": 9, \"value\": 7125.0}, \"7128.0\": {\"frequency\": 6, \"value\": 7128.0}, \"7129.0\": {\"frequency\": 2, \"value\": 7129.0}, \"7130.0\": {\"frequency\": 2, \"value\": 7130.0}, \"7131.0\": {\"frequency\": 2, \"value\": 7131.0}, \"7134.0\": {\"frequency\": 3, \"value\": 7134.0}, \"7135.0\": {\"frequency\": 1, \"value\": 7135.0}, \"7136.0\": {\"frequency\": 2, \"value\": 7136.0}, \"7137.0\": {\"frequency\": 2, \"value\": 7137.0}, \"23522.0\": {\"frequency\": 4, \"value\": 23522.0}, \"7140.0\": {\"frequency\": 19, \"value\": 7140.0}, \"10866.0\": {\"frequency\": 2, \"value\": 10866.0}, \"213008.0\": {\"frequency\": 6, \"value\": 213008.0}, \"7145.0\": {\"frequency\": 2, \"value\": 7145.0}, \"7149.0\": {\"frequency\": 2, \"value\": 7149.0}, \"7150.0\": {\"frequency\": 9, \"value\": 7150.0}, \"7153.0\": {\"frequency\": 3, \"value\": 7153.0}, \"15347.0\": {\"frequency\": 1, \"value\": 15347.0}, \"7156.0\": {\"frequency\": 2, \"value\": 7156.0}, \"15349.0\": {\"frequency\": 1, \"value\": 15349.0}, \"9385.0\": {\"frequency\": 2, \"value\": 9385.0}, \"7161.0\": {\"frequency\": 2, \"value\": 7161.0}, \"7163.0\": {\"frequency\": 3, \"value\": 7163.0}, \"15360.0\": {\"frequency\": 2, \"value\": 15360.0}, \"10752.0\": {\"frequency\": 2, \"value\": 10752.0}, \"7171.0\": {\"frequency\": 3, \"value\": 7171.0}, \"7172.0\": {\"frequency\": 2, \"value\": 7172.0}, \"7173.0\": {\"frequency\": 3, \"value\": 7173.0}, \"15367.0\": {\"frequency\": 2, \"value\": 15367.0}, \"7178.0\": {\"frequency\": 2, \"value\": 7178.0}, \"32700.0\": {\"frequency\": 3, \"value\": 32700.0}, \"6658.0\": {\"frequency\": 2, \"value\": 6658.0}, \"15375.0\": {\"frequency\": 4, \"value\": 15375.0}, \"23568.0\": {\"frequency\": 1, \"value\": 23568.0}, \"435600.0\": {\"frequency\": 6, \"value\": 435600.0}, \"7187.0\": {\"frequency\": 7, \"value\": 7187.0}, \"7191.0\": {\"frequency\": 3, \"value\": 7191.0}, \"7192.0\": {\"frequency\": 2, \"value\": 7192.0}, \"7194.0\": {\"frequency\": 7, \"value\": 7194.0}, \"7197.0\": {\"frequency\": 2, \"value\": 7197.0}, \"7198.0\": {\"frequency\": 4, \"value\": 7198.0}, \"7199.0\": {\"frequency\": 7, \"value\": 7199.0}, \"7200.0\": {\"frequency\": 220, \"value\": 7200.0}, \"7201.0\": {\"frequency\": 8, \"value\": 7201.0}, \"7202.0\": {\"frequency\": 6, \"value\": 7202.0}, \"7203.0\": {\"frequency\": 7, \"value\": 7203.0}, \"7204.0\": {\"frequency\": 4, \"value\": 7204.0}, \"7205.0\": {\"frequency\": 6, \"value\": 7205.0}, \"7207.0\": {\"frequency\": 5, \"value\": 7207.0}, \"7208.0\": {\"frequency\": 8, \"value\": 7208.0}, \"72745.0\": {\"frequency\": 1, \"value\": 72745.0}, \"7210.0\": {\"frequency\": 38, \"value\": 7210.0}, \"7213.0\": {\"frequency\": 2, \"value\": 7213.0}, \"7214.0\": {\"frequency\": 3, \"value\": 7214.0}, \"12125.0\": {\"frequency\": 1, \"value\": 12125.0}, \"7216.0\": {\"frequency\": 5, \"value\": 7216.0}, \"7218.0\": {\"frequency\": 2, \"value\": 7218.0}, \"15411.0\": {\"frequency\": 2, \"value\": 15411.0}, \"7220.0\": {\"frequency\": 5, \"value\": 7220.0}, \"7221.0\": {\"frequency\": 4, \"value\": 7221.0}, \"7222.0\": {\"frequency\": 2, \"value\": 7222.0}, \"7223.0\": {\"frequency\": 2, \"value\": 7223.0}, \"7224.0\": {\"frequency\": 2, \"value\": 7224.0}, \"7225.0\": {\"frequency\": 7, \"value\": 7225.0}, \"7226.0\": {\"frequency\": 3, \"value\": 7226.0}, \"7227.0\": {\"frequency\": 3, \"value\": 7227.0}, \"15420.0\": {\"frequency\": 1, \"value\": 15420.0}, \"7229.0\": {\"frequency\": 3, \"value\": 7229.0}, \"7230.0\": {\"frequency\": 5, \"value\": 7230.0}, \"7231.0\": {\"frequency\": 3, \"value\": 7231.0}, \"7232.0\": {\"frequency\": 7, \"value\": 7232.0}, \"7236.0\": {\"frequency\": 5, \"value\": 7236.0}, \"7238.0\": {\"frequency\": 2, \"value\": 7238.0}, \"23625.0\": {\"frequency\": 1, \"value\": 23625.0}, \"7242.0\": {\"frequency\": 7, \"value\": 7242.0}, \"7245.0\": {\"frequency\": 17, \"value\": 7245.0}, \"7246.0\": {\"frequency\": 2, \"value\": 7246.0}, \"7247.0\": {\"frequency\": 2, \"value\": 7247.0}, \"13496.0\": {\"frequency\": 1, \"value\": 13496.0}, \"7250.0\": {\"frequency\": 14, \"value\": 7250.0}, \"7251.0\": {\"frequency\": 4, \"value\": 7251.0}, \"7252.0\": {\"frequency\": 3, \"value\": 7252.0}, \"7253.0\": {\"frequency\": 1, \"value\": 7253.0}, \"7254.0\": {\"frequency\": 3, \"value\": 7254.0}, \"7258.0\": {\"frequency\": 3, \"value\": 7258.0}, \"7260.0\": {\"frequency\": 17, \"value\": 7260.0}, \"7261.0\": {\"frequency\": 2, \"value\": 7261.0}, \"7264.0\": {\"frequency\": 4, \"value\": 7264.0}, \"7265.0\": {\"frequency\": 2, \"value\": 7265.0}, \"7266.0\": {\"frequency\": 3, \"value\": 7266.0}, \"7267.0\": {\"frequency\": 2, \"value\": 7267.0}, \"7268.0\": {\"frequency\": 3, \"value\": 7268.0}, \"210830.0\": {\"frequency\": 2, \"value\": 210830.0}, \"7272.0\": {\"frequency\": 2, \"value\": 7272.0}, \"7274.0\": {\"frequency\": 2, \"value\": 7274.0}, \"7275.0\": {\"frequency\": 6, \"value\": 7275.0}, \"7276.0\": {\"frequency\": 5, \"value\": 7276.0}, \"7277.0\": {\"frequency\": 3, \"value\": 7277.0}, \"7279.0\": {\"frequency\": 2, \"value\": 7279.0}, \"7280.0\": {\"frequency\": 17, \"value\": 7280.0}, \"10608.0\": {\"frequency\": 2, \"value\": 10608.0}, \"7282.0\": {\"frequency\": 3, \"value\": 7282.0}, \"7286.0\": {\"frequency\": 1, \"value\": 7286.0}, \"7287.0\": {\"frequency\": 2, \"value\": 7287.0}, \"15480.0\": {\"frequency\": 2, \"value\": 15480.0}, \"7290.0\": {\"frequency\": 5, \"value\": 7290.0}, \"7291.0\": {\"frequency\": 2, \"value\": 7291.0}, \"7292.0\": {\"frequency\": 5, \"value\": 7292.0}, \"81021.0\": {\"frequency\": 4, \"value\": 81021.0}, \"87120.0\": {\"frequency\": 3, \"value\": 87120.0}, \"23680.0\": {\"frequency\": 1, \"value\": 23680.0}, \"7297.0\": {\"frequency\": 2, \"value\": 7297.0}, \"7300.0\": {\"frequency\": 16, \"value\": 7300.0}, \"7302.0\": {\"frequency\": 1, \"value\": 7302.0}, \"7303.0\": {\"frequency\": 3, \"value\": 7303.0}, \"7304.0\": {\"frequency\": 2, \"value\": 7304.0}, \"7306.0\": {\"frequency\": 2, \"value\": 7306.0}, \"7307.0\": {\"frequency\": 2, \"value\": 7307.0}, \"7308.0\": {\"frequency\": 2, \"value\": 7308.0}, \"7309.0\": {\"frequency\": 2, \"value\": 7309.0}, \"7311.0\": {\"frequency\": 2, \"value\": 7311.0}, \"7312.0\": {\"frequency\": 4, \"value\": 7312.0}, \"7313.0\": {\"frequency\": 5, \"value\": 7313.0}, \"7314.0\": {\"frequency\": 9, \"value\": 7314.0}, \"7315.0\": {\"frequency\": 2, \"value\": 7315.0}, \"15508.0\": {\"frequency\": 2, \"value\": 15508.0}, \"7318.0\": {\"frequency\": 2, \"value\": 7318.0}, \"7320.0\": {\"frequency\": 11, \"value\": 7320.0}, \"7324.0\": {\"frequency\": 3, \"value\": 7324.0}, \"7326.0\": {\"frequency\": 2, \"value\": 7326.0}, \"15520.0\": {\"frequency\": 2, \"value\": 15520.0}, \"40097.0\": {\"frequency\": 1, \"value\": 40097.0}, \"7330.0\": {\"frequency\": 2, \"value\": 7330.0}, \"7331.0\": {\"frequency\": 1, \"value\": 7331.0}, \"7332.0\": {\"frequency\": 2, \"value\": 7332.0}, \"1222.0\": {\"frequency\": 3, \"value\": 1222.0}, \"7334.0\": {\"frequency\": 4, \"value\": 7334.0}, \"8049.0\": {\"frequency\": 4, \"value\": 8049.0}, \"7336.0\": {\"frequency\": 3, \"value\": 7336.0}, \"212137.0\": {\"frequency\": 3, \"value\": 212137.0}, \"7338.0\": {\"frequency\": 2, \"value\": 7338.0}, \"7341.0\": {\"frequency\": 2, \"value\": 7341.0}, \"6685.0\": {\"frequency\": 6, \"value\": 6685.0}, \"7344.0\": {\"frequency\": 7, \"value\": 7344.0}, \"7345.0\": {\"frequency\": 5, \"value\": 7345.0}, \"7347.0\": {\"frequency\": 2, \"value\": 7347.0}, \"15540.0\": {\"frequency\": 3, \"value\": 15540.0}, \"7349.0\": {\"frequency\": 2, \"value\": 7349.0}, \"122038.0\": {\"frequency\": 1, \"value\": 122038.0}, \"7352.0\": {\"frequency\": 2, \"value\": 7352.0}, \"7355.0\": {\"frequency\": 2, \"value\": 7355.0}, \"7360.0\": {\"frequency\": 2, \"value\": 7360.0}, \"7361.0\": {\"frequency\": 2, \"value\": 7361.0}, \"13515.0\": {\"frequency\": 3, \"value\": 13515.0}, \"7364.0\": {\"frequency\": 2, \"value\": 7364.0}, \"1228.0\": {\"frequency\": 2, \"value\": 1228.0}, \"7370.0\": {\"frequency\": 5, \"value\": 7370.0}, \"40139.0\": {\"frequency\": 1, \"value\": 40139.0}, \"7372.0\": {\"frequency\": 3, \"value\": 7372.0}, \"7373.0\": {\"frequency\": 2, \"value\": 7373.0}, \"7375.0\": {\"frequency\": 3, \"value\": 7375.0}, \"89298.0\": {\"frequency\": 4, \"value\": 89298.0}, \"7379.0\": {\"frequency\": 2, \"value\": 7379.0}, \"7380.0\": {\"frequency\": 5, \"value\": 7380.0}, \"8057.0\": {\"frequency\": 2, \"value\": 8057.0}, \"7384.0\": {\"frequency\": 5, \"value\": 7384.0}, \"7386.0\": {\"frequency\": 2, \"value\": 7386.0}, \"7388.0\": {\"frequency\": 2, \"value\": 7388.0}, \"7389.0\": {\"frequency\": 3, \"value\": 7389.0}, \"48351.0\": {\"frequency\": 5, \"value\": 48351.0}, \"7392.0\": {\"frequency\": 4, \"value\": 7392.0}, \"7394.0\": {\"frequency\": 1, \"value\": 7394.0}, \"7399.0\": {\"frequency\": 3, \"value\": 7399.0}, \"7400.0\": {\"frequency\": 16, \"value\": 7400.0}, \"15593.0\": {\"frequency\": 2, \"value\": 15593.0}, \"7403.0\": {\"frequency\": 3, \"value\": 7403.0}, \"7405.0\": {\"frequency\": 3, \"value\": 7405.0}, \"7066.0\": {\"frequency\": 3, \"value\": 7066.0}, \"15600.0\": {\"frequency\": 10, \"value\": 15600.0}, \"43560.0\": {\"frequency\": 21, \"value\": 43560.0}, \"7410.0\": {\"frequency\": 8, \"value\": 7410.0}, \"1235.0\": {\"frequency\": 2, \"value\": 1235.0}, \"7412.0\": {\"frequency\": 6, \"value\": 7412.0}, \"7414.0\": {\"frequency\": 3, \"value\": 7414.0}, \"7415.0\": {\"frequency\": 4, \"value\": 7415.0}, \"7416.0\": {\"frequency\": 7, \"value\": 7416.0}, \"7417.0\": {\"frequency\": 4, \"value\": 7417.0}, \"7419.0\": {\"frequency\": 4, \"value\": 7419.0}, \"7420.0\": {\"frequency\": 9, \"value\": 7420.0}, \"7423.0\": {\"frequency\": 2, \"value\": 7423.0}, \"7424.0\": {\"frequency\": 2, \"value\": 7424.0}, \"7425.0\": {\"frequency\": 3, \"value\": 7425.0}, \"7426.0\": {\"frequency\": 1, \"value\": 7426.0}, \"1238.0\": {\"frequency\": 2, \"value\": 1238.0}, \"40202.0\": {\"frequency\": 1, \"value\": 40202.0}, \"7435.0\": {\"frequency\": 2, \"value\": 7435.0}, \"114562.0\": {\"frequency\": 1, \"value\": 114562.0}, \"7439.0\": {\"frequency\": 4, \"value\": 7439.0}, \"7440.0\": {\"frequency\": 14, \"value\": 7440.0}, \"7442.0\": {\"frequency\": 1, \"value\": 7442.0}, \"7447.0\": {\"frequency\": 3, \"value\": 7447.0}, \"15641.0\": {\"frequency\": 3, \"value\": 15641.0}, \"7450.0\": {\"frequency\": 3, \"value\": 7450.0}, \"7452.0\": {\"frequency\": 2, \"value\": 7452.0}, \"5338.0\": {\"frequency\": 3, \"value\": 5338.0}, \"7455.0\": {\"frequency\": 5, \"value\": 7455.0}, \"7460.0\": {\"frequency\": 2, \"value\": 7460.0}, \"15653.0\": {\"frequency\": 2, \"value\": 15653.0}, \"7465.0\": {\"frequency\": 3, \"value\": 7465.0}, \"7467.0\": {\"frequency\": 3, \"value\": 7467.0}, \"7469.0\": {\"frequency\": 1, \"value\": 7469.0}, \"7470.0\": {\"frequency\": 3, \"value\": 7470.0}, \"7742.0\": {\"frequency\": 5, \"value\": 7742.0}, \"7473.0\": {\"frequency\": 3, \"value\": 7473.0}, \"7475.0\": {\"frequency\": 10, \"value\": 7475.0}, \"7476.0\": {\"frequency\": 2, \"value\": 7476.0}, \"7479.0\": {\"frequency\": 2, \"value\": 7479.0}, \"7480.0\": {\"frequency\": 11, \"value\": 7480.0}, \"17707.0\": {\"frequency\": 2, \"value\": 17707.0}, \"7482.0\": {\"frequency\": 5, \"value\": 7482.0}, \"7484.0\": {\"frequency\": 2, \"value\": 7484.0}, \"7485.0\": {\"frequency\": 2, \"value\": 7485.0}, \"7486.0\": {\"frequency\": 2, \"value\": 7486.0}, \"7488.0\": {\"frequency\": 4, \"value\": 7488.0}, \"15681.0\": {\"frequency\": 2, \"value\": 15681.0}, \"7490.0\": {\"frequency\": 7, \"value\": 7490.0}, \"7491.0\": {\"frequency\": 3, \"value\": 7491.0}, \"7492.0\": {\"frequency\": 2, \"value\": 7492.0}, \"6710.0\": {\"frequency\": 6, \"value\": 6710.0}, \"7494.0\": {\"frequency\": 2, \"value\": 7494.0}, \"7495.0\": {\"frequency\": 2, \"value\": 7495.0}, \"7500.0\": {\"frequency\": 119, \"value\": 7500.0}, \"7503.0\": {\"frequency\": 2, \"value\": 7503.0}, \"7504.0\": {\"frequency\": 1, \"value\": 7504.0}, \"7505.0\": {\"frequency\": 2, \"value\": 7505.0}, \"7506.0\": {\"frequency\": 2, \"value\": 7506.0}, \"7508.0\": {\"frequency\": 4, \"value\": 7508.0}, \"7510.0\": {\"frequency\": 3, \"value\": 7510.0}, \"23899.0\": {\"frequency\": 1, \"value\": 23899.0}, \"7517.0\": {\"frequency\": 2, \"value\": 7517.0}, \"7519.0\": {\"frequency\": 3, \"value\": 7519.0}, \"7520.0\": {\"frequency\": 5, \"value\": 7520.0}, \"7521.0\": {\"frequency\": 2, \"value\": 7521.0}, \"7524.0\": {\"frequency\": 1, \"value\": 7524.0}, \"7526.0\": {\"frequency\": 4, \"value\": 7526.0}, \"7532.0\": {\"frequency\": 2, \"value\": 7532.0}, \"32109.0\": {\"frequency\": 2, \"value\": 32109.0}, \"6717.0\": {\"frequency\": 2, \"value\": 6717.0}, \"1256.0\": {\"frequency\": 3, \"value\": 1256.0}, \"7538.0\": {\"frequency\": 3, \"value\": 7538.0}, \"3987.0\": {\"frequency\": 1, \"value\": 3987.0}, \"7540.0\": {\"frequency\": 6, \"value\": 7540.0}, \"7541.0\": {\"frequency\": 1, \"value\": 7541.0}, \"7543.0\": {\"frequency\": 2, \"value\": 7543.0}, \"105850.0\": {\"frequency\": 2, \"value\": 105850.0}, \"7549.0\": {\"frequency\": 2, \"value\": 7549.0}, \"7550.0\": {\"frequency\": 2, \"value\": 7550.0}, \"40319.0\": {\"frequency\": 1, \"value\": 40319.0}, \"7552.0\": {\"frequency\": 5, \"value\": 7552.0}, \"7553.0\": {\"frequency\": 2, \"value\": 7553.0}, \"7555.0\": {\"frequency\": 3, \"value\": 7555.0}, \"15750.0\": {\"frequency\": 2, \"value\": 15750.0}, \"7559.0\": {\"frequency\": 1, \"value\": 7559.0}, \"7560.0\": {\"frequency\": 48, \"value\": 7560.0}, \"7561.0\": {\"frequency\": 2, \"value\": 7561.0}, \"7562.0\": {\"frequency\": 1, \"value\": 7562.0}, \"7565.0\": {\"frequency\": 2, \"value\": 7565.0}, \"7566.0\": {\"frequency\": 4, \"value\": 7566.0}, \"7567.0\": {\"frequency\": 2, \"value\": 7567.0}, \"7569.0\": {\"frequency\": 2, \"value\": 7569.0}, \"7570.0\": {\"frequency\": 2, \"value\": 7570.0}, \"7571.0\": {\"frequency\": 1, \"value\": 7571.0}, \"7573.0\": {\"frequency\": 3, \"value\": 7573.0}, \"7575.0\": {\"frequency\": 9, \"value\": 7575.0}, \"15770.0\": {\"frequency\": 1, \"value\": 15770.0}, \"7579.0\": {\"frequency\": 1, \"value\": 7579.0}, \"7582.0\": {\"frequency\": 2, \"value\": 7582.0}, \"7584.0\": {\"frequency\": 2, \"value\": 7584.0}, \"7585.0\": {\"frequency\": 2, \"value\": 7585.0}, \"7587.0\": {\"frequency\": 2, \"value\": 7587.0}, \"7589.0\": {\"frequency\": 3, \"value\": 7589.0}, \"7590.0\": {\"frequency\": 8, \"value\": 7590.0}, \"15783.0\": {\"frequency\": 2, \"value\": 15783.0}, \"15788.0\": {\"frequency\": 2, \"value\": 15788.0}, \"7598.0\": {\"frequency\": 3, \"value\": 7598.0}, \"7599.0\": {\"frequency\": 4, \"value\": 7599.0}, \"7600.0\": {\"frequency\": 12, \"value\": 7600.0}, \"23985.0\": {\"frequency\": 1, \"value\": 23985.0}, \"7605.0\": {\"frequency\": 3, \"value\": 7605.0}, \"15798.0\": {\"frequency\": 1, \"value\": 15798.0}, \"7607.0\": {\"frequency\": 2, \"value\": 7607.0}, \"7609.0\": {\"frequency\": 3, \"value\": 7609.0}, \"7610.0\": {\"frequency\": 2, \"value\": 7610.0}, \"8164.0\": {\"frequency\": 4, \"value\": 8164.0}, \"7614.0\": {\"frequency\": 2, \"value\": 7614.0}, \"7615.0\": {\"frequency\": 4, \"value\": 7615.0}, \"7616.0\": {\"frequency\": 2, \"value\": 7616.0}, \"155073.0\": {\"frequency\": 1, \"value\": 155073.0}, \"7620.0\": {\"frequency\": 30, \"value\": 7620.0}, \"7623.0\": {\"frequency\": 2, \"value\": 7623.0}, \"9216.0\": {\"frequency\": 3, \"value\": 9216.0}, \"7625.0\": {\"frequency\": 3, \"value\": 7625.0}, \"7626.0\": {\"frequency\": 2, \"value\": 7626.0}, \"8098.0\": {\"frequency\": 2, \"value\": 8098.0}, \"7630.0\": {\"frequency\": 4, \"value\": 7630.0}, \"14925.0\": {\"frequency\": 2, \"value\": 14925.0}, \"7632.0\": {\"frequency\": 5, \"value\": 7632.0}, \"5368.0\": {\"frequency\": 2, \"value\": 5368.0}, \"7634.0\": {\"frequency\": 3, \"value\": 7634.0}, \"7636.0\": {\"frequency\": 3, \"value\": 7636.0}, \"7639.0\": {\"frequency\": 2, \"value\": 7639.0}, \"7641.0\": {\"frequency\": 3, \"value\": 7641.0}, \"7642.0\": {\"frequency\": 4, \"value\": 7642.0}, \"7644.0\": {\"frequency\": 3, \"value\": 7644.0}, \"7645.0\": {\"frequency\": 2, \"value\": 7645.0}, \"12197.0\": {\"frequency\": 2, \"value\": 12197.0}, \"7649.0\": {\"frequency\": 2, \"value\": 7649.0}, \"7650.0\": {\"frequency\": 23, \"value\": 7650.0}, \"1275.0\": {\"frequency\": 3, \"value\": 1275.0}, \"1276.0\": {\"frequency\": 3, \"value\": 1276.0}, \"7658.0\": {\"frequency\": 2, \"value\": 7658.0}, \"4007.0\": {\"frequency\": 2, \"value\": 4007.0}, \"7660.0\": {\"frequency\": 3, \"value\": 7660.0}, \"65005.0\": {\"frequency\": 1, \"value\": 65005.0}, \"32239.0\": {\"frequency\": 1, \"value\": 32239.0}, \"7665.0\": {\"frequency\": 6, \"value\": 7665.0}, \"7667.0\": {\"frequency\": 4, \"value\": 7667.0}, \"7668.0\": {\"frequency\": 2, \"value\": 7668.0}, \"7669.0\": {\"frequency\": 1, \"value\": 7669.0}, \"40438.0\": {\"frequency\": 1, \"value\": 40438.0}, \"7673.0\": {\"frequency\": 2, \"value\": 7673.0}, \"1279.0\": {\"frequency\": 4, \"value\": 1279.0}, \"7679.0\": {\"frequency\": 3, \"value\": 7679.0}, \"7680.0\": {\"frequency\": 27, \"value\": 7680.0}, \"9472.0\": {\"frequency\": 2, \"value\": 9472.0}, \"7683.0\": {\"frequency\": 3, \"value\": 7683.0}, \"7684.0\": {\"frequency\": 2, \"value\": 7684.0}, \"24069.0\": {\"frequency\": 1, \"value\": 24069.0}, \"7686.0\": {\"frequency\": 5, \"value\": 7686.0}, \"1281.0\": {\"frequency\": 4, \"value\": 1281.0}, \"7688.0\": {\"frequency\": 2, \"value\": 7688.0}, \"8108.0\": {\"frequency\": 2, \"value\": 8108.0}, \"7690.0\": {\"frequency\": 3, \"value\": 7690.0}, \"7693.0\": {\"frequency\": 3, \"value\": 7693.0}, \"7694.0\": {\"frequency\": 4, \"value\": 7694.0}, \"7695.0\": {\"frequency\": 2, \"value\": 7695.0}, \"7697.0\": {\"frequency\": 4, \"value\": 7697.0}, \"7698.0\": {\"frequency\": 2, \"value\": 7698.0}, \"7700.0\": {\"frequency\": 66, \"value\": 7700.0}, \"7701.0\": {\"frequency\": 3, \"value\": 7701.0}, \"7702.0\": {\"frequency\": 2, \"value\": 7702.0}, \"8008.0\": {\"frequency\": 2, \"value\": 8008.0}, \"40259.0\": {\"frequency\": 1, \"value\": 40259.0}, \"7708.0\": {\"frequency\": 3, \"value\": 7708.0}, \"7710.0\": {\"frequency\": 3, \"value\": 7710.0}, \"169448.0\": {\"frequency\": 2, \"value\": 169448.0}, \"7712.0\": {\"frequency\": 2, \"value\": 7712.0}, \"7713.0\": {\"frequency\": 2, \"value\": 7713.0}, \"7716.0\": {\"frequency\": 2, \"value\": 7716.0}, \"7719.0\": {\"frequency\": 2, \"value\": 7719.0}, \"7720.0\": {\"frequency\": 2, \"value\": 7720.0}, \"7722.0\": {\"frequency\": 2, \"value\": 7722.0}, \"3218.0\": {\"frequency\": 2, \"value\": 3218.0}, \"7724.0\": {\"frequency\": 2, \"value\": 7724.0}, \"7725.0\": {\"frequency\": 9, \"value\": 7725.0}, \"7727.0\": {\"frequency\": 2, \"value\": 7727.0}, \"7728.0\": {\"frequency\": 2, \"value\": 7728.0}, \"7730.0\": {\"frequency\": 3, \"value\": 7730.0}, \"7733.0\": {\"frequency\": 3, \"value\": 7733.0}, \"7735.0\": {\"frequency\": 6, \"value\": 7735.0}, \"7737.0\": {\"frequency\": 2, \"value\": 7737.0}, \"7738.0\": {\"frequency\": 3, \"value\": 7738.0}, \"7739.0\": {\"frequency\": 2, \"value\": 7739.0}, \"7740.0\": {\"frequency\": 16, \"value\": 7740.0}, \"7741.0\": {\"frequency\": 2, \"value\": 7741.0}, \"40510.0\": {\"frequency\": 2, \"value\": 40510.0}, \"7350.0\": {\"frequency\": 64, \"value\": 7350.0}, \"7745.0\": {\"frequency\": 1, \"value\": 7745.0}, \"7746.0\": {\"frequency\": 2, \"value\": 7746.0}, \"7749.0\": {\"frequency\": 3, \"value\": 7749.0}, \"40518.0\": {\"frequency\": 1, \"value\": 40518.0}, \"6753.0\": {\"frequency\": 1, \"value\": 6753.0}, \"7752.0\": {\"frequency\": 2, \"value\": 7752.0}, \"7753.0\": {\"frequency\": 2, \"value\": 7753.0}, \"7754.0\": {\"frequency\": 3, \"value\": 7754.0}, \"7755.0\": {\"frequency\": 2, \"value\": 7755.0}, \"7757.0\": {\"frequency\": 4, \"value\": 7757.0}, \"7759.0\": {\"frequency\": 2, \"value\": 7759.0}, \"7760.0\": {\"frequency\": 2, \"value\": 7760.0}, \"15954.0\": {\"frequency\": 1, \"value\": 15954.0}, \"7763.0\": {\"frequency\": 1, \"value\": 7763.0}, \"1294.0\": {\"frequency\": 2, \"value\": 1294.0}, \"7770.0\": {\"frequency\": 9, \"value\": 7770.0}, \"9487.0\": {\"frequency\": 1, \"value\": 9487.0}, \"7772.0\": {\"frequency\": 2, \"value\": 7772.0}, \"7775.0\": {\"frequency\": 3, \"value\": 7775.0}, \"1296.0\": {\"frequency\": 3, \"value\": 1296.0}, \"7778.0\": {\"frequency\": 3, \"value\": 7778.0}, \"7780.0\": {\"frequency\": 1, \"value\": 7780.0}, \"7781.0\": {\"frequency\": 2, \"value\": 7781.0}, \"12220.0\": {\"frequency\": 3, \"value\": 12220.0}, \"171626.0\": {\"frequency\": 1, \"value\": 171626.0}, \"7787.0\": {\"frequency\": 1, \"value\": 7787.0}, \"7790.0\": {\"frequency\": 2, \"value\": 7790.0}, \"6760.0\": {\"frequency\": 4, \"value\": 6760.0}, \"7794.0\": {\"frequency\": 2, \"value\": 7794.0}, \"7797.0\": {\"frequency\": 2, \"value\": 7797.0}, \"7798.0\": {\"frequency\": 2, \"value\": 7798.0}, \"7800.0\": {\"frequency\": 69, \"value\": 7800.0}, \"24186.0\": {\"frequency\": 1, \"value\": 24186.0}, \"7803.0\": {\"frequency\": 3, \"value\": 7803.0}, \"7806.0\": {\"frequency\": 2, \"value\": 7806.0}, \"7807.0\": {\"frequency\": 5, \"value\": 7807.0}, \"16000.0\": {\"frequency\": 14, \"value\": 16000.0}, \"7809.0\": {\"frequency\": 1, \"value\": 7809.0}, \"7810.0\": {\"frequency\": 5, \"value\": 7810.0}, \"7811.0\": {\"frequency\": 2, \"value\": 7811.0}, \"5200.0\": {\"frequency\": 64, \"value\": 5200.0}, \"5398.0\": {\"frequency\": 3, \"value\": 5398.0}, \"7819.0\": {\"frequency\": 3, \"value\": 7819.0}, \"7820.0\": {\"frequency\": 3, \"value\": 7820.0}, \"81549.0\": {\"frequency\": 1, \"value\": 81549.0}, \"16015.0\": {\"frequency\": 3, \"value\": 16015.0}, \"5400.0\": {\"frequency\": 54, \"value\": 5400.0}, \"7826.0\": {\"frequency\": 3, \"value\": 7826.0}, \"48787.0\": {\"frequency\": 5, \"value\": 48787.0}, \"16020.0\": {\"frequency\": 2, \"value\": 16020.0}, \"7830.0\": {\"frequency\": 5, \"value\": 7830.0}, \"7832.0\": {\"frequency\": 2, \"value\": 7832.0}, \"7834.0\": {\"frequency\": 1, \"value\": 7834.0}, \"11172.0\": {\"frequency\": 2, \"value\": 11172.0}, \"7838.0\": {\"frequency\": 4, \"value\": 7838.0}, \"7840.0\": {\"frequency\": 7, \"value\": 7840.0}, \"7845.0\": {\"frequency\": 2, \"value\": 7845.0}, \"7848.0\": {\"frequency\": 2, \"value\": 7848.0}, \"7850.0\": {\"frequency\": 5, \"value\": 7850.0}, \"7851.0\": {\"frequency\": 2, \"value\": 7851.0}, \"7853.0\": {\"frequency\": 2, \"value\": 7853.0}, \"7854.0\": {\"frequency\": 5, \"value\": 7854.0}, \"7857.0\": {\"frequency\": 4, \"value\": 7857.0}, \"16050.0\": {\"frequency\": 3, \"value\": 16050.0}, \"7859.0\": {\"frequency\": 2, \"value\": 7859.0}, \"7860.0\": {\"frequency\": 3, \"value\": 7860.0}, \"7861.0\": {\"frequency\": 3, \"value\": 7861.0}, \"7862.0\": {\"frequency\": 2, \"value\": 7862.0}, \"7863.0\": {\"frequency\": 2, \"value\": 7863.0}, \"7865.0\": {\"frequency\": 2, \"value\": 7865.0}, \"7866.0\": {\"frequency\": 2, \"value\": 7866.0}, \"40635.0\": {\"frequency\": 1, \"value\": 40635.0}, \"7870.0\": {\"frequency\": 2, \"value\": 7870.0}, \"72309.0\": {\"frequency\": 3, \"value\": 72309.0}, \"16065.0\": {\"frequency\": 2, \"value\": 16065.0}, \"7875.0\": {\"frequency\": 19, \"value\": 7875.0}, \"7876.0\": {\"frequency\": 2, \"value\": 7876.0}, \"7877.0\": {\"frequency\": 3, \"value\": 7877.0}, \"7880.0\": {\"frequency\": 2, \"value\": 7880.0}, \"7881.0\": {\"frequency\": 2, \"value\": 7881.0}, \"7884.0\": {\"frequency\": 3, \"value\": 7884.0}, \"7885.0\": {\"frequency\": 2, \"value\": 7885.0}, \"16080.0\": {\"frequency\": 1, \"value\": 16080.0}, \"5411.0\": {\"frequency\": 1, \"value\": 5411.0}, \"7896.0\": {\"frequency\": 2, \"value\": 7896.0}, \"7897.0\": {\"frequency\": 3, \"value\": 7897.0}, \"7898.0\": {\"frequency\": 1, \"value\": 7898.0}, \"7900.0\": {\"frequency\": 8, \"value\": 7900.0}, \"7902.0\": {\"frequency\": 3, \"value\": 7902.0}, \"7903.0\": {\"frequency\": 2, \"value\": 7903.0}, \"7904.0\": {\"frequency\": 7, \"value\": 7904.0}, \"7906.0\": {\"frequency\": 2, \"value\": 7906.0}, \"7910.0\": {\"frequency\": 6, \"value\": 7910.0}, \"57063.0\": {\"frequency\": 6, \"value\": 57063.0}, \"7912.0\": {\"frequency\": 4, \"value\": 7912.0}, \"16105.0\": {\"frequency\": 1, \"value\": 16105.0}, \"7916.0\": {\"frequency\": 3, \"value\": 7916.0}, \"7920.0\": {\"frequency\": 25, \"value\": 7920.0}, \"9512.0\": {\"frequency\": 2, \"value\": 9512.0}, \"7923.0\": {\"frequency\": 2, \"value\": 7923.0}, \"7924.0\": {\"frequency\": 2, \"value\": 7924.0}, \"16117.0\": {\"frequency\": 4, \"value\": 16117.0}, \"7928.0\": {\"frequency\": 2, \"value\": 7928.0}, \"7930.0\": {\"frequency\": 9, \"value\": 7930.0}, \"7931.0\": {\"frequency\": 2, \"value\": 7931.0}, \"7936.0\": {\"frequency\": 6, \"value\": 7936.0}, \"2688.0\": {\"frequency\": 2, \"value\": 2688.0}, \"7939.0\": {\"frequency\": 1, \"value\": 7939.0}, \"7941.0\": {\"frequency\": 2, \"value\": 7941.0}, \"7942.0\": {\"frequency\": 2, \"value\": 7942.0}, \"7944.0\": {\"frequency\": 2, \"value\": 7944.0}, \"7945.0\": {\"frequency\": 3, \"value\": 7945.0}, \"7947.0\": {\"frequency\": 3, \"value\": 7947.0}, \"7950.0\": {\"frequency\": 8, \"value\": 7950.0}, \"9517.0\": {\"frequency\": 2, \"value\": 9517.0}, \"7952.0\": {\"frequency\": 2, \"value\": 7952.0}, \"7953.0\": {\"frequency\": 3, \"value\": 7953.0}, \"7955.0\": {\"frequency\": 2, \"value\": 7955.0}, \"7956.0\": {\"frequency\": 2, \"value\": 7956.0}, \"7957.0\": {\"frequency\": 4, \"value\": 7957.0}, \"7958.0\": {\"frequency\": 3, \"value\": 7958.0}, \"39000.0\": {\"frequency\": 2, \"value\": 39000.0}, \"7961.0\": {\"frequency\": 2, \"value\": 7961.0}, \"7964.0\": {\"frequency\": 2, \"value\": 7964.0}, \"7965.0\": {\"frequency\": 4, \"value\": 7965.0}, \"7969.0\": {\"frequency\": 3, \"value\": 7969.0}, \"7972.0\": {\"frequency\": 2, \"value\": 7972.0}, \"7973.0\": {\"frequency\": 2, \"value\": 7973.0}, \"7975.0\": {\"frequency\": 3, \"value\": 7975.0}, \"4060.0\": {\"frequency\": 4, \"value\": 4060.0}, \"16171.0\": {\"frequency\": 1, \"value\": 16171.0}, \"7980.0\": {\"frequency\": 18, \"value\": 7980.0}, \"7982.0\": {\"frequency\": 2, \"value\": 7982.0}, \"7984.0\": {\"frequency\": 2, \"value\": 7984.0}, \"7986.0\": {\"frequency\": 2, \"value\": 7986.0}, \"9523.0\": {\"frequency\": 2, \"value\": 9523.0}, \"7989.0\": {\"frequency\": 2, \"value\": 7989.0}, \"7991.0\": {\"frequency\": 2, \"value\": 7991.0}, \"7992.0\": {\"frequency\": 5, \"value\": 7992.0}, \"7995.0\": {\"frequency\": 3, \"value\": 7995.0}, \"65340.0\": {\"frequency\": 6, \"value\": 65340.0}, \"7998.0\": {\"frequency\": 2, \"value\": 7998.0}, \"1333.0\": {\"frequency\": 2, \"value\": 1333.0}, \"8000.0\": {\"frequency\": 76, \"value\": 8000.0}, \"8001.0\": {\"frequency\": 3, \"value\": 8001.0}, \"8004.0\": {\"frequency\": 3, \"value\": 8004.0}, \"8005.0\": {\"frequency\": 3, \"value\": 8005.0}, \"4065.0\": {\"frequency\": 2, \"value\": 4065.0}, \"16200.0\": {\"frequency\": 17, \"value\": 16200.0}, \"8009.0\": {\"frequency\": 2, \"value\": 8009.0}, \"8010.0\": {\"frequency\": 2, \"value\": 8010.0}, \"8162.0\": {\"frequency\": 3, \"value\": 8162.0}, \"8015.0\": {\"frequency\": 2, \"value\": 8015.0}, \"1178.0\": {\"frequency\": 2, \"value\": 1178.0}, \"8018.0\": {\"frequency\": 2, \"value\": 8018.0}, \"8019.0\": {\"frequency\": 2, \"value\": 8019.0}, \"8022.0\": {\"frequency\": 3, \"value\": 8022.0}, \"8025.0\": {\"frequency\": 3, \"value\": 8025.0}, \"237402.0\": {\"frequency\": 2, \"value\": 237402.0}, \"8027.0\": {\"frequency\": 2, \"value\": 8027.0}, \"8028.0\": {\"frequency\": 2, \"value\": 8028.0}, \"8029.0\": {\"frequency\": 2, \"value\": 8029.0}, \"8030.0\": {\"frequency\": 5, \"value\": 8030.0}, \"81893.0\": {\"frequency\": 2, \"value\": 81893.0}, \"8034.0\": {\"frequency\": 3, \"value\": 8034.0}, \"1339.0\": {\"frequency\": 2, \"value\": 1339.0}, \"8036.0\": {\"frequency\": 4, \"value\": 8036.0}, \"8040.0\": {\"frequency\": 15, \"value\": 8040.0}, \"8043.0\": {\"frequency\": 2, \"value\": 8043.0}, \"45004.0\": {\"frequency\": 1, \"value\": 45004.0}, \"8048.0\": {\"frequency\": 2, \"value\": 8048.0}, \"39639.0\": {\"frequency\": 3, \"value\": 39639.0}, \"8050.0\": {\"frequency\": 16, \"value\": 8050.0}, \"13630.0\": {\"frequency\": 2, \"value\": 13630.0}, \"8055.0\": {\"frequency\": 2, \"value\": 8055.0}, \"8056.0\": {\"frequency\": 3, \"value\": 8056.0}, \"32633.0\": {\"frequency\": 1, \"value\": 32633.0}, \"8058.0\": {\"frequency\": 4, \"value\": 8058.0}, \"9535.0\": {\"frequency\": 2, \"value\": 9535.0}, \"8060.0\": {\"frequency\": 4, \"value\": 8060.0}, \"8170.0\": {\"frequency\": 3, \"value\": 8170.0}, \"8062.0\": {\"frequency\": 2, \"value\": 8062.0}, \"8063.0\": {\"frequency\": 3, \"value\": 8063.0}, \"73600.0\": {\"frequency\": 1, \"value\": 73600.0}, \"8065.0\": {\"frequency\": 4, \"value\": 8065.0}, \"262018.0\": {\"frequency\": 1, \"value\": 262018.0}, \"8067.0\": {\"frequency\": 2, \"value\": 8067.0}, \"8072.0\": {\"frequency\": 2, \"value\": 8072.0}, \"8073.0\": {\"frequency\": 3, \"value\": 8073.0}, \"8075.0\": {\"frequency\": 6, \"value\": 8075.0}, \"8076.0\": {\"frequency\": 4, \"value\": 8076.0}, \"8078.0\": {\"frequency\": 2, \"value\": 8078.0}, \"8080.0\": {\"frequency\": 1, \"value\": 8080.0}, \"16275.0\": {\"frequency\": 1, \"value\": 16275.0}, \"8085.0\": {\"frequency\": 3, \"value\": 8085.0}, \"8086.0\": {\"frequency\": 4, \"value\": 8086.0}, \"8088.0\": {\"frequency\": 2, \"value\": 8088.0}, \"1348.0\": {\"frequency\": 3, \"value\": 1348.0}, \"32666.0\": {\"frequency\": 1, \"value\": 32666.0}, \"4079.0\": {\"frequency\": 2, \"value\": 4079.0}, \"8092.0\": {\"frequency\": 2, \"value\": 8092.0}, \"8093.0\": {\"frequency\": 3, \"value\": 8093.0}, \"32670.0\": {\"frequency\": 2, \"value\": 32670.0}, \"8095.0\": {\"frequency\": 3, \"value\": 8095.0}, \"8097.0\": {\"frequency\": 2, \"value\": 8097.0}, \"16290.0\": {\"frequency\": 1, \"value\": 16290.0}, \"6811.0\": {\"frequency\": 2, \"value\": 6811.0}, \"8100.0\": {\"frequency\": 72, \"value\": 8100.0}, \"1350.0\": {\"frequency\": 6, \"value\": 1350.0}, \"8102.0\": {\"frequency\": 5, \"value\": 8102.0}, \"8106.0\": {\"frequency\": 1, \"value\": 8106.0}, \"8107.0\": {\"frequency\": 2, \"value\": 8107.0}, \"16300.0\": {\"frequency\": 3, \"value\": 16300.0}, \"8111.0\": {\"frequency\": 3, \"value\": 8111.0}, \"8112.0\": {\"frequency\": 2, \"value\": 8112.0}, \"8113.0\": {\"frequency\": 3, \"value\": 8113.0}, \"8114.0\": {\"frequency\": 5, \"value\": 8114.0}, \"8116.0\": {\"frequency\": 4, \"value\": 8116.0}, \"8117.0\": {\"frequency\": 2, \"value\": 8117.0}, \"8118.0\": {\"frequency\": 3, \"value\": 8118.0}, \"8119.0\": {\"frequency\": 4, \"value\": 8119.0}, \"8120.0\": {\"frequency\": 6, \"value\": 8120.0}, \"8180.0\": {\"frequency\": 2, \"value\": 8180.0}, \"8122.0\": {\"frequency\": 2, \"value\": 8122.0}, \"8124.0\": {\"frequency\": 2, \"value\": 8124.0}, \"8125.0\": {\"frequency\": 9, \"value\": 8125.0}, \"8126.0\": {\"frequency\": 3, \"value\": 8126.0}, \"8127.0\": {\"frequency\": 2, \"value\": 8127.0}, \"8130.0\": {\"frequency\": 3, \"value\": 8130.0}, \"8131.0\": {\"frequency\": 2, \"value\": 8131.0}, \"8134.0\": {\"frequency\": 2, \"value\": 8134.0}, \"8136.0\": {\"frequency\": 4, \"value\": 8136.0}, \"8137.0\": {\"frequency\": 2, \"value\": 8137.0}, \"8138.0\": {\"frequency\": 2, \"value\": 8138.0}, \"3817.0\": {\"frequency\": 2, \"value\": 3817.0}, \"8140.0\": {\"frequency\": 6, \"value\": 8140.0}, \"8142.0\": {\"frequency\": 3, \"value\": 8142.0}, \"1357.0\": {\"frequency\": 2, \"value\": 1357.0}, \"8144.0\": {\"frequency\": 2, \"value\": 8144.0}, \"8145.0\": {\"frequency\": 3, \"value\": 8145.0}, \"8147.0\": {\"frequency\": 4, \"value\": 8147.0}, \"8148.0\": {\"frequency\": 3, \"value\": 8148.0}, \"8149.0\": {\"frequency\": 6, \"value\": 8149.0}, \"8150.0\": {\"frequency\": 2, \"value\": 8150.0}, \"8151.0\": {\"frequency\": 2, \"value\": 8151.0}, \"8153.0\": {\"frequency\": 2, \"value\": 8153.0}, \"8154.0\": {\"frequency\": 2, \"value\": 8154.0}, \"8155.0\": {\"frequency\": 3, \"value\": 8155.0}, \"8158.0\": {\"frequency\": 3, \"value\": 8158.0}, \"8159.0\": {\"frequency\": 2, \"value\": 8159.0}, \"8160.0\": {\"frequency\": 19, \"value\": 8160.0}, \"56192.0\": {\"frequency\": 4, \"value\": 56192.0}, \"8163.0\": {\"frequency\": 4, \"value\": 8163.0}, \"81892.0\": {\"frequency\": 4, \"value\": 81892.0}, \"8165.0\": {\"frequency\": 4, \"value\": 8165.0}, \"8167.0\": {\"frequency\": 2, \"value\": 8167.0}, \"8169.0\": {\"frequency\": 2, \"value\": 8169.0}, \"1080.0\": {\"frequency\": 3, \"value\": 1080.0}, \"8171.0\": {\"frequency\": 2, \"value\": 8171.0}, \"8173.0\": {\"frequency\": 3, \"value\": 8173.0}, \"8174.0\": {\"frequency\": 3, \"value\": 8174.0}, \"8175.0\": {\"frequency\": 4, \"value\": 8175.0}, \"31400.0\": {\"frequency\": 1, \"value\": 31400.0}, \"40946.0\": {\"frequency\": 4, \"value\": 40946.0}, \"8179.0\": {\"frequency\": 2, \"value\": 8179.0}, \"15330.0\": {\"frequency\": 2, \"value\": 15330.0}, \"6819.0\": {\"frequency\": 1, \"value\": 6819.0}, \"8182.0\": {\"frequency\": 3, \"value\": 8182.0}, \"12875.0\": {\"frequency\": 2, \"value\": 12875.0}, \"8184.0\": {\"frequency\": 7, \"value\": 8184.0}, \"17652.0\": {\"frequency\": 2, \"value\": 17652.0}, \"8187.0\": {\"frequency\": 3, \"value\": 8187.0}, \"8188.0\": {\"frequency\": 2, \"value\": 8188.0}, \"8190.0\": {\"frequency\": 9, \"value\": 8190.0}}, \"mean\": 15106.967565816887}}, \"selected_variable\": {\"name\": [\"<SFrame>\"], \"descriptives\": {\"rows\": 21613, \"columns\": 6}, \"view_component\": \"Summary\", \"view_file\": \"sframe\", \"view_params\": {\"y\": null, \"x\": null, \"columns\": [\"bedrooms\", \"bathrooms\", \"sqft_living\", \"sqft_lot\", \"floors\", \"zipcode\"], \"view\": null}, \"view_components\": [\"Summary\", \"Table\", \"Bar Chart\", \"BoxWhisker Plot\", \"Line Chart\", \"Scatter Plot\", \"Heat Map\", \"Plots\"], \"type\": \"SFrame\", \"columns\": [{\"dtype\": \"float\", \"name\": \"bedrooms\"}, {\"dtype\": \"float\", \"name\": \"bathrooms\"}, {\"dtype\": \"float\", \"name\": \"sqft_living\"}, {\"dtype\": \"float\", \"name\": \"sqft_lot\"}, {\"dtype\": \"float\", \"name\": \"floors\"}, {\"dtype\": \"str\", \"name\": \"zipcode\"}], \"column_identifiers\": [\"bathrooms\", \"bedrooms\", \"zipcode\", \"sqft_living\", \"floors\", \"sqft_lot\"]}, \"columns\": [{\"dtype\": \"float\", \"name\": \"bedrooms\"}, {\"dtype\": \"float\", \"name\": \"bathrooms\"}, {\"dtype\": \"float\", \"name\": \"sqft_living\"}, {\"dtype\": \"float\", \"name\": \"sqft_lot\"}, {\"dtype\": \"float\", \"name\": \"floors\"}, {\"dtype\": \"str\", \"name\": \"zipcode\"}]}, e);\n",
       "                });\n",
       "            })();\n",
       "        "
      ]
     },
     "metadata": {},
     "output_type": "display_data"
    }
   ],
   "source": [
    "sales[my_features].show()"
   ]
  },
  {
   "cell_type": "code",
   "execution_count": 43,
   "metadata": {},
   "outputs": [
    {
     "data": {
      "application/javascript": [
       "$(\"head\").append($(\"<link/>\").attr({\n",
       "  rel:  \"stylesheet\",\n",
       "  type: \"text/css\",\n",
       "  href: \"//cdnjs.cloudflare.com/ajax/libs/font-awesome/4.1.0/css/font-awesome.min.css\"\n",
       "}));\n",
       "$(\"head\").append($(\"<link/>\").attr({\n",
       "  rel:  \"stylesheet\",\n",
       "  type: \"text/css\",\n",
       "  href: \"https://static.turi.com/products/graphlab-create/2.1/canvas/css/canvas.css\"\n",
       "}));\n",
       "\n",
       "            (function(){\n",
       "\n",
       "                var e = null;\n",
       "                if (typeof element == 'undefined') {\n",
       "                    var scripts = document.getElementsByTagName('script');\n",
       "                    var thisScriptTag = scripts[scripts.length-1];\n",
       "                    var parentDiv = thisScriptTag.parentNode;\n",
       "                    e = document.createElement('div');\n",
       "                    parentDiv.appendChild(e);\n",
       "                } else {\n",
       "                    e = element[0];\n",
       "                }\n",
       "\n",
       "                if (typeof requirejs !== 'undefined') {\n",
       "                    // disable load timeout; ipython_app.js is large and can take a while to load.\n",
       "                    requirejs.config({waitSeconds: 0});\n",
       "                }\n",
       "\n",
       "                require(['https://static.turi.com/products/graphlab-create/2.1/canvas/js/ipython_app.js'], function(IPythonApp){\n",
       "                    var app = new IPythonApp();\n",
       "                    app.attachView('sframe','Plots', {\"selected_variable\": {\"name\": [\"sales\"], \"descriptives\": {\"rows\": 21613, \"columns\": 21}, \"view_component\": \"Plots\", \"view_file\": \"sframe\", \"view_params\": {\"y\": \"price\", \"x\": \"zipcode\", \"columns\": [\"id\", \"date\", \"price\", \"bedrooms\", \"bathrooms\", \"sqft_living\", \"sqft_lot\", \"floors\", \"waterfront\", \"view\", \"condition\", \"grade\", \"sqft_above\", \"sqft_basement\", \"yr_built\", \"yr_renovated\", \"zipcode\", \"lat\", \"long\", \"sqft_living15\", \"sqft_lot15\"], \"view\": \"BoxWhisker Plot\"}, \"view_components\": [\"Summary\", \"Table\", \"Bar Chart\", \"BoxWhisker Plot\", \"Line Chart\", \"Scatter Plot\", \"Heat Map\", \"Plots\"], \"type\": \"SFrame\", \"columns\": [{\"dtype\": \"str\", \"name\": \"id\"}, {\"dtype\": \"datetime\", \"name\": \"date\"}, {\"dtype\": \"float\", \"name\": \"price\"}, {\"dtype\": \"float\", \"name\": \"bedrooms\"}, {\"dtype\": \"float\", \"name\": \"bathrooms\"}, {\"dtype\": \"float\", \"name\": \"sqft_living\"}, {\"dtype\": \"float\", \"name\": \"sqft_lot\"}, {\"dtype\": \"float\", \"name\": \"floors\"}, {\"dtype\": \"int\", \"name\": \"waterfront\"}, {\"dtype\": \"int\", \"name\": \"view\"}, {\"dtype\": \"int\", \"name\": \"condition\"}, {\"dtype\": \"float\", \"name\": \"grade\"}, {\"dtype\": \"float\", \"name\": \"sqft_above\"}, {\"dtype\": \"float\", \"name\": \"sqft_basement\"}, {\"dtype\": \"float\", \"name\": \"yr_built\"}, {\"dtype\": \"float\", \"name\": \"yr_renovated\"}, {\"dtype\": \"str\", \"name\": \"zipcode\"}, {\"dtype\": \"float\", \"name\": \"lat\"}, {\"dtype\": \"float\", \"name\": \"long\"}, {\"dtype\": \"float\", \"name\": \"sqft_living15\"}, {\"dtype\": \"float\", \"name\": \"sqft_lot15\"}], \"column_identifiers\": [\"bathrooms\", \"sqft_living15\", \"sqft_above\", \"grade\", \"yr_built\", \"price\", \"bedrooms\", \"zipcode\", \"long\", \"id\", \"sqft_lot15\", \"sqft_living\", \"floors\", \"sqft_lot\", \"date\", \"waterfront\", \"sqft_basement\", \"yr_renovated\", \"lat\", \"condition\", \"view\"]}, \"complete\": 1, \"ipython\": true, \"progress\": 1.0, \"data\": {\"grouped\": [[\"98001\", [100000.0, 115000.0, 180000.0, 184000.0, 215000.0, 260000.0, 320000.0, 420000.0, 427000.0, 625000.0, 850000.0]], [\"98002\", [95000.0, 111300.0, 160000.0, 163500.0, 199950.0, 235000.0, 269000.0, 298900.0, 300000.0, 370000.0, 389000.0]], [\"98003\", [128000.0, 152500.0, 199000.0, 200000.0, 229000.0, 267950.0, 333000.0, 420000.0, 429900.0, 740000.0, 950000.0]], [\"98004\", [425000.0, 595000.0, 695000.0, 720000.0, 845000.0, 1150000.0, 1691000.0, 2150000.0, 2200000.0, 3800000.0, 7062500.0]], [\"98005\", [400000.0, 411100.0, 542500.0, 549000.0, 638700.0, 768500.0, 915000.0, 1110000.0, 1125000.0, 1900000.0, 1960000.0]], [\"98006\", [247500.0, 295000.0, 450000.0, 455000.0, 575000.0, 760369.0, 978000.0, 1380000.0, 1400000.0, 2525000.0, 4208000.0]], [\"98007\", [295000.0, 330000.0, 415500.0, 419000.0, 465000.0, 555000.0, 730000.0, 900000.0, 907500.0, 1229000.0, 1315000.0]], [\"98008\", [250000.0, 277700.0, 405000.0, 415000.0, 465000.0, 545000.0, 660000.0, 850000.0, 899000.0, 3300000.0, 3567000.0]], [\"98010\", [135000.0, 162000.0, 208500.0, 212644.0, 257000.0, 360000.0, 600000.0, 712000.0, 720000.0, 935000.0, 935000.0]], [\"98011\", [245500.0, 260000.0, 347000.0, 361000.0, 411800.0, 470000.0, 550000.0, 632000.0, 650000.0, 870000.0, 1075000.0]], [\"98014\", [80000.0, 134000.0, 167000.0, 180000.0, 309000.0, 415000.0, 539000.0, 739000.0, 755000.0, 1610000.0, 1680000.0]], [\"98019\", [119500.0, 170000.0, 289275.0, 299950.0, 330000.0, 402500.0, 500000.0, 570000.0, 570000.0, 979500.0, 1015000.0]], [\"98022\", [75000.0, 152900.0, 199990.0, 200000.0, 235000.0, 280000.0, 350000.0, 475000.0, 487000.0, 750000.0, 858000.0]], [\"98023\", [86500.0, 115000.0, 188000.0, 193000.0, 224097.0, 268450.0, 316500.0, 402500.0, 415000.0, 629000.0, 1275000.0]], [\"98024\", [142000.0, 142000.0, 258000.0, 260000.0, 340000.0, 460000.0, 700000.0, 997950.0, 1065000.0, 1862000.0, 1862000.0]], [\"98027\", [130000.0, 240000.0, 352499.0, 361000.0, 450000.0, 571000.0, 716500.0, 865000.0, 890000.0, 1800000.0, 2700000.0]], [\"98028\", [160000.0, 196000.0, 300000.0, 310000.0, 379950.0, 445000.0, 526750.0, 610000.0, 619990.0, 1120000.0, 1600000.0]], [\"98029\", [285000.0, 310000.0, 413565.0, 420000.0, 485000.0, 575000.0, 690000.0, 795000.0, 812000.0, 1450000.0, 2200000.0]], [\"98030\", [120000.0, 140000.0, 213400.0, 220000.0, 249950.0, 282510.0, 339950.0, 380000.0, 386000.0, 491000.0, 565000.0]], [\"98031\", [147500.0, 152000.0, 223000.0, 230000.0, 252000.0, 288400.0, 327500.0, 377000.0, 382500.0, 680000.0, 800000.0]], [\"98032\", [85000.0, 85000.0, 165000.0, 169000.0, 221700.0, 249000.0, 285000.0, 321000.0, 324900.0, 400000.0, 545000.0]], [\"98033\", [130000.0, 305000.0, 425000.0, 437500.0, 535000.0, 678700.0, 902000.0, 1339000.0, 1378000.0, 2650000.0, 5110800.0]], [\"98034\", [90000.0, 257000.0, 330000.0, 335000.0, 387000.0, 445950.0, 525000.0, 749950.0, 799950.0, 2125000.0, 3120000.0]], [\"98038\", [110000.0, 176000.0, 240000.0, 245000.0, 285000.0, 342000.0, 410000.0, 533000.0, 540000.0, 849000.0, 1350000.0]], [\"98039\", [787500.0, 787500.0, 940000.0, 1000000.0, 1398000.0, 1905000.0, 2575000.0, 3640900.0, 3640900.0, 6885000.0, 6885000.0]], [\"98040\", [500000.0, 550000.0, 685000.0, 698000.0, 821000.0, 994000.0, 1387000.0, 1815000.0, 1900000.0, 3850000.0, 5300000.0]], [\"98042\", [105000.0, 132825.0, 200000.0, 204000.0, 240000.0, 292500.0, 359950.0, 444900.0, 450000.0, 734000.0, 859000.0]], [\"98045\", [175000.0, 189000.0, 259000.0, 271000.0, 305000.0, 399500.0, 495000.0, 665000.0, 688000.0, 1075000.0, 1950000.0]], [\"98052\", [225000.0, 315000.0, 425000.0, 432100.0, 509250.0, 615000.0, 751000.0, 852500.0, 872750.0, 1299888.0, 2200000.0]], [\"98053\", [170000.0, 300000.0, 400000.0, 405000.0, 485000.0, 635000.0, 790500.0, 955990.0, 975000.0, 1769000.0, 2280000.0]], [\"98055\", [100000.0, 126000.0, 192000.0, 197500.0, 240000.0, 295000.0, 350000.0, 430000.0, 440000.0, 580000.0, 631000.0]], [\"98056\", [139000.0, 155000.0, 230000.0, 231500.0, 289000.0, 380000.0, 510000.0, 635000.0, 640000.0, 980000.0, 3000000.0]], [\"98058\", [95000.0, 144000.0, 225000.0, 230000.0, 285000.0, 335000.0, 392000.0, 475000.0, 485000.0, 790000.0, 1500000.0]], [\"98059\", [172500.0, 217000.0, 291375.0, 294500.0, 340000.0, 435000.0, 552500.0, 751000.0, 785000.0, 1300000.0, 1780000.0]], [\"98065\", [170000.0, 208000.0, 323000.0, 335000.0, 424950.0, 500000.0, 619000.0, 710000.0, 723000.0, 1145000.0, 1998000.0]], [\"98070\", [160000.0, 181000.0, 280000.0, 285000.0, 340000.0, 465000.0, 575000.0, 729000.0, 730000.0, 1350000.0, 1379900.0]], [\"98072\", [200000.0, 275000.0, 357823.0, 365000.0, 422800.0, 515000.0, 642860.0, 879000.0, 905000.0, 1350000.0, 1565000.0]], [\"98074\", [280000.0, 325000.0, 420000.0, 434900.0, 532000.0, 642000.0, 798000.0, 922755.0, 929000.0, 1675000.0, 3075000.0]], [\"98075\", [406430.0, 432000.0, 545000.0, 550000.0, 641000.0, 739999.0, 870000.0, 1060000.0, 1062500.0, 2000000.0, 3200000.0]], [\"98077\", [250000.0, 274975.0, 335000.0, 353000.0, 510000.0, 654950.0, 835000.0, 950000.0, 985000.0, 1820000.0, 1920000.0]], [\"98092\", [90000.0, 148226.0, 210000.0, 216000.0, 263950.0, 309780.0, 379500.0, 471275.0, 480000.0, 835000.0, 930000.0]], [\"98102\", [330000.0, 350000.0, 440000.0, 475000.0, 575000.0, 720000.0, 979700.0, 1440000.0, 1443917.0, 2479000.0, 7700000.0]], [\"98103\", [238000.0, 259250.0, 352950.0, 355000.0, 432000.0, 550000.0, 695000.0, 830000.0, 850000.0, 1350000.0, 1695000.0]], [\"98105\", [380000.0, 395000.0, 483000.0, 485000.0, 550000.0, 675000.0, 1005000.0, 1415000.0, 1482500.0, 2555000.0, 3650000.0]], [\"98106\", [90000.0, 107000.0, 208400.0, 210000.0, 260000.0, 315000.0, 366000.0, 426000.0, 435000.0, 625000.0, 795000.0]], [\"98107\", [290000.0, 356000.0, 425000.0, 430000.0, 470000.0, 529950.0, 630000.0, 752500.0, 769950.0, 1205000.0, 2945000.0]], [\"98108\", [90000.0, 130000.0, 230000.0, 230000.0, 284000.0, 345000.0, 425000.0, 491000.0, 500000.0, 635000.0, 640000.0]], [\"98109\", [216650.0, 216650.0, 478000.0, 479000.0, 620000.0, 736000.0, 1000000.0, 1450000.0, 1450000.0, 2900000.0, 3200000.0]], [\"98112\", [169317.0, 350000.0, 515000.0, 524000.0, 680000.0, 915000.0, 1328000.0, 1975000.0, 2048000.0, 3000000.0, 3400000.0]], [\"98115\", [200000.0, 289500.0, 395000.0, 399000.0, 455000.0, 567000.0, 719000.0, 897000.0, 925000.0, 1500000.0, 2300000.0]], [\"98116\", [130000.0, 252000.0, 386950.0, 390000.0, 460000.0, 565500.0, 703000.0, 930000.0, 950000.0, 1598888.0, 2050000.0]], [\"98117\", [125000.0, 280000.0, 375000.0, 390000.0, 450000.0, 544000.0, 657500.0, 825000.0, 850000.0, 1275000.0, 1370000.0]], [\"98118\", [109000.0, 155000.0, 221000.0, 226000.0, 289000.0, 367500.0, 476500.0, 665000.0, 680000.0, 1309500.0, 2903000.0]], [\"98119\", [300523.0, 365000.0, 485000.0, 490000.0, 600000.0, 749950.0, 940000.0, 1320000.0, 1330000.0, 2630000.0, 3065000.0]], [\"98122\", [202000.0, 260000.0, 375000.0, 385000.0, 450000.0, 574000.0, 720000.0, 920000.0, 925000.0, 1850000.0, 2050000.0]], [\"98125\", [175000.0, 228000.0, 303697.0, 310000.0, 357250.0, 425000.0, 518000.0, 675000.0, 689000.0, 1335000.0, 2050000.0]], [\"98126\", [110000.0, 183000.0, 250000.0, 255000.0, 320000.0, 396500.0, 485000.0, 643500.0, 661000.0, 901000.0, 1085000.0]], [\"98133\", [130000.0, 210000.0, 275000.0, 277500.0, 318000.0, 375000.0, 435000.0, 507000.0, 518000.0, 729953.0, 808100.0]], [\"98136\", [200000.0, 229050.0, 340000.0, 345000.0, 398000.0, 489950.0, 660000.0, 838000.0, 850000.0, 1662000.0, 2230000.0]], [\"98144\", [181000.0, 230000.0, 325000.0, 327000.0, 374950.0, 450000.0, 666000.0, 970000.0, 1039000.0, 2450000.0, 3600000.0]], [\"98146\", [82000.0, 104950.0, 158800.0, 175000.0, 229500.0, 307000.0, 409000.0, 605000.0, 665900.0, 1250000.0, 1410000.0]], [\"98148\", [105500.0, 105500.0, 193000.0, 193000.0, 240000.0, 278000.0, 319990.0, 375000.0, 375000.0, 600600.0, 600600.0]], [\"98155\", [153000.0, 195000.0, 267800.0, 270000.0, 315000.0, 375000.0, 460000.0, 590000.0, 600000.0, 1680000.0, 4500000.0]], [\"98166\", [100000.0, 129888.0, 220000.0, 229000.0, 292000.0, 390000.0, 540500.0, 755000.0, 770000.0, 1899000.0, 2510000.0]], [\"98168\", [78000.0, 82500.0, 150550.0, 158000.0, 199950.0, 235000.0, 285000.0, 325000.0, 327200.0, 424305.0, 600000.0]], [\"98177\", [245560.0, 276000.0, 355950.0, 367500.0, 427000.0, 554000.0, 749950.0, 1075000.0, 1200000.0, 2880500.0, 3800000.0]], [\"98178\", [90000.0, 119900.0, 180000.0, 188000.0, 223000.0, 279000.0, 350000.0, 450000.0, 460000.0, 869000.0, 1700000.0]], [\"98188\", [110000.0, 110700.0, 179000.0, 179950.0, 230000.0, 265000.0, 335000.0, 400200.0, 408000.0, 706000.0, 707000.0]], [\"98198\", [95000.0, 120000.0, 174500.0, 175000.0, 216500.0, 265000.0, 340000.0, 455000.0, 475000.0, 950000.0, 1350000.0]], [\"98199\", [323000.0, 334000.0, 419000.0, 425000.0, 535000.0, 689800.0, 950000.0, 1289000.0, 1300000.0, 2160000.0, 3200000.0]]], \"omitted\": 0}, \"columns\": [{\"dtype\": \"str\", \"name\": \"id\"}, {\"dtype\": \"datetime\", \"name\": \"date\"}, {\"dtype\": \"float\", \"name\": \"price\"}, {\"dtype\": \"float\", \"name\": \"bedrooms\"}, {\"dtype\": \"float\", \"name\": \"bathrooms\"}, {\"dtype\": \"float\", \"name\": \"sqft_living\"}, {\"dtype\": \"float\", \"name\": \"sqft_lot\"}, {\"dtype\": \"float\", \"name\": \"floors\"}, {\"dtype\": \"int\", \"name\": \"waterfront\"}, {\"dtype\": \"int\", \"name\": \"view\"}, {\"dtype\": \"int\", \"name\": \"condition\"}, {\"dtype\": \"float\", \"name\": \"grade\"}, {\"dtype\": \"float\", \"name\": \"sqft_above\"}, {\"dtype\": \"float\", \"name\": \"sqft_basement\"}, {\"dtype\": \"float\", \"name\": \"yr_built\"}, {\"dtype\": \"float\", \"name\": \"yr_renovated\"}, {\"dtype\": \"str\", \"name\": \"zipcode\"}, {\"dtype\": \"float\", \"name\": \"lat\"}, {\"dtype\": \"float\", \"name\": \"long\"}, {\"dtype\": \"float\", \"name\": \"sqft_living15\"}, {\"dtype\": \"float\", \"name\": \"sqft_lot15\"}]}, e);\n",
       "                });\n",
       "            })();\n",
       "        "
      ]
     },
     "metadata": {},
     "output_type": "display_data"
    }
   ],
   "source": [
    "sales.show(view=\"BoxWhisker Plot\", x=\"zipcode\", y=\"price\")"
   ]
  },
  {
   "cell_type": "markdown",
   "metadata": {},
   "source": [
    "# Buld a regression model with more Features"
   ]
  },
  {
   "cell_type": "code",
   "execution_count": 16,
   "metadata": {},
   "outputs": [
    {
     "data": {
      "application/javascript": [
       "$(\"head\").append($(\"<link/>\").attr({\n",
       "  rel:  \"stylesheet\",\n",
       "  type: \"text/css\",\n",
       "  href: \"//cdnjs.cloudflare.com/ajax/libs/font-awesome/4.1.0/css/font-awesome.min.css\"\n",
       "}));\n",
       "$(\"head\").append($(\"<link/>\").attr({\n",
       "  rel:  \"stylesheet\",\n",
       "  type: \"text/css\",\n",
       "  href: \"https://static.turi.com/products/graphlab-create/2.1/canvas/css/canvas.css\"\n",
       "}));\n",
       "\n",
       "            (function(){\n",
       "\n",
       "                var e = null;\n",
       "                if (typeof element == 'undefined') {\n",
       "                    var scripts = document.getElementsByTagName('script');\n",
       "                    var thisScriptTag = scripts[scripts.length-1];\n",
       "                    var parentDiv = thisScriptTag.parentNode;\n",
       "                    e = document.createElement('div');\n",
       "                    parentDiv.appendChild(e);\n",
       "                } else {\n",
       "                    e = element[0];\n",
       "                }\n",
       "\n",
       "                if (typeof requirejs !== 'undefined') {\n",
       "                    // disable load timeout; ipython_app.js is large and can take a while to load.\n",
       "                    requirejs.config({waitSeconds: 0});\n",
       "                }\n",
       "\n",
       "                require(['https://static.turi.com/products/graphlab-create/2.1/canvas/js/ipython_app.js'], function(IPythonApp){\n",
       "                    var app = new IPythonApp();\n",
       "                    app.attachView('sframe','Plots', {\"selected_variable\": {\"name\": [\"sales\"], \"descriptives\": {\"rows\": 21613, \"columns\": 21}, \"view_component\": \"Plots\", \"view_file\": \"sframe\", \"view_params\": {\"y\": \"price\", \"x\": \"bedrooms\", \"columns\": [\"id\", \"date\", \"price\", \"bedrooms\", \"bathrooms\", \"sqft_living\", \"sqft_lot\", \"floors\", \"waterfront\", \"view\", \"condition\", \"grade\", \"sqft_above\", \"sqft_basement\", \"yr_built\", \"yr_renovated\", \"zipcode\", \"lat\", \"long\", \"sqft_living15\", \"sqft_lot15\"], \"view\": \"Scatter Plot\"}, \"view_components\": [\"Summary\", \"Table\", \"Bar Chart\", \"BoxWhisker Plot\", \"Line Chart\", \"Scatter Plot\", \"Heat Map\", \"Plots\"], \"type\": \"SFrame\", \"columns\": [{\"dtype\": \"str\", \"name\": \"id\"}, {\"dtype\": \"datetime\", \"name\": \"date\"}, {\"dtype\": \"float\", \"name\": \"price\"}, {\"dtype\": \"float\", \"name\": \"bedrooms\"}, {\"dtype\": \"float\", \"name\": \"bathrooms\"}, {\"dtype\": \"float\", \"name\": \"sqft_living\"}, {\"dtype\": \"float\", \"name\": \"sqft_lot\"}, {\"dtype\": \"float\", \"name\": \"floors\"}, {\"dtype\": \"int\", \"name\": \"waterfront\"}, {\"dtype\": \"int\", \"name\": \"view\"}, {\"dtype\": \"int\", \"name\": \"condition\"}, {\"dtype\": \"float\", \"name\": \"grade\"}, {\"dtype\": \"float\", \"name\": \"sqft_above\"}, {\"dtype\": \"float\", \"name\": \"sqft_basement\"}, {\"dtype\": \"float\", \"name\": \"yr_built\"}, {\"dtype\": \"float\", \"name\": \"yr_renovated\"}, {\"dtype\": \"str\", \"name\": \"zipcode\"}, {\"dtype\": \"float\", \"name\": \"lat\"}, {\"dtype\": \"float\", \"name\": \"long\"}, {\"dtype\": \"float\", \"name\": \"sqft_living15\"}, {\"dtype\": \"float\", \"name\": \"sqft_lot15\"}], \"column_identifiers\": [\"bathrooms\", \"sqft_living15\", \"sqft_above\", \"grade\", \"yr_built\", \"price\", \"bedrooms\", \"zipcode\", \"long\", \"id\", \"sqft_lot15\", \"sqft_living\", \"floors\", \"sqft_lot\", \"date\", \"waterfront\", \"sqft_basement\", \"yr_renovated\", \"lat\", \"condition\", \"view\"]}, \"complete\": 1, \"ipython\": true, \"progress\": 1.0, \"data\": [[3.0, 390000.0], [4.0, 286285.0], [3.0, 355000.0], [3.0, 247000.0], [3.0, 450000.0], [2.0, 350000.0], [4.0, 635000.0], [5.0, 510000.0], [4.0, 874150.0], [4.0, 1250000.0], [4.0, 550000.0], [3.0, 200000.0], [3.0, 459900.0], [4.0, 523000.0], [3.0, 825000.0], [3.0, 317000.0], [1.0, 210000.0], [4.0, 349170.0], [3.0, 402000.0], [2.0, 304950.0], [2.0, 345000.0], [5.0, 491000.0], [3.0, 564000.0], [2.0, 330000.0], [4.0, 825000.0], [3.0, 735000.0], [3.0, 475000.0], [5.0, 628000.0], [3.0, 294000.0], [3.0, 429500.0], [4.0, 500000.0], [3.0, 406430.0], [4.0, 633634.0], [3.0, 375000.0], [4.0, 939000.0], [3.0, 530000.0], [5.0, 910000.0], [3.0, 260000.0], [4.0, 330000.0], [3.0, 340000.0], [3.0, 349000.0], [3.0, 260000.0], [3.0, 335000.0], [4.0, 380000.0], [3.0, 215000.0], [3.0, 368000.0], [5.0, 1255784.0], [3.0, 575000.0], [4.0, 276500.0], [3.0, 285000.0], [4.0, 1242000.0], [3.0, 346000.0], [3.0, 525000.0], [4.0, 425000.0], [4.0, 328000.0], [3.0, 635000.0], [4.0, 675000.0], [4.0, 665000.0], [5.0, 630000.0], [3.0, 420000.0], [4.0, 388000.0], [3.0, 562000.0], [3.0, 425000.0], [4.0, 453000.0], [4.0, 319000.0], [3.0, 785000.0], [4.0, 569888.0], [3.0, 260000.0], [2.0, 405000.0], [5.0, 1325000.0], [4.0, 1381000.0], [5.0, 775000.0], [5.0, 484000.0], [3.0, 299000.0], [4.0, 1388000.0], [4.0, 312500.0], [2.0, 270000.0], [3.0, 436110.0], [3.0, 410000.0], [4.0, 426950.0], [3.0, 560000.0], [4.0, 1595000.0], [5.0, 1610000.0], [3.0, 359950.0], [3.0, 358000.0], [4.0, 350000.0], [3.0, 292000.0], [3.0, 300000.0], [4.0, 409500.0], [3.0, 550000.0], [4.0, 882566.0], [4.0, 375000.0], [4.0, 888990.0], [2.0, 230000.0], [4.0, 520000.0], [5.0, 827500.0], [4.0, 387990.0], [3.0, 475000.0], [2.0, 110700.0], [3.0, 437500.0], [4.0, 562500.0], [5.0, 667000.0], [4.0, 680000.0], [3.0, 245000.0], [2.0, 469000.0], [3.0, 212000.0], [3.0, 300000.0], [5.0, 650000.0], [3.0, 629000.0], [4.0, 369950.0], [2.0, 144975.0], [2.0, 498800.0], [3.0, 555000.0], [3.0, 315000.0], [3.0, 770000.0], [4.0, 495000.0], [3.0, 256500.0], [5.0, 285000.0], [2.0, 162950.0], [2.0, 480000.0], [2.0, 649000.0], [3.0, 391500.0], [2.0, 455000.0], [2.0, 335000.0], [3.0, 375000.0], [3.0, 690000.0], [3.0, 539000.0], [5.0, 465000.0], [3.0, 525000.0], [4.0, 430000.0], [4.0, 775000.0], [4.0, 1700000.0], [3.0, 375500.0], [3.0, 600000.0], [3.0, 705640.0], [4.0, 644500.0], [5.0, 529900.0], [4.0, 731000.0], [4.0, 277950.0], [6.0, 580000.0], [4.0, 689000.0], [4.0, 771150.0], [3.0, 936000.0], [3.0, 445000.0], [2.0, 115000.0], [4.0, 790000.0], [5.0, 345600.0], [5.0, 1500000.0], [3.0, 387000.0], [4.0, 313000.0], [3.0, 475000.0], [3.0, 499100.0], [5.0, 1419000.0], [2.0, 365000.0], [3.0, 1050000.0], [3.0, 285000.0], [3.0, 190000.0], [4.0, 680000.0], [3.0, 561000.0], [5.0, 705000.0], [5.0, 540000.0], [3.0, 592000.0], [3.0, 900000.0], [4.0, 1350000.0], [2.0, 525000.0], [4.0, 833000.0], [3.0, 699000.0], [4.0, 1320000.0], [3.0, 325000.0], [3.0, 373000.0], [3.0, 468000.0], [3.0, 465000.0], [3.0, 313000.0], [3.0, 400000.0], [3.0, 415000.0], [3.0, 317000.0], [4.0, 405000.0], [2.0, 515000.0], [3.0, 1215000.0], [4.0, 355000.0], [1.0, 257500.0], [3.0, 475000.0], [3.0, 235000.0], [3.0, 279000.0], [3.0, 640000.0], [3.0, 124740.0], [4.0, 269000.0], [4.0, 656500.0], [4.0, 265000.0], [2.0, 372500.0], [5.0, 1060000.0], [5.0, 881000.0], [4.0, 810000.0], [2.0, 325000.0], [3.0, 548500.0], [3.0, 400000.0], [3.0, 335000.0], [4.0, 1000000.0], [3.0, 440000.0], [4.0, 585000.0], [4.0, 825000.0], [3.0, 297000.0], [4.0, 532500.0], [3.0, 370000.0], [5.0, 683000.0], [3.0, 385000.0], [3.0, 169000.0], [3.0, 425000.0], [4.0, 840000.0], [3.0, 265500.0], [5.0, 800000.0], [3.0, 245000.0], [5.0, 739900.0], [3.0, 465000.0], [5.0, 744500.0], [4.0, 456500.0], [5.0, 1505000.0], [4.0, 901000.0], [3.0, 516200.0], [2.0, 308500.0], [5.0, 834950.0], [2.0, 524000.0], [3.0, 266750.0], [4.0, 495000.0], [4.0, 383000.0], [3.0, 3100000.0], [2.0, 1410000.0], [3.0, 688888.0], [4.0, 1839900.0], [3.0, 538000.0], [3.0, 257000.0], [2.0, 332544.0], [3.0, 190000.0], [4.0, 345000.0], [4.0, 635000.0], [2.0, 85000.0], [3.0, 289000.0], [3.0, 475000.0], [3.0, 310000.0], [3.0, 449000.0], [4.0, 449000.0], [4.0, 450000.0], [4.0, 284000.0], [3.0, 205000.0], [3.0, 375000.0], [3.0, 350000.0], [1.0, 382888.0], [3.0, 270000.0], [1.0, 463500.0], [3.0, 924000.0], [4.0, 960000.0], [4.0, 890000.0], [3.0, 230000.0], [3.0, 994000.0], [3.0, 208000.0], [4.0, 648000.0], [3.0, 370000.0], [3.0, 785000.0], [6.0, 959000.0], [3.0, 525000.0], [3.0, 551000.0], [3.0, 330000.0], [5.0, 1315000.0], [4.0, 297500.0], [3.0, 375000.0], [4.0, 535365.0], [3.0, 205000.0], [4.0, 1590000.0], [4.0, 215000.0], [3.0, 300000.0], [6.0, 767500.0], [3.0, 488500.0], [4.0, 510000.0], [3.0, 550000.0], [3.0, 1160000.0], [3.0, 1476000.0], [4.0, 695000.0], [4.0, 212000.0], [4.0, 455000.0], [3.0, 565000.0], [3.0, 245000.0], [2.0, 170000.0], [3.0, 848000.0], [3.0, 605000.0], [4.0, 540000.0], [3.0, 738000.0], [3.0, 280017.0], [3.0, 394950.0], [3.0, 818000.0], [3.0, 615000.0], [3.0, 175000.0], [4.0, 920000.0], [4.0, 360000.0], [2.0, 110000.0], [3.0, 215000.0], [4.0, 978000.0], [3.0, 430000.0], [3.0, 239950.0], [3.0, 218000.0], [5.0, 713000.0], [4.0, 272000.0], [4.0, 435000.0], [4.0, 335000.0], [3.0, 280000.0], [2.0, 350000.0], [3.0, 725000.0], [3.0, 411000.0], [3.0, 280000.0], [3.0, 235000.0], [2.0, 411000.0], [2.0, 420000.0], [2.0, 345000.0], [2.0, 657000.0], [2.0, 352750.0], [3.0, 329500.0], [4.0, 880000.0], [2.0, 460000.0], [3.0, 390000.0], [2.0, 259950.0], [4.0, 783000.0], [3.0, 241000.0], [2.0, 235000.0], [5.0, 419354.0], [2.0, 400000.0], [4.0, 200000.0], [3.0, 275000.0], [4.0, 340000.0], [3.0, 699000.0], [3.0, 516130.0], [3.0, 623000.0], [3.0, 423500.0], [4.0, 339000.0], [4.0, 528000.0], [4.0, 334009.0], [3.0, 200000.0], [3.0, 437500.0], [3.0, 885000.0], [2.0, 340000.0], [3.0, 265000.0], [2.0, 313000.0], [4.0, 485000.0], [3.0, 245000.0], [3.0, 133400.0], [3.0, 210000.0], [5.0, 2750000.0], [5.0, 362000.0], [4.0, 260000.0], [4.0, 310000.0], [5.0, 620000.0], [4.0, 1765000.0], [4.0, 395000.0], [4.0, 670000.0], [3.0, 315000.0], [4.0, 925000.0], [5.0, 750000.0], [3.0, 1568000.0], [4.0, 2250000.0], [3.0, 200000.0], [3.0, 568000.0], [4.0, 1850000.0], [3.0, 227500.0], [3.0, 570000.0], [3.0, 265000.0], [3.0, 329000.0], [4.0, 1200000.0], [4.0, 1550000.0], [3.0, 301500.0], [4.0, 650000.0], [3.0, 415000.0], [4.0, 775000.0], [2.0, 422250.0], [4.0, 932990.0], [5.0, 372000.0], [4.0, 549900.0], [3.0, 518000.0], [5.0, 425000.0], [3.0, 331000.0], [4.0, 470000.0], [4.0, 595000.0], [4.0, 525000.0], [3.0, 485000.0], [3.0, 481000.0], [3.0, 375000.0], [2.0, 280000.0], [4.0, 958000.0], [3.0, 115000.0], [4.0, 510000.0], [4.0, 1015000.0], [2.0, 481000.0], [4.0, 725000.0], [2.0, 150000.0], [2.0, 375000.0], [4.0, 517000.0], [4.0, 2575000.0], [3.0, 671500.0], [3.0, 700000.0], [2.0, 600000.0], [3.0, 250000.0], [3.0, 378750.0], [4.0, 269900.0], [5.0, 360000.0], [3.0, 465000.0], [4.0, 1275000.0], [3.0, 195000.0], [3.0, 450000.0], [4.0, 295000.0], [5.0, 1180000.0], [4.0, 515000.0], [2.0, 438200.0], [3.0, 402000.0], [3.0, 232500.0], [3.0, 246000.0], [4.0, 630000.0], [4.0, 430000.0], [3.0, 265000.0], [4.0, 758000.0], [4.0, 785000.0], [4.0, 541100.0], [3.0, 390000.0], [4.0, 899000.0], [5.0, 480000.0], [4.0, 620000.0], [3.0, 515000.0], [2.0, 400000.0], [4.0, 665000.0], [2.0, 241000.0], [4.0, 1185000.0], [3.0, 300000.0], [5.0, 425000.0], [6.0, 410000.0], [3.0, 209950.0], [2.0, 193000.0], [3.0, 440000.0], [3.0, 237000.0], [3.0, 355500.0], [3.0, 489000.0], [4.0, 754999.0], [2.0, 350000.0], [5.0, 395000.0], [3.0, 418000.0], [3.0, 585000.0], [3.0, 210000.0], [3.0, 375000.0], [3.0, 440000.0], [3.0, 205000.0], [3.0, 252000.0], [4.0, 521000.0], [4.0, 461000.0], [3.0, 410000.0], [4.0, 392000.0], [3.0, 365000.0], [2.0, 245000.0], [4.0, 739000.0], [3.0, 475000.0], [3.0, 481500.0], [3.0, 423000.0], [5.0, 1080000.0], [3.0, 595000.0], [3.0, 577000.0], [2.0, 218500.0], [3.0, 560000.0], [3.0, 329950.0], [2.0, 580000.0], [2.0, 575000.0], [3.0, 778000.0], [4.0, 1195000.0], [3.0, 550000.0], [4.0, 325000.0], [2.0, 450000.0], [3.0, 342500.0], [3.0, 385000.0], [3.0, 1085000.0], [3.0, 330000.0], [4.0, 320000.0], [4.0, 680000.0], [4.0, 602000.0], [3.0, 370000.0], [4.0, 215000.0], [5.0, 269900.0], [3.0, 660000.0], [3.0, 408474.0], [2.0, 260600.0], [5.0, 480000.0], [4.0, 265000.0], [4.0, 1385000.0], [4.0, 825000.0], [3.0, 760000.0], [4.0, 682000.0], [2.0, 215000.0], [3.0, 374000.0], [3.0, 365000.0], [4.0, 319950.0], [3.0, 430000.0], [3.0, 550000.0], [3.0, 475000.0], [3.0, 339990.0], [2.0, 494000.0], [4.0, 1750000.0], [3.0, 812000.0], [3.0, 510000.0], [4.0, 1035000.0], [4.0, 499000.0], [3.0, 400000.0], [4.0, 1197354.0], [3.0, 375000.0], [4.0, 980000.0], [2.0, 399000.0], [3.0, 373000.0], [4.0, 275000.0], [3.0, 1355000.0], [3.0, 249950.0], [2.0, 170000.0], [5.0, 585000.0], [3.0, 280000.0], [3.0, 1187500.0], [4.0, 949000.0], [3.0, 503000.0], [6.0, 610000.0], [3.0, 225000.0], [3.0, 192950.0], [4.0, 402500.0], [4.0, 381000.0], [5.0, 515000.0], [5.0, 1490000.0], [4.0, 1060000.0], [3.0, 430100.0], [4.0, 650000.0], [6.0, 1600000.0], [1.0, 235000.0], [3.0, 400000.0], [4.0, 1800000.0], [3.0, 951000.0], [3.0, 184000.0], [3.0, 441000.0], [5.0, 441000.0], [2.0, 245000.0], [2.0, 389000.0], [3.0, 700000.0], [3.0, 235500.0], [2.0, 535000.0], [2.0, 410000.0], [4.0, 1105000.0], [4.0, 870000.0], [3.0, 435000.0], [4.0, 784500.0], [4.0, 459000.0], [4.0, 324950.0], [4.0, 491500.0], [4.0, 1135000.0], [5.0, 534950.0], [3.0, 156000.0], [3.0, 550000.0], [3.0, 275000.0], [3.0, 589410.0], [3.0, 245000.0], [3.0, 264500.0], [4.0, 759900.0], [2.0, 250000.0], [3.0, 590000.0], [2.0, 299800.0], [4.0, 435000.0], [3.0, 510000.0], [2.0, 600000.0], [4.0, 740000.0], [4.0, 795000.0], [3.0, 435000.0], [2.0, 549900.0], [2.0, 455000.0], [5.0, 322968.0], [2.0, 554000.0], [2.0, 290000.0], [4.0, 281000.0], [4.0, 1468000.0], [3.0, 540000.0], [1.0, 299000.0], [3.0, 375000.0], [3.0, 609000.0], [2.0, 329000.0], [3.0, 412000.0], [3.0, 275000.0], [2.0, 540000.0], [3.0, 865000.0], [3.0, 261500.0], [3.0, 394000.0], [3.0, 425000.0], [2.0, 299000.0], [4.0, 760000.0], [4.0, 289000.0], [5.0, 330000.0], [3.0, 154000.0], [3.0, 374990.0], [3.0, 349000.0], [4.0, 425000.0], [5.0, 497500.0], [4.0, 715000.0], [2.0, 500000.0], [2.0, 826000.0], [3.0, 299950.0], [2.0, 332000.0], [3.0, 432100.0], [2.0, 507000.0], [1.0, 95000.0], [4.0, 397950.0], [3.0, 520000.0], [4.0, 750000.0], [3.0, 424000.0], [3.0, 606400.0], [2.0, 484000.0], [3.0, 455000.0], [4.0, 395000.0], [3.0, 560000.0], [4.0, 435000.0], [3.0, 352950.0], [3.0, 445000.0], [4.0, 439950.0], [3.0, 609950.0], [2.0, 370000.0], [4.0, 700000.0], [4.0, 294400.0], [2.0, 559000.0], [3.0, 526500.0], [5.0, 375000.0], [3.0, 361000.0], [4.0, 3000000.0], [4.0, 560000.0], [3.0, 193000.0], [3.0, 420000.0], [3.0, 415000.0], [3.0, 377000.0], [3.0, 235000.0], [5.0, 210000.0], [3.0, 150000.0], [3.0, 343000.0], [2.0, 285950.0], [2.0, 212000.0], [4.0, 625000.0], [4.0, 465000.0], [3.0, 335000.0], [3.0, 250000.0], [3.0, 1120000.0], [2.0, 378000.0], [2.0, 503000.0], [5.0, 750500.0], [4.0, 457000.0], [4.0, 410000.0], [3.0, 295000.0], [4.0, 711777.0], [3.0, 240000.0], [3.0, 629500.0], [3.0, 260000.0], [3.0, 305495.0], [4.0, 537500.0], [4.0, 1285000.0], [4.0, 1425000.0], [3.0, 640000.0], [3.0, 625000.0], [3.0, 324950.0], [3.0, 235000.0], [4.0, 650000.0], [3.0, 550000.0], [2.0, 325000.0], [3.0, 675000.0], [4.0, 445000.0], [3.0, 370000.0], [3.0, 280000.0], [4.0, 685000.0], [3.0, 1575000.0], [3.0, 450000.0], [4.0, 287000.0], [3.0, 482500.0], [4.0, 362950.0], [4.0, 1400000.0], [4.0, 430000.0], [4.0, 679000.0], [3.0, 399950.0], [3.0, 501000.0], [4.0, 725000.0], [2.0, 355000.0], [3.0, 329950.0], [6.0, 1125000.0], [3.0, 509990.0], [4.0, 277000.0], [3.0, 625000.0], [3.0, 390000.0], [4.0, 645000.0], [4.0, 1325000.0], [4.0, 262000.0], [2.0, 422500.0], [3.0, 442500.0], [3.0, 271920.0], [4.0, 320000.0], [3.0, 315000.0], [3.0, 240000.0], [4.0, 975000.0], [4.0, 690000.0], [4.0, 520000.0], [4.0, 261000.0], [2.0, 324950.0], [3.0, 600000.0], [4.0, 325000.0], [3.0, 415000.0], [4.0, 650000.0], [3.0, 244000.0], [4.0, 485000.0], [3.0, 215000.0], [5.0, 994000.0], [2.0, 391000.0], [6.0, 609000.0], [3.0, 435000.0], [2.0, 565000.0], [4.0, 310000.0], [2.0, 550000.0], [3.0, 175000.0], [6.0, 385000.0], [5.0, 405000.0], [3.0, 247200.0], [4.0, 519000.0], [5.0, 326000.0], [3.0, 1000000.0], [1.0, 275000.0], [3.0, 150000.0], [3.0, 850000.0], [4.0, 540000.0], [3.0, 363750.0], [2.0, 496000.0], [6.0, 585000.0], [3.0, 234300.0], [3.0, 750000.0], [7.0, 291000.0], [4.0, 985000.0], [2.0, 350000.0], [2.0, 360000.0], [2.0, 400000.0], [2.0, 650000.0], [1.0, 255000.0], [4.0, 342000.0], [5.0, 831500.0], [2.0, 313300.0], [2.0, 355000.0], [4.0, 380000.0], [2.0, 1998000.0], [2.0, 481000.0], [4.0, 730000.0], [3.0, 442000.0], [4.0, 704111.0], [3.0, 315000.0], [4.0, 275000.0], [4.0, 454450.0], [4.0, 280000.0], [3.0, 660000.0], [3.0, 335000.0], [4.0, 550000.0], [4.0, 688000.0], [4.0, 359000.0], [4.0, 1715000.0], [3.0, 599832.0], [4.0, 310000.0], [2.0, 515000.0], [4.0, 733000.0], [5.0, 4208000.0], [3.0, 432250.0], [4.0, 632500.0], [4.0, 1795000.0], [4.0, 374950.0], [2.0, 350000.0], [3.0, 298000.0], [6.0, 751000.0], [2.0, 725000.0], [4.0, 235000.0], [3.0, 375000.0], [4.0, 429900.0], [4.0, 545000.0], [2.0, 415000.0], [2.0, 300000.0], [4.0, 310000.0], [3.0, 185000.0], [5.0, 600000.0], [3.0, 410000.0], [3.0, 360000.0], [1.0, 385195.0], [3.0, 340000.0], [3.0, 360000.0], [1.0, 315000.0], [2.0, 499000.0], [5.0, 365000.0], [3.0, 355000.0], [3.0, 458500.0], [5.0, 380000.0], [6.0, 360000.0], [4.0, 800000.0], [4.0, 695000.0], [3.0, 240000.0], [4.0, 339900.0], [4.0, 435000.0], [3.0, 574000.0], [3.0, 324950.0], [3.0, 185000.0], [3.0, 445000.0], [3.0, 383000.0], [4.0, 582000.0], [3.0, 277950.0], [4.0, 1216000.0], [3.0, 685000.0], [3.0, 427000.0], [3.0, 665000.0], [3.0, 295000.0], [3.0, 739000.0], [2.0, 475000.0], [3.0, 189000.0], [4.0, 595000.0], [3.0, 760000.0], [4.0, 625000.0], [3.0, 263000.0], [2.0, 850000.0], [2.0, 235000.0], [2.0, 216180.0], [4.0, 515500.0], [2.0, 250000.0], [3.0, 550000.0], [3.0, 268000.0], [3.0, 315000.0], [2.0, 452000.0], [3.0, 640000.0], [4.0, 1157200.0], [3.0, 575000.0], [3.0, 226000.0], [5.0, 599000.0], [4.0, 1415000.0], [5.0, 445000.0], [3.0, 253101.0], [3.0, 500000.0], [3.0, 739000.0], [5.0, 420000.0], [3.0, 660000.0], [3.0, 320000.0], [5.0, 725000.0], [4.0, 807500.0], [2.0, 419950.0], [4.0, 618000.0], [3.0, 850000.0], [2.0, 173000.0], [5.0, 605000.0], [4.0, 780000.0], [2.0, 198900.0], [3.0, 557500.0], [3.0, 629800.0], [3.0, 394950.0], [4.0, 1027500.0], [2.0, 575000.0], [3.0, 253000.0], [3.0, 285000.0], [3.0, 283000.0], [4.0, 274700.0], [3.0, 577450.0], [5.0, 565000.0], [1.0, 199950.0], [3.0, 375000.0], [4.0, 575000.0], [4.0, 815000.0], [3.0, 622000.0], [3.0, 415000.0], [1.0, 202000.0], [3.0, 539900.0], [3.0, 260250.0], [3.0, 217450.0], [4.0, 348000.0], [3.0, 467000.0], [3.0, 457500.0], [3.0, 780000.0], [4.0, 323000.0], [4.0, 440000.0], [4.0, 950000.0], [4.0, 1337500.0], [4.0, 358000.0], [4.0, 465000.0], [5.0, 580000.0], [4.0, 274900.0], [3.0, 245000.0], [3.0, 272950.0], [5.0, 628000.0], [3.0, 775000.0], [3.0, 375000.0], [3.0, 415000.0], [4.0, 802500.0], [3.0, 316000.0], [4.0, 322000.0], [4.0, 620000.0], [3.0, 392000.0], [3.0, 165000.0], [3.0, 523000.0], [3.0, 325000.0], [2.0, 445000.0], [5.0, 632500.0], [3.0, 485000.0], [3.0, 400000.0], [3.0, 530000.0], [4.0, 245000.0], [4.0, 1360000.0], [4.0, 1054690.0], [3.0, 330000.0], [3.0, 550000.0], [4.0, 403900.0], [4.0, 278000.0], [6.0, 325000.0], [4.0, 600600.0], [4.0, 288790.0], [2.0, 174000.0], [3.0, 390000.0], [4.0, 2135000.0], [4.0, 495000.0], [3.0, 220000.0], [4.0, 615000.0], [3.0, 445000.0], [3.0, 615000.0], [3.0, 315000.0], [4.0, 354000.0], [5.0, 1000000.0], [2.0, 585000.0], [5.0, 925000.0], [2.0, 295000.0], [3.0, 321000.0], [3.0, 305000.0], [4.0, 1020000.0], [4.0, 765000.0], [4.0, 1400000.0], [2.0, 573300.0], [3.0, 425000.0], [3.0, 290000.0], [3.0, 542300.0], [3.0, 537100.0], [3.0, 359000.0], [4.0, 880000.0], [3.0, 342000.0], [2.0, 306500.0], [3.0, 300000.0], [2.0, 375000.0], [5.0, 695000.0], [3.0, 399950.0], [2.0, 457000.0], [3.0, 299950.0], [3.0, 290000.0], [5.0, 311000.0], [3.0, 316750.0], [3.0, 675000.0], [3.0, 305000.0], [3.0, 440000.0], [4.0, 255000.0], [2.0, 265000.0], [5.0, 559900.0], [2.0, 575000.0], [4.0, 425000.0], [4.0, 1620000.0], [2.0, 412250.0], [3.0, 420000.0], [3.0, 780000.0], [4.0, 2950000.0], [3.0, 475000.0], [3.0, 230000.0], [3.0, 420000.0], [4.0, 378000.0], [3.0, 385000.0], [2.0, 249000.0], [3.0, 599950.0], [3.0, 494900.0], [2.0, 338000.0], [3.0, 509900.0], [6.0, 493000.0], [4.0, 925000.0], [3.0, 199990.0], [4.0, 462000.0], [4.0, 303697.0], [2.0, 687500.0], [3.0, 399000.0], [4.0, 291500.0], [7.0, 2280000.0], [5.0, 1191000.0], [3.0, 205000.0], [3.0, 715000.0], [2.0, 360000.0], [4.0, 364000.0], [4.0, 937500.0], [3.0, 315500.0], [3.0, 450000.0], [4.0, 800000.0], [4.0, 415000.0], [4.0, 606000.0], [4.0, 864500.0], [4.0, 208000.0], [3.0, 403000.0], [3.0, 462000.0], [3.0, 655000.0], [3.0, 308550.0], [4.0, 355000.0], [5.0, 600000.0], [3.0, 365000.0], [4.0, 291000.0], [3.0, 289000.0], [3.0, 795000.0], [3.0, 275000.0], [3.0, 482000.0]], \"columns\": [{\"dtype\": \"str\", \"name\": \"id\"}, {\"dtype\": \"datetime\", \"name\": \"date\"}, {\"dtype\": \"float\", \"name\": \"price\"}, {\"dtype\": \"float\", \"name\": \"bedrooms\"}, {\"dtype\": \"float\", \"name\": \"bathrooms\"}, {\"dtype\": \"float\", \"name\": \"sqft_living\"}, {\"dtype\": \"float\", \"name\": \"sqft_lot\"}, {\"dtype\": \"float\", \"name\": \"floors\"}, {\"dtype\": \"int\", \"name\": \"waterfront\"}, {\"dtype\": \"int\", \"name\": \"view\"}, {\"dtype\": \"int\", \"name\": \"condition\"}, {\"dtype\": \"float\", \"name\": \"grade\"}, {\"dtype\": \"float\", \"name\": \"sqft_above\"}, {\"dtype\": \"float\", \"name\": \"sqft_basement\"}, {\"dtype\": \"float\", \"name\": \"yr_built\"}, {\"dtype\": \"float\", \"name\": \"yr_renovated\"}, {\"dtype\": \"str\", \"name\": \"zipcode\"}, {\"dtype\": \"float\", \"name\": \"lat\"}, {\"dtype\": \"float\", \"name\": \"long\"}, {\"dtype\": \"float\", \"name\": \"sqft_living15\"}, {\"dtype\": \"float\", \"name\": \"sqft_lot15\"}]}, e);\n",
       "                });\n",
       "            })();\n",
       "        "
      ]
     },
     "metadata": {},
     "output_type": "display_data"
    }
   ],
   "source": [
    "sales.show(view=\"Scatter Plot\", y=\"price\", x=\"bedrooms\")"
   ]
  },
  {
   "cell_type": "code",
   "execution_count": 17,
   "metadata": {},
   "outputs": [
    {
     "name": "stdout",
     "output_type": "stream",
     "text": [
      "PROGRESS: Creating a validation set from 5 percent of training data. This may take a while.\n",
      "          You can set ``validation_set=None`` to disable validation tracking.\n",
      "\n"
     ]
    },
    {
     "data": {
      "text/html": [
       "<pre>Linear regression:</pre>"
      ],
      "text/plain": [
       "Linear regression:"
      ]
     },
     "metadata": {},
     "output_type": "display_data"
    },
    {
     "data": {
      "text/html": [
       "<pre>--------------------------------------------------------</pre>"
      ],
      "text/plain": [
       "--------------------------------------------------------"
      ]
     },
     "metadata": {},
     "output_type": "display_data"
    },
    {
     "data": {
      "text/html": [
       "<pre>Number of examples          : 16494</pre>"
      ],
      "text/plain": [
       "Number of examples          : 16494"
      ]
     },
     "metadata": {},
     "output_type": "display_data"
    },
    {
     "data": {
      "text/html": [
       "<pre>Number of features          : 6</pre>"
      ],
      "text/plain": [
       "Number of features          : 6"
      ]
     },
     "metadata": {},
     "output_type": "display_data"
    },
    {
     "data": {
      "text/html": [
       "<pre>Number of unpacked features : 6</pre>"
      ],
      "text/plain": [
       "Number of unpacked features : 6"
      ]
     },
     "metadata": {},
     "output_type": "display_data"
    },
    {
     "data": {
      "text/html": [
       "<pre>Number of coefficients    : 75</pre>"
      ],
      "text/plain": [
       "Number of coefficients    : 75"
      ]
     },
     "metadata": {},
     "output_type": "display_data"
    },
    {
     "data": {
      "text/html": [
       "<pre>Starting Newton Method</pre>"
      ],
      "text/plain": [
       "Starting Newton Method"
      ]
     },
     "metadata": {},
     "output_type": "display_data"
    },
    {
     "data": {
      "text/html": [
       "<pre>--------------------------------------------------------</pre>"
      ],
      "text/plain": [
       "--------------------------------------------------------"
      ]
     },
     "metadata": {},
     "output_type": "display_data"
    },
    {
     "data": {
      "text/html": [
       "<pre>+-----------+----------+--------------+--------------------+----------------------+---------------+-----------------+</pre>"
      ],
      "text/plain": [
       "+-----------+----------+--------------+--------------------+----------------------+---------------+-----------------+"
      ]
     },
     "metadata": {},
     "output_type": "display_data"
    },
    {
     "data": {
      "text/html": [
       "<pre>| Iteration | Passes   | Elapsed Time | Training-max_error | Validation-max_error | Training-rmse | Validation-rmse |</pre>"
      ],
      "text/plain": [
       "| Iteration | Passes   | Elapsed Time | Training-max_error | Validation-max_error | Training-rmse | Validation-rmse |"
      ]
     },
     "metadata": {},
     "output_type": "display_data"
    },
    {
     "data": {
      "text/html": [
       "<pre>+-----------+----------+--------------+--------------------+----------------------+---------------+-----------------+</pre>"
      ],
      "text/plain": [
       "+-----------+----------+--------------+--------------------+----------------------+---------------+-----------------+"
      ]
     },
     "metadata": {},
     "output_type": "display_data"
    },
    {
     "data": {
      "text/html": [
       "<pre>| 1         | 2        | 0.112930     | 4102774.158877     | 1653056.354795       | 189107.866886 | 191899.981279   |</pre>"
      ],
      "text/plain": [
       "| 1         | 2        | 0.112930     | 4102774.158877     | 1653056.354795       | 189107.866886 | 191899.981279   |"
      ]
     },
     "metadata": {},
     "output_type": "display_data"
    },
    {
     "data": {
      "text/html": [
       "<pre>+-----------+----------+--------------+--------------------+----------------------+---------------+-----------------+</pre>"
      ],
      "text/plain": [
       "+-----------+----------+--------------+--------------------+----------------------+---------------+-----------------+"
      ]
     },
     "metadata": {},
     "output_type": "display_data"
    },
    {
     "data": {
      "text/html": [
       "<pre>SUCCESS: Optimal solution found.</pre>"
      ],
      "text/plain": [
       "SUCCESS: Optimal solution found."
      ]
     },
     "metadata": {},
     "output_type": "display_data"
    },
    {
     "data": {
      "text/html": [
       "<pre></pre>"
      ],
      "text/plain": []
     },
     "metadata": {},
     "output_type": "display_data"
    }
   ],
   "source": [
    "my_features_model = graphlab.linear_regression.create(train_data, target='price', features=my_features)"
   ]
  },
  {
   "cell_type": "code",
   "execution_count": 18,
   "metadata": {},
   "outputs": [
    {
     "name": "stdout",
     "output_type": "stream",
     "text": [
      "{'max_error': 4128890.344173155, 'rmse': 255222.35246774592}\n",
      "{'max_error': 3193956.0392194605, 'rmse': 180539.00407040888}\n"
     ]
    }
   ],
   "source": [
    "print sqft_model.evaluate(test_data)\n",
    "print my_features_model.evaluate(test_data)"
   ]
  },
  {
   "cell_type": "markdown",
   "metadata": {},
   "source": [
    "# Apply Learned Models to predict prices of 3 houses from data set"
   ]
  },
  {
   "cell_type": "code",
   "execution_count": 19,
   "metadata": {},
   "outputs": [],
   "source": [
    "house1 = sales[sales['id']=='1925069082']"
   ]
  },
  {
   "cell_type": "code",
   "execution_count": 20,
   "metadata": {},
   "outputs": [
    {
     "name": "stdout",
     "output_type": "stream",
     "text": [
      "[2200000.0, ... ]\n"
     ]
    }
   ],
   "source": [
    "print house1['price']"
   ]
  },
  {
   "cell_type": "code",
   "execution_count": 21,
   "metadata": {},
   "outputs": [
    {
     "data": {
      "text/html": [
       "<div style=\"max-height:1000px;max-width:1500px;overflow:auto;\"><table frame=\"box\" rules=\"cols\">\n",
       "    <tr>\n",
       "        <th style=\"padding-left: 1em; padding-right: 1em; text-align: center\">id</th>\n",
       "        <th style=\"padding-left: 1em; padding-right: 1em; text-align: center\">date</th>\n",
       "        <th style=\"padding-left: 1em; padding-right: 1em; text-align: center\">price</th>\n",
       "        <th style=\"padding-left: 1em; padding-right: 1em; text-align: center\">bedrooms</th>\n",
       "        <th style=\"padding-left: 1em; padding-right: 1em; text-align: center\">bathrooms</th>\n",
       "        <th style=\"padding-left: 1em; padding-right: 1em; text-align: center\">sqft_living</th>\n",
       "        <th style=\"padding-left: 1em; padding-right: 1em; text-align: center\">sqft_lot</th>\n",
       "        <th style=\"padding-left: 1em; padding-right: 1em; text-align: center\">floors</th>\n",
       "        <th style=\"padding-left: 1em; padding-right: 1em; text-align: center\">waterfront</th>\n",
       "    </tr>\n",
       "    <tr>\n",
       "        <td style=\"padding-left: 1em; padding-right: 1em; text-align: center; vertical-align: top\">1925069082</td>\n",
       "        <td style=\"padding-left: 1em; padding-right: 1em; text-align: center; vertical-align: top\">2015-05-11 00:00:00+00:00</td>\n",
       "        <td style=\"padding-left: 1em; padding-right: 1em; text-align: center; vertical-align: top\">2200000.0</td>\n",
       "        <td style=\"padding-left: 1em; padding-right: 1em; text-align: center; vertical-align: top\">5.0</td>\n",
       "        <td style=\"padding-left: 1em; padding-right: 1em; text-align: center; vertical-align: top\">4.25</td>\n",
       "        <td style=\"padding-left: 1em; padding-right: 1em; text-align: center; vertical-align: top\">4640.0</td>\n",
       "        <td style=\"padding-left: 1em; padding-right: 1em; text-align: center; vertical-align: top\">22703.0</td>\n",
       "        <td style=\"padding-left: 1em; padding-right: 1em; text-align: center; vertical-align: top\">2.0</td>\n",
       "        <td style=\"padding-left: 1em; padding-right: 1em; text-align: center; vertical-align: top\">1</td>\n",
       "    </tr>\n",
       "</table>\n",
       "<table frame=\"box\" rules=\"cols\">\n",
       "    <tr>\n",
       "        <th style=\"padding-left: 1em; padding-right: 1em; text-align: center\">view</th>\n",
       "        <th style=\"padding-left: 1em; padding-right: 1em; text-align: center\">condition</th>\n",
       "        <th style=\"padding-left: 1em; padding-right: 1em; text-align: center\">grade</th>\n",
       "        <th style=\"padding-left: 1em; padding-right: 1em; text-align: center\">sqft_above</th>\n",
       "        <th style=\"padding-left: 1em; padding-right: 1em; text-align: center\">sqft_basement</th>\n",
       "        <th style=\"padding-left: 1em; padding-right: 1em; text-align: center\">yr_built</th>\n",
       "        <th style=\"padding-left: 1em; padding-right: 1em; text-align: center\">yr_renovated</th>\n",
       "        <th style=\"padding-left: 1em; padding-right: 1em; text-align: center\">zipcode</th>\n",
       "        <th style=\"padding-left: 1em; padding-right: 1em; text-align: center\">lat</th>\n",
       "    </tr>\n",
       "    <tr>\n",
       "        <td style=\"padding-left: 1em; padding-right: 1em; text-align: center; vertical-align: top\">4</td>\n",
       "        <td style=\"padding-left: 1em; padding-right: 1em; text-align: center; vertical-align: top\">5</td>\n",
       "        <td style=\"padding-left: 1em; padding-right: 1em; text-align: center; vertical-align: top\">8.0</td>\n",
       "        <td style=\"padding-left: 1em; padding-right: 1em; text-align: center; vertical-align: top\">2860.0</td>\n",
       "        <td style=\"padding-left: 1em; padding-right: 1em; text-align: center; vertical-align: top\">1780.0</td>\n",
       "        <td style=\"padding-left: 1em; padding-right: 1em; text-align: center; vertical-align: top\">1952.0</td>\n",
       "        <td style=\"padding-left: 1em; padding-right: 1em; text-align: center; vertical-align: top\">0.0</td>\n",
       "        <td style=\"padding-left: 1em; padding-right: 1em; text-align: center; vertical-align: top\">98052</td>\n",
       "        <td style=\"padding-left: 1em; padding-right: 1em; text-align: center; vertical-align: top\">47.63925783</td>\n",
       "    </tr>\n",
       "</table>\n",
       "<table frame=\"box\" rules=\"cols\">\n",
       "    <tr>\n",
       "        <th style=\"padding-left: 1em; padding-right: 1em; text-align: center\">long</th>\n",
       "        <th style=\"padding-left: 1em; padding-right: 1em; text-align: center\">sqft_living15</th>\n",
       "        <th style=\"padding-left: 1em; padding-right: 1em; text-align: center\">sqft_lot15</th>\n",
       "    </tr>\n",
       "    <tr>\n",
       "        <td style=\"padding-left: 1em; padding-right: 1em; text-align: center; vertical-align: top\">-122.09722322</td>\n",
       "        <td style=\"padding-left: 1em; padding-right: 1em; text-align: center; vertical-align: top\">3140.0</td>\n",
       "        <td style=\"padding-left: 1em; padding-right: 1em; text-align: center; vertical-align: top\">14200.0</td>\n",
       "    </tr>\n",
       "</table>\n",
       "[? rows x 21 columns]<br/>Note: Only the head of the SFrame is printed. This SFrame is lazily evaluated.<br/>You can use sf.materialize() to force materialization.\n",
       "</div>"
      ],
      "text/plain": [
       "Columns:\n",
       "\tid\tstr\n",
       "\tdate\tdatetime\n",
       "\tprice\tfloat\n",
       "\tbedrooms\tfloat\n",
       "\tbathrooms\tfloat\n",
       "\tsqft_living\tfloat\n",
       "\tsqft_lot\tfloat\n",
       "\tfloors\tfloat\n",
       "\twaterfront\tint\n",
       "\tview\tint\n",
       "\tcondition\tint\n",
       "\tgrade\tfloat\n",
       "\tsqft_above\tfloat\n",
       "\tsqft_basement\tfloat\n",
       "\tyr_built\tfloat\n",
       "\tyr_renovated\tfloat\n",
       "\tzipcode\tstr\n",
       "\tlat\tfloat\n",
       "\tlong\tfloat\n",
       "\tsqft_living15\tfloat\n",
       "\tsqft_lot15\tfloat\n",
       "\n",
       "Rows: Unknown\n",
       "\n",
       "Data:\n",
       "+------------+---------------------------+-----------+----------+-----------+\n",
       "|     id     |            date           |   price   | bedrooms | bathrooms |\n",
       "+------------+---------------------------+-----------+----------+-----------+\n",
       "| 1925069082 | 2015-05-11 00:00:00+00:00 | 2200000.0 |   5.0    |    4.25   |\n",
       "+------------+---------------------------+-----------+----------+-----------+\n",
       "+-------------+----------+--------+------------+------+-----------+-------+\n",
       "| sqft_living | sqft_lot | floors | waterfront | view | condition | grade |\n",
       "+-------------+----------+--------+------------+------+-----------+-------+\n",
       "|    4640.0   | 22703.0  |  2.0   |     1      |  4   |     5     |  8.0  |\n",
       "+-------------+----------+--------+------------+------+-----------+-------+\n",
       "+------------+---------------+----------+--------------+---------+-------------+\n",
       "| sqft_above | sqft_basement | yr_built | yr_renovated | zipcode |     lat     |\n",
       "+------------+---------------+----------+--------------+---------+-------------+\n",
       "|   2860.0   |     1780.0    |  1952.0  |     0.0      |  98052  | 47.63925783 |\n",
       "+------------+---------------+----------+--------------+---------+-------------+\n",
       "+---------------+---------------+-----+\n",
       "|      long     | sqft_living15 | ... |\n",
       "+---------------+---------------+-----+\n",
       "| -122.09722322 |     3140.0    | ... |\n",
       "+---------------+---------------+-----+\n",
       "[? rows x 21 columns]\n",
       "Note: Only the head of the SFrame is printed. This SFrame is lazily evaluated.\n",
       "You can use sf.materialize() to force materialization."
      ]
     },
     "execution_count": 21,
     "metadata": {},
     "output_type": "execute_result"
    }
   ],
   "source": [
    "house1"
   ]
  },
  {
   "cell_type": "markdown",
   "metadata": {},
   "source": [
    "<img src=\"house-1925069082.png\">"
   ]
  },
  {
   "cell_type": "markdown",
   "metadata": {},
   "source": [
    "<img src=\"D:\\house_images\\house1.jpg\">\n",
    "<img src=\"house1-1925069082.jpg\">"
   ]
  },
  {
   "cell_type": "code",
   "execution_count": 22,
   "metadata": {},
   "outputs": [
    {
     "name": "stdout",
     "output_type": "stream",
     "text": [
      "[2200000.0, ... ]\n"
     ]
    }
   ],
   "source": [
    "print house1['price']"
   ]
  },
  {
   "cell_type": "code",
   "execution_count": 23,
   "metadata": {},
   "outputs": [
    {
     "name": "stdout",
     "output_type": "stream",
     "text": [
      "[1266639.4969767346]\n"
     ]
    }
   ],
   "source": [
    "print sqft_model.predict(house1)"
   ]
  },
  {
   "cell_type": "code",
   "execution_count": 24,
   "metadata": {},
   "outputs": [
    {
     "name": "stdout",
     "output_type": "stream",
     "text": [
      "[1227992.2643873713]\n"
     ]
    }
   ],
   "source": [
    "print my_features_model.predict(house1)"
   ]
  },
  {
   "cell_type": "code",
   "execution_count": 25,
   "metadata": {},
   "outputs": [
    {
     "data": {
      "text/html": [
       "<div style=\"max-height:1000px;max-width:1500px;overflow:auto;\"><table frame=\"box\" rules=\"cols\">\n",
       "    <tr>\n",
       "        <th style=\"padding-left: 1em; padding-right: 1em; text-align: center\">id</th>\n",
       "        <th style=\"padding-left: 1em; padding-right: 1em; text-align: center\">date</th>\n",
       "        <th style=\"padding-left: 1em; padding-right: 1em; text-align: center\">price</th>\n",
       "        <th style=\"padding-left: 1em; padding-right: 1em; text-align: center\">bedrooms</th>\n",
       "        <th style=\"padding-left: 1em; padding-right: 1em; text-align: center\">bathrooms</th>\n",
       "        <th style=\"padding-left: 1em; padding-right: 1em; text-align: center\">sqft_living</th>\n",
       "        <th style=\"padding-left: 1em; padding-right: 1em; text-align: center\">sqft_lot</th>\n",
       "        <th style=\"padding-left: 1em; padding-right: 1em; text-align: center\">floors</th>\n",
       "        <th style=\"padding-left: 1em; padding-right: 1em; text-align: center\">waterfront</th>\n",
       "    </tr>\n",
       "    <tr>\n",
       "        <td style=\"padding-left: 1em; padding-right: 1em; text-align: center; vertical-align: top\">5631500400</td>\n",
       "        <td style=\"padding-left: 1em; padding-right: 1em; text-align: center; vertical-align: top\">2015-02-25 00:00:00+00:00</td>\n",
       "        <td style=\"padding-left: 1em; padding-right: 1em; text-align: center; vertical-align: top\">180000.0</td>\n",
       "        <td style=\"padding-left: 1em; padding-right: 1em; text-align: center; vertical-align: top\">2.0</td>\n",
       "        <td style=\"padding-left: 1em; padding-right: 1em; text-align: center; vertical-align: top\">1.0</td>\n",
       "        <td style=\"padding-left: 1em; padding-right: 1em; text-align: center; vertical-align: top\">770.0</td>\n",
       "        <td style=\"padding-left: 1em; padding-right: 1em; text-align: center; vertical-align: top\">10000.0</td>\n",
       "        <td style=\"padding-left: 1em; padding-right: 1em; text-align: center; vertical-align: top\">1.0</td>\n",
       "        <td style=\"padding-left: 1em; padding-right: 1em; text-align: center; vertical-align: top\">0</td>\n",
       "    </tr>\n",
       "</table>\n",
       "<table frame=\"box\" rules=\"cols\">\n",
       "    <tr>\n",
       "        <th style=\"padding-left: 1em; padding-right: 1em; text-align: center\">view</th>\n",
       "        <th style=\"padding-left: 1em; padding-right: 1em; text-align: center\">condition</th>\n",
       "        <th style=\"padding-left: 1em; padding-right: 1em; text-align: center\">grade</th>\n",
       "        <th style=\"padding-left: 1em; padding-right: 1em; text-align: center\">sqft_above</th>\n",
       "        <th style=\"padding-left: 1em; padding-right: 1em; text-align: center\">sqft_basement</th>\n",
       "        <th style=\"padding-left: 1em; padding-right: 1em; text-align: center\">yr_built</th>\n",
       "        <th style=\"padding-left: 1em; padding-right: 1em; text-align: center\">yr_renovated</th>\n",
       "        <th style=\"padding-left: 1em; padding-right: 1em; text-align: center\">zipcode</th>\n",
       "        <th style=\"padding-left: 1em; padding-right: 1em; text-align: center\">lat</th>\n",
       "    </tr>\n",
       "    <tr>\n",
       "        <td style=\"padding-left: 1em; padding-right: 1em; text-align: center; vertical-align: top\">0</td>\n",
       "        <td style=\"padding-left: 1em; padding-right: 1em; text-align: center; vertical-align: top\">3</td>\n",
       "        <td style=\"padding-left: 1em; padding-right: 1em; text-align: center; vertical-align: top\">6.0</td>\n",
       "        <td style=\"padding-left: 1em; padding-right: 1em; text-align: center; vertical-align: top\">770.0</td>\n",
       "        <td style=\"padding-left: 1em; padding-right: 1em; text-align: center; vertical-align: top\">0.0</td>\n",
       "        <td style=\"padding-left: 1em; padding-right: 1em; text-align: center; vertical-align: top\">1933.0</td>\n",
       "        <td style=\"padding-left: 1em; padding-right: 1em; text-align: center; vertical-align: top\">0.0</td>\n",
       "        <td style=\"padding-left: 1em; padding-right: 1em; text-align: center; vertical-align: top\">98028</td>\n",
       "        <td style=\"padding-left: 1em; padding-right: 1em; text-align: center; vertical-align: top\">47.73792661</td>\n",
       "    </tr>\n",
       "</table>\n",
       "<table frame=\"box\" rules=\"cols\">\n",
       "    <tr>\n",
       "        <th style=\"padding-left: 1em; padding-right: 1em; text-align: center\">long</th>\n",
       "        <th style=\"padding-left: 1em; padding-right: 1em; text-align: center\">sqft_living15</th>\n",
       "        <th style=\"padding-left: 1em; padding-right: 1em; text-align: center\">sqft_lot15</th>\n",
       "    </tr>\n",
       "    <tr>\n",
       "        <td style=\"padding-left: 1em; padding-right: 1em; text-align: center; vertical-align: top\">-122.23319601</td>\n",
       "        <td style=\"padding-left: 1em; padding-right: 1em; text-align: center; vertical-align: top\">2720.0</td>\n",
       "        <td style=\"padding-left: 1em; padding-right: 1em; text-align: center; vertical-align: top\">8062.0</td>\n",
       "    </tr>\n",
       "</table>\n",
       "[? rows x 21 columns]<br/>Note: Only the head of the SFrame is printed. This SFrame is lazily evaluated.<br/>You can use sf.materialize() to force materialization.\n",
       "</div>"
      ],
      "text/plain": [
       "Columns:\n",
       "\tid\tstr\n",
       "\tdate\tdatetime\n",
       "\tprice\tfloat\n",
       "\tbedrooms\tfloat\n",
       "\tbathrooms\tfloat\n",
       "\tsqft_living\tfloat\n",
       "\tsqft_lot\tfloat\n",
       "\tfloors\tfloat\n",
       "\twaterfront\tint\n",
       "\tview\tint\n",
       "\tcondition\tint\n",
       "\tgrade\tfloat\n",
       "\tsqft_above\tfloat\n",
       "\tsqft_basement\tfloat\n",
       "\tyr_built\tfloat\n",
       "\tyr_renovated\tfloat\n",
       "\tzipcode\tstr\n",
       "\tlat\tfloat\n",
       "\tlong\tfloat\n",
       "\tsqft_living15\tfloat\n",
       "\tsqft_lot15\tfloat\n",
       "\n",
       "Rows: Unknown\n",
       "\n",
       "Data:\n",
       "+------------+---------------------------+----------+----------+-----------+\n",
       "|     id     |            date           |  price   | bedrooms | bathrooms |\n",
       "+------------+---------------------------+----------+----------+-----------+\n",
       "| 5631500400 | 2015-02-25 00:00:00+00:00 | 180000.0 |   2.0    |    1.0    |\n",
       "+------------+---------------------------+----------+----------+-----------+\n",
       "+-------------+----------+--------+------------+------+-----------+-------+\n",
       "| sqft_living | sqft_lot | floors | waterfront | view | condition | grade |\n",
       "+-------------+----------+--------+------------+------+-----------+-------+\n",
       "|    770.0    | 10000.0  |  1.0   |     0      |  0   |     3     |  6.0  |\n",
       "+-------------+----------+--------+------------+------+-----------+-------+\n",
       "+------------+---------------+----------+--------------+---------+-------------+\n",
       "| sqft_above | sqft_basement | yr_built | yr_renovated | zipcode |     lat     |\n",
       "+------------+---------------+----------+--------------+---------+-------------+\n",
       "|   770.0    |      0.0      |  1933.0  |     0.0      |  98028  | 47.73792661 |\n",
       "+------------+---------------+----------+--------------+---------+-------------+\n",
       "+---------------+---------------+-----+\n",
       "|      long     | sqft_living15 | ... |\n",
       "+---------------+---------------+-----+\n",
       "| -122.23319601 |     2720.0    | ... |\n",
       "+---------------+---------------+-----+\n",
       "[? rows x 21 columns]\n",
       "Note: Only the head of the SFrame is printed. This SFrame is lazily evaluated.\n",
       "You can use sf.materialize() to force materialization."
      ]
     },
     "execution_count": 25,
     "metadata": {},
     "output_type": "execute_result"
    }
   ],
   "source": [
    "house2 = sales[sales['id']=='5631500400']\n",
    "house2"
   ]
  },
  {
   "cell_type": "code",
   "execution_count": 26,
   "metadata": {},
   "outputs": [
    {
     "name": "stdout",
     "output_type": "stream",
     "text": [
      "[180000.0, ... ]\n"
     ]
    }
   ],
   "source": [
    "print house2['price']"
   ]
  },
  {
   "cell_type": "code",
   "execution_count": 27,
   "metadata": {},
   "outputs": [
    {
     "name": "stdout",
     "output_type": "stream",
     "text": [
      "[168687.20845293876]\n",
      "[148876.32589819923]\n"
     ]
    }
   ],
   "source": [
    "print sqft_model.predict(house2)\n",
    "print my_features_model.predict(house2)"
   ]
  },
  {
   "cell_type": "code",
   "execution_count": 28,
   "metadata": {},
   "outputs": [
    {
     "data": {
      "text/html": [
       "<div style=\"max-height:1000px;max-width:1500px;overflow:auto;\"><table frame=\"box\" rules=\"cols\">\n",
       "    <tr>\n",
       "        <th style=\"padding-left: 1em; padding-right: 1em; text-align: center\">id</th>\n",
       "        <th style=\"padding-left: 1em; padding-right: 1em; text-align: center\">date</th>\n",
       "        <th style=\"padding-left: 1em; padding-right: 1em; text-align: center\">price</th>\n",
       "        <th style=\"padding-left: 1em; padding-right: 1em; text-align: center\">bedrooms</th>\n",
       "        <th style=\"padding-left: 1em; padding-right: 1em; text-align: center\">bathrooms</th>\n",
       "        <th style=\"padding-left: 1em; padding-right: 1em; text-align: center\">sqft_living</th>\n",
       "        <th style=\"padding-left: 1em; padding-right: 1em; text-align: center\">sqft_lot</th>\n",
       "        <th style=\"padding-left: 1em; padding-right: 1em; text-align: center\">floors</th>\n",
       "        <th style=\"padding-left: 1em; padding-right: 1em; text-align: center\">waterfront</th>\n",
       "    </tr>\n",
       "    <tr>\n",
       "        <td style=\"padding-left: 1em; padding-right: 1em; text-align: center; vertical-align: top\">2008000270</td>\n",
       "        <td style=\"padding-left: 1em; padding-right: 1em; text-align: center; vertical-align: top\">2015-01-15 00:00:00+00:00</td>\n",
       "        <td style=\"padding-left: 1em; padding-right: 1em; text-align: center; vertical-align: top\">291850.0</td>\n",
       "        <td style=\"padding-left: 1em; padding-right: 1em; text-align: center; vertical-align: top\">3.0</td>\n",
       "        <td style=\"padding-left: 1em; padding-right: 1em; text-align: center; vertical-align: top\">1.5</td>\n",
       "        <td style=\"padding-left: 1em; padding-right: 1em; text-align: center; vertical-align: top\">1060.0</td>\n",
       "        <td style=\"padding-left: 1em; padding-right: 1em; text-align: center; vertical-align: top\">9711.0</td>\n",
       "        <td style=\"padding-left: 1em; padding-right: 1em; text-align: center; vertical-align: top\">1.0</td>\n",
       "        <td style=\"padding-left: 1em; padding-right: 1em; text-align: center; vertical-align: top\">0</td>\n",
       "    </tr>\n",
       "</table>\n",
       "<table frame=\"box\" rules=\"cols\">\n",
       "    <tr>\n",
       "        <th style=\"padding-left: 1em; padding-right: 1em; text-align: center\">view</th>\n",
       "        <th style=\"padding-left: 1em; padding-right: 1em; text-align: center\">condition</th>\n",
       "        <th style=\"padding-left: 1em; padding-right: 1em; text-align: center\">grade</th>\n",
       "        <th style=\"padding-left: 1em; padding-right: 1em; text-align: center\">sqft_above</th>\n",
       "        <th style=\"padding-left: 1em; padding-right: 1em; text-align: center\">sqft_basement</th>\n",
       "        <th style=\"padding-left: 1em; padding-right: 1em; text-align: center\">yr_built</th>\n",
       "        <th style=\"padding-left: 1em; padding-right: 1em; text-align: center\">yr_renovated</th>\n",
       "        <th style=\"padding-left: 1em; padding-right: 1em; text-align: center\">zipcode</th>\n",
       "        <th style=\"padding-left: 1em; padding-right: 1em; text-align: center\">lat</th>\n",
       "    </tr>\n",
       "    <tr>\n",
       "        <td style=\"padding-left: 1em; padding-right: 1em; text-align: center; vertical-align: top\">0</td>\n",
       "        <td style=\"padding-left: 1em; padding-right: 1em; text-align: center; vertical-align: top\">3</td>\n",
       "        <td style=\"padding-left: 1em; padding-right: 1em; text-align: center; vertical-align: top\">7.0</td>\n",
       "        <td style=\"padding-left: 1em; padding-right: 1em; text-align: center; vertical-align: top\">1060.0</td>\n",
       "        <td style=\"padding-left: 1em; padding-right: 1em; text-align: center; vertical-align: top\">0.0</td>\n",
       "        <td style=\"padding-left: 1em; padding-right: 1em; text-align: center; vertical-align: top\">1963.0</td>\n",
       "        <td style=\"padding-left: 1em; padding-right: 1em; text-align: center; vertical-align: top\">0.0</td>\n",
       "        <td style=\"padding-left: 1em; padding-right: 1em; text-align: center; vertical-align: top\">98198</td>\n",
       "        <td style=\"padding-left: 1em; padding-right: 1em; text-align: center; vertical-align: top\">47.40949984</td>\n",
       "    </tr>\n",
       "</table>\n",
       "<table frame=\"box\" rules=\"cols\">\n",
       "    <tr>\n",
       "        <th style=\"padding-left: 1em; padding-right: 1em; text-align: center\">long</th>\n",
       "        <th style=\"padding-left: 1em; padding-right: 1em; text-align: center\">sqft_living15</th>\n",
       "        <th style=\"padding-left: 1em; padding-right: 1em; text-align: center\">sqft_lot15</th>\n",
       "    </tr>\n",
       "    <tr>\n",
       "        <td style=\"padding-left: 1em; padding-right: 1em; text-align: center; vertical-align: top\">-122.31457273</td>\n",
       "        <td style=\"padding-left: 1em; padding-right: 1em; text-align: center; vertical-align: top\">1650.0</td>\n",
       "        <td style=\"padding-left: 1em; padding-right: 1em; text-align: center; vertical-align: top\">9711.0</td>\n",
       "    </tr>\n",
       "</table>\n",
       "[? rows x 21 columns]<br/>Note: Only the head of the SFrame is printed. This SFrame is lazily evaluated.<br/>You can use sf.materialize() to force materialization.\n",
       "</div>"
      ],
      "text/plain": [
       "Columns:\n",
       "\tid\tstr\n",
       "\tdate\tdatetime\n",
       "\tprice\tfloat\n",
       "\tbedrooms\tfloat\n",
       "\tbathrooms\tfloat\n",
       "\tsqft_living\tfloat\n",
       "\tsqft_lot\tfloat\n",
       "\tfloors\tfloat\n",
       "\twaterfront\tint\n",
       "\tview\tint\n",
       "\tcondition\tint\n",
       "\tgrade\tfloat\n",
       "\tsqft_above\tfloat\n",
       "\tsqft_basement\tfloat\n",
       "\tyr_built\tfloat\n",
       "\tyr_renovated\tfloat\n",
       "\tzipcode\tstr\n",
       "\tlat\tfloat\n",
       "\tlong\tfloat\n",
       "\tsqft_living15\tfloat\n",
       "\tsqft_lot15\tfloat\n",
       "\n",
       "Rows: Unknown\n",
       "\n",
       "Data:\n",
       "+------------+---------------------------+----------+----------+-----------+\n",
       "|     id     |            date           |  price   | bedrooms | bathrooms |\n",
       "+------------+---------------------------+----------+----------+-----------+\n",
       "| 2008000270 | 2015-01-15 00:00:00+00:00 | 291850.0 |   3.0    |    1.5    |\n",
       "+------------+---------------------------+----------+----------+-----------+\n",
       "+-------------+----------+--------+------------+------+-----------+-------+\n",
       "| sqft_living | sqft_lot | floors | waterfront | view | condition | grade |\n",
       "+-------------+----------+--------+------------+------+-----------+-------+\n",
       "|    1060.0   |  9711.0  |  1.0   |     0      |  0   |     3     |  7.0  |\n",
       "+-------------+----------+--------+------------+------+-----------+-------+\n",
       "+------------+---------------+----------+--------------+---------+-------------+\n",
       "| sqft_above | sqft_basement | yr_built | yr_renovated | zipcode |     lat     |\n",
       "+------------+---------------+----------+--------------+---------+-------------+\n",
       "|   1060.0   |      0.0      |  1963.0  |     0.0      |  98198  | 47.40949984 |\n",
       "+------------+---------------+----------+--------------+---------+-------------+\n",
       "+---------------+---------------+-----+\n",
       "|      long     | sqft_living15 | ... |\n",
       "+---------------+---------------+-----+\n",
       "| -122.31457273 |     1650.0    | ... |\n",
       "+---------------+---------------+-----+\n",
       "[? rows x 21 columns]\n",
       "Note: Only the head of the SFrame is printed. This SFrame is lazily evaluated.\n",
       "You can use sf.materialize() to force materialization."
      ]
     },
     "execution_count": 28,
     "metadata": {},
     "output_type": "execute_result"
    }
   ],
   "source": [
    "house3 = sales[sales['id']=='2008000270']\n",
    "house3"
   ]
  },
  {
   "cell_type": "code",
   "execution_count": 29,
   "metadata": {},
   "outputs": [
    {
     "name": "stdout",
     "output_type": "stream",
     "text": [
      "[291850.0, ... ] [250962.70294180204] [119996.58165863676]\n"
     ]
    }
   ],
   "source": [
    "print house3['price'],sqft_model.predict(house3),my_features_model.predict(house3)"
   ]
  },
  {
   "cell_type": "code",
   "execution_count": 30,
   "metadata": {},
   "outputs": [],
   "source": [
    "house4 = sales[sales['id']=='1925069082']"
   ]
  },
  {
   "cell_type": "code",
   "execution_count": 31,
   "metadata": {},
   "outputs": [
    {
     "data": {
      "text/html": [
       "<div style=\"max-height:1000px;max-width:1500px;overflow:auto;\"><table frame=\"box\" rules=\"cols\">\n",
       "    <tr>\n",
       "        <th style=\"padding-left: 1em; padding-right: 1em; text-align: center\">id</th>\n",
       "        <th style=\"padding-left: 1em; padding-right: 1em; text-align: center\">date</th>\n",
       "        <th style=\"padding-left: 1em; padding-right: 1em; text-align: center\">price</th>\n",
       "        <th style=\"padding-left: 1em; padding-right: 1em; text-align: center\">bedrooms</th>\n",
       "        <th style=\"padding-left: 1em; padding-right: 1em; text-align: center\">bathrooms</th>\n",
       "        <th style=\"padding-left: 1em; padding-right: 1em; text-align: center\">sqft_living</th>\n",
       "        <th style=\"padding-left: 1em; padding-right: 1em; text-align: center\">sqft_lot</th>\n",
       "        <th style=\"padding-left: 1em; padding-right: 1em; text-align: center\">floors</th>\n",
       "        <th style=\"padding-left: 1em; padding-right: 1em; text-align: center\">waterfront</th>\n",
       "    </tr>\n",
       "    <tr>\n",
       "        <td style=\"padding-left: 1em; padding-right: 1em; text-align: center; vertical-align: top\">1925069082</td>\n",
       "        <td style=\"padding-left: 1em; padding-right: 1em; text-align: center; vertical-align: top\">2015-05-11 00:00:00+00:00</td>\n",
       "        <td style=\"padding-left: 1em; padding-right: 1em; text-align: center; vertical-align: top\">2200000.0</td>\n",
       "        <td style=\"padding-left: 1em; padding-right: 1em; text-align: center; vertical-align: top\">5.0</td>\n",
       "        <td style=\"padding-left: 1em; padding-right: 1em; text-align: center; vertical-align: top\">4.25</td>\n",
       "        <td style=\"padding-left: 1em; padding-right: 1em; text-align: center; vertical-align: top\">4640.0</td>\n",
       "        <td style=\"padding-left: 1em; padding-right: 1em; text-align: center; vertical-align: top\">22703.0</td>\n",
       "        <td style=\"padding-left: 1em; padding-right: 1em; text-align: center; vertical-align: top\">2.0</td>\n",
       "        <td style=\"padding-left: 1em; padding-right: 1em; text-align: center; vertical-align: top\">1</td>\n",
       "    </tr>\n",
       "</table>\n",
       "<table frame=\"box\" rules=\"cols\">\n",
       "    <tr>\n",
       "        <th style=\"padding-left: 1em; padding-right: 1em; text-align: center\">view</th>\n",
       "        <th style=\"padding-left: 1em; padding-right: 1em; text-align: center\">condition</th>\n",
       "        <th style=\"padding-left: 1em; padding-right: 1em; text-align: center\">grade</th>\n",
       "        <th style=\"padding-left: 1em; padding-right: 1em; text-align: center\">sqft_above</th>\n",
       "        <th style=\"padding-left: 1em; padding-right: 1em; text-align: center\">sqft_basement</th>\n",
       "        <th style=\"padding-left: 1em; padding-right: 1em; text-align: center\">yr_built</th>\n",
       "        <th style=\"padding-left: 1em; padding-right: 1em; text-align: center\">yr_renovated</th>\n",
       "        <th style=\"padding-left: 1em; padding-right: 1em; text-align: center\">zipcode</th>\n",
       "        <th style=\"padding-left: 1em; padding-right: 1em; text-align: center\">lat</th>\n",
       "    </tr>\n",
       "    <tr>\n",
       "        <td style=\"padding-left: 1em; padding-right: 1em; text-align: center; vertical-align: top\">4</td>\n",
       "        <td style=\"padding-left: 1em; padding-right: 1em; text-align: center; vertical-align: top\">5</td>\n",
       "        <td style=\"padding-left: 1em; padding-right: 1em; text-align: center; vertical-align: top\">8.0</td>\n",
       "        <td style=\"padding-left: 1em; padding-right: 1em; text-align: center; vertical-align: top\">2860.0</td>\n",
       "        <td style=\"padding-left: 1em; padding-right: 1em; text-align: center; vertical-align: top\">1780.0</td>\n",
       "        <td style=\"padding-left: 1em; padding-right: 1em; text-align: center; vertical-align: top\">1952.0</td>\n",
       "        <td style=\"padding-left: 1em; padding-right: 1em; text-align: center; vertical-align: top\">0.0</td>\n",
       "        <td style=\"padding-left: 1em; padding-right: 1em; text-align: center; vertical-align: top\">98052</td>\n",
       "        <td style=\"padding-left: 1em; padding-right: 1em; text-align: center; vertical-align: top\">47.63925783</td>\n",
       "    </tr>\n",
       "</table>\n",
       "<table frame=\"box\" rules=\"cols\">\n",
       "    <tr>\n",
       "        <th style=\"padding-left: 1em; padding-right: 1em; text-align: center\">long</th>\n",
       "        <th style=\"padding-left: 1em; padding-right: 1em; text-align: center\">sqft_living15</th>\n",
       "        <th style=\"padding-left: 1em; padding-right: 1em; text-align: center\">sqft_lot15</th>\n",
       "    </tr>\n",
       "    <tr>\n",
       "        <td style=\"padding-left: 1em; padding-right: 1em; text-align: center; vertical-align: top\">-122.09722322</td>\n",
       "        <td style=\"padding-left: 1em; padding-right: 1em; text-align: center; vertical-align: top\">3140.0</td>\n",
       "        <td style=\"padding-left: 1em; padding-right: 1em; text-align: center; vertical-align: top\">14200.0</td>\n",
       "    </tr>\n",
       "</table>\n",
       "[? rows x 21 columns]<br/>Note: Only the head of the SFrame is printed. This SFrame is lazily evaluated.<br/>You can use sf.materialize() to force materialization.\n",
       "</div>"
      ],
      "text/plain": [
       "Columns:\n",
       "\tid\tstr\n",
       "\tdate\tdatetime\n",
       "\tprice\tfloat\n",
       "\tbedrooms\tfloat\n",
       "\tbathrooms\tfloat\n",
       "\tsqft_living\tfloat\n",
       "\tsqft_lot\tfloat\n",
       "\tfloors\tfloat\n",
       "\twaterfront\tint\n",
       "\tview\tint\n",
       "\tcondition\tint\n",
       "\tgrade\tfloat\n",
       "\tsqft_above\tfloat\n",
       "\tsqft_basement\tfloat\n",
       "\tyr_built\tfloat\n",
       "\tyr_renovated\tfloat\n",
       "\tzipcode\tstr\n",
       "\tlat\tfloat\n",
       "\tlong\tfloat\n",
       "\tsqft_living15\tfloat\n",
       "\tsqft_lot15\tfloat\n",
       "\n",
       "Rows: Unknown\n",
       "\n",
       "Data:\n",
       "+------------+---------------------------+-----------+----------+-----------+\n",
       "|     id     |            date           |   price   | bedrooms | bathrooms |\n",
       "+------------+---------------------------+-----------+----------+-----------+\n",
       "| 1925069082 | 2015-05-11 00:00:00+00:00 | 2200000.0 |   5.0    |    4.25   |\n",
       "+------------+---------------------------+-----------+----------+-----------+\n",
       "+-------------+----------+--------+------------+------+-----------+-------+\n",
       "| sqft_living | sqft_lot | floors | waterfront | view | condition | grade |\n",
       "+-------------+----------+--------+------------+------+-----------+-------+\n",
       "|    4640.0   | 22703.0  |  2.0   |     1      |  4   |     5     |  8.0  |\n",
       "+-------------+----------+--------+------------+------+-----------+-------+\n",
       "+------------+---------------+----------+--------------+---------+-------------+\n",
       "| sqft_above | sqft_basement | yr_built | yr_renovated | zipcode |     lat     |\n",
       "+------------+---------------+----------+--------------+---------+-------------+\n",
       "|   2860.0   |     1780.0    |  1952.0  |     0.0      |  98052  | 47.63925783 |\n",
       "+------------+---------------+----------+--------------+---------+-------------+\n",
       "+---------------+---------------+-----+\n",
       "|      long     | sqft_living15 | ... |\n",
       "+---------------+---------------+-----+\n",
       "| -122.09722322 |     3140.0    | ... |\n",
       "+---------------+---------------+-----+\n",
       "[? rows x 21 columns]\n",
       "Note: Only the head of the SFrame is printed. This SFrame is lazily evaluated.\n",
       "You can use sf.materialize() to force materialization."
      ]
     },
     "execution_count": 31,
     "metadata": {},
     "output_type": "execute_result"
    }
   ],
   "source": [
    "house4"
   ]
  },
  {
   "cell_type": "code",
   "execution_count": 32,
   "metadata": {},
   "outputs": [
    {
     "name": "stdout",
     "output_type": "stream",
     "text": [
      "[2200000.0, ... ]\n"
     ]
    }
   ],
   "source": [
    "print house4['price']"
   ]
  },
  {
   "cell_type": "markdown",
   "metadata": {},
   "source": [
    "<img src=\"#addressofimage\">"
   ]
  },
  {
   "cell_type": "code",
   "execution_count": 33,
   "metadata": {},
   "outputs": [
    {
     "name": "stdout",
     "output_type": "stream",
     "text": [
      "[1266639.4969767346]\n"
     ]
    }
   ],
   "source": [
    "print sqft_model.predict(house4)"
   ]
  },
  {
   "cell_type": "code",
   "execution_count": 34,
   "metadata": {},
   "outputs": [
    {
     "name": "stdout",
     "output_type": "stream",
     "text": [
      "[1227992.2643873713]\n"
     ]
    }
   ],
   "source": [
    "print my_features_model.predict(house4)"
   ]
  },
  {
   "cell_type": "markdown",
   "metadata": {},
   "source": [
    "## Super Fancy House"
   ]
  },
  {
   "cell_type": "code",
   "execution_count": 35,
   "metadata": {},
   "outputs": [],
   "source": [
    "house1 = sales[sales['id']=='1925069082']"
   ]
  },
  {
   "cell_type": "code",
   "execution_count": 36,
   "metadata": {},
   "outputs": [],
   "source": [
    "import graphlab"
   ]
  },
  {
   "cell_type": "code",
   "execution_count": 37,
   "metadata": {},
   "outputs": [],
   "source": [
    "sales = graphlab.SFrame('D:\\home_data.sframe')"
   ]
  },
  {
   "cell_type": "code",
   "execution_count": 5,
   "metadata": {},
   "outputs": [
    {
     "data": {
      "text/html": [
       "<div style=\"max-height:1000px;max-width:1500px;overflow:auto;\"><table frame=\"box\" rules=\"cols\">\n",
       "    <tr>\n",
       "        <th style=\"padding-left: 1em; padding-right: 1em; text-align: center\">id</th>\n",
       "        <th style=\"padding-left: 1em; padding-right: 1em; text-align: center\">date</th>\n",
       "        <th style=\"padding-left: 1em; padding-right: 1em; text-align: center\">price</th>\n",
       "        <th style=\"padding-left: 1em; padding-right: 1em; text-align: center\">bedrooms</th>\n",
       "        <th style=\"padding-left: 1em; padding-right: 1em; text-align: center\">bathrooms</th>\n",
       "        <th style=\"padding-left: 1em; padding-right: 1em; text-align: center\">sqft_living</th>\n",
       "        <th style=\"padding-left: 1em; padding-right: 1em; text-align: center\">sqft_lot</th>\n",
       "        <th style=\"padding-left: 1em; padding-right: 1em; text-align: center\">floors</th>\n",
       "        <th style=\"padding-left: 1em; padding-right: 1em; text-align: center\">waterfront</th>\n",
       "    </tr>\n",
       "    <tr>\n",
       "        <td style=\"padding-left: 1em; padding-right: 1em; text-align: center; vertical-align: top\">7129300520</td>\n",
       "        <td style=\"padding-left: 1em; padding-right: 1em; text-align: center; vertical-align: top\">2014-10-13 00:00:00+00:00</td>\n",
       "        <td style=\"padding-left: 1em; padding-right: 1em; text-align: center; vertical-align: top\">221900.0</td>\n",
       "        <td style=\"padding-left: 1em; padding-right: 1em; text-align: center; vertical-align: top\">3.0</td>\n",
       "        <td style=\"padding-left: 1em; padding-right: 1em; text-align: center; vertical-align: top\">1.0</td>\n",
       "        <td style=\"padding-left: 1em; padding-right: 1em; text-align: center; vertical-align: top\">1180.0</td>\n",
       "        <td style=\"padding-left: 1em; padding-right: 1em; text-align: center; vertical-align: top\">5650.0</td>\n",
       "        <td style=\"padding-left: 1em; padding-right: 1em; text-align: center; vertical-align: top\">1.0</td>\n",
       "        <td style=\"padding-left: 1em; padding-right: 1em; text-align: center; vertical-align: top\">0</td>\n",
       "    </tr>\n",
       "    <tr>\n",
       "        <td style=\"padding-left: 1em; padding-right: 1em; text-align: center; vertical-align: top\">6414100192</td>\n",
       "        <td style=\"padding-left: 1em; padding-right: 1em; text-align: center; vertical-align: top\">2014-12-09 00:00:00+00:00</td>\n",
       "        <td style=\"padding-left: 1em; padding-right: 1em; text-align: center; vertical-align: top\">538000.0</td>\n",
       "        <td style=\"padding-left: 1em; padding-right: 1em; text-align: center; vertical-align: top\">3.0</td>\n",
       "        <td style=\"padding-left: 1em; padding-right: 1em; text-align: center; vertical-align: top\">2.25</td>\n",
       "        <td style=\"padding-left: 1em; padding-right: 1em; text-align: center; vertical-align: top\">2570.0</td>\n",
       "        <td style=\"padding-left: 1em; padding-right: 1em; text-align: center; vertical-align: top\">7242.0</td>\n",
       "        <td style=\"padding-left: 1em; padding-right: 1em; text-align: center; vertical-align: top\">2.0</td>\n",
       "        <td style=\"padding-left: 1em; padding-right: 1em; text-align: center; vertical-align: top\">0</td>\n",
       "    </tr>\n",
       "    <tr>\n",
       "        <td style=\"padding-left: 1em; padding-right: 1em; text-align: center; vertical-align: top\">5631500400</td>\n",
       "        <td style=\"padding-left: 1em; padding-right: 1em; text-align: center; vertical-align: top\">2015-02-25 00:00:00+00:00</td>\n",
       "        <td style=\"padding-left: 1em; padding-right: 1em; text-align: center; vertical-align: top\">180000.0</td>\n",
       "        <td style=\"padding-left: 1em; padding-right: 1em; text-align: center; vertical-align: top\">2.0</td>\n",
       "        <td style=\"padding-left: 1em; padding-right: 1em; text-align: center; vertical-align: top\">1.0</td>\n",
       "        <td style=\"padding-left: 1em; padding-right: 1em; text-align: center; vertical-align: top\">770.0</td>\n",
       "        <td style=\"padding-left: 1em; padding-right: 1em; text-align: center; vertical-align: top\">10000.0</td>\n",
       "        <td style=\"padding-left: 1em; padding-right: 1em; text-align: center; vertical-align: top\">1.0</td>\n",
       "        <td style=\"padding-left: 1em; padding-right: 1em; text-align: center; vertical-align: top\">0</td>\n",
       "    </tr>\n",
       "    <tr>\n",
       "        <td style=\"padding-left: 1em; padding-right: 1em; text-align: center; vertical-align: top\">2487200875</td>\n",
       "        <td style=\"padding-left: 1em; padding-right: 1em; text-align: center; vertical-align: top\">2014-12-09 00:00:00+00:00</td>\n",
       "        <td style=\"padding-left: 1em; padding-right: 1em; text-align: center; vertical-align: top\">604000.0</td>\n",
       "        <td style=\"padding-left: 1em; padding-right: 1em; text-align: center; vertical-align: top\">4.0</td>\n",
       "        <td style=\"padding-left: 1em; padding-right: 1em; text-align: center; vertical-align: top\">3.0</td>\n",
       "        <td style=\"padding-left: 1em; padding-right: 1em; text-align: center; vertical-align: top\">1960.0</td>\n",
       "        <td style=\"padding-left: 1em; padding-right: 1em; text-align: center; vertical-align: top\">5000.0</td>\n",
       "        <td style=\"padding-left: 1em; padding-right: 1em; text-align: center; vertical-align: top\">1.0</td>\n",
       "        <td style=\"padding-left: 1em; padding-right: 1em; text-align: center; vertical-align: top\">0</td>\n",
       "    </tr>\n",
       "    <tr>\n",
       "        <td style=\"padding-left: 1em; padding-right: 1em; text-align: center; vertical-align: top\">1954400510</td>\n",
       "        <td style=\"padding-left: 1em; padding-right: 1em; text-align: center; vertical-align: top\">2015-02-18 00:00:00+00:00</td>\n",
       "        <td style=\"padding-left: 1em; padding-right: 1em; text-align: center; vertical-align: top\">510000.0</td>\n",
       "        <td style=\"padding-left: 1em; padding-right: 1em; text-align: center; vertical-align: top\">3.0</td>\n",
       "        <td style=\"padding-left: 1em; padding-right: 1em; text-align: center; vertical-align: top\">2.0</td>\n",
       "        <td style=\"padding-left: 1em; padding-right: 1em; text-align: center; vertical-align: top\">1680.0</td>\n",
       "        <td style=\"padding-left: 1em; padding-right: 1em; text-align: center; vertical-align: top\">8080.0</td>\n",
       "        <td style=\"padding-left: 1em; padding-right: 1em; text-align: center; vertical-align: top\">1.0</td>\n",
       "        <td style=\"padding-left: 1em; padding-right: 1em; text-align: center; vertical-align: top\">0</td>\n",
       "    </tr>\n",
       "    <tr>\n",
       "        <td style=\"padding-left: 1em; padding-right: 1em; text-align: center; vertical-align: top\">7237550310</td>\n",
       "        <td style=\"padding-left: 1em; padding-right: 1em; text-align: center; vertical-align: top\">2014-05-12 00:00:00+00:00</td>\n",
       "        <td style=\"padding-left: 1em; padding-right: 1em; text-align: center; vertical-align: top\">1225000.0</td>\n",
       "        <td style=\"padding-left: 1em; padding-right: 1em; text-align: center; vertical-align: top\">4.0</td>\n",
       "        <td style=\"padding-left: 1em; padding-right: 1em; text-align: center; vertical-align: top\">4.5</td>\n",
       "        <td style=\"padding-left: 1em; padding-right: 1em; text-align: center; vertical-align: top\">5420.0</td>\n",
       "        <td style=\"padding-left: 1em; padding-right: 1em; text-align: center; vertical-align: top\">101930.0</td>\n",
       "        <td style=\"padding-left: 1em; padding-right: 1em; text-align: center; vertical-align: top\">1.0</td>\n",
       "        <td style=\"padding-left: 1em; padding-right: 1em; text-align: center; vertical-align: top\">0</td>\n",
       "    </tr>\n",
       "    <tr>\n",
       "        <td style=\"padding-left: 1em; padding-right: 1em; text-align: center; vertical-align: top\">1321400060</td>\n",
       "        <td style=\"padding-left: 1em; padding-right: 1em; text-align: center; vertical-align: top\">2014-06-27 00:00:00+00:00</td>\n",
       "        <td style=\"padding-left: 1em; padding-right: 1em; text-align: center; vertical-align: top\">257500.0</td>\n",
       "        <td style=\"padding-left: 1em; padding-right: 1em; text-align: center; vertical-align: top\">3.0</td>\n",
       "        <td style=\"padding-left: 1em; padding-right: 1em; text-align: center; vertical-align: top\">2.25</td>\n",
       "        <td style=\"padding-left: 1em; padding-right: 1em; text-align: center; vertical-align: top\">1715.0</td>\n",
       "        <td style=\"padding-left: 1em; padding-right: 1em; text-align: center; vertical-align: top\">6819.0</td>\n",
       "        <td style=\"padding-left: 1em; padding-right: 1em; text-align: center; vertical-align: top\">2.0</td>\n",
       "        <td style=\"padding-left: 1em; padding-right: 1em; text-align: center; vertical-align: top\">0</td>\n",
       "    </tr>\n",
       "    <tr>\n",
       "        <td style=\"padding-left: 1em; padding-right: 1em; text-align: center; vertical-align: top\">2008000270</td>\n",
       "        <td style=\"padding-left: 1em; padding-right: 1em; text-align: center; vertical-align: top\">2015-01-15 00:00:00+00:00</td>\n",
       "        <td style=\"padding-left: 1em; padding-right: 1em; text-align: center; vertical-align: top\">291850.0</td>\n",
       "        <td style=\"padding-left: 1em; padding-right: 1em; text-align: center; vertical-align: top\">3.0</td>\n",
       "        <td style=\"padding-left: 1em; padding-right: 1em; text-align: center; vertical-align: top\">1.5</td>\n",
       "        <td style=\"padding-left: 1em; padding-right: 1em; text-align: center; vertical-align: top\">1060.0</td>\n",
       "        <td style=\"padding-left: 1em; padding-right: 1em; text-align: center; vertical-align: top\">9711.0</td>\n",
       "        <td style=\"padding-left: 1em; padding-right: 1em; text-align: center; vertical-align: top\">1.0</td>\n",
       "        <td style=\"padding-left: 1em; padding-right: 1em; text-align: center; vertical-align: top\">0</td>\n",
       "    </tr>\n",
       "    <tr>\n",
       "        <td style=\"padding-left: 1em; padding-right: 1em; text-align: center; vertical-align: top\">2414600126</td>\n",
       "        <td style=\"padding-left: 1em; padding-right: 1em; text-align: center; vertical-align: top\">2015-04-15 00:00:00+00:00</td>\n",
       "        <td style=\"padding-left: 1em; padding-right: 1em; text-align: center; vertical-align: top\">229500.0</td>\n",
       "        <td style=\"padding-left: 1em; padding-right: 1em; text-align: center; vertical-align: top\">3.0</td>\n",
       "        <td style=\"padding-left: 1em; padding-right: 1em; text-align: center; vertical-align: top\">1.0</td>\n",
       "        <td style=\"padding-left: 1em; padding-right: 1em; text-align: center; vertical-align: top\">1780.0</td>\n",
       "        <td style=\"padding-left: 1em; padding-right: 1em; text-align: center; vertical-align: top\">7470.0</td>\n",
       "        <td style=\"padding-left: 1em; padding-right: 1em; text-align: center; vertical-align: top\">1.0</td>\n",
       "        <td style=\"padding-left: 1em; padding-right: 1em; text-align: center; vertical-align: top\">0</td>\n",
       "    </tr>\n",
       "    <tr>\n",
       "        <td style=\"padding-left: 1em; padding-right: 1em; text-align: center; vertical-align: top\">3793500160</td>\n",
       "        <td style=\"padding-left: 1em; padding-right: 1em; text-align: center; vertical-align: top\">2015-03-12 00:00:00+00:00</td>\n",
       "        <td style=\"padding-left: 1em; padding-right: 1em; text-align: center; vertical-align: top\">323000.0</td>\n",
       "        <td style=\"padding-left: 1em; padding-right: 1em; text-align: center; vertical-align: top\">3.0</td>\n",
       "        <td style=\"padding-left: 1em; padding-right: 1em; text-align: center; vertical-align: top\">2.5</td>\n",
       "        <td style=\"padding-left: 1em; padding-right: 1em; text-align: center; vertical-align: top\">1890.0</td>\n",
       "        <td style=\"padding-left: 1em; padding-right: 1em; text-align: center; vertical-align: top\">6560.0</td>\n",
       "        <td style=\"padding-left: 1em; padding-right: 1em; text-align: center; vertical-align: top\">2.0</td>\n",
       "        <td style=\"padding-left: 1em; padding-right: 1em; text-align: center; vertical-align: top\">0</td>\n",
       "    </tr>\n",
       "</table>\n",
       "<table frame=\"box\" rules=\"cols\">\n",
       "    <tr>\n",
       "        <th style=\"padding-left: 1em; padding-right: 1em; text-align: center\">view</th>\n",
       "        <th style=\"padding-left: 1em; padding-right: 1em; text-align: center\">condition</th>\n",
       "        <th style=\"padding-left: 1em; padding-right: 1em; text-align: center\">grade</th>\n",
       "        <th style=\"padding-left: 1em; padding-right: 1em; text-align: center\">sqft_above</th>\n",
       "        <th style=\"padding-left: 1em; padding-right: 1em; text-align: center\">sqft_basement</th>\n",
       "        <th style=\"padding-left: 1em; padding-right: 1em; text-align: center\">yr_built</th>\n",
       "        <th style=\"padding-left: 1em; padding-right: 1em; text-align: center\">yr_renovated</th>\n",
       "        <th style=\"padding-left: 1em; padding-right: 1em; text-align: center\">zipcode</th>\n",
       "        <th style=\"padding-left: 1em; padding-right: 1em; text-align: center\">lat</th>\n",
       "    </tr>\n",
       "    <tr>\n",
       "        <td style=\"padding-left: 1em; padding-right: 1em; text-align: center; vertical-align: top\">0</td>\n",
       "        <td style=\"padding-left: 1em; padding-right: 1em; text-align: center; vertical-align: top\">3</td>\n",
       "        <td style=\"padding-left: 1em; padding-right: 1em; text-align: center; vertical-align: top\">7.0</td>\n",
       "        <td style=\"padding-left: 1em; padding-right: 1em; text-align: center; vertical-align: top\">1180.0</td>\n",
       "        <td style=\"padding-left: 1em; padding-right: 1em; text-align: center; vertical-align: top\">0.0</td>\n",
       "        <td style=\"padding-left: 1em; padding-right: 1em; text-align: center; vertical-align: top\">1955.0</td>\n",
       "        <td style=\"padding-left: 1em; padding-right: 1em; text-align: center; vertical-align: top\">0.0</td>\n",
       "        <td style=\"padding-left: 1em; padding-right: 1em; text-align: center; vertical-align: top\">98178</td>\n",
       "        <td style=\"padding-left: 1em; padding-right: 1em; text-align: center; vertical-align: top\">47.51123398</td>\n",
       "    </tr>\n",
       "    <tr>\n",
       "        <td style=\"padding-left: 1em; padding-right: 1em; text-align: center; vertical-align: top\">0</td>\n",
       "        <td style=\"padding-left: 1em; padding-right: 1em; text-align: center; vertical-align: top\">3</td>\n",
       "        <td style=\"padding-left: 1em; padding-right: 1em; text-align: center; vertical-align: top\">7.0</td>\n",
       "        <td style=\"padding-left: 1em; padding-right: 1em; text-align: center; vertical-align: top\">2170.0</td>\n",
       "        <td style=\"padding-left: 1em; padding-right: 1em; text-align: center; vertical-align: top\">400.0</td>\n",
       "        <td style=\"padding-left: 1em; padding-right: 1em; text-align: center; vertical-align: top\">1951.0</td>\n",
       "        <td style=\"padding-left: 1em; padding-right: 1em; text-align: center; vertical-align: top\">1991.0</td>\n",
       "        <td style=\"padding-left: 1em; padding-right: 1em; text-align: center; vertical-align: top\">98125</td>\n",
       "        <td style=\"padding-left: 1em; padding-right: 1em; text-align: center; vertical-align: top\">47.72102274</td>\n",
       "    </tr>\n",
       "    <tr>\n",
       "        <td style=\"padding-left: 1em; padding-right: 1em; text-align: center; vertical-align: top\">0</td>\n",
       "        <td style=\"padding-left: 1em; padding-right: 1em; text-align: center; vertical-align: top\">3</td>\n",
       "        <td style=\"padding-left: 1em; padding-right: 1em; text-align: center; vertical-align: top\">6.0</td>\n",
       "        <td style=\"padding-left: 1em; padding-right: 1em; text-align: center; vertical-align: top\">770.0</td>\n",
       "        <td style=\"padding-left: 1em; padding-right: 1em; text-align: center; vertical-align: top\">0.0</td>\n",
       "        <td style=\"padding-left: 1em; padding-right: 1em; text-align: center; vertical-align: top\">1933.0</td>\n",
       "        <td style=\"padding-left: 1em; padding-right: 1em; text-align: center; vertical-align: top\">0.0</td>\n",
       "        <td style=\"padding-left: 1em; padding-right: 1em; text-align: center; vertical-align: top\">98028</td>\n",
       "        <td style=\"padding-left: 1em; padding-right: 1em; text-align: center; vertical-align: top\">47.73792661</td>\n",
       "    </tr>\n",
       "    <tr>\n",
       "        <td style=\"padding-left: 1em; padding-right: 1em; text-align: center; vertical-align: top\">0</td>\n",
       "        <td style=\"padding-left: 1em; padding-right: 1em; text-align: center; vertical-align: top\">5</td>\n",
       "        <td style=\"padding-left: 1em; padding-right: 1em; text-align: center; vertical-align: top\">7.0</td>\n",
       "        <td style=\"padding-left: 1em; padding-right: 1em; text-align: center; vertical-align: top\">1050.0</td>\n",
       "        <td style=\"padding-left: 1em; padding-right: 1em; text-align: center; vertical-align: top\">910.0</td>\n",
       "        <td style=\"padding-left: 1em; padding-right: 1em; text-align: center; vertical-align: top\">1965.0</td>\n",
       "        <td style=\"padding-left: 1em; padding-right: 1em; text-align: center; vertical-align: top\">0.0</td>\n",
       "        <td style=\"padding-left: 1em; padding-right: 1em; text-align: center; vertical-align: top\">98136</td>\n",
       "        <td style=\"padding-left: 1em; padding-right: 1em; text-align: center; vertical-align: top\">47.52082</td>\n",
       "    </tr>\n",
       "    <tr>\n",
       "        <td style=\"padding-left: 1em; padding-right: 1em; text-align: center; vertical-align: top\">0</td>\n",
       "        <td style=\"padding-left: 1em; padding-right: 1em; text-align: center; vertical-align: top\">3</td>\n",
       "        <td style=\"padding-left: 1em; padding-right: 1em; text-align: center; vertical-align: top\">8.0</td>\n",
       "        <td style=\"padding-left: 1em; padding-right: 1em; text-align: center; vertical-align: top\">1680.0</td>\n",
       "        <td style=\"padding-left: 1em; padding-right: 1em; text-align: center; vertical-align: top\">0.0</td>\n",
       "        <td style=\"padding-left: 1em; padding-right: 1em; text-align: center; vertical-align: top\">1987.0</td>\n",
       "        <td style=\"padding-left: 1em; padding-right: 1em; text-align: center; vertical-align: top\">0.0</td>\n",
       "        <td style=\"padding-left: 1em; padding-right: 1em; text-align: center; vertical-align: top\">98074</td>\n",
       "        <td style=\"padding-left: 1em; padding-right: 1em; text-align: center; vertical-align: top\">47.61681228</td>\n",
       "    </tr>\n",
       "    <tr>\n",
       "        <td style=\"padding-left: 1em; padding-right: 1em; text-align: center; vertical-align: top\">0</td>\n",
       "        <td style=\"padding-left: 1em; padding-right: 1em; text-align: center; vertical-align: top\">3</td>\n",
       "        <td style=\"padding-left: 1em; padding-right: 1em; text-align: center; vertical-align: top\">11.0</td>\n",
       "        <td style=\"padding-left: 1em; padding-right: 1em; text-align: center; vertical-align: top\">3890.0</td>\n",
       "        <td style=\"padding-left: 1em; padding-right: 1em; text-align: center; vertical-align: top\">1530.0</td>\n",
       "        <td style=\"padding-left: 1em; padding-right: 1em; text-align: center; vertical-align: top\">2001.0</td>\n",
       "        <td style=\"padding-left: 1em; padding-right: 1em; text-align: center; vertical-align: top\">0.0</td>\n",
       "        <td style=\"padding-left: 1em; padding-right: 1em; text-align: center; vertical-align: top\">98053</td>\n",
       "        <td style=\"padding-left: 1em; padding-right: 1em; text-align: center; vertical-align: top\">47.65611835</td>\n",
       "    </tr>\n",
       "    <tr>\n",
       "        <td style=\"padding-left: 1em; padding-right: 1em; text-align: center; vertical-align: top\">0</td>\n",
       "        <td style=\"padding-left: 1em; padding-right: 1em; text-align: center; vertical-align: top\">3</td>\n",
       "        <td style=\"padding-left: 1em; padding-right: 1em; text-align: center; vertical-align: top\">7.0</td>\n",
       "        <td style=\"padding-left: 1em; padding-right: 1em; text-align: center; vertical-align: top\">1715.0</td>\n",
       "        <td style=\"padding-left: 1em; padding-right: 1em; text-align: center; vertical-align: top\">0.0</td>\n",
       "        <td style=\"padding-left: 1em; padding-right: 1em; text-align: center; vertical-align: top\">1995.0</td>\n",
       "        <td style=\"padding-left: 1em; padding-right: 1em; text-align: center; vertical-align: top\">0.0</td>\n",
       "        <td style=\"padding-left: 1em; padding-right: 1em; text-align: center; vertical-align: top\">98003</td>\n",
       "        <td style=\"padding-left: 1em; padding-right: 1em; text-align: center; vertical-align: top\">47.30972002</td>\n",
       "    </tr>\n",
       "    <tr>\n",
       "        <td style=\"padding-left: 1em; padding-right: 1em; text-align: center; vertical-align: top\">0</td>\n",
       "        <td style=\"padding-left: 1em; padding-right: 1em; text-align: center; vertical-align: top\">3</td>\n",
       "        <td style=\"padding-left: 1em; padding-right: 1em; text-align: center; vertical-align: top\">7.0</td>\n",
       "        <td style=\"padding-left: 1em; padding-right: 1em; text-align: center; vertical-align: top\">1060.0</td>\n",
       "        <td style=\"padding-left: 1em; padding-right: 1em; text-align: center; vertical-align: top\">0.0</td>\n",
       "        <td style=\"padding-left: 1em; padding-right: 1em; text-align: center; vertical-align: top\">1963.0</td>\n",
       "        <td style=\"padding-left: 1em; padding-right: 1em; text-align: center; vertical-align: top\">0.0</td>\n",
       "        <td style=\"padding-left: 1em; padding-right: 1em; text-align: center; vertical-align: top\">98198</td>\n",
       "        <td style=\"padding-left: 1em; padding-right: 1em; text-align: center; vertical-align: top\">47.40949984</td>\n",
       "    </tr>\n",
       "    <tr>\n",
       "        <td style=\"padding-left: 1em; padding-right: 1em; text-align: center; vertical-align: top\">0</td>\n",
       "        <td style=\"padding-left: 1em; padding-right: 1em; text-align: center; vertical-align: top\">3</td>\n",
       "        <td style=\"padding-left: 1em; padding-right: 1em; text-align: center; vertical-align: top\">7.0</td>\n",
       "        <td style=\"padding-left: 1em; padding-right: 1em; text-align: center; vertical-align: top\">1050.0</td>\n",
       "        <td style=\"padding-left: 1em; padding-right: 1em; text-align: center; vertical-align: top\">730.0</td>\n",
       "        <td style=\"padding-left: 1em; padding-right: 1em; text-align: center; vertical-align: top\">1960.0</td>\n",
       "        <td style=\"padding-left: 1em; padding-right: 1em; text-align: center; vertical-align: top\">0.0</td>\n",
       "        <td style=\"padding-left: 1em; padding-right: 1em; text-align: center; vertical-align: top\">98146</td>\n",
       "        <td style=\"padding-left: 1em; padding-right: 1em; text-align: center; vertical-align: top\">47.51229381</td>\n",
       "    </tr>\n",
       "    <tr>\n",
       "        <td style=\"padding-left: 1em; padding-right: 1em; text-align: center; vertical-align: top\">0</td>\n",
       "        <td style=\"padding-left: 1em; padding-right: 1em; text-align: center; vertical-align: top\">3</td>\n",
       "        <td style=\"padding-left: 1em; padding-right: 1em; text-align: center; vertical-align: top\">7.0</td>\n",
       "        <td style=\"padding-left: 1em; padding-right: 1em; text-align: center; vertical-align: top\">1890.0</td>\n",
       "        <td style=\"padding-left: 1em; padding-right: 1em; text-align: center; vertical-align: top\">0.0</td>\n",
       "        <td style=\"padding-left: 1em; padding-right: 1em; text-align: center; vertical-align: top\">2003.0</td>\n",
       "        <td style=\"padding-left: 1em; padding-right: 1em; text-align: center; vertical-align: top\">0.0</td>\n",
       "        <td style=\"padding-left: 1em; padding-right: 1em; text-align: center; vertical-align: top\">98038</td>\n",
       "        <td style=\"padding-left: 1em; padding-right: 1em; text-align: center; vertical-align: top\">47.36840673</td>\n",
       "    </tr>\n",
       "</table>\n",
       "<table frame=\"box\" rules=\"cols\">\n",
       "    <tr>\n",
       "        <th style=\"padding-left: 1em; padding-right: 1em; text-align: center\">long</th>\n",
       "        <th style=\"padding-left: 1em; padding-right: 1em; text-align: center\">sqft_living15</th>\n",
       "        <th style=\"padding-left: 1em; padding-right: 1em; text-align: center\">sqft_lot15</th>\n",
       "    </tr>\n",
       "    <tr>\n",
       "        <td style=\"padding-left: 1em; padding-right: 1em; text-align: center; vertical-align: top\">-122.25677536</td>\n",
       "        <td style=\"padding-left: 1em; padding-right: 1em; text-align: center; vertical-align: top\">1340.0</td>\n",
       "        <td style=\"padding-left: 1em; padding-right: 1em; text-align: center; vertical-align: top\">5650.0</td>\n",
       "    </tr>\n",
       "    <tr>\n",
       "        <td style=\"padding-left: 1em; padding-right: 1em; text-align: center; vertical-align: top\">-122.3188624</td>\n",
       "        <td style=\"padding-left: 1em; padding-right: 1em; text-align: center; vertical-align: top\">1690.0</td>\n",
       "        <td style=\"padding-left: 1em; padding-right: 1em; text-align: center; vertical-align: top\">7639.0</td>\n",
       "    </tr>\n",
       "    <tr>\n",
       "        <td style=\"padding-left: 1em; padding-right: 1em; text-align: center; vertical-align: top\">-122.23319601</td>\n",
       "        <td style=\"padding-left: 1em; padding-right: 1em; text-align: center; vertical-align: top\">2720.0</td>\n",
       "        <td style=\"padding-left: 1em; padding-right: 1em; text-align: center; vertical-align: top\">8062.0</td>\n",
       "    </tr>\n",
       "    <tr>\n",
       "        <td style=\"padding-left: 1em; padding-right: 1em; text-align: center; vertical-align: top\">-122.39318505</td>\n",
       "        <td style=\"padding-left: 1em; padding-right: 1em; text-align: center; vertical-align: top\">1360.0</td>\n",
       "        <td style=\"padding-left: 1em; padding-right: 1em; text-align: center; vertical-align: top\">5000.0</td>\n",
       "    </tr>\n",
       "    <tr>\n",
       "        <td style=\"padding-left: 1em; padding-right: 1em; text-align: center; vertical-align: top\">-122.04490059</td>\n",
       "        <td style=\"padding-left: 1em; padding-right: 1em; text-align: center; vertical-align: top\">1800.0</td>\n",
       "        <td style=\"padding-left: 1em; padding-right: 1em; text-align: center; vertical-align: top\">7503.0</td>\n",
       "    </tr>\n",
       "    <tr>\n",
       "        <td style=\"padding-left: 1em; padding-right: 1em; text-align: center; vertical-align: top\">-122.00528655</td>\n",
       "        <td style=\"padding-left: 1em; padding-right: 1em; text-align: center; vertical-align: top\">4760.0</td>\n",
       "        <td style=\"padding-left: 1em; padding-right: 1em; text-align: center; vertical-align: top\">101930.0</td>\n",
       "    </tr>\n",
       "    <tr>\n",
       "        <td style=\"padding-left: 1em; padding-right: 1em; text-align: center; vertical-align: top\">-122.32704857</td>\n",
       "        <td style=\"padding-left: 1em; padding-right: 1em; text-align: center; vertical-align: top\">2238.0</td>\n",
       "        <td style=\"padding-left: 1em; padding-right: 1em; text-align: center; vertical-align: top\">6819.0</td>\n",
       "    </tr>\n",
       "    <tr>\n",
       "        <td style=\"padding-left: 1em; padding-right: 1em; text-align: center; vertical-align: top\">-122.31457273</td>\n",
       "        <td style=\"padding-left: 1em; padding-right: 1em; text-align: center; vertical-align: top\">1650.0</td>\n",
       "        <td style=\"padding-left: 1em; padding-right: 1em; text-align: center; vertical-align: top\">9711.0</td>\n",
       "    </tr>\n",
       "    <tr>\n",
       "        <td style=\"padding-left: 1em; padding-right: 1em; text-align: center; vertical-align: top\">-122.33659507</td>\n",
       "        <td style=\"padding-left: 1em; padding-right: 1em; text-align: center; vertical-align: top\">1780.0</td>\n",
       "        <td style=\"padding-left: 1em; padding-right: 1em; text-align: center; vertical-align: top\">8113.0</td>\n",
       "    </tr>\n",
       "    <tr>\n",
       "        <td style=\"padding-left: 1em; padding-right: 1em; text-align: center; vertical-align: top\">-122.0308176</td>\n",
       "        <td style=\"padding-left: 1em; padding-right: 1em; text-align: center; vertical-align: top\">2390.0</td>\n",
       "        <td style=\"padding-left: 1em; padding-right: 1em; text-align: center; vertical-align: top\">7570.0</td>\n",
       "    </tr>\n",
       "</table>\n",
       "[21613 rows x 21 columns]<br/>Note: Only the head of the SFrame is printed.<br/>You can use print_rows(num_rows=m, num_columns=n) to print more rows and columns.\n",
       "</div>"
      ],
      "text/plain": [
       "Columns:\n",
       "\tid\tstr\n",
       "\tdate\tdatetime\n",
       "\tprice\tfloat\n",
       "\tbedrooms\tfloat\n",
       "\tbathrooms\tfloat\n",
       "\tsqft_living\tfloat\n",
       "\tsqft_lot\tfloat\n",
       "\tfloors\tfloat\n",
       "\twaterfront\tint\n",
       "\tview\tint\n",
       "\tcondition\tint\n",
       "\tgrade\tfloat\n",
       "\tsqft_above\tfloat\n",
       "\tsqft_basement\tfloat\n",
       "\tyr_built\tfloat\n",
       "\tyr_renovated\tfloat\n",
       "\tzipcode\tstr\n",
       "\tlat\tfloat\n",
       "\tlong\tfloat\n",
       "\tsqft_living15\tfloat\n",
       "\tsqft_lot15\tfloat\n",
       "\n",
       "Rows: 21613\n",
       "\n",
       "Data:\n",
       "+------------+---------------------------+-----------+----------+-----------+\n",
       "|     id     |            date           |   price   | bedrooms | bathrooms |\n",
       "+------------+---------------------------+-----------+----------+-----------+\n",
       "| 7129300520 | 2014-10-13 00:00:00+00:00 |  221900.0 |   3.0    |    1.0    |\n",
       "| 6414100192 | 2014-12-09 00:00:00+00:00 |  538000.0 |   3.0    |    2.25   |\n",
       "| 5631500400 | 2015-02-25 00:00:00+00:00 |  180000.0 |   2.0    |    1.0    |\n",
       "| 2487200875 | 2014-12-09 00:00:00+00:00 |  604000.0 |   4.0    |    3.0    |\n",
       "| 1954400510 | 2015-02-18 00:00:00+00:00 |  510000.0 |   3.0    |    2.0    |\n",
       "| 7237550310 | 2014-05-12 00:00:00+00:00 | 1225000.0 |   4.0    |    4.5    |\n",
       "| 1321400060 | 2014-06-27 00:00:00+00:00 |  257500.0 |   3.0    |    2.25   |\n",
       "| 2008000270 | 2015-01-15 00:00:00+00:00 |  291850.0 |   3.0    |    1.5    |\n",
       "| 2414600126 | 2015-04-15 00:00:00+00:00 |  229500.0 |   3.0    |    1.0    |\n",
       "| 3793500160 | 2015-03-12 00:00:00+00:00 |  323000.0 |   3.0    |    2.5    |\n",
       "+------------+---------------------------+-----------+----------+-----------+\n",
       "+-------------+----------+--------+------------+------+-----------+-------+\n",
       "| sqft_living | sqft_lot | floors | waterfront | view | condition | grade |\n",
       "+-------------+----------+--------+------------+------+-----------+-------+\n",
       "|    1180.0   |  5650.0  |  1.0   |     0      |  0   |     3     |  7.0  |\n",
       "|    2570.0   |  7242.0  |  2.0   |     0      |  0   |     3     |  7.0  |\n",
       "|    770.0    | 10000.0  |  1.0   |     0      |  0   |     3     |  6.0  |\n",
       "|    1960.0   |  5000.0  |  1.0   |     0      |  0   |     5     |  7.0  |\n",
       "|    1680.0   |  8080.0  |  1.0   |     0      |  0   |     3     |  8.0  |\n",
       "|    5420.0   | 101930.0 |  1.0   |     0      |  0   |     3     |  11.0 |\n",
       "|    1715.0   |  6819.0  |  2.0   |     0      |  0   |     3     |  7.0  |\n",
       "|    1060.0   |  9711.0  |  1.0   |     0      |  0   |     3     |  7.0  |\n",
       "|    1780.0   |  7470.0  |  1.0   |     0      |  0   |     3     |  7.0  |\n",
       "|    1890.0   |  6560.0  |  2.0   |     0      |  0   |     3     |  7.0  |\n",
       "+-------------+----------+--------+------------+------+-----------+-------+\n",
       "+------------+---------------+----------+--------------+---------+-------------+\n",
       "| sqft_above | sqft_basement | yr_built | yr_renovated | zipcode |     lat     |\n",
       "+------------+---------------+----------+--------------+---------+-------------+\n",
       "|   1180.0   |      0.0      |  1955.0  |     0.0      |  98178  | 47.51123398 |\n",
       "|   2170.0   |     400.0     |  1951.0  |    1991.0    |  98125  | 47.72102274 |\n",
       "|   770.0    |      0.0      |  1933.0  |     0.0      |  98028  | 47.73792661 |\n",
       "|   1050.0   |     910.0     |  1965.0  |     0.0      |  98136  |   47.52082  |\n",
       "|   1680.0   |      0.0      |  1987.0  |     0.0      |  98074  | 47.61681228 |\n",
       "|   3890.0   |     1530.0    |  2001.0  |     0.0      |  98053  | 47.65611835 |\n",
       "|   1715.0   |      0.0      |  1995.0  |     0.0      |  98003  | 47.30972002 |\n",
       "|   1060.0   |      0.0      |  1963.0  |     0.0      |  98198  | 47.40949984 |\n",
       "|   1050.0   |     730.0     |  1960.0  |     0.0      |  98146  | 47.51229381 |\n",
       "|   1890.0   |      0.0      |  2003.0  |     0.0      |  98038  | 47.36840673 |\n",
       "+------------+---------------+----------+--------------+---------+-------------+\n",
       "+---------------+---------------+-----+\n",
       "|      long     | sqft_living15 | ... |\n",
       "+---------------+---------------+-----+\n",
       "| -122.25677536 |     1340.0    | ... |\n",
       "|  -122.3188624 |     1690.0    | ... |\n",
       "| -122.23319601 |     2720.0    | ... |\n",
       "| -122.39318505 |     1360.0    | ... |\n",
       "| -122.04490059 |     1800.0    | ... |\n",
       "| -122.00528655 |     4760.0    | ... |\n",
       "| -122.32704857 |     2238.0    | ... |\n",
       "| -122.31457273 |     1650.0    | ... |\n",
       "| -122.33659507 |     1780.0    | ... |\n",
       "|  -122.0308176 |     2390.0    | ... |\n",
       "+---------------+---------------+-----+\n",
       "[21613 rows x 21 columns]\n",
       "Note: Only the head of the SFrame is printed.\n",
       "You can use print_rows(num_rows=m, num_columns=n) to print more rows and columns."
      ]
     },
     "execution_count": 5,
     "metadata": {},
     "output_type": "execute_result"
    }
   ],
   "source": [
    "sales"
   ]
  },
  {
   "cell_type": "code",
   "execution_count": 6,
   "metadata": {},
   "outputs": [],
   "source": [
    "house1 = sales[sales['id']=='1925069082']"
   ]
  },
  {
   "cell_type": "code",
   "execution_count": 8,
   "metadata": {},
   "outputs": [
    {
     "name": "stdout",
     "output_type": "stream",
     "text": [
      "[2200000.0, ... ]\n"
     ]
    }
   ],
   "source": [
    "print house1['price']"
   ]
  },
  {
   "cell_type": "markdown",
   "metadata": {},
   "source": [
    "<img src=\"house1.jpg\">"
   ]
  },
  {
   "cell_type": "code",
   "execution_count": null,
   "metadata": {},
   "outputs": [],
   "source": []
  }
 ],
 "metadata": {
  "kernelspec": {
   "display_name": "Python 2",
   "language": "python",
   "name": "python2"
  },
  "language_info": {
   "codemirror_mode": {
    "name": "ipython",
    "version": 2
   },
   "file_extension": ".py",
   "mimetype": "text/x-python",
   "name": "python",
   "nbconvert_exporter": "python",
   "pygments_lexer": "ipython2",
   "version": "2.7.16"
  }
 },
 "nbformat": 4,
 "nbformat_minor": 2
}
